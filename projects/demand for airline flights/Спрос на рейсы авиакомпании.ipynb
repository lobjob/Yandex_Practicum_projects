{
 "cells": [
  {
   "cell_type": "markdown",
   "metadata": {},
   "source": [
    "# Проект: Спрос на рейсы авиакомпании"
   ]
  },
  {
   "cell_type": "markdown",
   "metadata": {},
   "source": [
    "**Описание проекта**\n",
    "\n",
    "Я аналитик российской авиакомпании \"F9\" (название вымышленное), выполняющей внутренние пассажирские перевозки. Важно понять предпочтения пользователей, покупающих билеты на разные направления.\n",
    "\n",
    "Мне нужно изучить базу данных и проанализировать спрос пассажиров на рейсы в города, где проходят крупнейшие культурные фестивали.\n",
    "\n",
    "**Описание данных**\n",
    "\n",
    "Файлы с данными:\n",
    "\n",
    "`query_1.csv` — результат первого запроса из базы SQL. В нём содержится такая информация:\n",
    "\n",
    "- `model` — модель самолета;\n",
    "- `flights_amount` — количество рейсов для каждой модели самолетов в сентябре 2018 года.\n",
    "\n",
    "`query_3.csv` — результат третьего запроса из базы SQL. В нём содержится такая информация:\n",
    "\n",
    "- `city` — город;\n",
    "- `average_flights` — среднее количество рейсов, прибывающих в город за день в сентябре 2018 года."
   ]
  },
  {
   "cell_type": "markdown",
   "metadata": {
    "toc": true
   },
   "source": [
    "<h1>Содержание<span class=\"tocSkip\"></span></h1>\n",
    "<div class=\"toc\"><ul class=\"toc-item\"><li><span><a href=\"#Импорт-библиотек\" data-toc-modified-id=\"Импорт-библиотек-1\"><span class=\"toc-item-num\">1&nbsp;&nbsp;</span>Импорт библиотек</a></span></li><li><span><a href=\"#Загрузка-данных\" data-toc-modified-id=\"Загрузка-данных-2\"><span class=\"toc-item-num\">2&nbsp;&nbsp;</span>Загрузка данных</a></span></li><li><span><a href=\"#Аналитический-анализ-данных\" data-toc-modified-id=\"Аналитический-анализ-данных-3\"><span class=\"toc-item-num\">3&nbsp;&nbsp;</span>Аналитический анализ данных</a></span></li><li><span><a href=\"#Вывод\" data-toc-modified-id=\"Вывод-4\"><span class=\"toc-item-num\">4&nbsp;&nbsp;</span>Вывод</a></span></li></ul></div>"
   ]
  },
  {
   "cell_type": "markdown",
   "metadata": {},
   "source": [
    "## Импорт библиотек"
   ]
  },
  {
   "cell_type": "markdown",
   "metadata": {},
   "source": [
    "Импортируем необходимые библиотеки:"
   ]
  },
  {
   "cell_type": "code",
   "execution_count": 1,
   "metadata": {},
   "outputs": [],
   "source": [
    "import pandas as pd\n",
    "import matplotlib.pyplot as plt"
   ]
  },
  {
   "cell_type": "markdown",
   "metadata": {},
   "source": [
    "## Загрузка данных"
   ]
  },
  {
   "cell_type": "markdown",
   "metadata": {},
   "source": [
    "Загрузим данные и посмотрим на них:"
   ]
  },
  {
   "cell_type": "code",
   "execution_count": 2,
   "metadata": {},
   "outputs": [],
   "source": [
    "df_aircrafts = pd.read_csv('/datasets/query_1.csv')\n",
    "df_cities = pd.read_csv('/datasets/query_3.csv')"
   ]
  },
  {
   "cell_type": "code",
   "execution_count": 3,
   "metadata": {},
   "outputs": [],
   "source": [
    "def info(df):\n",
    "    print('---------------------------------------')\n",
    "    print('Data:')\n",
    "    display(df)\n",
    "    print('---------------------------------------')\n",
    "    print('Info:')\n",
    "    print(df.info())\n",
    "    print('---------------------------------------')\n",
    "    print('Sample:')\n",
    "    display(df.sample(5, random_state=555))\n",
    "    print('---------------------------------------')"
   ]
  },
  {
   "cell_type": "code",
   "execution_count": 4,
   "metadata": {},
   "outputs": [
    {
     "name": "stdout",
     "output_type": "stream",
     "text": [
      "---------------------------------------\n",
      "Data:\n"
     ]
    },
    {
     "data": {
      "text/html": [
       "<div>\n",
       "<style scoped>\n",
       "    .dataframe tbody tr th:only-of-type {\n",
       "        vertical-align: middle;\n",
       "    }\n",
       "\n",
       "    .dataframe tbody tr th {\n",
       "        vertical-align: top;\n",
       "    }\n",
       "\n",
       "    .dataframe thead th {\n",
       "        text-align: right;\n",
       "    }\n",
       "</style>\n",
       "<table border=\"1\" class=\"dataframe\">\n",
       "  <thead>\n",
       "    <tr style=\"text-align: right;\">\n",
       "      <th></th>\n",
       "      <th>model</th>\n",
       "      <th>flights_amount</th>\n",
       "    </tr>\n",
       "  </thead>\n",
       "  <tbody>\n",
       "    <tr>\n",
       "      <td>0</td>\n",
       "      <td>Airbus A319-100</td>\n",
       "      <td>607</td>\n",
       "    </tr>\n",
       "    <tr>\n",
       "      <td>1</td>\n",
       "      <td>Airbus A321-200</td>\n",
       "      <td>960</td>\n",
       "    </tr>\n",
       "    <tr>\n",
       "      <td>2</td>\n",
       "      <td>Boeing 737-300</td>\n",
       "      <td>630</td>\n",
       "    </tr>\n",
       "    <tr>\n",
       "      <td>3</td>\n",
       "      <td>Boeing 767-300</td>\n",
       "      <td>600</td>\n",
       "    </tr>\n",
       "    <tr>\n",
       "      <td>4</td>\n",
       "      <td>Boeing 777-300</td>\n",
       "      <td>300</td>\n",
       "    </tr>\n",
       "    <tr>\n",
       "      <td>5</td>\n",
       "      <td>Bombardier CRJ-200</td>\n",
       "      <td>4446</td>\n",
       "    </tr>\n",
       "    <tr>\n",
       "      <td>6</td>\n",
       "      <td>Cessna 208 Caravan</td>\n",
       "      <td>4557</td>\n",
       "    </tr>\n",
       "    <tr>\n",
       "      <td>7</td>\n",
       "      <td>Sukhoi SuperJet-100</td>\n",
       "      <td>4185</td>\n",
       "    </tr>\n",
       "  </tbody>\n",
       "</table>\n",
       "</div>"
      ],
      "text/plain": [
       "                 model  flights_amount\n",
       "0      Airbus A319-100             607\n",
       "1      Airbus A321-200             960\n",
       "2       Boeing 737-300             630\n",
       "3       Boeing 767-300             600\n",
       "4       Boeing 777-300             300\n",
       "5   Bombardier CRJ-200            4446\n",
       "6   Cessna 208 Caravan            4557\n",
       "7  Sukhoi SuperJet-100            4185"
      ]
     },
     "metadata": {},
     "output_type": "display_data"
    },
    {
     "name": "stdout",
     "output_type": "stream",
     "text": [
      "---------------------------------------\n",
      "Info:\n",
      "<class 'pandas.core.frame.DataFrame'>\n",
      "RangeIndex: 8 entries, 0 to 7\n",
      "Data columns (total 2 columns):\n",
      "model             8 non-null object\n",
      "flights_amount    8 non-null int64\n",
      "dtypes: int64(1), object(1)\n",
      "memory usage: 256.0+ bytes\n",
      "None\n",
      "---------------------------------------\n",
      "Sample:\n"
     ]
    },
    {
     "data": {
      "text/html": [
       "<div>\n",
       "<style scoped>\n",
       "    .dataframe tbody tr th:only-of-type {\n",
       "        vertical-align: middle;\n",
       "    }\n",
       "\n",
       "    .dataframe tbody tr th {\n",
       "        vertical-align: top;\n",
       "    }\n",
       "\n",
       "    .dataframe thead th {\n",
       "        text-align: right;\n",
       "    }\n",
       "</style>\n",
       "<table border=\"1\" class=\"dataframe\">\n",
       "  <thead>\n",
       "    <tr style=\"text-align: right;\">\n",
       "      <th></th>\n",
       "      <th>model</th>\n",
       "      <th>flights_amount</th>\n",
       "    </tr>\n",
       "  </thead>\n",
       "  <tbody>\n",
       "    <tr>\n",
       "      <td>7</td>\n",
       "      <td>Sukhoi SuperJet-100</td>\n",
       "      <td>4185</td>\n",
       "    </tr>\n",
       "    <tr>\n",
       "      <td>3</td>\n",
       "      <td>Boeing 767-300</td>\n",
       "      <td>600</td>\n",
       "    </tr>\n",
       "    <tr>\n",
       "      <td>4</td>\n",
       "      <td>Boeing 777-300</td>\n",
       "      <td>300</td>\n",
       "    </tr>\n",
       "    <tr>\n",
       "      <td>0</td>\n",
       "      <td>Airbus A319-100</td>\n",
       "      <td>607</td>\n",
       "    </tr>\n",
       "    <tr>\n",
       "      <td>5</td>\n",
       "      <td>Bombardier CRJ-200</td>\n",
       "      <td>4446</td>\n",
       "    </tr>\n",
       "  </tbody>\n",
       "</table>\n",
       "</div>"
      ],
      "text/plain": [
       "                 model  flights_amount\n",
       "7  Sukhoi SuperJet-100            4185\n",
       "3       Boeing 767-300             600\n",
       "4       Boeing 777-300             300\n",
       "0      Airbus A319-100             607\n",
       "5   Bombardier CRJ-200            4446"
      ]
     },
     "metadata": {},
     "output_type": "display_data"
    },
    {
     "name": "stdout",
     "output_type": "stream",
     "text": [
      "---------------------------------------\n"
     ]
    }
   ],
   "source": [
    "info(df_aircrafts)"
   ]
  },
  {
   "cell_type": "code",
   "execution_count": 5,
   "metadata": {},
   "outputs": [
    {
     "name": "stdout",
     "output_type": "stream",
     "text": [
      "---------------------------------------\n",
      "Data:\n"
     ]
    },
    {
     "data": {
      "text/html": [
       "<div>\n",
       "<style scoped>\n",
       "    .dataframe tbody tr th:only-of-type {\n",
       "        vertical-align: middle;\n",
       "    }\n",
       "\n",
       "    .dataframe tbody tr th {\n",
       "        vertical-align: top;\n",
       "    }\n",
       "\n",
       "    .dataframe thead th {\n",
       "        text-align: right;\n",
       "    }\n",
       "</style>\n",
       "<table border=\"1\" class=\"dataframe\">\n",
       "  <thead>\n",
       "    <tr style=\"text-align: right;\">\n",
       "      <th></th>\n",
       "      <th>city</th>\n",
       "      <th>average_flights</th>\n",
       "    </tr>\n",
       "  </thead>\n",
       "  <tbody>\n",
       "    <tr>\n",
       "      <td>0</td>\n",
       "      <td>Абакан</td>\n",
       "      <td>3.870968</td>\n",
       "    </tr>\n",
       "    <tr>\n",
       "      <td>1</td>\n",
       "      <td>Анадырь</td>\n",
       "      <td>1.000000</td>\n",
       "    </tr>\n",
       "    <tr>\n",
       "      <td>2</td>\n",
       "      <td>Анапа</td>\n",
       "      <td>2.161290</td>\n",
       "    </tr>\n",
       "    <tr>\n",
       "      <td>3</td>\n",
       "      <td>Архангельск</td>\n",
       "      <td>5.354839</td>\n",
       "    </tr>\n",
       "    <tr>\n",
       "      <td>4</td>\n",
       "      <td>Астрахань</td>\n",
       "      <td>2.451613</td>\n",
       "    </tr>\n",
       "    <tr>\n",
       "      <td>...</td>\n",
       "      <td>...</td>\n",
       "      <td>...</td>\n",
       "    </tr>\n",
       "    <tr>\n",
       "      <td>96</td>\n",
       "      <td>Чита</td>\n",
       "      <td>1.580645</td>\n",
       "    </tr>\n",
       "    <tr>\n",
       "      <td>97</td>\n",
       "      <td>Элиста</td>\n",
       "      <td>4.870968</td>\n",
       "    </tr>\n",
       "    <tr>\n",
       "      <td>98</td>\n",
       "      <td>Южно-Сахалинск</td>\n",
       "      <td>4.290323</td>\n",
       "    </tr>\n",
       "    <tr>\n",
       "      <td>99</td>\n",
       "      <td>Якутск</td>\n",
       "      <td>2.741935</td>\n",
       "    </tr>\n",
       "    <tr>\n",
       "      <td>100</td>\n",
       "      <td>Ярославль</td>\n",
       "      <td>1.322581</td>\n",
       "    </tr>\n",
       "  </tbody>\n",
       "</table>\n",
       "<p>101 rows × 2 columns</p>\n",
       "</div>"
      ],
      "text/plain": [
       "               city  average_flights\n",
       "0            Абакан         3.870968\n",
       "1           Анадырь         1.000000\n",
       "2             Анапа         2.161290\n",
       "3       Архангельск         5.354839\n",
       "4         Астрахань         2.451613\n",
       "..              ...              ...\n",
       "96             Чита         1.580645\n",
       "97           Элиста         4.870968\n",
       "98   Южно-Сахалинск         4.290323\n",
       "99           Якутск         2.741935\n",
       "100       Ярославль         1.322581\n",
       "\n",
       "[101 rows x 2 columns]"
      ]
     },
     "metadata": {},
     "output_type": "display_data"
    },
    {
     "name": "stdout",
     "output_type": "stream",
     "text": [
      "---------------------------------------\n",
      "Info:\n",
      "<class 'pandas.core.frame.DataFrame'>\n",
      "RangeIndex: 101 entries, 0 to 100\n",
      "Data columns (total 2 columns):\n",
      "city               101 non-null object\n",
      "average_flights    101 non-null float64\n",
      "dtypes: float64(1), object(1)\n",
      "memory usage: 1.7+ KB\n",
      "None\n",
      "---------------------------------------\n",
      "Sample:\n"
     ]
    },
    {
     "data": {
      "text/html": [
       "<div>\n",
       "<style scoped>\n",
       "    .dataframe tbody tr th:only-of-type {\n",
       "        vertical-align: middle;\n",
       "    }\n",
       "\n",
       "    .dataframe tbody tr th {\n",
       "        vertical-align: top;\n",
       "    }\n",
       "\n",
       "    .dataframe thead th {\n",
       "        text-align: right;\n",
       "    }\n",
       "</style>\n",
       "<table border=\"1\" class=\"dataframe\">\n",
       "  <thead>\n",
       "    <tr style=\"text-align: right;\">\n",
       "      <th></th>\n",
       "      <th>city</th>\n",
       "      <th>average_flights</th>\n",
       "    </tr>\n",
       "  </thead>\n",
       "  <tbody>\n",
       "    <tr>\n",
       "      <td>43</td>\n",
       "      <td>Москва</td>\n",
       "      <td>129.774194</td>\n",
       "    </tr>\n",
       "    <tr>\n",
       "      <td>72</td>\n",
       "      <td>Саратов</td>\n",
       "      <td>4.000000</td>\n",
       "    </tr>\n",
       "    <tr>\n",
       "      <td>57</td>\n",
       "      <td>Ноябрьск</td>\n",
       "      <td>3.000000</td>\n",
       "    </tr>\n",
       "    <tr>\n",
       "      <td>7</td>\n",
       "      <td>Белоярский</td>\n",
       "      <td>2.000000</td>\n",
       "    </tr>\n",
       "    <tr>\n",
       "      <td>9</td>\n",
       "      <td>Братск</td>\n",
       "      <td>1.000000</td>\n",
       "    </tr>\n",
       "  </tbody>\n",
       "</table>\n",
       "</div>"
      ],
      "text/plain": [
       "          city  average_flights\n",
       "43      Москва       129.774194\n",
       "72     Саратов         4.000000\n",
       "57    Ноябрьск         3.000000\n",
       "7   Белоярский         2.000000\n",
       "9       Братск         1.000000"
      ]
     },
     "metadata": {},
     "output_type": "display_data"
    },
    {
     "name": "stdout",
     "output_type": "stream",
     "text": [
      "---------------------------------------\n"
     ]
    }
   ],
   "source": [
    "info(df_cities)"
   ]
  },
  {
   "cell_type": "markdown",
   "metadata": {},
   "source": [
    "На первый взгляд видно:\n",
    "- пропусков в данных нет;\n",
    "- типы данных соответствуют содержанию;\n",
    "- в обеих таблицах есть объекты с небольшими значениями, и есть явные выделяющиеся по значениям."
   ]
  },
  {
   "cell_type": "markdown",
   "metadata": {},
   "source": [
    "## Аналитический анализ данных"
   ]
  },
  {
   "cell_type": "markdown",
   "metadata": {},
   "source": [
    "Сперва посмотрим на города с наибольшим количеством рейсов. Выведем топ-10 таких городов:"
   ]
  },
  {
   "cell_type": "code",
   "execution_count": 6,
   "metadata": {},
   "outputs": [
    {
     "data": {
      "text/html": [
       "<div>\n",
       "<style scoped>\n",
       "    .dataframe tbody tr th:only-of-type {\n",
       "        vertical-align: middle;\n",
       "    }\n",
       "\n",
       "    .dataframe tbody tr th {\n",
       "        vertical-align: top;\n",
       "    }\n",
       "\n",
       "    .dataframe thead th {\n",
       "        text-align: right;\n",
       "    }\n",
       "</style>\n",
       "<table border=\"1\" class=\"dataframe\">\n",
       "  <thead>\n",
       "    <tr style=\"text-align: right;\">\n",
       "      <th></th>\n",
       "      <th>city</th>\n",
       "      <th>average_flights</th>\n",
       "    </tr>\n",
       "  </thead>\n",
       "  <tbody>\n",
       "    <tr>\n",
       "      <td>43</td>\n",
       "      <td>Москва</td>\n",
       "      <td>129.774194</td>\n",
       "    </tr>\n",
       "    <tr>\n",
       "      <td>70</td>\n",
       "      <td>Санкт-Петербург</td>\n",
       "      <td>31.161290</td>\n",
       "    </tr>\n",
       "    <tr>\n",
       "      <td>54</td>\n",
       "      <td>Новосибирск</td>\n",
       "      <td>17.322581</td>\n",
       "    </tr>\n",
       "    <tr>\n",
       "      <td>33</td>\n",
       "      <td>Красноярск</td>\n",
       "      <td>11.580645</td>\n",
       "    </tr>\n",
       "    <tr>\n",
       "      <td>20</td>\n",
       "      <td>Екатеринбург</td>\n",
       "      <td>11.322581</td>\n",
       "    </tr>\n",
       "    <tr>\n",
       "      <td>67</td>\n",
       "      <td>Ростов-на-Дону</td>\n",
       "      <td>10.193548</td>\n",
       "    </tr>\n",
       "    <tr>\n",
       "      <td>63</td>\n",
       "      <td>Пермь</td>\n",
       "      <td>10.129032</td>\n",
       "    </tr>\n",
       "    <tr>\n",
       "      <td>10</td>\n",
       "      <td>Брянск</td>\n",
       "      <td>10.000000</td>\n",
       "    </tr>\n",
       "    <tr>\n",
       "      <td>74</td>\n",
       "      <td>Сочи</td>\n",
       "      <td>9.612903</td>\n",
       "    </tr>\n",
       "    <tr>\n",
       "      <td>84</td>\n",
       "      <td>Ульяновск</td>\n",
       "      <td>9.580645</td>\n",
       "    </tr>\n",
       "  </tbody>\n",
       "</table>\n",
       "</div>"
      ],
      "text/plain": [
       "               city  average_flights\n",
       "43           Москва       129.774194\n",
       "70  Санкт-Петербург        31.161290\n",
       "54      Новосибирск        17.322581\n",
       "33       Красноярск        11.580645\n",
       "20     Екатеринбург        11.322581\n",
       "67   Ростов-на-Дону        10.193548\n",
       "63            Пермь        10.129032\n",
       "10           Брянск        10.000000\n",
       "74             Сочи         9.612903\n",
       "84        Ульяновск         9.580645"
      ]
     },
     "execution_count": 6,
     "metadata": {},
     "output_type": "execute_result"
    }
   ],
   "source": [
    "df_cities_top = df_cities.sort_values(by='average_flights', ascending=False).head(10)\n",
    "df_cities_top"
   ]
  },
  {
   "cell_type": "markdown",
   "metadata": {},
   "source": [
    "Лидером по количеству полётов является Москва, после идут Санкт-Петербург и Новосибирск. Остальные города с почти одинаковыми значениями.\n",
    "\n",
    "Теперь выведем графики. Создадим функцию для вывода необходимого графика:"
   ]
  },
  {
   "cell_type": "code",
   "execution_count": 7,
   "metadata": {},
   "outputs": [],
   "source": [
    "def show_top(size, df, name, count, title):\n",
    "    plt.figure(figsize=size, dpi=80)\n",
    "    df = df.sort_values(by=count, ascending=True)\n",
    "    plt.barh(df[name], df[count])\n",
    "    plt.title(title)\n",
    "    plt.grid(linestyle='dotted', alpha=.5)\n",
    "    plt.show()"
   ]
  },
  {
   "cell_type": "markdown",
   "metadata": {},
   "source": [
    "Посмотрим на разницу количества полётов среди моделей самолётов:"
   ]
  },
  {
   "cell_type": "code",
   "execution_count": 8,
   "metadata": {
    "scrolled": false
   },
   "outputs": [
    {
     "data": {
      "image/png": "[encoded data removed]",
      "text/plain": [
       "<Figure size 400x320 with 1 Axes>"
      ]
     },
     "metadata": {
      "needs_background": "light"
     },
     "output_type": "display_data"
    }
   ],
   "source": [
    "show_top(\n",
    "    (5, 4), df_aircrafts, 'model', 'flights_amount',\n",
    "    'Top model aitcrafts by flights amount'\n",
    ")"
   ]
  },
  {
   "cell_type": "markdown",
   "metadata": {},
   "source": [
    "В топ-3 с небольшим различием вошли самолёты: Cessna, Bombardier и Sukhoi Superjet. Все модели Airbus и Boeing сильно отстают, видимо эти модели самолётов не сильно популярны для внутренних перевозок, либо их не так выгодно содержать по сравнению с лидирующими моделями.\n",
    "\n",
    "Теперь взглянем на количество рейсов в различные города:"
   ]
  },
  {
   "cell_type": "code",
   "execution_count": 9,
   "metadata": {},
   "outputs": [
    {
     "data": {
      "image/png": "[encoded data removed]",
      "text/plain": [
       "<Figure size 400x2000 with 1 Axes>"
      ]
     },
     "metadata": {
      "needs_background": "light"
     },
     "output_type": "display_data"
    }
   ],
   "source": [
    "show_top((5, 25), df_cities, 'city', 'average_flights', 'Top cities by average flights')"
   ]
  },
  {
   "cell_type": "markdown",
   "metadata": {},
   "source": [
    "Самое большое количество рейсов в столице и крупных городах России.\n",
    "\n",
    "И наконец посмотрим на топ-10 городов по количеству рейсов: "
   ]
  },
  {
   "cell_type": "code",
   "execution_count": 10,
   "metadata": {},
   "outputs": [
    {
     "data": {
      "image/png": "[encoded data removed]",
      "text/plain": [
       "<Figure size 400x320 with 1 Axes>"
      ]
     },
     "metadata": {
      "needs_background": "light"
     },
     "output_type": "display_data"
    }
   ],
   "source": [
    "show_top((5, 4), df_cities_top, 'city', 'average_flights', 'Top-10 cities by average flights')"
   ]
  },
  {
   "cell_type": "markdown",
   "metadata": {},
   "source": [
    "Как уже было видно из таблицы: лидирует Москва, далее Санкт-Петербург и Новосибирск, остальные города почти равны по количеству рейсов."
   ]
  },
  {
   "cell_type": "markdown",
   "metadata": {},
   "source": [
    "## Вывод"
   ]
  },
  {
   "cell_type": "markdown",
   "metadata": {},
   "source": [
    "Столица России ожидаемо лидирует по количеству рейсов. Думаю это связано не только с тем, что из Москвы можно полететь практически в любой город России. Но и с тем, что между многими городами нет прямых рейсов и чтобы попасть из одного города в другой приходится лететь как раз через Москву.\n",
    "\n",
    "Для внутренних перелётов, скорее всего используют самолёты, которые дешевле содержать, чтобы снизить стоимость перелётов. Видимо с этим связано то, что самолёты Boeing и Airbus не так часто используют по сравнению с остальными."
   ]
  }
 ],
 "metadata": {
  "ExecuteTimeLog": [
   {
    "duration": 235,
    "start_time": "2021-07-19T20:48:48.016Z"
   },
   {
    "duration": 5,
    "start_time": "2021-07-19T20:54:03.994Z"
   },
   {
    "duration": 26,
    "start_time": "2021-07-19T20:56:13.429Z"
   },
   {
    "duration": 3,
    "start_time": "2021-07-19T20:56:14.772Z"
   },
   {
    "duration": 1164,
    "start_time": "2021-07-19T20:56:26.039Z"
   },
   {
    "duration": 18,
    "start_time": "2021-07-19T20:56:55.647Z"
   },
   {
    "duration": 3,
    "start_time": "2021-07-19T20:57:23.848Z"
   },
   {
    "duration": 15,
    "start_time": "2021-07-19T20:57:24.514Z"
   },
   {
    "duration": 20,
    "start_time": "2021-07-19T20:57:28.674Z"
   },
   {
    "duration": 3,
    "start_time": "2021-07-19T20:58:07.192Z"
   },
   {
    "duration": 13,
    "start_time": "2021-07-19T20:58:07.630Z"
   },
   {
    "duration": 3,
    "start_time": "2021-07-19T20:58:27.836Z"
   },
   {
    "duration": 13,
    "start_time": "2021-07-19T20:58:28.424Z"
   },
   {
    "duration": 3,
    "start_time": "2021-07-19T20:58:57.305Z"
   },
   {
    "duration": 15,
    "start_time": "2021-07-19T20:58:58.460Z"
   },
   {
    "duration": 3,
    "start_time": "2021-07-19T20:59:25.191Z"
   },
   {
    "duration": 13,
    "start_time": "2021-07-19T20:59:26.459Z"
   },
   {
    "duration": 857,
    "start_time": "2021-07-20T21:05:22.199Z"
   },
   {
    "duration": 27,
    "start_time": "2021-07-20T21:05:23.059Z"
   },
   {
    "duration": 5,
    "start_time": "2021-07-20T21:05:23.095Z"
   },
   {
    "duration": 30,
    "start_time": "2021-07-20T21:05:23.103Z"
   },
   {
    "duration": 74,
    "start_time": "2021-07-20T21:05:23.136Z"
   },
   {
    "duration": 615,
    "start_time": "2021-07-20T21:20:30.222Z"
   },
   {
    "duration": 13,
    "start_time": "2021-07-20T21:21:36.042Z"
   },
   {
    "duration": 295,
    "start_time": "2021-07-20T21:22:34.209Z"
   },
   {
    "duration": 292,
    "start_time": "2021-07-20T21:23:28.116Z"
   },
   {
    "duration": 301,
    "start_time": "2021-07-20T21:23:51.969Z"
   },
   {
    "duration": 12,
    "start_time": "2021-07-20T21:24:06.193Z"
   },
   {
    "duration": 299,
    "start_time": "2021-07-20T21:25:35.423Z"
   },
   {
    "duration": 323,
    "start_time": "2021-07-20T21:27:15.034Z"
   },
   {
    "duration": 349,
    "start_time": "2021-07-20T21:27:20.765Z"
   },
   {
    "duration": 338,
    "start_time": "2021-07-20T21:28:18.284Z"
   },
   {
    "duration": 305,
    "start_time": "2021-07-20T21:28:49.707Z"
   },
   {
    "duration": 311,
    "start_time": "2021-07-20T21:37:27.749Z"
   },
   {
    "duration": 1607,
    "start_time": "2021-07-20T21:46:18.370Z"
   },
   {
    "duration": 303,
    "start_time": "2021-07-20T21:50:41.179Z"
   },
   {
    "duration": 317,
    "start_time": "2021-07-20T21:51:11.297Z"
   },
   {
    "duration": 13,
    "start_time": "2021-07-20T22:00:18.953Z"
   },
   {
    "duration": 5,
    "start_time": "2021-07-20T22:08:29.713Z"
   },
   {
    "duration": 277,
    "start_time": "2021-07-20T22:09:27.046Z"
   },
   {
    "duration": 321,
    "start_time": "2021-07-20T22:12:46.691Z"
   },
   {
    "duration": 2101,
    "start_time": "2021-07-20T22:23:06.108Z"
   },
   {
    "duration": 2131,
    "start_time": "2021-07-20T22:23:20.331Z"
   },
   {
    "duration": 2111,
    "start_time": "2021-07-20T22:24:13.940Z"
   },
   {
    "duration": 2215,
    "start_time": "2021-07-20T22:24:29.600Z"
   },
   {
    "duration": 2439,
    "start_time": "2021-07-20T22:24:39.462Z"
   },
   {
    "duration": 2129,
    "start_time": "2021-07-20T22:25:25.804Z"
   },
   {
    "duration": 5,
    "start_time": "2021-07-20T22:27:53.352Z"
   },
   {
    "duration": 2118,
    "start_time": "2021-07-20T22:28:17.682Z"
   },
   {
    "duration": 2118,
    "start_time": "2021-07-20T22:28:26.806Z"
   },
   {
    "duration": 4,
    "start_time": "2021-07-20T22:28:50.884Z"
   },
   {
    "duration": 2096,
    "start_time": "2021-07-20T22:28:54.509Z"
   },
   {
    "duration": 2542,
    "start_time": "2021-07-20T22:40:51.734Z"
   },
   {
    "duration": 4,
    "start_time": "2021-07-20T22:41:11.756Z"
   },
   {
    "duration": 2155,
    "start_time": "2021-07-20T22:41:15.074Z"
   },
   {
    "duration": 5,
    "start_time": "2021-07-20T22:41:55.367Z"
   },
   {
    "duration": 2112,
    "start_time": "2021-07-20T22:41:59.297Z"
   },
   {
    "duration": 767,
    "start_time": "2021-07-20T22:54:40.199Z"
   },
   {
    "duration": 617,
    "start_time": "2021-07-20T22:55:06.993Z"
   },
   {
    "duration": 2281,
    "start_time": "2021-07-20T22:55:17.645Z"
   },
   {
    "duration": 2341,
    "start_time": "2021-07-20T22:55:45.211Z"
   },
   {
    "duration": 5,
    "start_time": "2021-07-20T23:00:57.765Z"
   },
   {
    "duration": 764,
    "start_time": "2021-07-20T23:01:02.235Z"
   },
   {
    "duration": 5,
    "start_time": "2021-07-20T23:01:36.230Z"
   },
   {
    "duration": 2493,
    "start_time": "2021-07-20T23:01:43.438Z"
   },
   {
    "duration": 5,
    "start_time": "2021-07-20T23:01:58.720Z"
   },
   {
    "duration": 2285,
    "start_time": "2021-07-20T23:02:05.772Z"
   },
   {
    "duration": 2458,
    "start_time": "2021-07-20T23:02:33.064Z"
   },
   {
    "duration": 4,
    "start_time": "2021-07-20T23:03:11.262Z"
   },
   {
    "duration": 312,
    "start_time": "2021-07-20T23:03:19.781Z"
   },
   {
    "duration": 2375,
    "start_time": "2021-07-20T23:03:29.969Z"
   },
   {
    "duration": 268,
    "start_time": "2021-07-20T23:04:16.136Z"
   },
   {
    "duration": 261,
    "start_time": "2021-07-20T23:04:28.224Z"
   },
   {
    "duration": 264,
    "start_time": "2021-07-20T23:04:52.074Z"
   },
   {
    "duration": 285,
    "start_time": "2021-07-20T23:09:22.436Z"
   },
   {
    "duration": 5,
    "start_time": "2021-07-20T23:11:44.548Z"
   },
   {
    "duration": 248,
    "start_time": "2021-07-20T23:11:45.055Z"
   },
   {
    "duration": 823,
    "start_time": "2021-07-20T23:12:19.183Z"
   },
   {
    "duration": 28,
    "start_time": "2021-07-20T23:12:20.009Z"
   },
   {
    "duration": 9,
    "start_time": "2021-07-20T23:12:20.040Z"
   },
   {
    "duration": 28,
    "start_time": "2021-07-20T23:12:20.052Z"
   },
   {
    "duration": 25,
    "start_time": "2021-07-20T23:12:20.083Z"
   },
   {
    "duration": 10,
    "start_time": "2021-07-20T23:12:20.110Z"
   },
   {
    "duration": 9,
    "start_time": "2021-07-20T23:12:20.122Z"
   },
   {
    "duration": 299,
    "start_time": "2021-07-20T23:12:20.134Z"
   },
   {
    "duration": 2308,
    "start_time": "2021-07-20T23:12:20.435Z"
   },
   {
    "duration": 346,
    "start_time": "2021-07-20T23:12:22.745Z"
   },
   {
    "duration": 846,
    "start_time": "2021-07-21T21:32:20.579Z"
   },
   {
    "duration": 32,
    "start_time": "2021-07-21T21:32:21.427Z"
   },
   {
    "duration": 15,
    "start_time": "2021-07-21T21:32:21.462Z"
   },
   {
    "duration": 40,
    "start_time": "2021-07-21T21:32:21.479Z"
   },
   {
    "duration": 25,
    "start_time": "2021-07-21T21:32:21.521Z"
   },
   {
    "duration": 12,
    "start_time": "2021-07-21T21:32:21.548Z"
   },
   {
    "duration": 41,
    "start_time": "2021-07-21T21:32:21.562Z"
   },
   {
    "duration": 284,
    "start_time": "2021-07-21T21:32:21.607Z"
   },
   {
    "duration": 2307,
    "start_time": "2021-07-21T21:32:21.900Z"
   },
   {
    "duration": 328,
    "start_time": "2021-07-21T21:32:24.209Z"
   },
   {
    "duration": 795,
    "start_time": "2021-07-21T21:34:50.843Z"
   },
   {
    "duration": 33,
    "start_time": "2021-07-21T21:34:51.640Z"
   },
   {
    "duration": 4,
    "start_time": "2021-07-21T21:34:51.679Z"
   },
   {
    "duration": 29,
    "start_time": "2021-07-21T21:34:51.685Z"
   },
   {
    "duration": 25,
    "start_time": "2021-07-21T21:34:51.717Z"
   },
   {
    "duration": 10,
    "start_time": "2021-07-21T21:34:51.744Z"
   },
   {
    "duration": 5,
    "start_time": "2021-07-21T21:34:51.801Z"
   },
   {
    "duration": 270,
    "start_time": "2021-07-21T21:34:51.809Z"
   },
   {
    "duration": 2315,
    "start_time": "2021-07-21T21:34:52.081Z"
   },
   {
    "duration": 329,
    "start_time": "2021-07-21T21:34:54.401Z"
   },
   {
    "duration": 260,
    "start_time": "2021-07-21T21:40:39.898Z"
   },
   {
    "duration": 393,
    "start_time": "2021-07-21T21:41:07.812Z"
   },
   {
    "duration": 5,
    "start_time": "2021-07-21T21:52:44.493Z"
   },
   {
    "duration": 614,
    "start_time": "2021-07-21T21:52:45.479Z"
   },
   {
    "duration": 5,
    "start_time": "2021-07-21T21:54:20.849Z"
   },
   {
    "duration": 260,
    "start_time": "2021-07-21T21:54:22.551Z"
   },
   {
    "duration": 5,
    "start_time": "2021-07-21T21:54:38.468Z"
   },
   {
    "duration": 261,
    "start_time": "2021-07-21T21:54:40.171Z"
   },
   {
    "duration": 5,
    "start_time": "2021-07-21T21:54:49.213Z"
   },
   {
    "duration": 256,
    "start_time": "2021-07-21T21:54:49.868Z"
   },
   {
    "duration": 6,
    "start_time": "2021-07-21T21:55:15.722Z"
   },
   {
    "duration": 262,
    "start_time": "2021-07-21T21:55:16.473Z"
   },
   {
    "duration": 2643,
    "start_time": "2021-07-21T21:55:23.362Z"
   },
   {
    "duration": 5,
    "start_time": "2021-07-21T21:56:01.044Z"
   },
   {
    "duration": 679,
    "start_time": "2021-07-21T21:56:01.775Z"
   },
   {
    "duration": 5,
    "start_time": "2021-07-21T21:56:06.256Z"
   },
   {
    "duration": 606,
    "start_time": "2021-07-21T21:56:06.901Z"
   },
   {
    "duration": 7,
    "start_time": "2021-07-21T21:56:51.689Z"
   },
   {
    "duration": 268,
    "start_time": "2021-07-21T21:56:53.395Z"
   },
   {
    "duration": 4,
    "start_time": "2021-07-21T21:57:07.196Z"
   },
   {
    "duration": 262,
    "start_time": "2021-07-21T21:57:08.460Z"
   },
   {
    "duration": 2405,
    "start_time": "2021-07-21T21:57:39.478Z"
   },
   {
    "duration": 279,
    "start_time": "2021-07-21T21:57:53.876Z"
   },
   {
    "duration": 826,
    "start_time": "2021-07-21T22:12:46.141Z"
   },
   {
    "duration": 34,
    "start_time": "2021-07-21T22:12:46.970Z"
   },
   {
    "duration": 6,
    "start_time": "2021-07-21T22:12:47.008Z"
   },
   {
    "duration": 32,
    "start_time": "2021-07-21T22:12:47.017Z"
   },
   {
    "duration": 65,
    "start_time": "2021-07-21T22:12:47.052Z"
   },
   {
    "duration": 15,
    "start_time": "2021-07-21T22:12:47.120Z"
   },
   {
    "duration": 12,
    "start_time": "2021-07-21T22:12:47.138Z"
   },
   {
    "duration": 475,
    "start_time": "2021-07-21T22:12:47.155Z"
   },
   {
    "duration": 2703,
    "start_time": "2021-07-21T22:12:47.633Z"
   },
   {
    "duration": 369,
    "start_time": "2021-07-21T22:12:50.340Z"
   }
  ],
  "kernelspec": {
   "display_name": "Python 3",
   "language": "python",
   "name": "python3"
  },
  "language_info": {
   "codemirror_mode": {
    "name": "ipython",
    "version": 3
   },
   "file_extension": ".py",
   "mimetype": "text/x-python",
   "name": "python",
   "nbconvert_exporter": "python",
   "pygments_lexer": "ipython3",
   "version": "3.8.5"
  },
  "toc": {
   "base_numbering": 1,
   "nav_menu": {},
   "number_sections": true,
   "sideBar": true,
   "skip_h1_title": true,
   "title_cell": "Содержание",
   "title_sidebar": "Contents",
   "toc_cell": true,
   "toc_position": {
    "height": "calc(100% - 180px)",
    "left": "10px",
    "top": "150px",
    "width": "165px"
   },
   "toc_section_display": true,
   "toc_window_display": true
  }
 },
 "nbformat": 4,
 "nbformat_minor": 2
}

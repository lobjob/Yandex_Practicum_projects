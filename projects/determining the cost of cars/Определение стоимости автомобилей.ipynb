{
 "cells": [
  {
   "cell_type": "markdown",
   "metadata": {},
   "source": [
    "# Проект: Определение стоимости автомобилей"
   ]
  },
  {
   "cell_type": "markdown",
   "metadata": {
    "toc": true
   },
   "source": [
    "<h1>Table of Contents<span class=\"tocSkip\"></span></h1>\n",
    "<div class=\"toc\"><ul class=\"toc-item\"><li><span><a href=\"#Подготовка-данных\" data-toc-modified-id=\"Подготовка-данных-1\"><span class=\"toc-item-num\">1&nbsp;&nbsp;</span>Подготовка данных</a></span><ul class=\"toc-item\"><li><span><a href=\"#Импорт-библиотек\" data-toc-modified-id=\"Импорт-библиотек-1.1\"><span class=\"toc-item-num\">1.1&nbsp;&nbsp;</span>Импорт библиотек</a></span></li><li><span><a href=\"#Загрузка-данных\" data-toc-modified-id=\"Загрузка-данных-1.2\"><span class=\"toc-item-num\">1.2&nbsp;&nbsp;</span>Загрузка данных</a></span></li><li><span><a href=\"#Предобработка-данных\" data-toc-modified-id=\"Предобработка-данных-1.3\"><span class=\"toc-item-num\">1.3&nbsp;&nbsp;</span>Предобработка данных</a></span></li><li><span><a href=\"#Категоризация-данных\" data-toc-modified-id=\"Категоризация-данных-1.4\"><span class=\"toc-item-num\">1.4&nbsp;&nbsp;</span>Категоризация данных</a></span></li></ul></li><li><span><a href=\"#Обучение-моделей\" data-toc-modified-id=\"Обучение-моделей-2\"><span class=\"toc-item-num\">2&nbsp;&nbsp;</span>Обучение моделей</a></span></li><li><span><a href=\"#Анализ-моделей\" data-toc-modified-id=\"Анализ-моделей-3\"><span class=\"toc-item-num\">3&nbsp;&nbsp;</span>Анализ моделей</a></span></li><li><span><a href=\"#Вывод\" data-toc-modified-id=\"Вывод-4\"><span class=\"toc-item-num\">4&nbsp;&nbsp;</span>Вывод</a></span></li></ul></div>"
   ]
  },
  {
   "cell_type": "markdown",
   "metadata": {},
   "source": [
    "**Описание проекта**\n",
    "\n",
    "Сервис по продаже автомобилей с пробегом «Не бит, не крашен» (Название вымышленное), разрабатывает приложение для привлечения новых клиентов. В нём можно быстро узнать рыночную стоимость своего автомобиля. В моём распоряжении исторические данные: технические характеристики, комплектации и цены автомобилей. Мне нужно построить модель машинного обучения для определения стоимости. \n",
    "\n",
    "Заказчику важны:\n",
    "\n",
    "- качество предсказания;\n",
    "- скорость предсказания;\n",
    "- время обучения.\n",
    "\n",
    "**Описание данных**\n",
    "\n",
    "Файл с данными: `autos.csv`.\n",
    "\n",
    "Признаки:\n",
    "- `DateCrawled` — дата скачивания анкеты из базы\n",
    "- `VehicleType` — тип автомобильного кузова\n",
    "- `RegistrationYear` — год регистрации автомобиля\n",
    "- `Gearbox` — тип коробки передач\n",
    "- `Power` — мощность (л. с.)\n",
    "- `Model` — модель автомобиля\n",
    "- `Kilometer` — пробег (км)\n",
    "- `RegistrationMonth` — месяц регистрации автомобиля\n",
    "- `FuelType` — тип топлива\n",
    "- `Brand` — марка автомобиля\n",
    "- `NotRepaired` — была машина в ремонте или нет\n",
    "- `DateCreated` — дата создания анкеты\n",
    "- `NumberOfPictures` — количество фотографий автомобиля\n",
    "- `PostalCode` — почтовый индекс владельца анкеты (пользователя)\n",
    "- `LastSeen` — дата последней активности пользователя\n",
    "\n",
    "Целевой признак: `Price` — цена (евро)"
   ]
  },
  {
   "cell_type": "markdown",
   "metadata": {},
   "source": [
    "## Подготовка данных"
   ]
  },
  {
   "cell_type": "markdown",
   "metadata": {},
   "source": [
    "### Импорт библиотек"
   ]
  },
  {
   "cell_type": "markdown",
   "metadata": {},
   "source": [
    "Импортируем необходимые библиотеки:"
   ]
  },
  {
   "cell_type": "code",
   "execution_count": 1,
   "metadata": {},
   "outputs": [],
   "source": [
    "import pandas as pd\n",
    "import numpy as np\n",
    "from sklearn.preprocessing import OrdinalEncoder\n",
    "from sklearn.model_selection import train_test_split, GridSearchCV\n",
    "from sklearn.tree import DecisionTreeRegressor\n",
    "from sklearn.ensemble import RandomForestRegressor\n",
    "from sklearn.metrics import mean_squared_error\n",
    "import lightgbm as lgb\n",
    "import time"
   ]
  },
  {
   "cell_type": "markdown",
   "metadata": {},
   "source": [
    "### Загрузка данных"
   ]
  },
  {
   "cell_type": "markdown",
   "metadata": {},
   "source": [
    "Загрузим данные и посмотрим на них:"
   ]
  },
  {
   "cell_type": "code",
   "execution_count": 2,
   "metadata": {
    "scrolled": false
   },
   "outputs": [
    {
     "name": "stdout",
     "output_type": "stream",
     "text": [
      "\n",
      "Data:\n"
     ]
    },
    {
     "data": {
      "text/html": [
       "<div>\n",
       "<style scoped>\n",
       "    .dataframe tbody tr th:only-of-type {\n",
       "        vertical-align: middle;\n",
       "    }\n",
       "\n",
       "    .dataframe tbody tr th {\n",
       "        vertical-align: top;\n",
       "    }\n",
       "\n",
       "    .dataframe thead th {\n",
       "        text-align: right;\n",
       "    }\n",
       "</style>\n",
       "<table border=\"1\" class=\"dataframe\">\n",
       "  <thead>\n",
       "    <tr style=\"text-align: right;\">\n",
       "      <th></th>\n",
       "      <th>DateCrawled</th>\n",
       "      <th>Price</th>\n",
       "      <th>VehicleType</th>\n",
       "      <th>RegistrationYear</th>\n",
       "      <th>Gearbox</th>\n",
       "      <th>Power</th>\n",
       "      <th>Model</th>\n",
       "      <th>Kilometer</th>\n",
       "      <th>RegistrationMonth</th>\n",
       "      <th>FuelType</th>\n",
       "      <th>Brand</th>\n",
       "      <th>NotRepaired</th>\n",
       "      <th>DateCreated</th>\n",
       "      <th>NumberOfPictures</th>\n",
       "      <th>PostalCode</th>\n",
       "      <th>LastSeen</th>\n",
       "    </tr>\n",
       "  </thead>\n",
       "  <tbody>\n",
       "    <tr>\n",
       "      <td>0</td>\n",
       "      <td>2016-03-24 11:52:17</td>\n",
       "      <td>480</td>\n",
       "      <td>NaN</td>\n",
       "      <td>1993</td>\n",
       "      <td>manual</td>\n",
       "      <td>0</td>\n",
       "      <td>golf</td>\n",
       "      <td>150000</td>\n",
       "      <td>0</td>\n",
       "      <td>petrol</td>\n",
       "      <td>volkswagen</td>\n",
       "      <td>NaN</td>\n",
       "      <td>2016-03-24 00:00:00</td>\n",
       "      <td>0</td>\n",
       "      <td>70435</td>\n",
       "      <td>2016-04-07 03:16:57</td>\n",
       "    </tr>\n",
       "    <tr>\n",
       "      <td>1</td>\n",
       "      <td>2016-03-24 10:58:45</td>\n",
       "      <td>18300</td>\n",
       "      <td>coupe</td>\n",
       "      <td>2011</td>\n",
       "      <td>manual</td>\n",
       "      <td>190</td>\n",
       "      <td>NaN</td>\n",
       "      <td>125000</td>\n",
       "      <td>5</td>\n",
       "      <td>gasoline</td>\n",
       "      <td>audi</td>\n",
       "      <td>yes</td>\n",
       "      <td>2016-03-24 00:00:00</td>\n",
       "      <td>0</td>\n",
       "      <td>66954</td>\n",
       "      <td>2016-04-07 01:46:50</td>\n",
       "    </tr>\n",
       "    <tr>\n",
       "      <td>2</td>\n",
       "      <td>2016-03-14 12:52:21</td>\n",
       "      <td>9800</td>\n",
       "      <td>suv</td>\n",
       "      <td>2004</td>\n",
       "      <td>auto</td>\n",
       "      <td>163</td>\n",
       "      <td>grand</td>\n",
       "      <td>125000</td>\n",
       "      <td>8</td>\n",
       "      <td>gasoline</td>\n",
       "      <td>jeep</td>\n",
       "      <td>NaN</td>\n",
       "      <td>2016-03-14 00:00:00</td>\n",
       "      <td>0</td>\n",
       "      <td>90480</td>\n",
       "      <td>2016-04-05 12:47:46</td>\n",
       "    </tr>\n",
       "    <tr>\n",
       "      <td>3</td>\n",
       "      <td>2016-03-17 16:54:04</td>\n",
       "      <td>1500</td>\n",
       "      <td>small</td>\n",
       "      <td>2001</td>\n",
       "      <td>manual</td>\n",
       "      <td>75</td>\n",
       "      <td>golf</td>\n",
       "      <td>150000</td>\n",
       "      <td>6</td>\n",
       "      <td>petrol</td>\n",
       "      <td>volkswagen</td>\n",
       "      <td>no</td>\n",
       "      <td>2016-03-17 00:00:00</td>\n",
       "      <td>0</td>\n",
       "      <td>91074</td>\n",
       "      <td>2016-03-17 17:40:17</td>\n",
       "    </tr>\n",
       "    <tr>\n",
       "      <td>4</td>\n",
       "      <td>2016-03-31 17:25:20</td>\n",
       "      <td>3600</td>\n",
       "      <td>small</td>\n",
       "      <td>2008</td>\n",
       "      <td>manual</td>\n",
       "      <td>69</td>\n",
       "      <td>fabia</td>\n",
       "      <td>90000</td>\n",
       "      <td>7</td>\n",
       "      <td>gasoline</td>\n",
       "      <td>skoda</td>\n",
       "      <td>no</td>\n",
       "      <td>2016-03-31 00:00:00</td>\n",
       "      <td>0</td>\n",
       "      <td>60437</td>\n",
       "      <td>2016-04-06 10:17:21</td>\n",
       "    </tr>\n",
       "    <tr>\n",
       "      <td>...</td>\n",
       "      <td>...</td>\n",
       "      <td>...</td>\n",
       "      <td>...</td>\n",
       "      <td>...</td>\n",
       "      <td>...</td>\n",
       "      <td>...</td>\n",
       "      <td>...</td>\n",
       "      <td>...</td>\n",
       "      <td>...</td>\n",
       "      <td>...</td>\n",
       "      <td>...</td>\n",
       "      <td>...</td>\n",
       "      <td>...</td>\n",
       "      <td>...</td>\n",
       "      <td>...</td>\n",
       "      <td>...</td>\n",
       "    </tr>\n",
       "    <tr>\n",
       "      <td>354364</td>\n",
       "      <td>2016-03-21 09:50:58</td>\n",
       "      <td>0</td>\n",
       "      <td>NaN</td>\n",
       "      <td>2005</td>\n",
       "      <td>manual</td>\n",
       "      <td>0</td>\n",
       "      <td>colt</td>\n",
       "      <td>150000</td>\n",
       "      <td>7</td>\n",
       "      <td>petrol</td>\n",
       "      <td>mitsubishi</td>\n",
       "      <td>yes</td>\n",
       "      <td>2016-03-21 00:00:00</td>\n",
       "      <td>0</td>\n",
       "      <td>2694</td>\n",
       "      <td>2016-03-21 10:42:49</td>\n",
       "    </tr>\n",
       "    <tr>\n",
       "      <td>354365</td>\n",
       "      <td>2016-03-14 17:48:27</td>\n",
       "      <td>2200</td>\n",
       "      <td>NaN</td>\n",
       "      <td>2005</td>\n",
       "      <td>NaN</td>\n",
       "      <td>0</td>\n",
       "      <td>NaN</td>\n",
       "      <td>20000</td>\n",
       "      <td>1</td>\n",
       "      <td>NaN</td>\n",
       "      <td>sonstige_autos</td>\n",
       "      <td>NaN</td>\n",
       "      <td>2016-03-14 00:00:00</td>\n",
       "      <td>0</td>\n",
       "      <td>39576</td>\n",
       "      <td>2016-04-06 00:46:52</td>\n",
       "    </tr>\n",
       "    <tr>\n",
       "      <td>354366</td>\n",
       "      <td>2016-03-05 19:56:21</td>\n",
       "      <td>1199</td>\n",
       "      <td>convertible</td>\n",
       "      <td>2000</td>\n",
       "      <td>auto</td>\n",
       "      <td>101</td>\n",
       "      <td>fortwo</td>\n",
       "      <td>125000</td>\n",
       "      <td>3</td>\n",
       "      <td>petrol</td>\n",
       "      <td>smart</td>\n",
       "      <td>no</td>\n",
       "      <td>2016-03-05 00:00:00</td>\n",
       "      <td>0</td>\n",
       "      <td>26135</td>\n",
       "      <td>2016-03-11 18:17:12</td>\n",
       "    </tr>\n",
       "    <tr>\n",
       "      <td>354367</td>\n",
       "      <td>2016-03-19 18:57:12</td>\n",
       "      <td>9200</td>\n",
       "      <td>bus</td>\n",
       "      <td>1996</td>\n",
       "      <td>manual</td>\n",
       "      <td>102</td>\n",
       "      <td>transporter</td>\n",
       "      <td>150000</td>\n",
       "      <td>3</td>\n",
       "      <td>gasoline</td>\n",
       "      <td>volkswagen</td>\n",
       "      <td>no</td>\n",
       "      <td>2016-03-19 00:00:00</td>\n",
       "      <td>0</td>\n",
       "      <td>87439</td>\n",
       "      <td>2016-04-07 07:15:26</td>\n",
       "    </tr>\n",
       "    <tr>\n",
       "      <td>354368</td>\n",
       "      <td>2016-03-20 19:41:08</td>\n",
       "      <td>3400</td>\n",
       "      <td>wagon</td>\n",
       "      <td>2002</td>\n",
       "      <td>manual</td>\n",
       "      <td>100</td>\n",
       "      <td>golf</td>\n",
       "      <td>150000</td>\n",
       "      <td>6</td>\n",
       "      <td>gasoline</td>\n",
       "      <td>volkswagen</td>\n",
       "      <td>NaN</td>\n",
       "      <td>2016-03-20 00:00:00</td>\n",
       "      <td>0</td>\n",
       "      <td>40764</td>\n",
       "      <td>2016-03-24 12:45:21</td>\n",
       "    </tr>\n",
       "  </tbody>\n",
       "</table>\n",
       "<p>354369 rows × 16 columns</p>\n",
       "</div>"
      ],
      "text/plain": [
       "                DateCrawled  Price  VehicleType  RegistrationYear Gearbox  \\\n",
       "0       2016-03-24 11:52:17    480          NaN              1993  manual   \n",
       "1       2016-03-24 10:58:45  18300        coupe              2011  manual   \n",
       "2       2016-03-14 12:52:21   9800          suv              2004    auto   \n",
       "3       2016-03-17 16:54:04   1500        small              2001  manual   \n",
       "4       2016-03-31 17:25:20   3600        small              2008  manual   \n",
       "...                     ...    ...          ...               ...     ...   \n",
       "354364  2016-03-21 09:50:58      0          NaN              2005  manual   \n",
       "354365  2016-03-14 17:48:27   2200          NaN              2005     NaN   \n",
       "354366  2016-03-05 19:56:21   1199  convertible              2000    auto   \n",
       "354367  2016-03-19 18:57:12   9200          bus              1996  manual   \n",
       "354368  2016-03-20 19:41:08   3400        wagon              2002  manual   \n",
       "\n",
       "        Power        Model  Kilometer  RegistrationMonth  FuelType  \\\n",
       "0           0         golf     150000                  0    petrol   \n",
       "1         190          NaN     125000                  5  gasoline   \n",
       "2         163        grand     125000                  8  gasoline   \n",
       "3          75         golf     150000                  6    petrol   \n",
       "4          69        fabia      90000                  7  gasoline   \n",
       "...       ...          ...        ...                ...       ...   \n",
       "354364      0         colt     150000                  7    petrol   \n",
       "354365      0          NaN      20000                  1       NaN   \n",
       "354366    101       fortwo     125000                  3    petrol   \n",
       "354367    102  transporter     150000                  3  gasoline   \n",
       "354368    100         golf     150000                  6  gasoline   \n",
       "\n",
       "                 Brand NotRepaired          DateCreated  NumberOfPictures  \\\n",
       "0           volkswagen         NaN  2016-03-24 00:00:00                 0   \n",
       "1                 audi         yes  2016-03-24 00:00:00                 0   \n",
       "2                 jeep         NaN  2016-03-14 00:00:00                 0   \n",
       "3           volkswagen          no  2016-03-17 00:00:00                 0   \n",
       "4                skoda          no  2016-03-31 00:00:00                 0   \n",
       "...                ...         ...                  ...               ...   \n",
       "354364      mitsubishi         yes  2016-03-21 00:00:00                 0   \n",
       "354365  sonstige_autos         NaN  2016-03-14 00:00:00                 0   \n",
       "354366           smart          no  2016-03-05 00:00:00                 0   \n",
       "354367      volkswagen          no  2016-03-19 00:00:00                 0   \n",
       "354368      volkswagen         NaN  2016-03-20 00:00:00                 0   \n",
       "\n",
       "        PostalCode             LastSeen  \n",
       "0            70435  2016-04-07 03:16:57  \n",
       "1            66954  2016-04-07 01:46:50  \n",
       "2            90480  2016-04-05 12:47:46  \n",
       "3            91074  2016-03-17 17:40:17  \n",
       "4            60437  2016-04-06 10:17:21  \n",
       "...            ...                  ...  \n",
       "354364        2694  2016-03-21 10:42:49  \n",
       "354365       39576  2016-04-06 00:46:52  \n",
       "354366       26135  2016-03-11 18:17:12  \n",
       "354367       87439  2016-04-07 07:15:26  \n",
       "354368       40764  2016-03-24 12:45:21  \n",
       "\n",
       "[354369 rows x 16 columns]"
      ]
     },
     "metadata": {},
     "output_type": "display_data"
    },
    {
     "name": "stdout",
     "output_type": "stream",
     "text": [
      "---------------------------------------------\n",
      "\n",
      "Info:\n",
      "<class 'pandas.core.frame.DataFrame'>\n",
      "RangeIndex: 354369 entries, 0 to 354368\n",
      "Data columns (total 16 columns):\n",
      "DateCrawled          354369 non-null object\n",
      "Price                354369 non-null int64\n",
      "VehicleType          316879 non-null object\n",
      "RegistrationYear     354369 non-null int64\n",
      "Gearbox              334536 non-null object\n",
      "Power                354369 non-null int64\n",
      "Model                334664 non-null object\n",
      "Kilometer            354369 non-null int64\n",
      "RegistrationMonth    354369 non-null int64\n",
      "FuelType             321474 non-null object\n",
      "Brand                354369 non-null object\n",
      "NotRepaired          283215 non-null object\n",
      "DateCreated          354369 non-null object\n",
      "NumberOfPictures     354369 non-null int64\n",
      "PostalCode           354369 non-null int64\n",
      "LastSeen             354369 non-null object\n",
      "dtypes: int64(7), object(9)\n",
      "memory usage: 43.3+ MB\n",
      "None\n",
      "---------------------------------------------\n",
      "\n",
      "Shape:\n",
      "(354369, 16)\n",
      "---------------------------------------------\n",
      "\n",
      "Sample:\n"
     ]
    },
    {
     "data": {
      "text/html": [
       "<div>\n",
       "<style scoped>\n",
       "    .dataframe tbody tr th:only-of-type {\n",
       "        vertical-align: middle;\n",
       "    }\n",
       "\n",
       "    .dataframe tbody tr th {\n",
       "        vertical-align: top;\n",
       "    }\n",
       "\n",
       "    .dataframe thead th {\n",
       "        text-align: right;\n",
       "    }\n",
       "</style>\n",
       "<table border=\"1\" class=\"dataframe\">\n",
       "  <thead>\n",
       "    <tr style=\"text-align: right;\">\n",
       "      <th></th>\n",
       "      <th>DateCrawled</th>\n",
       "      <th>Price</th>\n",
       "      <th>VehicleType</th>\n",
       "      <th>RegistrationYear</th>\n",
       "      <th>Gearbox</th>\n",
       "      <th>Power</th>\n",
       "      <th>Model</th>\n",
       "      <th>Kilometer</th>\n",
       "      <th>RegistrationMonth</th>\n",
       "      <th>FuelType</th>\n",
       "      <th>Brand</th>\n",
       "      <th>NotRepaired</th>\n",
       "      <th>DateCreated</th>\n",
       "      <th>NumberOfPictures</th>\n",
       "      <th>PostalCode</th>\n",
       "      <th>LastSeen</th>\n",
       "    </tr>\n",
       "  </thead>\n",
       "  <tbody>\n",
       "    <tr>\n",
       "      <td>287377</td>\n",
       "      <td>2016-03-28 12:38:57</td>\n",
       "      <td>16900</td>\n",
       "      <td>sedan</td>\n",
       "      <td>2010</td>\n",
       "      <td>auto</td>\n",
       "      <td>170</td>\n",
       "      <td>a6</td>\n",
       "      <td>100000</td>\n",
       "      <td>2</td>\n",
       "      <td>gasoline</td>\n",
       "      <td>audi</td>\n",
       "      <td>no</td>\n",
       "      <td>2016-03-28 00:00:00</td>\n",
       "      <td>0</td>\n",
       "      <td>10627</td>\n",
       "      <td>2016-04-06 15:15:37</td>\n",
       "    </tr>\n",
       "    <tr>\n",
       "      <td>82477</td>\n",
       "      <td>2016-03-26 16:48:43</td>\n",
       "      <td>3350</td>\n",
       "      <td>wagon</td>\n",
       "      <td>1999</td>\n",
       "      <td>manual</td>\n",
       "      <td>193</td>\n",
       "      <td>3er</td>\n",
       "      <td>150000</td>\n",
       "      <td>10</td>\n",
       "      <td>petrol</td>\n",
       "      <td>bmw</td>\n",
       "      <td>no</td>\n",
       "      <td>2016-03-26 00:00:00</td>\n",
       "      <td>0</td>\n",
       "      <td>31515</td>\n",
       "      <td>2016-04-04 04:18:21</td>\n",
       "    </tr>\n",
       "    <tr>\n",
       "      <td>60773</td>\n",
       "      <td>2016-04-02 14:38:21</td>\n",
       "      <td>1600</td>\n",
       "      <td>wagon</td>\n",
       "      <td>2000</td>\n",
       "      <td>manual</td>\n",
       "      <td>0</td>\n",
       "      <td>polo</td>\n",
       "      <td>125000</td>\n",
       "      <td>1</td>\n",
       "      <td>petrol</td>\n",
       "      <td>volkswagen</td>\n",
       "      <td>no</td>\n",
       "      <td>2016-04-02 00:00:00</td>\n",
       "      <td>0</td>\n",
       "      <td>37081</td>\n",
       "      <td>2016-04-06 12:46:01</td>\n",
       "    </tr>\n",
       "    <tr>\n",
       "      <td>217488</td>\n",
       "      <td>2016-03-16 11:57:30</td>\n",
       "      <td>3000</td>\n",
       "      <td>sedan</td>\n",
       "      <td>2006</td>\n",
       "      <td>NaN</td>\n",
       "      <td>82</td>\n",
       "      <td>a_klasse</td>\n",
       "      <td>150000</td>\n",
       "      <td>3</td>\n",
       "      <td>gasoline</td>\n",
       "      <td>mercedes_benz</td>\n",
       "      <td>no</td>\n",
       "      <td>2016-03-16 00:00:00</td>\n",
       "      <td>0</td>\n",
       "      <td>38642</td>\n",
       "      <td>2016-03-16 11:57:30</td>\n",
       "    </tr>\n",
       "    <tr>\n",
       "      <td>11297</td>\n",
       "      <td>2016-03-15 14:52:36</td>\n",
       "      <td>14850</td>\n",
       "      <td>bus</td>\n",
       "      <td>2014</td>\n",
       "      <td>manual</td>\n",
       "      <td>140</td>\n",
       "      <td>zafira</td>\n",
       "      <td>40000</td>\n",
       "      <td>3</td>\n",
       "      <td>NaN</td>\n",
       "      <td>opel</td>\n",
       "      <td>no</td>\n",
       "      <td>2016-03-10 00:00:00</td>\n",
       "      <td>0</td>\n",
       "      <td>83471</td>\n",
       "      <td>2016-04-07 07:44:47</td>\n",
       "    </tr>\n",
       "    <tr>\n",
       "      <td>304803</td>\n",
       "      <td>2016-03-27 16:57:52</td>\n",
       "      <td>1250</td>\n",
       "      <td>small</td>\n",
       "      <td>2005</td>\n",
       "      <td>manual</td>\n",
       "      <td>60</td>\n",
       "      <td>ka</td>\n",
       "      <td>100000</td>\n",
       "      <td>6</td>\n",
       "      <td>petrol</td>\n",
       "      <td>ford</td>\n",
       "      <td>NaN</td>\n",
       "      <td>2016-03-27 00:00:00</td>\n",
       "      <td>0</td>\n",
       "      <td>61203</td>\n",
       "      <td>2016-03-27 17:42:14</td>\n",
       "    </tr>\n",
       "    <tr>\n",
       "      <td>217476</td>\n",
       "      <td>2016-03-13 21:48:14</td>\n",
       "      <td>19000</td>\n",
       "      <td>sedan</td>\n",
       "      <td>2011</td>\n",
       "      <td>auto</td>\n",
       "      <td>170</td>\n",
       "      <td>golf</td>\n",
       "      <td>80000</td>\n",
       "      <td>5</td>\n",
       "      <td>gasoline</td>\n",
       "      <td>volkswagen</td>\n",
       "      <td>no</td>\n",
       "      <td>2016-03-13 00:00:00</td>\n",
       "      <td>0</td>\n",
       "      <td>50858</td>\n",
       "      <td>2016-04-06 19:16:59</td>\n",
       "    </tr>\n",
       "    <tr>\n",
       "      <td>187770</td>\n",
       "      <td>2016-04-01 19:48:31</td>\n",
       "      <td>5500</td>\n",
       "      <td>small</td>\n",
       "      <td>2010</td>\n",
       "      <td>manual</td>\n",
       "      <td>80</td>\n",
       "      <td>fusion</td>\n",
       "      <td>10000</td>\n",
       "      <td>10</td>\n",
       "      <td>petrol</td>\n",
       "      <td>ford</td>\n",
       "      <td>no</td>\n",
       "      <td>2016-04-01 00:00:00</td>\n",
       "      <td>0</td>\n",
       "      <td>56642</td>\n",
       "      <td>2016-04-01 19:48:31</td>\n",
       "    </tr>\n",
       "    <tr>\n",
       "      <td>57096</td>\n",
       "      <td>2016-03-20 21:37:23</td>\n",
       "      <td>1050</td>\n",
       "      <td>small</td>\n",
       "      <td>1999</td>\n",
       "      <td>manual</td>\n",
       "      <td>0</td>\n",
       "      <td>twingo</td>\n",
       "      <td>150000</td>\n",
       "      <td>0</td>\n",
       "      <td>petrol</td>\n",
       "      <td>renault</td>\n",
       "      <td>no</td>\n",
       "      <td>2016-03-20 00:00:00</td>\n",
       "      <td>0</td>\n",
       "      <td>27804</td>\n",
       "      <td>2016-03-24 16:15:49</td>\n",
       "    </tr>\n",
       "    <tr>\n",
       "      <td>168828</td>\n",
       "      <td>2016-03-25 21:56:34</td>\n",
       "      <td>200</td>\n",
       "      <td>small</td>\n",
       "      <td>1997</td>\n",
       "      <td>manual</td>\n",
       "      <td>50</td>\n",
       "      <td>fiesta</td>\n",
       "      <td>150000</td>\n",
       "      <td>5</td>\n",
       "      <td>petrol</td>\n",
       "      <td>ford</td>\n",
       "      <td>NaN</td>\n",
       "      <td>2016-03-25 00:00:00</td>\n",
       "      <td>0</td>\n",
       "      <td>49497</td>\n",
       "      <td>2016-03-27 11:17:56</td>\n",
       "    </tr>\n",
       "  </tbody>\n",
       "</table>\n",
       "</div>"
      ],
      "text/plain": [
       "                DateCrawled  Price VehicleType  RegistrationYear Gearbox  \\\n",
       "287377  2016-03-28 12:38:57  16900       sedan              2010    auto   \n",
       "82477   2016-03-26 16:48:43   3350       wagon              1999  manual   \n",
       "60773   2016-04-02 14:38:21   1600       wagon              2000  manual   \n",
       "217488  2016-03-16 11:57:30   3000       sedan              2006     NaN   \n",
       "11297   2016-03-15 14:52:36  14850         bus              2014  manual   \n",
       "304803  2016-03-27 16:57:52   1250       small              2005  manual   \n",
       "217476  2016-03-13 21:48:14  19000       sedan              2011    auto   \n",
       "187770  2016-04-01 19:48:31   5500       small              2010  manual   \n",
       "57096   2016-03-20 21:37:23   1050       small              1999  manual   \n",
       "168828  2016-03-25 21:56:34    200       small              1997  manual   \n",
       "\n",
       "        Power     Model  Kilometer  RegistrationMonth  FuelType  \\\n",
       "287377    170        a6     100000                  2  gasoline   \n",
       "82477     193       3er     150000                 10    petrol   \n",
       "60773       0      polo     125000                  1    petrol   \n",
       "217488     82  a_klasse     150000                  3  gasoline   \n",
       "11297     140    zafira      40000                  3       NaN   \n",
       "304803     60        ka     100000                  6    petrol   \n",
       "217476    170      golf      80000                  5  gasoline   \n",
       "187770     80    fusion      10000                 10    petrol   \n",
       "57096       0    twingo     150000                  0    petrol   \n",
       "168828     50    fiesta     150000                  5    petrol   \n",
       "\n",
       "                Brand NotRepaired          DateCreated  NumberOfPictures  \\\n",
       "287377           audi          no  2016-03-28 00:00:00                 0   \n",
       "82477             bmw          no  2016-03-26 00:00:00                 0   \n",
       "60773      volkswagen          no  2016-04-02 00:00:00                 0   \n",
       "217488  mercedes_benz          no  2016-03-16 00:00:00                 0   \n",
       "11297            opel          no  2016-03-10 00:00:00                 0   \n",
       "304803           ford         NaN  2016-03-27 00:00:00                 0   \n",
       "217476     volkswagen          no  2016-03-13 00:00:00                 0   \n",
       "187770           ford          no  2016-04-01 00:00:00                 0   \n",
       "57096         renault          no  2016-03-20 00:00:00                 0   \n",
       "168828           ford         NaN  2016-03-25 00:00:00                 0   \n",
       "\n",
       "        PostalCode             LastSeen  \n",
       "287377       10627  2016-04-06 15:15:37  \n",
       "82477        31515  2016-04-04 04:18:21  \n",
       "60773        37081  2016-04-06 12:46:01  \n",
       "217488       38642  2016-03-16 11:57:30  \n",
       "11297        83471  2016-04-07 07:44:47  \n",
       "304803       61203  2016-03-27 17:42:14  \n",
       "217476       50858  2016-04-06 19:16:59  \n",
       "187770       56642  2016-04-01 19:48:31  \n",
       "57096        27804  2016-03-24 16:15:49  \n",
       "168828       49497  2016-03-27 11:17:56  "
      ]
     },
     "metadata": {},
     "output_type": "display_data"
    },
    {
     "name": "stdout",
     "output_type": "stream",
     "text": [
      "---------------------------------------------\n",
      "\n",
      "Correlation:\n"
     ]
    },
    {
     "data": {
      "text/html": [
       "<div>\n",
       "<style scoped>\n",
       "    .dataframe tbody tr th:only-of-type {\n",
       "        vertical-align: middle;\n",
       "    }\n",
       "\n",
       "    .dataframe tbody tr th {\n",
       "        vertical-align: top;\n",
       "    }\n",
       "\n",
       "    .dataframe thead th {\n",
       "        text-align: right;\n",
       "    }\n",
       "</style>\n",
       "<table border=\"1\" class=\"dataframe\">\n",
       "  <thead>\n",
       "    <tr style=\"text-align: right;\">\n",
       "      <th></th>\n",
       "      <th>Price</th>\n",
       "      <th>RegistrationYear</th>\n",
       "      <th>Power</th>\n",
       "      <th>Kilometer</th>\n",
       "      <th>RegistrationMonth</th>\n",
       "      <th>NumberOfPictures</th>\n",
       "      <th>PostalCode</th>\n",
       "    </tr>\n",
       "  </thead>\n",
       "  <tbody>\n",
       "    <tr>\n",
       "      <td>Price</td>\n",
       "      <td>1.000000</td>\n",
       "      <td>0.026916</td>\n",
       "      <td>0.158872</td>\n",
       "      <td>-0.333199</td>\n",
       "      <td>0.110581</td>\n",
       "      <td>NaN</td>\n",
       "      <td>0.076055</td>\n",
       "    </tr>\n",
       "    <tr>\n",
       "      <td>RegistrationYear</td>\n",
       "      <td>0.026916</td>\n",
       "      <td>1.000000</td>\n",
       "      <td>-0.000828</td>\n",
       "      <td>-0.053447</td>\n",
       "      <td>-0.011619</td>\n",
       "      <td>NaN</td>\n",
       "      <td>-0.003459</td>\n",
       "    </tr>\n",
       "    <tr>\n",
       "      <td>Power</td>\n",
       "      <td>0.158872</td>\n",
       "      <td>-0.000828</td>\n",
       "      <td>1.000000</td>\n",
       "      <td>0.024002</td>\n",
       "      <td>0.043380</td>\n",
       "      <td>NaN</td>\n",
       "      <td>0.021665</td>\n",
       "    </tr>\n",
       "    <tr>\n",
       "      <td>Kilometer</td>\n",
       "      <td>-0.333199</td>\n",
       "      <td>-0.053447</td>\n",
       "      <td>0.024002</td>\n",
       "      <td>1.000000</td>\n",
       "      <td>0.009571</td>\n",
       "      <td>NaN</td>\n",
       "      <td>-0.007698</td>\n",
       "    </tr>\n",
       "    <tr>\n",
       "      <td>RegistrationMonth</td>\n",
       "      <td>0.110581</td>\n",
       "      <td>-0.011619</td>\n",
       "      <td>0.043380</td>\n",
       "      <td>0.009571</td>\n",
       "      <td>1.000000</td>\n",
       "      <td>NaN</td>\n",
       "      <td>0.013995</td>\n",
       "    </tr>\n",
       "    <tr>\n",
       "      <td>NumberOfPictures</td>\n",
       "      <td>NaN</td>\n",
       "      <td>NaN</td>\n",
       "      <td>NaN</td>\n",
       "      <td>NaN</td>\n",
       "      <td>NaN</td>\n",
       "      <td>NaN</td>\n",
       "      <td>NaN</td>\n",
       "    </tr>\n",
       "    <tr>\n",
       "      <td>PostalCode</td>\n",
       "      <td>0.076055</td>\n",
       "      <td>-0.003459</td>\n",
       "      <td>0.021665</td>\n",
       "      <td>-0.007698</td>\n",
       "      <td>0.013995</td>\n",
       "      <td>NaN</td>\n",
       "      <td>1.000000</td>\n",
       "    </tr>\n",
       "  </tbody>\n",
       "</table>\n",
       "</div>"
      ],
      "text/plain": [
       "                      Price  RegistrationYear     Power  Kilometer  \\\n",
       "Price              1.000000          0.026916  0.158872  -0.333199   \n",
       "RegistrationYear   0.026916          1.000000 -0.000828  -0.053447   \n",
       "Power              0.158872         -0.000828  1.000000   0.024002   \n",
       "Kilometer         -0.333199         -0.053447  0.024002   1.000000   \n",
       "RegistrationMonth  0.110581         -0.011619  0.043380   0.009571   \n",
       "NumberOfPictures        NaN               NaN       NaN        NaN   \n",
       "PostalCode         0.076055         -0.003459  0.021665  -0.007698   \n",
       "\n",
       "                   RegistrationMonth  NumberOfPictures  PostalCode  \n",
       "Price                       0.110581               NaN    0.076055  \n",
       "RegistrationYear           -0.011619               NaN   -0.003459  \n",
       "Power                       0.043380               NaN    0.021665  \n",
       "Kilometer                   0.009571               NaN   -0.007698  \n",
       "RegistrationMonth           1.000000               NaN    0.013995  \n",
       "NumberOfPictures                 NaN               NaN         NaN  \n",
       "PostalCode                  0.013995               NaN    1.000000  "
      ]
     },
     "metadata": {},
     "output_type": "display_data"
    },
    {
     "name": "stdout",
     "output_type": "stream",
     "text": [
      "---------------------------------------------\n",
      "\n",
      "NaN's:\n",
      "DateCrawled              0\n",
      "Price                    0\n",
      "VehicleType          37490\n",
      "RegistrationYear         0\n",
      "Gearbox              19833\n",
      "Power                    0\n",
      "Model                19705\n",
      "Kilometer                0\n",
      "RegistrationMonth        0\n",
      "FuelType             32895\n",
      "Brand                    0\n",
      "NotRepaired          71154\n",
      "DateCreated              0\n",
      "NumberOfPictures         0\n",
      "PostalCode               0\n",
      "LastSeen                 0\n",
      "dtype: int64\n"
     ]
    }
   ],
   "source": [
    "df = pd.read_csv('/datasets/autos.csv')\n",
    "print()\n",
    "print('Data:')\n",
    "display(df)\n",
    "print('---------------------------------------------')\n",
    "print()\n",
    "print('Info:')\n",
    "print(df.info())\n",
    "print('---------------------------------------------')\n",
    "print()\n",
    "print('Shape:')\n",
    "print(df.shape)\n",
    "print('---------------------------------------------')\n",
    "print()\n",
    "print('Sample:')\n",
    "display(df.sample(10, random_state=555))\n",
    "print('---------------------------------------------')\n",
    "print()\n",
    "print('Correlation:')\n",
    "display(df.corr())\n",
    "print('---------------------------------------------')\n",
    "print()\n",
    "print(\"NaN's:\")\n",
    "print(df.isna().sum())"
   ]
  },
  {
   "cell_type": "markdown",
   "metadata": {},
   "source": [
    "На первый взгляд видно:\n",
    "- есть пропуски в некоторых признаках;\n",
    "- достаточно много колонок типа объект. Вероятно какие-то из них можно будет удалить (например с датами), а какие-то разбить по категориям и преобразовать в числовой;\n",
    "- сильной корреляции между признаками не наблюдается. После категоризации признаков надо будет ещё раз проверить;\n",
    "- в колонке с количеством изображений возможно везде нули и она нам не пригодится;\n",
    "- из косметического: перевести названия колонок в нижний регистр."
   ]
  },
  {
   "cell_type": "markdown",
   "metadata": {},
   "source": [
    "### Предобработка данных"
   ]
  },
  {
   "cell_type": "markdown",
   "metadata": {},
   "source": [
    "Начнём с названия колонок, для дальнейшей простоты работы."
   ]
  },
  {
   "cell_type": "code",
   "execution_count": 3,
   "metadata": {},
   "outputs": [
    {
     "data": {
      "text/plain": [
       "Index(['datecrawled', 'price', 'vehicletype', 'registrationyear', 'gearbox',\n",
       "       'power', 'model', 'kilometer', 'registrationmonth', 'fueltype', 'brand',\n",
       "       'notrepaired', 'datecreated', 'numberofpictures', 'postalcode',\n",
       "       'lastseen'],\n",
       "      dtype='object')"
      ]
     },
     "execution_count": 3,
     "metadata": {},
     "output_type": "execute_result"
    }
   ],
   "source": [
    "df.columns = df.columns.str.lower()\n",
    "df.columns"
   ]
  },
  {
   "cell_type": "markdown",
   "metadata": {},
   "source": [
    "Далее колонка изображений. Посмотрим есть ли там ещё какие-либо значения кроме нулей:"
   ]
  },
  {
   "cell_type": "code",
   "execution_count": 4,
   "metadata": {},
   "outputs": [
    {
     "data": {
      "text/plain": [
       "0    354369\n",
       "Name: numberofpictures, dtype: int64"
      ]
     },
     "execution_count": 4,
     "metadata": {},
     "output_type": "execute_result"
    }
   ],
   "source": [
    "df['numberofpictures'].value_counts()"
   ]
  },
  {
   "cell_type": "markdown",
   "metadata": {},
   "source": [
    "Нет. Значит, смысловой нагрузки в данном случае она нам никакой не несёт."
   ]
  },
  {
   "cell_type": "code",
   "execution_count": 5,
   "metadata": {},
   "outputs": [],
   "source": [
    "df.drop(['numberofpictures'], axis=1, inplace=True)"
   ]
  },
  {
   "cell_type": "markdown",
   "metadata": {},
   "source": [
    "Теперь посмотрим на колонки с датами:"
   ]
  },
  {
   "cell_type": "code",
   "execution_count": 6,
   "metadata": {},
   "outputs": [
    {
     "data": {
      "text/html": [
       "<div>\n",
       "<style scoped>\n",
       "    .dataframe tbody tr th:only-of-type {\n",
       "        vertical-align: middle;\n",
       "    }\n",
       "\n",
       "    .dataframe tbody tr th {\n",
       "        vertical-align: top;\n",
       "    }\n",
       "\n",
       "    .dataframe thead th {\n",
       "        text-align: right;\n",
       "    }\n",
       "</style>\n",
       "<table border=\"1\" class=\"dataframe\">\n",
       "  <thead>\n",
       "    <tr style=\"text-align: right;\">\n",
       "      <th></th>\n",
       "      <th>datecrawled</th>\n",
       "      <th>datecreated</th>\n",
       "    </tr>\n",
       "  </thead>\n",
       "  <tbody>\n",
       "    <tr>\n",
       "      <td>116639</td>\n",
       "      <td>2016-03-21 15:45:15</td>\n",
       "      <td>2016-03-21 00:00:00</td>\n",
       "    </tr>\n",
       "    <tr>\n",
       "      <td>135479</td>\n",
       "      <td>2016-03-21 17:39:53</td>\n",
       "      <td>2016-03-21 00:00:00</td>\n",
       "    </tr>\n",
       "    <tr>\n",
       "      <td>144518</td>\n",
       "      <td>2016-03-23 13:52:15</td>\n",
       "      <td>2016-03-23 00:00:00</td>\n",
       "    </tr>\n",
       "    <tr>\n",
       "      <td>45809</td>\n",
       "      <td>2016-03-16 19:36:27</td>\n",
       "      <td>2016-03-16 00:00:00</td>\n",
       "    </tr>\n",
       "    <tr>\n",
       "      <td>113799</td>\n",
       "      <td>2016-03-10 16:53:57</td>\n",
       "      <td>2016-03-10 00:00:00</td>\n",
       "    </tr>\n",
       "    <tr>\n",
       "      <td>151257</td>\n",
       "      <td>2016-03-22 15:42:14</td>\n",
       "      <td>2016-03-22 00:00:00</td>\n",
       "    </tr>\n",
       "    <tr>\n",
       "      <td>56170</td>\n",
       "      <td>2016-03-06 12:52:14</td>\n",
       "      <td>2016-03-06 00:00:00</td>\n",
       "    </tr>\n",
       "    <tr>\n",
       "      <td>312731</td>\n",
       "      <td>2016-03-29 12:50:07</td>\n",
       "      <td>2016-03-29 00:00:00</td>\n",
       "    </tr>\n",
       "    <tr>\n",
       "      <td>146533</td>\n",
       "      <td>2016-03-21 09:36:33</td>\n",
       "      <td>2016-03-21 00:00:00</td>\n",
       "    </tr>\n",
       "    <tr>\n",
       "      <td>269839</td>\n",
       "      <td>2016-03-26 13:45:23</td>\n",
       "      <td>2016-03-26 00:00:00</td>\n",
       "    </tr>\n",
       "  </tbody>\n",
       "</table>\n",
       "</div>"
      ],
      "text/plain": [
       "                datecrawled          datecreated\n",
       "116639  2016-03-21 15:45:15  2016-03-21 00:00:00\n",
       "135479  2016-03-21 17:39:53  2016-03-21 00:00:00\n",
       "144518  2016-03-23 13:52:15  2016-03-23 00:00:00\n",
       "45809   2016-03-16 19:36:27  2016-03-16 00:00:00\n",
       "113799  2016-03-10 16:53:57  2016-03-10 00:00:00\n",
       "151257  2016-03-22 15:42:14  2016-03-22 00:00:00\n",
       "56170   2016-03-06 12:52:14  2016-03-06 00:00:00\n",
       "312731  2016-03-29 12:50:07  2016-03-29 00:00:00\n",
       "146533  2016-03-21 09:36:33  2016-03-21 00:00:00\n",
       "269839  2016-03-26 13:45:23  2016-03-26 00:00:00"
      ]
     },
     "execution_count": 6,
     "metadata": {},
     "output_type": "execute_result"
    }
   ],
   "source": [
    "df[['datecrawled', 'datecreated']].sample(10)"
   ]
  },
  {
   "cell_type": "markdown",
   "metadata": {},
   "source": [
    "Видно что, даты в объявлениях совпадают. Различие только во времени. Одну из колонок можно удалить, а по-поводу второй есть такая мысль: Тут получается, что все объявления размещались в 2016-м году. Мы можем перевести колонку в формат даты и разбить их на месяца, так как возможно в разные месяца машины продаются по разному и эта информация может пригодиться в обучении и предсказаниях.\n",
    "\n",
    "Удаляем одну колонку:"
   ]
  },
  {
   "cell_type": "code",
   "execution_count": 7,
   "metadata": {},
   "outputs": [],
   "source": [
    "df.drop(['datecrawled'], axis=1, inplace=True)"
   ]
  },
  {
   "cell_type": "markdown",
   "metadata": {},
   "source": [
    "Вторую переводим в формат времени:"
   ]
  },
  {
   "cell_type": "code",
   "execution_count": 8,
   "metadata": {},
   "outputs": [
    {
     "data": {
      "text/html": [
       "<div>\n",
       "<style scoped>\n",
       "    .dataframe tbody tr th:only-of-type {\n",
       "        vertical-align: middle;\n",
       "    }\n",
       "\n",
       "    .dataframe tbody tr th {\n",
       "        vertical-align: top;\n",
       "    }\n",
       "\n",
       "    .dataframe thead th {\n",
       "        text-align: right;\n",
       "    }\n",
       "</style>\n",
       "<table border=\"1\" class=\"dataframe\">\n",
       "  <thead>\n",
       "    <tr style=\"text-align: right;\">\n",
       "      <th></th>\n",
       "      <th>price</th>\n",
       "      <th>vehicletype</th>\n",
       "      <th>registrationyear</th>\n",
       "      <th>gearbox</th>\n",
       "      <th>power</th>\n",
       "      <th>model</th>\n",
       "      <th>kilometer</th>\n",
       "      <th>registrationmonth</th>\n",
       "      <th>fueltype</th>\n",
       "      <th>brand</th>\n",
       "      <th>notrepaired</th>\n",
       "      <th>monthcreated</th>\n",
       "      <th>postalcode</th>\n",
       "      <th>lastseen</th>\n",
       "    </tr>\n",
       "  </thead>\n",
       "  <tbody>\n",
       "    <tr>\n",
       "      <td>0</td>\n",
       "      <td>480</td>\n",
       "      <td>NaN</td>\n",
       "      <td>1993</td>\n",
       "      <td>manual</td>\n",
       "      <td>0</td>\n",
       "      <td>golf</td>\n",
       "      <td>150000</td>\n",
       "      <td>0</td>\n",
       "      <td>petrol</td>\n",
       "      <td>volkswagen</td>\n",
       "      <td>NaN</td>\n",
       "      <td>3</td>\n",
       "      <td>70435</td>\n",
       "      <td>2016-04-07 03:16:57</td>\n",
       "    </tr>\n",
       "    <tr>\n",
       "      <td>1</td>\n",
       "      <td>18300</td>\n",
       "      <td>coupe</td>\n",
       "      <td>2011</td>\n",
       "      <td>manual</td>\n",
       "      <td>190</td>\n",
       "      <td>NaN</td>\n",
       "      <td>125000</td>\n",
       "      <td>5</td>\n",
       "      <td>gasoline</td>\n",
       "      <td>audi</td>\n",
       "      <td>yes</td>\n",
       "      <td>3</td>\n",
       "      <td>66954</td>\n",
       "      <td>2016-04-07 01:46:50</td>\n",
       "    </tr>\n",
       "    <tr>\n",
       "      <td>2</td>\n",
       "      <td>9800</td>\n",
       "      <td>suv</td>\n",
       "      <td>2004</td>\n",
       "      <td>auto</td>\n",
       "      <td>163</td>\n",
       "      <td>grand</td>\n",
       "      <td>125000</td>\n",
       "      <td>8</td>\n",
       "      <td>gasoline</td>\n",
       "      <td>jeep</td>\n",
       "      <td>NaN</td>\n",
       "      <td>3</td>\n",
       "      <td>90480</td>\n",
       "      <td>2016-04-05 12:47:46</td>\n",
       "    </tr>\n",
       "    <tr>\n",
       "      <td>3</td>\n",
       "      <td>1500</td>\n",
       "      <td>small</td>\n",
       "      <td>2001</td>\n",
       "      <td>manual</td>\n",
       "      <td>75</td>\n",
       "      <td>golf</td>\n",
       "      <td>150000</td>\n",
       "      <td>6</td>\n",
       "      <td>petrol</td>\n",
       "      <td>volkswagen</td>\n",
       "      <td>no</td>\n",
       "      <td>3</td>\n",
       "      <td>91074</td>\n",
       "      <td>2016-03-17 17:40:17</td>\n",
       "    </tr>\n",
       "    <tr>\n",
       "      <td>4</td>\n",
       "      <td>3600</td>\n",
       "      <td>small</td>\n",
       "      <td>2008</td>\n",
       "      <td>manual</td>\n",
       "      <td>69</td>\n",
       "      <td>fabia</td>\n",
       "      <td>90000</td>\n",
       "      <td>7</td>\n",
       "      <td>gasoline</td>\n",
       "      <td>skoda</td>\n",
       "      <td>no</td>\n",
       "      <td>3</td>\n",
       "      <td>60437</td>\n",
       "      <td>2016-04-06 10:17:21</td>\n",
       "    </tr>\n",
       "    <tr>\n",
       "      <td>...</td>\n",
       "      <td>...</td>\n",
       "      <td>...</td>\n",
       "      <td>...</td>\n",
       "      <td>...</td>\n",
       "      <td>...</td>\n",
       "      <td>...</td>\n",
       "      <td>...</td>\n",
       "      <td>...</td>\n",
       "      <td>...</td>\n",
       "      <td>...</td>\n",
       "      <td>...</td>\n",
       "      <td>...</td>\n",
       "      <td>...</td>\n",
       "      <td>...</td>\n",
       "    </tr>\n",
       "    <tr>\n",
       "      <td>354364</td>\n",
       "      <td>0</td>\n",
       "      <td>NaN</td>\n",
       "      <td>2005</td>\n",
       "      <td>manual</td>\n",
       "      <td>0</td>\n",
       "      <td>colt</td>\n",
       "      <td>150000</td>\n",
       "      <td>7</td>\n",
       "      <td>petrol</td>\n",
       "      <td>mitsubishi</td>\n",
       "      <td>yes</td>\n",
       "      <td>3</td>\n",
       "      <td>2694</td>\n",
       "      <td>2016-03-21 10:42:49</td>\n",
       "    </tr>\n",
       "    <tr>\n",
       "      <td>354365</td>\n",
       "      <td>2200</td>\n",
       "      <td>NaN</td>\n",
       "      <td>2005</td>\n",
       "      <td>NaN</td>\n",
       "      <td>0</td>\n",
       "      <td>NaN</td>\n",
       "      <td>20000</td>\n",
       "      <td>1</td>\n",
       "      <td>NaN</td>\n",
       "      <td>sonstige_autos</td>\n",
       "      <td>NaN</td>\n",
       "      <td>3</td>\n",
       "      <td>39576</td>\n",
       "      <td>2016-04-06 00:46:52</td>\n",
       "    </tr>\n",
       "    <tr>\n",
       "      <td>354366</td>\n",
       "      <td>1199</td>\n",
       "      <td>convertible</td>\n",
       "      <td>2000</td>\n",
       "      <td>auto</td>\n",
       "      <td>101</td>\n",
       "      <td>fortwo</td>\n",
       "      <td>125000</td>\n",
       "      <td>3</td>\n",
       "      <td>petrol</td>\n",
       "      <td>smart</td>\n",
       "      <td>no</td>\n",
       "      <td>3</td>\n",
       "      <td>26135</td>\n",
       "      <td>2016-03-11 18:17:12</td>\n",
       "    </tr>\n",
       "    <tr>\n",
       "      <td>354367</td>\n",
       "      <td>9200</td>\n",
       "      <td>bus</td>\n",
       "      <td>1996</td>\n",
       "      <td>manual</td>\n",
       "      <td>102</td>\n",
       "      <td>transporter</td>\n",
       "      <td>150000</td>\n",
       "      <td>3</td>\n",
       "      <td>gasoline</td>\n",
       "      <td>volkswagen</td>\n",
       "      <td>no</td>\n",
       "      <td>3</td>\n",
       "      <td>87439</td>\n",
       "      <td>2016-04-07 07:15:26</td>\n",
       "    </tr>\n",
       "    <tr>\n",
       "      <td>354368</td>\n",
       "      <td>3400</td>\n",
       "      <td>wagon</td>\n",
       "      <td>2002</td>\n",
       "      <td>manual</td>\n",
       "      <td>100</td>\n",
       "      <td>golf</td>\n",
       "      <td>150000</td>\n",
       "      <td>6</td>\n",
       "      <td>gasoline</td>\n",
       "      <td>volkswagen</td>\n",
       "      <td>NaN</td>\n",
       "      <td>3</td>\n",
       "      <td>40764</td>\n",
       "      <td>2016-03-24 12:45:21</td>\n",
       "    </tr>\n",
       "  </tbody>\n",
       "</table>\n",
       "<p>354369 rows × 14 columns</p>\n",
       "</div>"
      ],
      "text/plain": [
       "        price  vehicletype  registrationyear gearbox  power        model  \\\n",
       "0         480          NaN              1993  manual      0         golf   \n",
       "1       18300        coupe              2011  manual    190          NaN   \n",
       "2        9800          suv              2004    auto    163        grand   \n",
       "3        1500        small              2001  manual     75         golf   \n",
       "4        3600        small              2008  manual     69        fabia   \n",
       "...       ...          ...               ...     ...    ...          ...   \n",
       "354364      0          NaN              2005  manual      0         colt   \n",
       "354365   2200          NaN              2005     NaN      0          NaN   \n",
       "354366   1199  convertible              2000    auto    101       fortwo   \n",
       "354367   9200          bus              1996  manual    102  transporter   \n",
       "354368   3400        wagon              2002  manual    100         golf   \n",
       "\n",
       "        kilometer  registrationmonth  fueltype           brand notrepaired  \\\n",
       "0          150000                  0    petrol      volkswagen         NaN   \n",
       "1          125000                  5  gasoline            audi         yes   \n",
       "2          125000                  8  gasoline            jeep         NaN   \n",
       "3          150000                  6    petrol      volkswagen          no   \n",
       "4           90000                  7  gasoline           skoda          no   \n",
       "...           ...                ...       ...             ...         ...   \n",
       "354364     150000                  7    petrol      mitsubishi         yes   \n",
       "354365      20000                  1       NaN  sonstige_autos         NaN   \n",
       "354366     125000                  3    petrol           smart          no   \n",
       "354367     150000                  3  gasoline      volkswagen          no   \n",
       "354368     150000                  6  gasoline      volkswagen         NaN   \n",
       "\n",
       "        monthcreated  postalcode             lastseen  \n",
       "0                  3       70435  2016-04-07 03:16:57  \n",
       "1                  3       66954  2016-04-07 01:46:50  \n",
       "2                  3       90480  2016-04-05 12:47:46  \n",
       "3                  3       91074  2016-03-17 17:40:17  \n",
       "4                  3       60437  2016-04-06 10:17:21  \n",
       "...              ...         ...                  ...  \n",
       "354364             3        2694  2016-03-21 10:42:49  \n",
       "354365             3       39576  2016-04-06 00:46:52  \n",
       "354366             3       26135  2016-03-11 18:17:12  \n",
       "354367             3       87439  2016-04-07 07:15:26  \n",
       "354368             3       40764  2016-03-24 12:45:21  \n",
       "\n",
       "[354369 rows x 14 columns]"
      ]
     },
     "execution_count": 8,
     "metadata": {},
     "output_type": "execute_result"
    }
   ],
   "source": [
    "df['datecreated'] = pd.to_datetime(\n",
    "    df['datecreated'], format='%Y-%m-%d %H:%M:%S')\n",
    "df['datecreated'] = pd.DatetimeIndex(df['datecreated']).month\n",
    "df = df.rename(columns={'datecreated':'monthcreated'})\n",
    "df"
   ]
  },
  {
   "cell_type": "markdown",
   "metadata": {},
   "source": [
    "Получилась колонка с месяцем создания объявления.\n",
    "\n",
    "Теперь посмотрим на колонки с данными типа объект.\\\n",
    "Начнём с колонки тип кузова:"
   ]
  },
  {
   "cell_type": "code",
   "execution_count": 9,
   "metadata": {
    "scrolled": false
   },
   "outputs": [
    {
     "data": {
      "text/plain": [
       "sedan          91457\n",
       "small          79831\n",
       "wagon          65166\n",
       "bus            28775\n",
       "convertible    20203\n",
       "coupe          16163\n",
       "suv            11996\n",
       "other           3288\n",
       "Name: vehicletype, dtype: int64"
      ]
     },
     "execution_count": 9,
     "metadata": {},
     "output_type": "execute_result"
    }
   ],
   "source": [
    "df['vehicletype'].value_counts()"
   ]
  },
  {
   "cell_type": "markdown",
   "metadata": {},
   "source": [
    "Эту колонку можно категоризировать.\n",
    "\n",
    "Теперь колонка с коробками передач:"
   ]
  },
  {
   "cell_type": "code",
   "execution_count": 10,
   "metadata": {},
   "outputs": [
    {
     "data": {
      "text/plain": [
       "manual    268251\n",
       "auto       66285\n",
       "Name: gearbox, dtype: int64"
      ]
     },
     "execution_count": 10,
     "metadata": {},
     "output_type": "execute_result"
    }
   ],
   "source": [
    "df['gearbox'].value_counts()"
   ]
  },
  {
   "cell_type": "markdown",
   "metadata": {},
   "source": [
    "Тоже можно категоризировать.\n",
    "\n",
    "Далее модель авто:"
   ]
  },
  {
   "cell_type": "code",
   "execution_count": 11,
   "metadata": {},
   "outputs": [
    {
     "data": {
      "text/plain": [
       "golf                  29232\n",
       "other                 24421\n",
       "3er                   19761\n",
       "polo                  13066\n",
       "corsa                 12570\n",
       "                      ...  \n",
       "i3                        8\n",
       "rangerover                4\n",
       "serie_3                   4\n",
       "serie_1                   2\n",
       "range_rover_evoque        2\n",
       "Name: model, Length: 250, dtype: int64"
      ]
     },
     "execution_count": 11,
     "metadata": {},
     "output_type": "execute_result"
    }
   ],
   "source": [
    "df['model'].value_counts()"
   ]
  },
  {
   "cell_type": "markdown",
   "metadata": {},
   "source": [
    "Думаю, тут тоже можно категоризировать, только пока смущает 250 наименований.\n",
    "\n",
    "Продолжим, тип топлива:"
   ]
  },
  {
   "cell_type": "code",
   "execution_count": 12,
   "metadata": {},
   "outputs": [
    {
     "data": {
      "text/plain": [
       "petrol      216352\n",
       "gasoline     98720\n",
       "lpg           5310\n",
       "cng            565\n",
       "hybrid         233\n",
       "other          204\n",
       "electric        90\n",
       "Name: fueltype, dtype: int64"
      ]
     },
     "execution_count": 12,
     "metadata": {},
     "output_type": "execute_result"
    }
   ],
   "source": [
    "df['fueltype'].value_counts()"
   ]
  },
  {
   "cell_type": "markdown",
   "metadata": {},
   "source": [
    "Тоже хорошие категории получатся.\n",
    "\n",
    "Колонка марки авто:"
   ]
  },
  {
   "cell_type": "code",
   "execution_count": 13,
   "metadata": {},
   "outputs": [
    {
     "data": {
      "text/plain": [
       "volkswagen        77013\n",
       "opel              39931\n",
       "bmw               36914\n",
       "mercedes_benz     32046\n",
       "audi              29456\n",
       "ford              25179\n",
       "renault           17927\n",
       "peugeot           10998\n",
       "fiat               9643\n",
       "seat               6907\n",
       "mazda              5615\n",
       "skoda              5500\n",
       "smart              5246\n",
       "citroen            5148\n",
       "nissan             4941\n",
       "toyota             4606\n",
       "hyundai            3587\n",
       "sonstige_autos     3374\n",
       "volvo              3210\n",
       "mini               3202\n",
       "mitsubishi         3022\n",
       "honda              2817\n",
       "kia                2465\n",
       "suzuki             2323\n",
       "alfa_romeo         2314\n",
       "chevrolet          1754\n",
       "chrysler           1439\n",
       "dacia               900\n",
       "daihatsu            806\n",
       "subaru              762\n",
       "porsche             758\n",
       "jeep                677\n",
       "trabant             589\n",
       "land_rover          545\n",
       "daewoo              542\n",
       "saab                526\n",
       "jaguar              505\n",
       "rover               486\n",
       "lancia              471\n",
       "lada                225\n",
       "Name: brand, dtype: int64"
      ]
     },
     "execution_count": 13,
     "metadata": {},
     "output_type": "execute_result"
    }
   ],
   "source": [
    "df['brand'].value_counts()"
   ]
  },
  {
   "cell_type": "markdown",
   "metadata": {},
   "source": [
    "И тут вполне бъётся по категориям, только тоже многовато разновидностей.\n",
    "\n",
    "Теперь колонка ремонта:"
   ]
  },
  {
   "cell_type": "code",
   "execution_count": 14,
   "metadata": {
    "scrolled": true
   },
   "outputs": [
    {
     "data": {
      "text/plain": [
       "no     247161\n",
       "yes     36054\n",
       "Name: notrepaired, dtype: int64"
      ]
     },
     "execution_count": 14,
     "metadata": {},
     "output_type": "execute_result"
    }
   ],
   "source": [
    "df['notrepaired'].value_counts()"
   ]
  },
  {
   "cell_type": "markdown",
   "metadata": {},
   "source": [
    "Можно категоризировать.\n",
    "\n",
    "И наконец колонка с датой последнего визита. Тут бить по категориям точно не получится, если только что-то вроде: давно был продавец на сайте или нет. Но тут может быль такое, что продавец в начале года продал машину и больше сервисом не пользуется. То есть информация, что его давно нет на сайте по-сути ничего не даёт. Так что, я думаю эта колонка особой пользы не принесёт."
   ]
  },
  {
   "cell_type": "code",
   "execution_count": 15,
   "metadata": {},
   "outputs": [],
   "source": [
    "df.drop(['lastseen'], axis=1, inplace=True)"
   ]
  },
  {
   "cell_type": "markdown",
   "metadata": {},
   "source": [
    "В итоге будем пробовать категоризировать все объектовые колонки.\n",
    "\n",
    "Ещё есть вероятность наличия выбросов в колонке с годами выпуска авто:"
   ]
  },
  {
   "cell_type": "code",
   "execution_count": 16,
   "metadata": {
    "scrolled": false
   },
   "outputs": [
    {
     "data": {
      "text/plain": [
       "<matplotlib.axes._subplots.AxesSubplot at 0x7fa6250a8050>"
      ]
     },
     "execution_count": 16,
     "metadata": {},
     "output_type": "execute_result"
    },
    {
     "data": {
      "image/png": "[encoded data removed]",
      "text/plain": [
       "<Figure size 432x288 with 1 Axes>"
      ]
     },
     "metadata": {
      "needs_background": "light"
     },
     "output_type": "display_data"
    }
   ],
   "source": [
    "df['registrationyear'].plot(kind='hist')"
   ]
  },
  {
   "cell_type": "code",
   "execution_count": 17,
   "metadata": {},
   "outputs": [
    {
     "data": {
      "text/plain": [
       "count    354369.000000\n",
       "mean       2004.234448\n",
       "std          90.227958\n",
       "min        1000.000000\n",
       "25%        1999.000000\n",
       "50%        2003.000000\n",
       "75%        2008.000000\n",
       "max        9999.000000\n",
       "Name: registrationyear, dtype: float64"
      ]
     },
     "execution_count": 17,
     "metadata": {},
     "output_type": "execute_result"
    }
   ],
   "source": [
    "df['registrationyear'].describe()"
   ]
  },
  {
   "cell_type": "markdown",
   "metadata": {},
   "source": [
    "Думаю, тут надо убирать все значения выше 2016-го года, так как если объявления размещались в 2016-м году, то более новых машин на тот момент не могло существовать. И убирать значения ниже 1980-го, так как это менее одного процента от всех данных:"
   ]
  },
  {
   "cell_type": "code",
   "execution_count": 18,
   "metadata": {},
   "outputs": [
    {
     "data": {
      "text/plain": [
       "1"
      ]
     },
     "execution_count": 18,
     "metadata": {},
     "output_type": "execute_result"
    }
   ],
   "source": [
    "round(len(df[df['registrationyear'] < 1980]) / len(df) * 100)"
   ]
  },
  {
   "cell_type": "markdown",
   "metadata": {},
   "source": [
    "Убираем выбросы и посмотрим на распределение:"
   ]
  },
  {
   "cell_type": "code",
   "execution_count": 19,
   "metadata": {
    "scrolled": true
   },
   "outputs": [
    {
     "data": {
      "text/plain": [
       "<matplotlib.axes._subplots.AxesSubplot at 0x7fa62674a7d0>"
      ]
     },
     "execution_count": 19,
     "metadata": {},
     "output_type": "execute_result"
    },
    {
     "data": {
      "image/png": "[encoded data removed]",
      "text/plain": [
       "<Figure size 432x288 with 1 Axes>"
      ]
     },
     "metadata": {
      "needs_background": "light"
     },
     "output_type": "display_data"
    }
   ],
   "source": [
    "df.drop(df[df['registrationyear'] > 2016].index, inplace=True)\n",
    "df.drop(df[df['registrationyear'] < 1980].index, inplace=True)\n",
    "df['registrationyear'].plot(kind='hist')"
   ]
  },
  {
   "cell_type": "markdown",
   "metadata": {},
   "source": [
    "Теперь распределение по годам более нормальное.\n",
    "\n",
    "Посмотрим на распределение по месяцам выпуска:"
   ]
  },
  {
   "cell_type": "code",
   "execution_count": 20,
   "metadata": {},
   "outputs": [
    {
     "data": {
      "text/plain": [
       "<matplotlib.axes._subplots.AxesSubplot at 0x7fa6286db150>"
      ]
     },
     "execution_count": 20,
     "metadata": {},
     "output_type": "execute_result"
    },
    {
     "data": {
      "image/png": "[encoded data removed]",
      "text/plain": [
       "<Figure size 432x288 with 1 Axes>"
      ]
     },
     "metadata": {
      "needs_background": "light"
     },
     "output_type": "display_data"
    }
   ],
   "source": [
    "df['registrationmonth'].plot(kind='hist', bins=12)"
   ]
  },
  {
   "cell_type": "markdown",
   "metadata": {},
   "source": [
    "По месяцам, выбросов нет, тут всё нормально.\n",
    "\n",
    "Теперь проверим колонку с мощностью двигателя:"
   ]
  },
  {
   "cell_type": "code",
   "execution_count": 21,
   "metadata": {},
   "outputs": [
    {
     "data": {
      "text/plain": [
       "<matplotlib.axes._subplots.AxesSubplot at 0x7fa625d6f290>"
      ]
     },
     "execution_count": 21,
     "metadata": {},
     "output_type": "execute_result"
    },
    {
     "data": {
      "image/png": "[encoded data removed]",
      "text/plain": [
       "<Figure size 432x288 with 1 Axes>"
      ]
     },
     "metadata": {
      "needs_background": "light"
     },
     "output_type": "display_data"
    }
   ],
   "source": [
    "df['power'].plot(kind='box')"
   ]
  },
  {
   "cell_type": "code",
   "execution_count": 22,
   "metadata": {},
   "outputs": [
    {
     "data": {
      "text/plain": [
       "count    336387.000000\n",
       "mean        111.366973\n",
       "std         185.510237\n",
       "min           0.000000\n",
       "25%          70.000000\n",
       "50%         105.000000\n",
       "75%         143.000000\n",
       "max       20000.000000\n",
       "Name: power, dtype: float64"
      ]
     },
     "execution_count": 22,
     "metadata": {},
     "output_type": "execute_result"
    }
   ],
   "source": [
    "df['power'].describe()"
   ]
  },
  {
   "cell_type": "markdown",
   "metadata": {},
   "source": [
    "Тут тоже имеем выбросы, как в сторону низкой, так и в сторону высокой мощности. Можно взять автомобили с мощностью от 50 л.с. до 500. Думаю, выше там только \"Формула-1\"."
   ]
  },
  {
   "cell_type": "code",
   "execution_count": 23,
   "metadata": {},
   "outputs": [
    {
     "data": {
      "text/plain": [
       "<matplotlib.axes._subplots.AxesSubplot at 0x7fa627584990>"
      ]
     },
     "execution_count": 23,
     "metadata": {},
     "output_type": "execute_result"
    },
    {
     "data": {
      "image/png": "[encoded data removed]",
      "text/plain": [
       "<Figure size 432x288 with 1 Axes>"
      ]
     },
     "metadata": {
      "needs_background": "light"
     },
     "output_type": "display_data"
    }
   ],
   "source": [
    "df.drop(df[df['power'] > 500].index, inplace=True)\n",
    "df.drop(df[df['power'] < 50].index, inplace=True)\n",
    "df['power'].plot(kind='hist')"
   ]
  },
  {
   "cell_type": "markdown",
   "metadata": {},
   "source": [
    "Теперь выглядит намного лучше. С высокой мощностью от 300-а л.с. машин тоже немного, но такие варианты впринципе можно допустить."
   ]
  },
  {
   "cell_type": "code",
   "execution_count": 24,
   "metadata": {},
   "outputs": [
    {
     "data": {
      "text/html": [
       "<div>\n",
       "<style scoped>\n",
       "    .dataframe tbody tr th:only-of-type {\n",
       "        vertical-align: middle;\n",
       "    }\n",
       "\n",
       "    .dataframe tbody tr th {\n",
       "        vertical-align: top;\n",
       "    }\n",
       "\n",
       "    .dataframe thead th {\n",
       "        text-align: right;\n",
       "    }\n",
       "</style>\n",
       "<table border=\"1\" class=\"dataframe\">\n",
       "  <thead>\n",
       "    <tr style=\"text-align: right;\">\n",
       "      <th></th>\n",
       "      <th>price</th>\n",
       "      <th>vehicletype</th>\n",
       "      <th>registrationyear</th>\n",
       "      <th>gearbox</th>\n",
       "      <th>power</th>\n",
       "      <th>model</th>\n",
       "      <th>kilometer</th>\n",
       "      <th>registrationmonth</th>\n",
       "      <th>fueltype</th>\n",
       "      <th>brand</th>\n",
       "      <th>notrepaired</th>\n",
       "      <th>monthcreated</th>\n",
       "      <th>postalcode</th>\n",
       "    </tr>\n",
       "  </thead>\n",
       "  <tbody>\n",
       "    <tr>\n",
       "      <td>334319</td>\n",
       "      <td>17500</td>\n",
       "      <td>convertible</td>\n",
       "      <td>2003</td>\n",
       "      <td>auto</td>\n",
       "      <td>306</td>\n",
       "      <td>sl</td>\n",
       "      <td>100000</td>\n",
       "      <td>3</td>\n",
       "      <td>petrol</td>\n",
       "      <td>mercedes_benz</td>\n",
       "      <td>no</td>\n",
       "      <td>3</td>\n",
       "      <td>61389</td>\n",
       "    </tr>\n",
       "    <tr>\n",
       "      <td>300559</td>\n",
       "      <td>0</td>\n",
       "      <td>sedan</td>\n",
       "      <td>2007</td>\n",
       "      <td>auto</td>\n",
       "      <td>306</td>\n",
       "      <td>3er</td>\n",
       "      <td>125000</td>\n",
       "      <td>10</td>\n",
       "      <td>petrol</td>\n",
       "      <td>bmw</td>\n",
       "      <td>no</td>\n",
       "      <td>4</td>\n",
       "      <td>47053</td>\n",
       "    </tr>\n",
       "    <tr>\n",
       "      <td>104557</td>\n",
       "      <td>4999</td>\n",
       "      <td>sedan</td>\n",
       "      <td>1995</td>\n",
       "      <td>auto</td>\n",
       "      <td>326</td>\n",
       "      <td>7er</td>\n",
       "      <td>150000</td>\n",
       "      <td>1</td>\n",
       "      <td>petrol</td>\n",
       "      <td>bmw</td>\n",
       "      <td>NaN</td>\n",
       "      <td>3</td>\n",
       "      <td>78056</td>\n",
       "    </tr>\n",
       "    <tr>\n",
       "      <td>96337</td>\n",
       "      <td>18900</td>\n",
       "      <td>NaN</td>\n",
       "      <td>2006</td>\n",
       "      <td>auto</td>\n",
       "      <td>330</td>\n",
       "      <td>mustang</td>\n",
       "      <td>125000</td>\n",
       "      <td>1</td>\n",
       "      <td>petrol</td>\n",
       "      <td>ford</td>\n",
       "      <td>no</td>\n",
       "      <td>3</td>\n",
       "      <td>47877</td>\n",
       "    </tr>\n",
       "    <tr>\n",
       "      <td>340569</td>\n",
       "      <td>9599</td>\n",
       "      <td>coupe</td>\n",
       "      <td>2003</td>\n",
       "      <td>auto</td>\n",
       "      <td>306</td>\n",
       "      <td>cl</td>\n",
       "      <td>150000</td>\n",
       "      <td>3</td>\n",
       "      <td>lpg</td>\n",
       "      <td>mercedes_benz</td>\n",
       "      <td>no</td>\n",
       "      <td>4</td>\n",
       "      <td>78564</td>\n",
       "    </tr>\n",
       "    <tr>\n",
       "      <td>341871</td>\n",
       "      <td>5999</td>\n",
       "      <td>suv</td>\n",
       "      <td>2004</td>\n",
       "      <td>auto</td>\n",
       "      <td>313</td>\n",
       "      <td>touareg</td>\n",
       "      <td>125000</td>\n",
       "      <td>9</td>\n",
       "      <td>gasoline</td>\n",
       "      <td>volkswagen</td>\n",
       "      <td>yes</td>\n",
       "      <td>3</td>\n",
       "      <td>58730</td>\n",
       "    </tr>\n",
       "    <tr>\n",
       "      <td>193672</td>\n",
       "      <td>10999</td>\n",
       "      <td>sedan</td>\n",
       "      <td>2007</td>\n",
       "      <td>auto</td>\n",
       "      <td>326</td>\n",
       "      <td>a8</td>\n",
       "      <td>150000</td>\n",
       "      <td>7</td>\n",
       "      <td>gasoline</td>\n",
       "      <td>audi</td>\n",
       "      <td>NaN</td>\n",
       "      <td>4</td>\n",
       "      <td>46562</td>\n",
       "    </tr>\n",
       "    <tr>\n",
       "      <td>330618</td>\n",
       "      <td>9999</td>\n",
       "      <td>sedan</td>\n",
       "      <td>2002</td>\n",
       "      <td>auto</td>\n",
       "      <td>354</td>\n",
       "      <td>c_klasse</td>\n",
       "      <td>150000</td>\n",
       "      <td>3</td>\n",
       "      <td>petrol</td>\n",
       "      <td>mercedes_benz</td>\n",
       "      <td>no</td>\n",
       "      <td>3</td>\n",
       "      <td>3044</td>\n",
       "    </tr>\n",
       "    <tr>\n",
       "      <td>261004</td>\n",
       "      <td>14950</td>\n",
       "      <td>sedan</td>\n",
       "      <td>2005</td>\n",
       "      <td>auto</td>\n",
       "      <td>445</td>\n",
       "      <td>7er</td>\n",
       "      <td>150000</td>\n",
       "      <td>4</td>\n",
       "      <td>petrol</td>\n",
       "      <td>bmw</td>\n",
       "      <td>no</td>\n",
       "      <td>3</td>\n",
       "      <td>95032</td>\n",
       "    </tr>\n",
       "    <tr>\n",
       "      <td>198117</td>\n",
       "      <td>19590</td>\n",
       "      <td>coupe</td>\n",
       "      <td>2006</td>\n",
       "      <td>auto</td>\n",
       "      <td>367</td>\n",
       "      <td>6er</td>\n",
       "      <td>150000</td>\n",
       "      <td>3</td>\n",
       "      <td>petrol</td>\n",
       "      <td>bmw</td>\n",
       "      <td>no</td>\n",
       "      <td>3</td>\n",
       "      <td>38440</td>\n",
       "    </tr>\n",
       "    <tr>\n",
       "      <td>121605</td>\n",
       "      <td>5495</td>\n",
       "      <td>wagon</td>\n",
       "      <td>2001</td>\n",
       "      <td>auto</td>\n",
       "      <td>340</td>\n",
       "      <td>other</td>\n",
       "      <td>150000</td>\n",
       "      <td>4</td>\n",
       "      <td>petrol</td>\n",
       "      <td>audi</td>\n",
       "      <td>no</td>\n",
       "      <td>3</td>\n",
       "      <td>85135</td>\n",
       "    </tr>\n",
       "    <tr>\n",
       "      <td>228339</td>\n",
       "      <td>9390</td>\n",
       "      <td>sedan</td>\n",
       "      <td>1992</td>\n",
       "      <td>auto</td>\n",
       "      <td>326</td>\n",
       "      <td>other</td>\n",
       "      <td>100000</td>\n",
       "      <td>6</td>\n",
       "      <td>petrol</td>\n",
       "      <td>mercedes_benz</td>\n",
       "      <td>no</td>\n",
       "      <td>3</td>\n",
       "      <td>90455</td>\n",
       "    </tr>\n",
       "    <tr>\n",
       "      <td>127558</td>\n",
       "      <td>7990</td>\n",
       "      <td>sedan</td>\n",
       "      <td>2000</td>\n",
       "      <td>auto</td>\n",
       "      <td>306</td>\n",
       "      <td>s_klasse</td>\n",
       "      <td>150000</td>\n",
       "      <td>9</td>\n",
       "      <td>lpg</td>\n",
       "      <td>mercedes_benz</td>\n",
       "      <td>no</td>\n",
       "      <td>3</td>\n",
       "      <td>70435</td>\n",
       "    </tr>\n",
       "    <tr>\n",
       "      <td>150903</td>\n",
       "      <td>8850</td>\n",
       "      <td>sedan</td>\n",
       "      <td>2005</td>\n",
       "      <td>auto</td>\n",
       "      <td>329</td>\n",
       "      <td>7er</td>\n",
       "      <td>150000</td>\n",
       "      <td>7</td>\n",
       "      <td>gasoline</td>\n",
       "      <td>bmw</td>\n",
       "      <td>NaN</td>\n",
       "      <td>4</td>\n",
       "      <td>89284</td>\n",
       "    </tr>\n",
       "    <tr>\n",
       "      <td>27219</td>\n",
       "      <td>9900</td>\n",
       "      <td>wagon</td>\n",
       "      <td>2005</td>\n",
       "      <td>auto</td>\n",
       "      <td>334</td>\n",
       "      <td>a6</td>\n",
       "      <td>150000</td>\n",
       "      <td>9</td>\n",
       "      <td>petrol</td>\n",
       "      <td>audi</td>\n",
       "      <td>no</td>\n",
       "      <td>3</td>\n",
       "      <td>74564</td>\n",
       "    </tr>\n",
       "  </tbody>\n",
       "</table>\n",
       "</div>"
      ],
      "text/plain": [
       "        price  vehicletype  registrationyear gearbox  power     model  \\\n",
       "334319  17500  convertible              2003    auto    306        sl   \n",
       "300559      0        sedan              2007    auto    306       3er   \n",
       "104557   4999        sedan              1995    auto    326       7er   \n",
       "96337   18900          NaN              2006    auto    330   mustang   \n",
       "340569   9599        coupe              2003    auto    306        cl   \n",
       "341871   5999          suv              2004    auto    313   touareg   \n",
       "193672  10999        sedan              2007    auto    326        a8   \n",
       "330618   9999        sedan              2002    auto    354  c_klasse   \n",
       "261004  14950        sedan              2005    auto    445       7er   \n",
       "198117  19590        coupe              2006    auto    367       6er   \n",
       "121605   5495        wagon              2001    auto    340     other   \n",
       "228339   9390        sedan              1992    auto    326     other   \n",
       "127558   7990        sedan              2000    auto    306  s_klasse   \n",
       "150903   8850        sedan              2005    auto    329       7er   \n",
       "27219    9900        wagon              2005    auto    334        a6   \n",
       "\n",
       "        kilometer  registrationmonth  fueltype          brand notrepaired  \\\n",
       "334319     100000                  3    petrol  mercedes_benz          no   \n",
       "300559     125000                 10    petrol            bmw          no   \n",
       "104557     150000                  1    petrol            bmw         NaN   \n",
       "96337      125000                  1    petrol           ford          no   \n",
       "340569     150000                  3       lpg  mercedes_benz          no   \n",
       "341871     125000                  9  gasoline     volkswagen         yes   \n",
       "193672     150000                  7  gasoline           audi         NaN   \n",
       "330618     150000                  3    petrol  mercedes_benz          no   \n",
       "261004     150000                  4    petrol            bmw          no   \n",
       "198117     150000                  3    petrol            bmw          no   \n",
       "121605     150000                  4    petrol           audi          no   \n",
       "228339     100000                  6    petrol  mercedes_benz          no   \n",
       "127558     150000                  9       lpg  mercedes_benz          no   \n",
       "150903     150000                  7  gasoline            bmw         NaN   \n",
       "27219      150000                  9    petrol           audi          no   \n",
       "\n",
       "        monthcreated  postalcode  \n",
       "334319             3       61389  \n",
       "300559             4       47053  \n",
       "104557             3       78056  \n",
       "96337              3       47877  \n",
       "340569             4       78564  \n",
       "341871             3       58730  \n",
       "193672             4       46562  \n",
       "330618             3        3044  \n",
       "261004             3       95032  \n",
       "198117             3       38440  \n",
       "121605             3       85135  \n",
       "228339             3       90455  \n",
       "127558             3       70435  \n",
       "150903             4       89284  \n",
       "27219              3       74564  "
      ]
     },
     "execution_count": 24,
     "metadata": {},
     "output_type": "execute_result"
    }
   ],
   "source": [
    "df[df['power'] > 300].sample(15)"
   ]
  },
  {
   "cell_type": "markdown",
   "metadata": {},
   "source": [
    "Похоже на правду, судя по машинам.\n",
    "\n",
    "Теперь посмотрим на колонку с ценами:"
   ]
  },
  {
   "cell_type": "code",
   "execution_count": 25,
   "metadata": {},
   "outputs": [
    {
     "data": {
      "text/plain": [
       "<matplotlib.axes._subplots.AxesSubplot at 0x7fa626f22790>"
      ]
     },
     "execution_count": 25,
     "metadata": {},
     "output_type": "execute_result"
    },
    {
     "data": {
      "image/png": "[encoded data removed]",
      "text/plain": [
       "<Figure size 432x288 with 1 Axes>"
      ]
     },
     "metadata": {
      "needs_background": "light"
     },
     "output_type": "display_data"
    }
   ],
   "source": [
    "df['price'].plot(kind='box')"
   ]
  },
  {
   "cell_type": "code",
   "execution_count": 26,
   "metadata": {},
   "outputs": [
    {
     "data": {
      "text/plain": [
       "count    295416.000000\n",
       "mean       4785.677289\n",
       "std        4610.185556\n",
       "min           0.000000\n",
       "25%        1299.000000\n",
       "50%        3057.500000\n",
       "75%        6950.000000\n",
       "max       20000.000000\n",
       "Name: price, dtype: float64"
      ]
     },
     "execution_count": 26,
     "metadata": {},
     "output_type": "execute_result"
    }
   ],
   "source": [
    "df['price'].describe()"
   ]
  },
  {
   "cell_type": "markdown",
   "metadata": {},
   "source": [
    "И тут тоже присутствуют выбросы в виде нулевых значений и довольно высоких. Думаю, цены ниже 500 евро вряд-ли можно считать релевантными, так как ниже будут совсем старые и \"убитые\" авто, а так как наш сервис: \"Не бит, не крашен\", то такая категория вряд ли подойдёт. Заодно отметём нулевые значения. С высокими значениями сложнее, так как авто могут быть премиальные и ценник у них соответствующий. Попробуем их оставить."
   ]
  },
  {
   "cell_type": "code",
   "execution_count": 27,
   "metadata": {},
   "outputs": [
    {
     "data": {
      "text/plain": [
       "<matplotlib.axes._subplots.AxesSubplot at 0x7fa626f71910>"
      ]
     },
     "execution_count": 27,
     "metadata": {},
     "output_type": "execute_result"
    },
    {
     "data": {
      "image/png": "[encoded data removed]",
      "text/plain": [
       "<Figure size 432x288 with 1 Axes>"
      ]
     },
     "metadata": {
      "needs_background": "light"
     },
     "output_type": "display_data"
    }
   ],
   "source": [
    "df.drop(df[df['price'] < 500].index, inplace=True)\n",
    "df['price'].plot(kind='hist')"
   ]
  },
  {
   "cell_type": "markdown",
   "metadata": {},
   "source": [
    "Вышло неплохое одностороннее распределение.\n",
    "\n",
    "Взглянем на колонку с пробегом:"
   ]
  },
  {
   "cell_type": "code",
   "execution_count": 28,
   "metadata": {},
   "outputs": [
    {
     "data": {
      "text/plain": [
       "<matplotlib.axes._subplots.AxesSubplot at 0x7fa627ce1510>"
      ]
     },
     "execution_count": 28,
     "metadata": {},
     "output_type": "execute_result"
    },
    {
     "data": {
      "image/png": "[encoded data removed]",
      "text/plain": [
       "<Figure size 432x288 with 1 Axes>"
      ]
     },
     "metadata": {
      "needs_background": "light"
     },
     "output_type": "display_data"
    }
   ],
   "source": [
    "df['kilometer'].plot(kind='hist')"
   ]
  },
  {
   "cell_type": "markdown",
   "metadata": {},
   "source": [
    "Впринципе, аномалий я тут не вижу, все значения в пределах нормы.\n",
    "\n",
    "У нас осталась ещё колонка с индексами. По сути, это тоже категории, так как индексом обозначаются регионы. Можно сократить их до двухзначных чисел, которые будут обозначать регион. Тогда моделям будет проще работать с такими данными."
   ]
  },
  {
   "cell_type": "code",
   "execution_count": 29,
   "metadata": {},
   "outputs": [],
   "source": [
    "df['postalcode'] = round(df['postalcode'] / 1000).astype('int')\n",
    "df = df.rename(columns={'postalcode':'region'})"
   ]
  },
  {
   "cell_type": "code",
   "execution_count": 30,
   "metadata": {},
   "outputs": [
    {
     "data": {
      "text/html": [
       "<div>\n",
       "<style scoped>\n",
       "    .dataframe tbody tr th:only-of-type {\n",
       "        vertical-align: middle;\n",
       "    }\n",
       "\n",
       "    .dataframe tbody tr th {\n",
       "        vertical-align: top;\n",
       "    }\n",
       "\n",
       "    .dataframe thead th {\n",
       "        text-align: right;\n",
       "    }\n",
       "</style>\n",
       "<table border=\"1\" class=\"dataframe\">\n",
       "  <thead>\n",
       "    <tr style=\"text-align: right;\">\n",
       "      <th></th>\n",
       "      <th>price</th>\n",
       "      <th>vehicletype</th>\n",
       "      <th>registrationyear</th>\n",
       "      <th>gearbox</th>\n",
       "      <th>power</th>\n",
       "      <th>model</th>\n",
       "      <th>kilometer</th>\n",
       "      <th>registrationmonth</th>\n",
       "      <th>fueltype</th>\n",
       "      <th>brand</th>\n",
       "      <th>notrepaired</th>\n",
       "      <th>monthcreated</th>\n",
       "      <th>region</th>\n",
       "    </tr>\n",
       "  </thead>\n",
       "  <tbody>\n",
       "    <tr>\n",
       "      <td>1</td>\n",
       "      <td>18300</td>\n",
       "      <td>coupe</td>\n",
       "      <td>2011</td>\n",
       "      <td>manual</td>\n",
       "      <td>190</td>\n",
       "      <td>NaN</td>\n",
       "      <td>125000</td>\n",
       "      <td>5</td>\n",
       "      <td>gasoline</td>\n",
       "      <td>audi</td>\n",
       "      <td>yes</td>\n",
       "      <td>3</td>\n",
       "      <td>67</td>\n",
       "    </tr>\n",
       "    <tr>\n",
       "      <td>2</td>\n",
       "      <td>9800</td>\n",
       "      <td>suv</td>\n",
       "      <td>2004</td>\n",
       "      <td>auto</td>\n",
       "      <td>163</td>\n",
       "      <td>grand</td>\n",
       "      <td>125000</td>\n",
       "      <td>8</td>\n",
       "      <td>gasoline</td>\n",
       "      <td>jeep</td>\n",
       "      <td>NaN</td>\n",
       "      <td>3</td>\n",
       "      <td>90</td>\n",
       "    </tr>\n",
       "    <tr>\n",
       "      <td>3</td>\n",
       "      <td>1500</td>\n",
       "      <td>small</td>\n",
       "      <td>2001</td>\n",
       "      <td>manual</td>\n",
       "      <td>75</td>\n",
       "      <td>golf</td>\n",
       "      <td>150000</td>\n",
       "      <td>6</td>\n",
       "      <td>petrol</td>\n",
       "      <td>volkswagen</td>\n",
       "      <td>no</td>\n",
       "      <td>3</td>\n",
       "      <td>91</td>\n",
       "    </tr>\n",
       "    <tr>\n",
       "      <td>4</td>\n",
       "      <td>3600</td>\n",
       "      <td>small</td>\n",
       "      <td>2008</td>\n",
       "      <td>manual</td>\n",
       "      <td>69</td>\n",
       "      <td>fabia</td>\n",
       "      <td>90000</td>\n",
       "      <td>7</td>\n",
       "      <td>gasoline</td>\n",
       "      <td>skoda</td>\n",
       "      <td>no</td>\n",
       "      <td>3</td>\n",
       "      <td>60</td>\n",
       "    </tr>\n",
       "    <tr>\n",
       "      <td>5</td>\n",
       "      <td>650</td>\n",
       "      <td>sedan</td>\n",
       "      <td>1995</td>\n",
       "      <td>manual</td>\n",
       "      <td>102</td>\n",
       "      <td>3er</td>\n",
       "      <td>150000</td>\n",
       "      <td>10</td>\n",
       "      <td>petrol</td>\n",
       "      <td>bmw</td>\n",
       "      <td>yes</td>\n",
       "      <td>4</td>\n",
       "      <td>34</td>\n",
       "    </tr>\n",
       "  </tbody>\n",
       "</table>\n",
       "</div>"
      ],
      "text/plain": [
       "   price vehicletype  registrationyear gearbox  power  model  kilometer  \\\n",
       "1  18300       coupe              2011  manual    190    NaN     125000   \n",
       "2   9800         suv              2004    auto    163  grand     125000   \n",
       "3   1500       small              2001  manual     75   golf     150000   \n",
       "4   3600       small              2008  manual     69  fabia      90000   \n",
       "5    650       sedan              1995  manual    102    3er     150000   \n",
       "\n",
       "   registrationmonth  fueltype       brand notrepaired  monthcreated  region  \n",
       "1                  5  gasoline        audi         yes             3      67  \n",
       "2                  8  gasoline        jeep         NaN             3      90  \n",
       "3                  6    petrol  volkswagen          no             3      91  \n",
       "4                  7  gasoline       skoda          no             3      60  \n",
       "5                 10    petrol         bmw         yes             4      34  "
      ]
     },
     "execution_count": 30,
     "metadata": {},
     "output_type": "execute_result"
    }
   ],
   "source": [
    "df.head()"
   ]
  },
  {
   "cell_type": "markdown",
   "metadata": {},
   "source": [
    "Получили около ста признаков вместо нескольких тысяч.\n",
    "\n",
    "Теперь посмотрим ещё раз на пропуски:"
   ]
  },
  {
   "cell_type": "code",
   "execution_count": 31,
   "metadata": {},
   "outputs": [
    {
     "data": {
      "text/plain": [
       "price                    0\n",
       "vehicletype           8259\n",
       "registrationyear         0\n",
       "gearbox               4161\n",
       "power                    0\n",
       "model                 8998\n",
       "kilometer                0\n",
       "registrationmonth        0\n",
       "fueltype             12306\n",
       "brand                    0\n",
       "notrepaired          35696\n",
       "monthcreated             0\n",
       "region                   0\n",
       "dtype: int64"
      ]
     },
     "execution_count": 31,
     "metadata": {},
     "output_type": "execute_result"
    }
   ],
   "source": [
    "df.isna().sum()"
   ]
  },
  {
   "cell_type": "markdown",
   "metadata": {},
   "source": [
    "Пойдём по более быстрому пути и удалим все строки с пропусками:"
   ]
  },
  {
   "cell_type": "code",
   "execution_count": 32,
   "metadata": {},
   "outputs": [
    {
     "data": {
      "text/plain": [
       "price                0\n",
       "vehicletype          0\n",
       "registrationyear     0\n",
       "gearbox              0\n",
       "power                0\n",
       "model                0\n",
       "kilometer            0\n",
       "registrationmonth    0\n",
       "fueltype             0\n",
       "brand                0\n",
       "notrepaired          0\n",
       "monthcreated         0\n",
       "region               0\n",
       "dtype: int64"
      ]
     },
     "execution_count": 32,
     "metadata": {},
     "output_type": "execute_result"
    }
   ],
   "source": [
    "df.dropna(inplace=True)\n",
    "df.isna().sum()"
   ]
  },
  {
   "cell_type": "code",
   "execution_count": 33,
   "metadata": {},
   "outputs": [
    {
     "name": "stdout",
     "output_type": "stream",
     "text": [
      "<class 'pandas.core.frame.DataFrame'>\n",
      "Int64Index: 221484 entries, 3 to 354367\n",
      "Data columns (total 13 columns):\n",
      "price                221484 non-null int64\n",
      "vehicletype          221484 non-null object\n",
      "registrationyear     221484 non-null int64\n",
      "gearbox              221484 non-null object\n",
      "power                221484 non-null int64\n",
      "model                221484 non-null object\n",
      "kilometer            221484 non-null int64\n",
      "registrationmonth    221484 non-null int64\n",
      "fueltype             221484 non-null object\n",
      "brand                221484 non-null object\n",
      "notrepaired          221484 non-null object\n",
      "monthcreated         221484 non-null int64\n",
      "region               221484 non-null int64\n",
      "dtypes: int64(7), object(6)\n",
      "memory usage: 23.7+ MB\n",
      "None\n",
      "(221484, 13)\n"
     ]
    }
   ],
   "source": [
    "print(df.info())\n",
    "print(df.shape)"
   ]
  },
  {
   "cell_type": "markdown",
   "metadata": {},
   "source": [
    "Понесли потери, но теперь пропусков в данных нет, от выбросов тоже избавились. Можно переходить к категоризации."
   ]
  },
  {
   "cell_type": "markdown",
   "metadata": {},
   "source": [
    "### Категоризация данных"
   ]
  },
  {
   "cell_type": "markdown",
   "metadata": {},
   "source": [
    "Для перевода категориальных признаков в числовые, воспользуемся библиотекой Ordinal Encoder, потому что, если мы воспользуемся методом ОНЕ, то наш датасет сильно \"расрастётся\" из-за призаков с большим количеством категорий.\n",
    "\n",
    "Произведём трансформацию:"
   ]
  },
  {
   "cell_type": "code",
   "execution_count": 34,
   "metadata": {},
   "outputs": [
    {
     "data": {
      "text/html": [
       "<div>\n",
       "<style scoped>\n",
       "    .dataframe tbody tr th:only-of-type {\n",
       "        vertical-align: middle;\n",
       "    }\n",
       "\n",
       "    .dataframe tbody tr th {\n",
       "        vertical-align: top;\n",
       "    }\n",
       "\n",
       "    .dataframe thead th {\n",
       "        text-align: right;\n",
       "    }\n",
       "</style>\n",
       "<table border=\"1\" class=\"dataframe\">\n",
       "  <thead>\n",
       "    <tr style=\"text-align: right;\">\n",
       "      <th></th>\n",
       "      <th>vehicletype</th>\n",
       "      <th>gearbox</th>\n",
       "      <th>model</th>\n",
       "      <th>fueltype</th>\n",
       "      <th>brand</th>\n",
       "      <th>notrepaired</th>\n",
       "    </tr>\n",
       "  </thead>\n",
       "  <tbody>\n",
       "    <tr>\n",
       "      <td>3</td>\n",
       "      <td>5.0</td>\n",
       "      <td>1.0</td>\n",
       "      <td>116.0</td>\n",
       "      <td>6.0</td>\n",
       "      <td>37.0</td>\n",
       "      <td>0.0</td>\n",
       "    </tr>\n",
       "    <tr>\n",
       "      <td>4</td>\n",
       "      <td>5.0</td>\n",
       "      <td>1.0</td>\n",
       "      <td>101.0</td>\n",
       "      <td>2.0</td>\n",
       "      <td>31.0</td>\n",
       "      <td>0.0</td>\n",
       "    </tr>\n",
       "    <tr>\n",
       "      <td>5</td>\n",
       "      <td>4.0</td>\n",
       "      <td>1.0</td>\n",
       "      <td>11.0</td>\n",
       "      <td>6.0</td>\n",
       "      <td>2.0</td>\n",
       "      <td>1.0</td>\n",
       "    </tr>\n",
       "    <tr>\n",
       "      <td>6</td>\n",
       "      <td>1.0</td>\n",
       "      <td>1.0</td>\n",
       "      <td>8.0</td>\n",
       "      <td>6.0</td>\n",
       "      <td>25.0</td>\n",
       "      <td>0.0</td>\n",
       "    </tr>\n",
       "    <tr>\n",
       "      <td>10</td>\n",
       "      <td>4.0</td>\n",
       "      <td>1.0</td>\n",
       "      <td>10.0</td>\n",
       "      <td>6.0</td>\n",
       "      <td>19.0</td>\n",
       "      <td>0.0</td>\n",
       "    </tr>\n",
       "  </tbody>\n",
       "</table>\n",
       "</div>"
      ],
      "text/plain": [
       "    vehicletype  gearbox  model  fueltype  brand  notrepaired\n",
       "3           5.0      1.0  116.0       6.0   37.0          0.0\n",
       "4           5.0      1.0  101.0       2.0   31.0          0.0\n",
       "5           4.0      1.0   11.0       6.0    2.0          1.0\n",
       "6           1.0      1.0    8.0       6.0   25.0          0.0\n",
       "10          4.0      1.0   10.0       6.0   19.0          0.0"
      ]
     },
     "execution_count": 34,
     "metadata": {},
     "output_type": "execute_result"
    }
   ],
   "source": [
    "cathegorial = ['vehicletype', 'gearbox', 'model',\n",
    "               'fueltype', 'brand', 'notrepaired']\n",
    "encoder = OrdinalEncoder()\n",
    "df_cathegorial = pd.DataFrame(\n",
    "    encoder.fit_transform(df[cathegorial]),\n",
    "    index=df[cathegorial].index,\n",
    "    columns=df[cathegorial].columns\n",
    ")\n",
    "df_cathegorial.head()"
   ]
  },
  {
   "cell_type": "markdown",
   "metadata": {},
   "source": [
    "Преобразовали категориальные данные в числовые. Теперь объединим их с основной таблицей:"
   ]
  },
  {
   "cell_type": "code",
   "execution_count": 35,
   "metadata": {
    "scrolled": false
   },
   "outputs": [
    {
     "data": {
      "text/html": [
       "<div>\n",
       "<style scoped>\n",
       "    .dataframe tbody tr th:only-of-type {\n",
       "        vertical-align: middle;\n",
       "    }\n",
       "\n",
       "    .dataframe tbody tr th {\n",
       "        vertical-align: top;\n",
       "    }\n",
       "\n",
       "    .dataframe thead th {\n",
       "        text-align: right;\n",
       "    }\n",
       "</style>\n",
       "<table border=\"1\" class=\"dataframe\">\n",
       "  <thead>\n",
       "    <tr style=\"text-align: right;\">\n",
       "      <th></th>\n",
       "      <th>price</th>\n",
       "      <th>vehicletype</th>\n",
       "      <th>registrationyear</th>\n",
       "      <th>gearbox</th>\n",
       "      <th>power</th>\n",
       "      <th>model</th>\n",
       "      <th>kilometer</th>\n",
       "      <th>registrationmonth</th>\n",
       "      <th>fueltype</th>\n",
       "      <th>brand</th>\n",
       "      <th>notrepaired</th>\n",
       "      <th>monthcreated</th>\n",
       "      <th>region</th>\n",
       "    </tr>\n",
       "  </thead>\n",
       "  <tbody>\n",
       "    <tr>\n",
       "      <td>3</td>\n",
       "      <td>1500</td>\n",
       "      <td>5.0</td>\n",
       "      <td>2001</td>\n",
       "      <td>1.0</td>\n",
       "      <td>75</td>\n",
       "      <td>116.0</td>\n",
       "      <td>150000</td>\n",
       "      <td>6</td>\n",
       "      <td>6.0</td>\n",
       "      <td>37.0</td>\n",
       "      <td>0.0</td>\n",
       "      <td>3</td>\n",
       "      <td>91</td>\n",
       "    </tr>\n",
       "    <tr>\n",
       "      <td>4</td>\n",
       "      <td>3600</td>\n",
       "      <td>5.0</td>\n",
       "      <td>2008</td>\n",
       "      <td>1.0</td>\n",
       "      <td>69</td>\n",
       "      <td>101.0</td>\n",
       "      <td>90000</td>\n",
       "      <td>7</td>\n",
       "      <td>2.0</td>\n",
       "      <td>31.0</td>\n",
       "      <td>0.0</td>\n",
       "      <td>3</td>\n",
       "      <td>60</td>\n",
       "    </tr>\n",
       "    <tr>\n",
       "      <td>5</td>\n",
       "      <td>650</td>\n",
       "      <td>4.0</td>\n",
       "      <td>1995</td>\n",
       "      <td>1.0</td>\n",
       "      <td>102</td>\n",
       "      <td>11.0</td>\n",
       "      <td>150000</td>\n",
       "      <td>10</td>\n",
       "      <td>6.0</td>\n",
       "      <td>2.0</td>\n",
       "      <td>1.0</td>\n",
       "      <td>4</td>\n",
       "      <td>34</td>\n",
       "    </tr>\n",
       "    <tr>\n",
       "      <td>6</td>\n",
       "      <td>2200</td>\n",
       "      <td>1.0</td>\n",
       "      <td>2004</td>\n",
       "      <td>1.0</td>\n",
       "      <td>109</td>\n",
       "      <td>8.0</td>\n",
       "      <td>150000</td>\n",
       "      <td>8</td>\n",
       "      <td>6.0</td>\n",
       "      <td>25.0</td>\n",
       "      <td>0.0</td>\n",
       "      <td>4</td>\n",
       "      <td>67</td>\n",
       "    </tr>\n",
       "    <tr>\n",
       "      <td>10</td>\n",
       "      <td>2000</td>\n",
       "      <td>4.0</td>\n",
       "      <td>2004</td>\n",
       "      <td>1.0</td>\n",
       "      <td>105</td>\n",
       "      <td>10.0</td>\n",
       "      <td>150000</td>\n",
       "      <td>12</td>\n",
       "      <td>6.0</td>\n",
       "      <td>19.0</td>\n",
       "      <td>0.0</td>\n",
       "      <td>3</td>\n",
       "      <td>96</td>\n",
       "    </tr>\n",
       "  </tbody>\n",
       "</table>\n",
       "</div>"
      ],
      "text/plain": [
       "    price  vehicletype  registrationyear  gearbox  power  model  kilometer  \\\n",
       "3    1500          5.0              2001      1.0     75  116.0     150000   \n",
       "4    3600          5.0              2008      1.0     69  101.0      90000   \n",
       "5     650          4.0              1995      1.0    102   11.0     150000   \n",
       "6    2200          1.0              2004      1.0    109    8.0     150000   \n",
       "10   2000          4.0              2004      1.0    105   10.0     150000   \n",
       "\n",
       "    registrationmonth  fueltype  brand  notrepaired  monthcreated  region  \n",
       "3                   6       6.0   37.0          0.0             3      91  \n",
       "4                   7       2.0   31.0          0.0             3      60  \n",
       "5                  10       6.0    2.0          1.0             4      34  \n",
       "6                   8       6.0   25.0          0.0             4      67  \n",
       "10                 12       6.0   19.0          0.0             3      96  "
      ]
     },
     "execution_count": 35,
     "metadata": {},
     "output_type": "execute_result"
    }
   ],
   "source": [
    "df[cathegorial] = df_cathegorial\n",
    "df.head()"
   ]
  },
  {
   "cell_type": "code",
   "execution_count": 36,
   "metadata": {},
   "outputs": [
    {
     "name": "stdout",
     "output_type": "stream",
     "text": [
      "<class 'pandas.core.frame.DataFrame'>\n",
      "Int64Index: 221484 entries, 3 to 354367\n",
      "Data columns (total 13 columns):\n",
      "price                221484 non-null int64\n",
      "vehicletype          221484 non-null float64\n",
      "registrationyear     221484 non-null int64\n",
      "gearbox              221484 non-null float64\n",
      "power                221484 non-null int64\n",
      "model                221484 non-null float64\n",
      "kilometer            221484 non-null int64\n",
      "registrationmonth    221484 non-null int64\n",
      "fueltype             221484 non-null float64\n",
      "brand                221484 non-null float64\n",
      "notrepaired          221484 non-null float64\n",
      "monthcreated         221484 non-null int64\n",
      "region               221484 non-null int64\n",
      "dtypes: float64(6), int64(7)\n",
      "memory usage: 23.7 MB\n"
     ]
    }
   ],
   "source": [
    "df.info()"
   ]
  },
  {
   "cell_type": "markdown",
   "metadata": {},
   "source": [
    "Готово. Теперь ещё раз проверим корреляцию между признаками:"
   ]
  },
  {
   "cell_type": "code",
   "execution_count": 37,
   "metadata": {},
   "outputs": [
    {
     "data": {
      "text/html": [
       "<div>\n",
       "<style scoped>\n",
       "    .dataframe tbody tr th:only-of-type {\n",
       "        vertical-align: middle;\n",
       "    }\n",
       "\n",
       "    .dataframe tbody tr th {\n",
       "        vertical-align: top;\n",
       "    }\n",
       "\n",
       "    .dataframe thead th {\n",
       "        text-align: right;\n",
       "    }\n",
       "</style>\n",
       "<table border=\"1\" class=\"dataframe\">\n",
       "  <thead>\n",
       "    <tr style=\"text-align: right;\">\n",
       "      <th></th>\n",
       "      <th>price</th>\n",
       "      <th>vehicletype</th>\n",
       "      <th>registrationyear</th>\n",
       "      <th>gearbox</th>\n",
       "      <th>power</th>\n",
       "      <th>model</th>\n",
       "      <th>kilometer</th>\n",
       "      <th>registrationmonth</th>\n",
       "      <th>fueltype</th>\n",
       "      <th>brand</th>\n",
       "      <th>notrepaired</th>\n",
       "      <th>monthcreated</th>\n",
       "      <th>region</th>\n",
       "    </tr>\n",
       "  </thead>\n",
       "  <tbody>\n",
       "    <tr>\n",
       "      <td>price</td>\n",
       "      <td>1.000000</td>\n",
       "      <td>-0.071321</td>\n",
       "      <td>0.630418</td>\n",
       "      <td>-0.247194</td>\n",
       "      <td>0.495303</td>\n",
       "      <td>-0.012962</td>\n",
       "      <td>-0.413505</td>\n",
       "      <td>0.028537</td>\n",
       "      <td>-0.270604</td>\n",
       "      <td>-0.104458</td>\n",
       "      <td>-0.185994</td>\n",
       "      <td>0.014771</td>\n",
       "      <td>0.052729</td>\n",
       "    </tr>\n",
       "    <tr>\n",
       "      <td>vehicletype</td>\n",
       "      <td>-0.071321</td>\n",
       "      <td>1.000000</td>\n",
       "      <td>0.051295</td>\n",
       "      <td>-0.044906</td>\n",
       "      <td>-0.014272</td>\n",
       "      <td>-0.157854</td>\n",
       "      <td>0.041106</td>\n",
       "      <td>0.020641</td>\n",
       "      <td>-0.057703</td>\n",
       "      <td>-0.057732</td>\n",
       "      <td>0.014188</td>\n",
       "      <td>-0.007738</td>\n",
       "      <td>-0.018332</td>\n",
       "    </tr>\n",
       "    <tr>\n",
       "      <td>registrationyear</td>\n",
       "      <td>0.630418</td>\n",
       "      <td>0.051295</td>\n",
       "      <td>1.000000</td>\n",
       "      <td>-0.038503</td>\n",
       "      <td>0.106206</td>\n",
       "      <td>0.009410</td>\n",
       "      <td>-0.455771</td>\n",
       "      <td>0.010807</td>\n",
       "      <td>-0.273318</td>\n",
       "      <td>-0.002597</td>\n",
       "      <td>-0.101242</td>\n",
       "      <td>-0.000111</td>\n",
       "      <td>0.024817</td>\n",
       "    </tr>\n",
       "    <tr>\n",
       "      <td>gearbox</td>\n",
       "      <td>-0.247194</td>\n",
       "      <td>-0.044906</td>\n",
       "      <td>-0.038503</td>\n",
       "      <td>1.000000</td>\n",
       "      <td>-0.438001</td>\n",
       "      <td>0.042126</td>\n",
       "      <td>-0.035632</td>\n",
       "      <td>-0.020448</td>\n",
       "      <td>0.140050</td>\n",
       "      <td>0.111356</td>\n",
       "      <td>0.006110</td>\n",
       "      <td>-0.002370</td>\n",
       "      <td>0.043576</td>\n",
       "    </tr>\n",
       "    <tr>\n",
       "      <td>power</td>\n",
       "      <td>0.495303</td>\n",
       "      <td>-0.014272</td>\n",
       "      <td>0.106206</td>\n",
       "      <td>-0.438001</td>\n",
       "      <td>1.000000</td>\n",
       "      <td>-0.126544</td>\n",
       "      <td>0.127532</td>\n",
       "      <td>0.022544</td>\n",
       "      <td>-0.189554</td>\n",
       "      <td>-0.326937</td>\n",
       "      <td>-0.020360</td>\n",
       "      <td>0.002638</td>\n",
       "      <td>0.043815</td>\n",
       "    </tr>\n",
       "    <tr>\n",
       "      <td>model</td>\n",
       "      <td>-0.012962</td>\n",
       "      <td>-0.157854</td>\n",
       "      <td>0.009410</td>\n",
       "      <td>0.042126</td>\n",
       "      <td>-0.126544</td>\n",
       "      <td>1.000000</td>\n",
       "      <td>-0.040531</td>\n",
       "      <td>-0.002922</td>\n",
       "      <td>-0.038983</td>\n",
       "      <td>0.475940</td>\n",
       "      <td>0.003199</td>\n",
       "      <td>-0.003550</td>\n",
       "      <td>-0.047023</td>\n",
       "    </tr>\n",
       "    <tr>\n",
       "      <td>kilometer</td>\n",
       "      <td>-0.413505</td>\n",
       "      <td>0.041106</td>\n",
       "      <td>-0.455771</td>\n",
       "      <td>-0.035632</td>\n",
       "      <td>0.127532</td>\n",
       "      <td>-0.040531</td>\n",
       "      <td>1.000000</td>\n",
       "      <td>-0.004675</td>\n",
       "      <td>-0.180565</td>\n",
       "      <td>-0.061597</td>\n",
       "      <td>0.083286</td>\n",
       "      <td>-0.001693</td>\n",
       "      <td>-0.009312</td>\n",
       "    </tr>\n",
       "    <tr>\n",
       "      <td>registrationmonth</td>\n",
       "      <td>0.028537</td>\n",
       "      <td>0.020641</td>\n",
       "      <td>0.010807</td>\n",
       "      <td>-0.020448</td>\n",
       "      <td>0.022544</td>\n",
       "      <td>-0.002922</td>\n",
       "      <td>-0.004675</td>\n",
       "      <td>1.000000</td>\n",
       "      <td>-0.045549</td>\n",
       "      <td>-0.005009</td>\n",
       "      <td>-0.024096</td>\n",
       "      <td>-0.004267</td>\n",
       "      <td>-0.000845</td>\n",
       "    </tr>\n",
       "    <tr>\n",
       "      <td>fueltype</td>\n",
       "      <td>-0.270604</td>\n",
       "      <td>-0.057703</td>\n",
       "      <td>-0.273318</td>\n",
       "      <td>0.140050</td>\n",
       "      <td>-0.189554</td>\n",
       "      <td>-0.038983</td>\n",
       "      <td>-0.180565</td>\n",
       "      <td>-0.045549</td>\n",
       "      <td>1.000000</td>\n",
       "      <td>0.032344</td>\n",
       "      <td>0.006954</td>\n",
       "      <td>0.006705</td>\n",
       "      <td>-0.005205</td>\n",
       "    </tr>\n",
       "    <tr>\n",
       "      <td>brand</td>\n",
       "      <td>-0.104458</td>\n",
       "      <td>-0.057732</td>\n",
       "      <td>-0.002597</td>\n",
       "      <td>0.111356</td>\n",
       "      <td>-0.326937</td>\n",
       "      <td>0.475940</td>\n",
       "      <td>-0.061597</td>\n",
       "      <td>-0.005009</td>\n",
       "      <td>0.032344</td>\n",
       "      <td>1.000000</td>\n",
       "      <td>-0.009172</td>\n",
       "      <td>0.000688</td>\n",
       "      <td>-0.058835</td>\n",
       "    </tr>\n",
       "    <tr>\n",
       "      <td>notrepaired</td>\n",
       "      <td>-0.185994</td>\n",
       "      <td>0.014188</td>\n",
       "      <td>-0.101242</td>\n",
       "      <td>0.006110</td>\n",
       "      <td>-0.020360</td>\n",
       "      <td>0.003199</td>\n",
       "      <td>0.083286</td>\n",
       "      <td>-0.024096</td>\n",
       "      <td>0.006954</td>\n",
       "      <td>-0.009172</td>\n",
       "      <td>1.000000</td>\n",
       "      <td>-0.004800</td>\n",
       "      <td>0.006588</td>\n",
       "    </tr>\n",
       "    <tr>\n",
       "      <td>monthcreated</td>\n",
       "      <td>0.014771</td>\n",
       "      <td>-0.007738</td>\n",
       "      <td>-0.000111</td>\n",
       "      <td>-0.002370</td>\n",
       "      <td>0.002638</td>\n",
       "      <td>-0.003550</td>\n",
       "      <td>-0.001693</td>\n",
       "      <td>-0.004267</td>\n",
       "      <td>0.006705</td>\n",
       "      <td>0.000688</td>\n",
       "      <td>-0.004800</td>\n",
       "      <td>1.000000</td>\n",
       "      <td>0.011040</td>\n",
       "    </tr>\n",
       "    <tr>\n",
       "      <td>region</td>\n",
       "      <td>0.052729</td>\n",
       "      <td>-0.018332</td>\n",
       "      <td>0.024817</td>\n",
       "      <td>0.043576</td>\n",
       "      <td>0.043815</td>\n",
       "      <td>-0.047023</td>\n",
       "      <td>-0.009312</td>\n",
       "      <td>-0.000845</td>\n",
       "      <td>-0.005205</td>\n",
       "      <td>-0.058835</td>\n",
       "      <td>0.006588</td>\n",
       "      <td>0.011040</td>\n",
       "      <td>1.000000</td>\n",
       "    </tr>\n",
       "  </tbody>\n",
       "</table>\n",
       "</div>"
      ],
      "text/plain": [
       "                      price  vehicletype  registrationyear   gearbox  \\\n",
       "price              1.000000    -0.071321          0.630418 -0.247194   \n",
       "vehicletype       -0.071321     1.000000          0.051295 -0.044906   \n",
       "registrationyear   0.630418     0.051295          1.000000 -0.038503   \n",
       "gearbox           -0.247194    -0.044906         -0.038503  1.000000   \n",
       "power              0.495303    -0.014272          0.106206 -0.438001   \n",
       "model             -0.012962    -0.157854          0.009410  0.042126   \n",
       "kilometer         -0.413505     0.041106         -0.455771 -0.035632   \n",
       "registrationmonth  0.028537     0.020641          0.010807 -0.020448   \n",
       "fueltype          -0.270604    -0.057703         -0.273318  0.140050   \n",
       "brand             -0.104458    -0.057732         -0.002597  0.111356   \n",
       "notrepaired       -0.185994     0.014188         -0.101242  0.006110   \n",
       "monthcreated       0.014771    -0.007738         -0.000111 -0.002370   \n",
       "region             0.052729    -0.018332          0.024817  0.043576   \n",
       "\n",
       "                      power     model  kilometer  registrationmonth  fueltype  \\\n",
       "price              0.495303 -0.012962  -0.413505           0.028537 -0.270604   \n",
       "vehicletype       -0.014272 -0.157854   0.041106           0.020641 -0.057703   \n",
       "registrationyear   0.106206  0.009410  -0.455771           0.010807 -0.273318   \n",
       "gearbox           -0.438001  0.042126  -0.035632          -0.020448  0.140050   \n",
       "power              1.000000 -0.126544   0.127532           0.022544 -0.189554   \n",
       "model             -0.126544  1.000000  -0.040531          -0.002922 -0.038983   \n",
       "kilometer          0.127532 -0.040531   1.000000          -0.004675 -0.180565   \n",
       "registrationmonth  0.022544 -0.002922  -0.004675           1.000000 -0.045549   \n",
       "fueltype          -0.189554 -0.038983  -0.180565          -0.045549  1.000000   \n",
       "brand             -0.326937  0.475940  -0.061597          -0.005009  0.032344   \n",
       "notrepaired       -0.020360  0.003199   0.083286          -0.024096  0.006954   \n",
       "monthcreated       0.002638 -0.003550  -0.001693          -0.004267  0.006705   \n",
       "region             0.043815 -0.047023  -0.009312          -0.000845 -0.005205   \n",
       "\n",
       "                      brand  notrepaired  monthcreated    region  \n",
       "price             -0.104458    -0.185994      0.014771  0.052729  \n",
       "vehicletype       -0.057732     0.014188     -0.007738 -0.018332  \n",
       "registrationyear  -0.002597    -0.101242     -0.000111  0.024817  \n",
       "gearbox            0.111356     0.006110     -0.002370  0.043576  \n",
       "power             -0.326937    -0.020360      0.002638  0.043815  \n",
       "model              0.475940     0.003199     -0.003550 -0.047023  \n",
       "kilometer         -0.061597     0.083286     -0.001693 -0.009312  \n",
       "registrationmonth -0.005009    -0.024096     -0.004267 -0.000845  \n",
       "fueltype           0.032344     0.006954      0.006705 -0.005205  \n",
       "brand              1.000000    -0.009172      0.000688 -0.058835  \n",
       "notrepaired       -0.009172     1.000000     -0.004800  0.006588  \n",
       "monthcreated       0.000688    -0.004800      1.000000  0.011040  \n",
       "region            -0.058835     0.006588      0.011040  1.000000  "
      ]
     },
     "execution_count": 37,
     "metadata": {},
     "output_type": "execute_result"
    }
   ],
   "source": [
    "df.corr()"
   ]
  },
  {
   "cell_type": "markdown",
   "metadata": {},
   "source": [
    "В итоге сильно коррелирующих признаков не появилось. Есть некоторая корреляция цены с годом выпуска(что весьма логично), мощностью и ценой(что тоже логично) и брендом с моделью(не слишком высокая).\n",
    "\n",
    "Теперь можно переходить к работе с моделями."
   ]
  },
  {
   "cell_type": "markdown",
   "metadata": {},
   "source": [
    "## Обучение моделей"
   ]
  },
  {
   "cell_type": "markdown",
   "metadata": {},
   "source": [
    "Сперва разделим данные на обучающую валидационную и тестовую выборки в соотношении 60/20/20:"
   ]
  },
  {
   "cell_type": "code",
   "execution_count": 38,
   "metadata": {},
   "outputs": [
    {
     "name": "stdout",
     "output_type": "stream",
     "text": [
      "features|(132890, 12)|(44297, 12)|(44297, 12)\n",
      "targets |  (132890,) |  (44297,) |  (44297,)\n",
      "ratio   |      60   |      20   |      20\n"
     ]
    }
   ],
   "source": [
    "features = df.drop(['price'], axis=1)\n",
    "target = df['price']\n",
    "features_train, features, target_train, target = train_test_split(features, target, test_size=.4)\n",
    "features_valid, features_test, target_valid, target_test = train_test_split(features, target, test_size=.5)\n",
    "\n",
    "print('features', features_train.shape, features_valid.shape, features_test.shape, sep='|')\n",
    "print('targets', target_train.shape, target_valid.shape, target_test.shape, sep=' |  ')\n",
    "print('ratio', round(len(features_train) / len(df) * 100),\n",
    "      round(len(features_valid) / len(df) * 100),\n",
    "      round(len(features_test) / len(df) * 100), sep='   |      ')"
   ]
  },
  {
   "cell_type": "markdown",
   "metadata": {},
   "source": [
    "Разделение прошло успешно.\n",
    "\n",
    "Обучим разные модели. Возьмём модели: Решающее дерево, Случайный лес и модель градиентного бустинга LightGBM. Оценивать модели будем по метрике RMSE. У каждой модели будим измерять время обучения.\n",
    "\n",
    "Создадим функцию, которая будет брать модель, обучать и сохранять лучшие результаты:"
   ]
  },
  {
   "cell_type": "code",
   "execution_count": 39,
   "metadata": {},
   "outputs": [],
   "source": [
    "def fit_and_check(model, features_train, target_train,\n",
    "                  features_valid, target_valid):\n",
    "    global best_model\n",
    "    global best_result\n",
    "    clf = model\n",
    "    clf.fit(features_train, target_train)\n",
    "    predictions = clf.predict(features_valid)\n",
    "    result = (mean_squared_error(target_valid, predictions)) ** .5\n",
    "    if result < best_result:\n",
    "        best_result = round(result, 2)\n",
    "        best_model = model"
   ]
  },
  {
   "cell_type": "markdown",
   "metadata": {},
   "source": [
    "Произведём обучение моделей и подбор лучших параметров, и сохраним результаты.\n",
    "\n",
    "Сначала модель Решающее дерево:"
   ]
  },
  {
   "cell_type": "code",
   "execution_count": 40,
   "metadata": {},
   "outputs": [
    {
     "name": "stdout",
     "output_type": "stream",
     "text": [
      "DecisionTreeRegressor(criterion='mse', max_depth=13, max_features=None,\n",
      "                      max_leaf_nodes=None, min_impurity_decrease=0.0,\n",
      "                      min_impurity_split=None, min_samples_leaf=1,\n",
      "                      min_samples_split=2, min_weight_fraction_leaf=0.0,\n",
      "                      presort=False, random_state=555, splitter='best')\n"
     ]
    }
   ],
   "source": [
    "best_model = 0\n",
    "best_result = 10000\n",
    "t_start = time.time()\n",
    "\n",
    "for depth in range(1, 15):\n",
    "    fit_and_check(\n",
    "        DecisionTreeRegressor(max_depth=depth, random_state=555),\n",
    "        features_train, target_train, features_valid, target_valid)\n",
    "    \n",
    "t_stop = time.time()\n",
    "execution_time = round(t_stop - t_start, 2)\n",
    "\n",
    "best_tree_model, best_tree_result, best_tree_time = best_model, best_result, execution_time\n",
    "\n",
    "print(best_tree_model)"
   ]
  },
  {
   "cell_type": "markdown",
   "metadata": {},
   "source": [
    "Далее модель Случайный лес:"
   ]
  },
  {
   "cell_type": "code",
   "execution_count": 41,
   "metadata": {},
   "outputs": [
    {
     "name": "stdout",
     "output_type": "stream",
     "text": [
      "RandomForestRegressor(bootstrap=True, criterion='mse', max_depth=14,\n",
      "                      max_features='auto', max_leaf_nodes=None,\n",
      "                      min_impurity_decrease=0.0, min_impurity_split=None,\n",
      "                      min_samples_leaf=1, min_samples_split=2,\n",
      "                      min_weight_fraction_leaf=0.0, n_estimators=40,\n",
      "                      n_jobs=None, oob_score=False, random_state=555, verbose=0,\n",
      "                      warm_start=False)\n"
     ]
    }
   ],
   "source": [
    "best_model = 0\n",
    "best_result = 10000\n",
    "t_start = time.time()\n",
    "\n",
    "for est in range(10, 50, 10):\n",
    "    for depth in range(1, 15):\n",
    "        fit_and_check(\n",
    "            RandomForestRegressor(n_estimators=est, max_depth=depth, random_state=555),\n",
    "            features_train, target_train, features_valid, target_valid)\n",
    "        \n",
    "t_stop = time.time()\n",
    "execution_time = round(t_stop - t_start, 2)\n",
    "\n",
    "best_forest_model, best_forest_result, best_forest_time = best_model, best_result, execution_time\n",
    "\n",
    "print(best_forest_model)"
   ]
  },
  {
   "cell_type": "markdown",
   "metadata": {},
   "source": [
    "И модель LightGBM:"
   ]
  },
  {
   "cell_type": "code",
   "execution_count": 42,
   "metadata": {
    "scrolled": true
   },
   "outputs": [
    {
     "name": "stdout",
     "output_type": "stream",
     "text": [
      "[1]\tvalid_0's rmse: 4351.91\n",
      "[2]\tvalid_0's rmse: 4043.2\n",
      "[3]\tvalid_0's rmse: 3772.68\n",
      "[4]\tvalid_0's rmse: 3532.96\n",
      "[5]\tvalid_0's rmse: 3325.56\n",
      "[6]\tvalid_0's rmse: 3141.91\n",
      "[7]\tvalid_0's rmse: 2982.37\n",
      "[8]\tvalid_0's rmse: 2843.31\n",
      "[9]\tvalid_0's rmse: 2719.97\n",
      "[10]\tvalid_0's rmse: 2613.66\n",
      "[11]\tvalid_0's rmse: 2517.86\n",
      "[12]\tvalid_0's rmse: 2433.15\n",
      "[13]\tvalid_0's rmse: 2362.56\n",
      "[14]\tvalid_0's rmse: 2294.87\n",
      "[15]\tvalid_0's rmse: 2239.68\n",
      "[16]\tvalid_0's rmse: 2190.22\n",
      "[17]\tvalid_0's rmse: 2145.67\n",
      "[18]\tvalid_0's rmse: 2106.06\n",
      "[19]\tvalid_0's rmse: 2070.88\n",
      "[20]\tvalid_0's rmse: 2039.85\n",
      "[21]\tvalid_0's rmse: 2012.66\n",
      "[22]\tvalid_0's rmse: 1985.8\n",
      "[23]\tvalid_0's rmse: 1963.6\n",
      "[24]\tvalid_0's rmse: 1936.19\n",
      "[25]\tvalid_0's rmse: 1914.41\n",
      "[26]\tvalid_0's rmse: 1895.5\n",
      "[27]\tvalid_0's rmse: 1875.09\n",
      "[28]\tvalid_0's rmse: 1858.49\n",
      "[29]\tvalid_0's rmse: 1844.43\n",
      "[30]\tvalid_0's rmse: 1831.76\n",
      "[31]\tvalid_0's rmse: 1821.39\n",
      "[32]\tvalid_0's rmse: 1807.38\n",
      "[33]\tvalid_0's rmse: 1795.47\n",
      "[34]\tvalid_0's rmse: 1786.98\n",
      "[35]\tvalid_0's rmse: 1777.49\n",
      "[36]\tvalid_0's rmse: 1769.74\n",
      "[37]\tvalid_0's rmse: 1762.26\n",
      "[38]\tvalid_0's rmse: 1756.07\n",
      "[39]\tvalid_0's rmse: 1749.8\n",
      "[40]\tvalid_0's rmse: 1743.42\n",
      "[41]\tvalid_0's rmse: 1737.12\n",
      "[42]\tvalid_0's rmse: 1730.09\n",
      "[43]\tvalid_0's rmse: 1723.71\n",
      "[44]\tvalid_0's rmse: 1720.34\n",
      "[45]\tvalid_0's rmse: 1716.12\n",
      "[46]\tvalid_0's rmse: 1710.74\n",
      "[47]\tvalid_0's rmse: 1707.76\n",
      "[48]\tvalid_0's rmse: 1705.61\n",
      "[49]\tvalid_0's rmse: 1702.61\n",
      "[50]\tvalid_0's rmse: 1698.35\n",
      "[51]\tvalid_0's rmse: 1696.52\n",
      "[52]\tvalid_0's rmse: 1694.76\n",
      "[53]\tvalid_0's rmse: 1691.73\n",
      "[54]\tvalid_0's rmse: 1686.25\n",
      "[55]\tvalid_0's rmse: 1683.9\n",
      "[56]\tvalid_0's rmse: 1681.81\n",
      "[57]\tvalid_0's rmse: 1679.61\n",
      "[58]\tvalid_0's rmse: 1674.86\n",
      "[59]\tvalid_0's rmse: 1673.17\n",
      "[60]\tvalid_0's rmse: 1670.26\n",
      "[61]\tvalid_0's rmse: 1668.13\n",
      "[62]\tvalid_0's rmse: 1665.17\n",
      "[63]\tvalid_0's rmse: 1663.58\n",
      "[64]\tvalid_0's rmse: 1660.13\n",
      "[65]\tvalid_0's rmse: 1658.53\n",
      "[66]\tvalid_0's rmse: 1655.76\n",
      "[67]\tvalid_0's rmse: 1652.79\n",
      "[68]\tvalid_0's rmse: 1650.78\n",
      "[69]\tvalid_0's rmse: 1648.82\n",
      "[70]\tvalid_0's rmse: 1647.78\n",
      "[71]\tvalid_0's rmse: 1646.17\n",
      "[72]\tvalid_0's rmse: 1645.11\n",
      "[73]\tvalid_0's rmse: 1642.93\n",
      "[74]\tvalid_0's rmse: 1640.19\n",
      "[75]\tvalid_0's rmse: 1639.19\n",
      "[76]\tvalid_0's rmse: 1637.79\n",
      "[77]\tvalid_0's rmse: 1636.2\n",
      "[78]\tvalid_0's rmse: 1634.31\n",
      "[79]\tvalid_0's rmse: 1632.39\n",
      "[80]\tvalid_0's rmse: 1630.75\n",
      "[81]\tvalid_0's rmse: 1629.97\n",
      "[82]\tvalid_0's rmse: 1628.19\n",
      "[83]\tvalid_0's rmse: 1627.21\n",
      "[84]\tvalid_0's rmse: 1626.39\n",
      "[85]\tvalid_0's rmse: 1625.97\n",
      "[86]\tvalid_0's rmse: 1624.18\n",
      "[87]\tvalid_0's rmse: 1622.74\n",
      "[88]\tvalid_0's rmse: 1621.56\n",
      "[89]\tvalid_0's rmse: 1620.25\n",
      "[90]\tvalid_0's rmse: 1619.19\n",
      "[91]\tvalid_0's rmse: 1618.23\n",
      "[92]\tvalid_0's rmse: 1616.3\n",
      "[93]\tvalid_0's rmse: 1614.6\n",
      "[94]\tvalid_0's rmse: 1612.93\n",
      "[95]\tvalid_0's rmse: 1612.66\n",
      "[96]\tvalid_0's rmse: 1612.36\n",
      "[97]\tvalid_0's rmse: 1611.46\n",
      "[98]\tvalid_0's rmse: 1610.47\n",
      "[99]\tvalid_0's rmse: 1609.42\n",
      "[100]\tvalid_0's rmse: 1608.95\n",
      "[101]\tvalid_0's rmse: 1607.31\n",
      "[102]\tvalid_0's rmse: 1606.31\n",
      "[103]\tvalid_0's rmse: 1605.4\n",
      "[104]\tvalid_0's rmse: 1605.08\n",
      "[105]\tvalid_0's rmse: 1604.28\n",
      "[106]\tvalid_0's rmse: 1603.28\n",
      "[107]\tvalid_0's rmse: 1602.26\n",
      "[108]\tvalid_0's rmse: 1600.53\n",
      "[109]\tvalid_0's rmse: 1599.49\n",
      "[110]\tvalid_0's rmse: 1598.69\n",
      "[111]\tvalid_0's rmse: 1597.58\n",
      "[112]\tvalid_0's rmse: 1596.74\n",
      "[113]\tvalid_0's rmse: 1596.24\n",
      "[114]\tvalid_0's rmse: 1595.04\n",
      "[115]\tvalid_0's rmse: 1594.63\n",
      "[116]\tvalid_0's rmse: 1593.66\n",
      "[117]\tvalid_0's rmse: 1592.57\n",
      "[118]\tvalid_0's rmse: 1592.29\n",
      "[119]\tvalid_0's rmse: 1591.34\n",
      "[120]\tvalid_0's rmse: 1590.37\n",
      "[121]\tvalid_0's rmse: 1589.92\n",
      "[122]\tvalid_0's rmse: 1588.35\n",
      "[123]\tvalid_0's rmse: 1587.45\n",
      "[124]\tvalid_0's rmse: 1586.55\n",
      "[125]\tvalid_0's rmse: 1586.26\n",
      "[126]\tvalid_0's rmse: 1585.54\n",
      "[127]\tvalid_0's rmse: 1584.88\n",
      "[128]\tvalid_0's rmse: 1583.57\n",
      "[129]\tvalid_0's rmse: 1582.65\n",
      "[130]\tvalid_0's rmse: 1582.11\n",
      "[131]\tvalid_0's rmse: 1581.78\n",
      "[132]\tvalid_0's rmse: 1581.15\n",
      "[133]\tvalid_0's rmse: 1580.28\n",
      "[134]\tvalid_0's rmse: 1579.52\n",
      "[135]\tvalid_0's rmse: 1579.38\n",
      "[136]\tvalid_0's rmse: 1578.75\n",
      "[137]\tvalid_0's rmse: 1578.02\n",
      "[138]\tvalid_0's rmse: 1577.43\n",
      "[139]\tvalid_0's rmse: 1577.19\n",
      "[140]\tvalid_0's rmse: 1576.84\n",
      "[141]\tvalid_0's rmse: 1575.87\n",
      "[142]\tvalid_0's rmse: 1575.08\n",
      "[143]\tvalid_0's rmse: 1574.52\n",
      "[144]\tvalid_0's rmse: 1573.86\n",
      "[145]\tvalid_0's rmse: 1572.63\n",
      "[146]\tvalid_0's rmse: 1572.39\n",
      "[147]\tvalid_0's rmse: 1571.62\n",
      "[148]\tvalid_0's rmse: 1570.64\n",
      "[149]\tvalid_0's rmse: 1569.64\n",
      "[150]\tvalid_0's rmse: 1569.16\n",
      "[151]\tvalid_0's rmse: 1568.32\n",
      "[152]\tvalid_0's rmse: 1567.66\n",
      "[153]\tvalid_0's rmse: 1567\n",
      "[154]\tvalid_0's rmse: 1566.26\n",
      "[155]\tvalid_0's rmse: 1565.99\n",
      "[156]\tvalid_0's rmse: 1565.12\n",
      "[157]\tvalid_0's rmse: 1564.54\n",
      "[158]\tvalid_0's rmse: 1564.13\n",
      "[159]\tvalid_0's rmse: 1563.66\n",
      "[160]\tvalid_0's rmse: 1563.52\n",
      "[161]\tvalid_0's rmse: 1562.96\n",
      "[162]\tvalid_0's rmse: 1562.71\n",
      "[163]\tvalid_0's rmse: 1561.85\n",
      "[164]\tvalid_0's rmse: 1561.85\n",
      "[165]\tvalid_0's rmse: 1561.02\n",
      "[166]\tvalid_0's rmse: 1560.77\n",
      "[167]\tvalid_0's rmse: 1560.66\n",
      "[168]\tvalid_0's rmse: 1560.55\n",
      "[169]\tvalid_0's rmse: 1560.05\n",
      "[170]\tvalid_0's rmse: 1559.32\n",
      "[171]\tvalid_0's rmse: 1559.14\n",
      "[172]\tvalid_0's rmse: 1558.87\n",
      "[173]\tvalid_0's rmse: 1558.37\n",
      "[174]\tvalid_0's rmse: 1557.53\n",
      "[175]\tvalid_0's rmse: 1556.79\n",
      "[176]\tvalid_0's rmse: 1556.38\n",
      "[177]\tvalid_0's rmse: 1555.81\n",
      "[178]\tvalid_0's rmse: 1555.47\n",
      "[179]\tvalid_0's rmse: 1555.19\n",
      "[180]\tvalid_0's rmse: 1555.01\n",
      "[181]\tvalid_0's rmse: 1554.88\n",
      "[182]\tvalid_0's rmse: 1554.46\n",
      "[183]\tvalid_0's rmse: 1554.19\n",
      "[184]\tvalid_0's rmse: 1553.98\n",
      "[185]\tvalid_0's rmse: 1553.83\n",
      "[186]\tvalid_0's rmse: 1553.73\n",
      "[187]\tvalid_0's rmse: 1553.47\n",
      "[188]\tvalid_0's rmse: 1553.41\n",
      "[189]\tvalid_0's rmse: 1552.88\n",
      "[190]\tvalid_0's rmse: 1552.43\n",
      "[191]\tvalid_0's rmse: 1552.01\n",
      "[192]\tvalid_0's rmse: 1551.77\n",
      "[193]\tvalid_0's rmse: 1551.16\n",
      "[194]\tvalid_0's rmse: 1550.97\n",
      "[195]\tvalid_0's rmse: 1550.41\n",
      "[196]\tvalid_0's rmse: 1550.32\n",
      "[197]\tvalid_0's rmse: 1549.73\n",
      "[198]\tvalid_0's rmse: 1549.27\n",
      "[199]\tvalid_0's rmse: 1548.91\n",
      "[200]\tvalid_0's rmse: 1548.82\n"
     ]
    }
   ],
   "source": [
    "train_data = lgb.Dataset(features_train, target_train)\n",
    "validation_data = lgb.Dataset(features_valid, target_valid)\n",
    "params_lgb = {'objective': 'regression', 'metric': 'root_mean_squared_error'}\n",
    "\n",
    "t_start = time.time()\n",
    "lgb_tree_model = lgb.train(params_lgb, train_data, num_boost_round=200, valid_sets=(validation_data))\n",
    "lgb_tree_predictions = lgb_tree_model.predict(features_valid)\n",
    "t_stop = time.time()\n",
    "\n",
    "lgb_tree_result = round((mean_squared_error(target_valid, lgb_tree_predictions) ** .5), 2)\n",
    "lgb_tree_time = round(t_stop - t_start, 2)"
   ]
  },
  {
   "cell_type": "markdown",
   "metadata": {},
   "source": [
    "Посмотрим на результаты обучения:"
   ]
  },
  {
   "cell_type": "code",
   "execution_count": 43,
   "metadata": {},
   "outputs": [],
   "source": [
    "train_model_results = {'RMSE score': [best_tree_result, best_forest_result, lgb_tree_result],\n",
    "                 'Prediction time(sec)': [best_tree_time, best_forest_time, lgb_tree_time]}"
   ]
  },
  {
   "cell_type": "code",
   "execution_count": 44,
   "metadata": {},
   "outputs": [
    {
     "data": {
      "text/html": [
       "<div>\n",
       "<style scoped>\n",
       "    .dataframe tbody tr th:only-of-type {\n",
       "        vertical-align: middle;\n",
       "    }\n",
       "\n",
       "    .dataframe tbody tr th {\n",
       "        vertical-align: top;\n",
       "    }\n",
       "\n",
       "    .dataframe thead th {\n",
       "        text-align: right;\n",
       "    }\n",
       "</style>\n",
       "<table border=\"1\" class=\"dataframe\">\n",
       "  <thead>\n",
       "    <tr style=\"text-align: right;\">\n",
       "      <th></th>\n",
       "      <th>RMSE score</th>\n",
       "      <th>Prediction time(sec)</th>\n",
       "    </tr>\n",
       "  </thead>\n",
       "  <tbody>\n",
       "    <tr>\n",
       "      <td>Model Tree:</td>\n",
       "      <td>1849.18</td>\n",
       "      <td>5.42</td>\n",
       "    </tr>\n",
       "    <tr>\n",
       "      <td>Model Forest:</td>\n",
       "      <td>1594.00</td>\n",
       "      <td>331.15</td>\n",
       "    </tr>\n",
       "    <tr>\n",
       "      <td>Model LightGBM:</td>\n",
       "      <td>1548.82</td>\n",
       "      <td>551.84</td>\n",
       "    </tr>\n",
       "  </tbody>\n",
       "</table>\n",
       "</div>"
      ],
      "text/plain": [
       "                 RMSE score  Prediction time(sec)\n",
       "Model Tree:         1849.18                  5.42\n",
       "Model Forest:       1594.00                331.15\n",
       "Model LightGBM:     1548.82                551.84"
      ]
     },
     "execution_count": 44,
     "metadata": {},
     "output_type": "execute_result"
    }
   ],
   "source": [
    "train_results = pd.DataFrame(data=train_model_results, index=('Model Tree:', 'Model Forest:', 'Model LightGBM:'))\n",
    "train_results"
   ]
  },
  {
   "cell_type": "markdown",
   "metadata": {},
   "source": [
    "Самая лучшая модель по результатам обучения получилась модель LightGBM. У остальных моделей результаты хуже. Модель Случайный лес при этом близка по результатам, но намного дольше всех обучалась."
   ]
  },
  {
   "cell_type": "markdown",
   "metadata": {},
   "source": [
    "## Анализ моделей"
   ]
  },
  {
   "cell_type": "markdown",
   "metadata": {},
   "source": [
    "Теперь проверим лучшие получившиеся модели на тестовой выборке и сравним их результаты и их время предсказаний.\n",
    "\n",
    "Создадим функцию для теста, подсчёта результатов и времени предсказаний:"
   ]
  },
  {
   "cell_type": "code",
   "execution_count": 45,
   "metadata": {},
   "outputs": [],
   "source": [
    "def test_model(model, features_test, target_test):\n",
    "    t_start = time.time()\n",
    "    predictions = model.predict(features_test)\n",
    "    t_stop = time.time()\n",
    "    execution_time = round(t_stop - t_start, 2)\n",
    "    result = round((mean_squared_error(target_test, predictions) ** .5), 2)\n",
    "    return result, execution_time"
   ]
  },
  {
   "cell_type": "markdown",
   "metadata": {},
   "source": [
    "Проведём тест:"
   ]
  },
  {
   "cell_type": "code",
   "execution_count": 46,
   "metadata": {},
   "outputs": [],
   "source": [
    "test_tree_result, test_tree_time = test_model(best_tree_model, features_test, target_test)\n",
    "test_forest_result, test_forest_time = test_model(best_forest_model, features_test, target_test)\n",
    "test_lgb_result, test_lgb_time = test_model(lgb_tree_model, features_test, target_test)"
   ]
  },
  {
   "cell_type": "markdown",
   "metadata": {},
   "source": [
    "Посмотрим на результаты:"
   ]
  },
  {
   "cell_type": "code",
   "execution_count": 47,
   "metadata": {},
   "outputs": [],
   "source": [
    "test_model_results = {'RMSE score': [test_tree_result, test_forest_result, test_lgb_result],\n",
    "                      'Predictions time(sec)': [test_tree_time, test_forest_time, test_lgb_time]}"
   ]
  },
  {
   "cell_type": "code",
   "execution_count": 48,
   "metadata": {},
   "outputs": [
    {
     "data": {
      "text/html": [
       "<div>\n",
       "<style scoped>\n",
       "    .dataframe tbody tr th:only-of-type {\n",
       "        vertical-align: middle;\n",
       "    }\n",
       "\n",
       "    .dataframe tbody tr th {\n",
       "        vertical-align: top;\n",
       "    }\n",
       "\n",
       "    .dataframe thead th {\n",
       "        text-align: right;\n",
       "    }\n",
       "</style>\n",
       "<table border=\"1\" class=\"dataframe\">\n",
       "  <thead>\n",
       "    <tr style=\"text-align: right;\">\n",
       "      <th></th>\n",
       "      <th>RMSE score</th>\n",
       "      <th>Predictions time(sec)</th>\n",
       "    </tr>\n",
       "  </thead>\n",
       "  <tbody>\n",
       "    <tr>\n",
       "      <td>Model Tree:</td>\n",
       "      <td>1878.32</td>\n",
       "      <td>0.01</td>\n",
       "    </tr>\n",
       "    <tr>\n",
       "      <td>Model Forest:</td>\n",
       "      <td>1612.44</td>\n",
       "      <td>0.39</td>\n",
       "    </tr>\n",
       "    <tr>\n",
       "      <td>Model LightGBM:</td>\n",
       "      <td>1562.71</td>\n",
       "      <td>1.01</td>\n",
       "    </tr>\n",
       "  </tbody>\n",
       "</table>\n",
       "</div>"
      ],
      "text/plain": [
       "                 RMSE score  Predictions time(sec)\n",
       "Model Tree:         1878.32                   0.01\n",
       "Model Forest:       1612.44                   0.39\n",
       "Model LightGBM:     1562.71                   1.01"
      ]
     },
     "execution_count": 48,
     "metadata": {},
     "output_type": "execute_result"
    }
   ],
   "source": [
    "test_results = pd.DataFrame(data=test_model_results, index=('Model Tree:', 'Model Forest:', 'Model LightGBM:'))\n",
    "test_results"
   ]
  },
  {
   "cell_type": "markdown",
   "metadata": {},
   "source": [
    "По качеству предсказаний, побеждает снова модель LightGBM. Однако в этот раз она проиграла остальным моделям в скорости предсказаний. При этом модель Случайный лес практически сравнялась с ней по результатам и значительно обогнала по скорости предсказания.\n",
    "\n",
    "Наконец, посмотрим какие признаки были наиболее важными при построении модели. Возьмём модель Случайный лес так как она была хороша по результатам и скорости предсказания."
   ]
  },
  {
   "cell_type": "code",
   "execution_count": 49,
   "metadata": {},
   "outputs": [
    {
     "data": {
      "text/plain": [
       "<matplotlib.axes._subplots.AxesSubplot at 0x7fa629cdff50>"
      ]
     },
     "execution_count": 49,
     "metadata": {},
     "output_type": "execute_result"
    },
    {
     "data": {
      "image/png": "[encoded data removed]",
      "text/plain": [
       "<Figure size 432x288 with 1 Axes>"
      ]
     },
     "metadata": {
      "needs_background": "light"
     },
     "output_type": "display_data"
    }
   ],
   "source": [
    "feature_importances = pd.DataFrame(\n",
    "    best_forest_model.feature_importances_, index=features.columns, columns=['feature_importances'])\n",
    "feature_importances.sort_values(by=['feature_importances']).plot(kind='barh', title='Feature importances')"
   ]
  },
  {
   "cell_type": "markdown",
   "metadata": {},
   "source": [
    "Получилось, что наиболее важными признаками оказались год автомобиля и мощность. Кстати, эти признаки имели довольно высокую корреляцию с ценой. Далее остальные признаки почти равны. И самым \"бесполезным\" оказался признак с месяцем создания объявления, видимо сезон продажи на цену не влияет."
   ]
  },
  {
   "cell_type": "markdown",
   "metadata": {},
   "source": [
    "## Вывод"
   ]
  },
  {
   "cell_type": "markdown",
   "metadata": {},
   "source": [
    "В итоге получилось, что модель градиентного бустинга LightGBM предсказывает лучше чем \"классические\" модели. Однако скорость обучения и предсказания не самые быстрые.\n",
    "\n",
    "Я думаю, тут стоит решить что важнее, скорость или качество. Если важнее качество, то безусловно модель градиентного бустинга отлично подойдёт. Если важнее скорость обучения и предсказания, то стоит обратить внимание на более быстрые модели, например Решающее дерево. И если важнее всего скорость и качество предсказания, то отлично подойдёт модель Случайный лес."
   ]
  }
 ],
 "metadata": {
  "ExecuteTimeLog": [
   {
    "duration": 1321,
    "start_time": "2021-06-10T17:25:28.292Z"
   },
   {
    "duration": 10634,
    "start_time": "2021-06-10T17:25:29.616Z"
   },
   {
    "duration": 7,
    "start_time": "2021-06-10T17:25:40.254Z"
   },
   {
    "duration": 33,
    "start_time": "2021-06-10T17:25:40.265Z"
   },
   {
    "duration": 90,
    "start_time": "2021-06-10T17:25:40.300Z"
   },
   {
    "duration": 38,
    "start_time": "2021-06-10T17:25:40.393Z"
   },
   {
    "duration": 88,
    "start_time": "2021-06-10T17:25:40.434Z"
   },
   {
    "duration": 279,
    "start_time": "2021-06-10T17:25:40.527Z"
   },
   {
    "duration": 42,
    "start_time": "2021-06-10T17:25:40.809Z"
   },
   {
    "duration": 75,
    "start_time": "2021-06-10T17:25:40.853Z"
   },
   {
    "duration": 61,
    "start_time": "2021-06-10T17:25:40.930Z"
   },
   {
    "duration": 44,
    "start_time": "2021-06-10T17:25:40.993Z"
   },
   {
    "duration": 65,
    "start_time": "2021-06-10T17:25:41.040Z"
   },
   {
    "duration": 42,
    "start_time": "2021-06-10T17:25:41.107Z"
   },
   {
    "duration": 71,
    "start_time": "2021-06-10T17:25:41.151Z"
   },
   {
    "duration": 453,
    "start_time": "2021-06-10T17:25:41.224Z"
   },
   {
    "duration": 21,
    "start_time": "2021-06-10T17:25:41.684Z"
   },
   {
    "duration": 36,
    "start_time": "2021-06-10T17:25:41.708Z"
   },
   {
    "duration": 64,
    "start_time": "2021-06-10T17:25:41.747Z"
   },
   {
    "duration": 505,
    "start_time": "2021-06-10T17:25:41.814Z"
   },
   {
    "duration": 326,
    "start_time": "2021-06-10T17:25:42.322Z"
   },
   {
    "duration": 105,
    "start_time": "2021-06-10T17:25:42.651Z"
   },
   {
    "duration": 206,
    "start_time": "2021-06-10T17:25:42.761Z"
   },
   {
    "duration": 76,
    "start_time": "2021-06-10T17:25:42.970Z"
   },
   {
    "duration": 523,
    "start_time": "2021-06-10T17:25:43.049Z"
   },
   {
    "duration": 59,
    "start_time": "2021-06-10T17:25:43.575Z"
   },
   {
    "duration": 22,
    "start_time": "2021-06-10T17:25:43.637Z"
   },
   {
    "duration": 85,
    "start_time": "2021-06-10T17:29:44.931Z"
   },
   {
    "duration": 112,
    "start_time": "2021-06-10T17:30:05.087Z"
   },
   {
    "duration": 6319,
    "start_time": "2021-06-10T17:46:20.636Z"
   },
   {
    "duration": 8758,
    "start_time": "2021-06-10T17:47:19.319Z"
   },
   {
    "duration": 6088,
    "start_time": "2021-06-10T17:48:26.582Z"
   },
   {
    "duration": 4277,
    "start_time": "2021-06-10T17:49:35.285Z"
   },
   {
    "duration": 6537,
    "start_time": "2021-06-10T17:49:47.594Z"
   },
   {
    "duration": 6325,
    "start_time": "2021-06-10T17:51:25.669Z"
   },
   {
    "duration": 728,
    "start_time": "2021-06-10T18:00:17.890Z"
   },
   {
    "duration": 928,
    "start_time": "2021-06-10T18:00:55.597Z"
   },
   {
    "duration": 8964,
    "start_time": "2021-06-10T18:01:26.169Z"
   },
   {
    "duration": 770,
    "start_time": "2021-06-10T18:02:16.289Z"
   },
   {
    "duration": 1150,
    "start_time": "2021-06-10T18:02:38.233Z"
   },
   {
    "duration": 735,
    "start_time": "2021-06-10T18:03:25.644Z"
   },
   {
    "duration": 729,
    "start_time": "2021-06-10T18:04:49.636Z"
   },
   {
    "duration": 9932,
    "start_time": "2021-06-10T18:05:15.012Z"
   },
   {
    "duration": 8319,
    "start_time": "2021-06-10T18:06:01.904Z"
   },
   {
    "duration": 5,
    "start_time": "2021-06-10T18:06:44.605Z"
   },
   {
    "duration": 821,
    "start_time": "2021-06-10T18:06:56.252Z"
   },
   {
    "duration": 57343,
    "start_time": "2021-06-10T18:08:18.098Z"
   },
   {
    "duration": 6166,
    "start_time": "2021-06-10T18:10:13.154Z"
   },
   {
    "duration": 5896,
    "start_time": "2021-06-10T18:10:45.679Z"
   },
   {
    "duration": 6150,
    "start_time": "2021-06-10T18:11:15.078Z"
   },
   {
    "duration": 49768,
    "start_time": "2021-06-10T18:12:09.253Z"
   },
   {
    "duration": 781213,
    "start_time": "2021-06-10T18:22:18.279Z"
   },
   {
    "duration": 235840,
    "start_time": "2021-06-10T18:42:44.947Z"
   },
   {
    "duration": 35797,
    "start_time": "2021-06-10T18:47:53.962Z"
   },
   {
    "duration": 6243,
    "start_time": "2021-06-10T18:48:45.334Z"
   },
   {
    "duration": 272,
    "start_time": "2021-06-10T18:49:07.925Z"
   },
   {
    "duration": 292,
    "start_time": "2021-06-10T18:49:26.206Z"
   },
   {
    "duration": 8271,
    "start_time": "2021-06-10T18:49:43.172Z"
   },
   {
    "duration": 8245,
    "start_time": "2021-06-10T18:50:16.016Z"
   },
   {
    "duration": 8187,
    "start_time": "2021-06-10T18:50:31.945Z"
   },
   {
    "duration": 846520,
    "start_time": "2021-06-10T18:50:51.942Z"
   },
   {
    "duration": 19179,
    "start_time": "2021-06-10T19:09:51.120Z"
   },
   {
    "duration": 14935,
    "start_time": "2021-06-10T19:10:55.868Z"
   },
   {
    "duration": 14102,
    "start_time": "2021-06-10T19:11:56.695Z"
   },
   {
    "duration": 4,
    "start_time": "2021-06-10T19:12:23.014Z"
   },
   {
    "duration": 10,
    "start_time": "2021-06-10T19:12:24.412Z"
   },
   {
    "duration": 5,
    "start_time": "2021-06-10T19:12:36.991Z"
   },
   {
    "duration": 18,
    "start_time": "2021-06-10T19:12:38.019Z"
   },
   {
    "duration": 408,
    "start_time": "2021-06-10T19:12:41.023Z"
   },
   {
    "duration": 777,
    "start_time": "2021-06-10T19:12:43.722Z"
   },
   {
    "duration": 4,
    "start_time": "2021-06-10T19:13:29.842Z"
   },
   {
    "duration": 11,
    "start_time": "2021-06-10T19:14:40.247Z"
   },
   {
    "duration": 4,
    "start_time": "2021-06-10T19:16:39.528Z"
   },
   {
    "duration": 10,
    "start_time": "2021-06-10T19:16:40.186Z"
   },
   {
    "duration": 5,
    "start_time": "2021-06-10T19:23:22.239Z"
   },
   {
    "duration": 1068,
    "start_time": "2021-06-10T19:24:56.765Z"
   },
   {
    "duration": 869,
    "start_time": "2021-06-10T19:25:21.736Z"
   },
   {
    "duration": 282,
    "start_time": "2021-06-10T19:25:41.255Z"
   },
   {
    "duration": 317,
    "start_time": "2021-06-10T19:26:43.622Z"
   },
   {
    "duration": 378,
    "start_time": "2021-06-10T19:29:58.915Z"
   },
   {
    "duration": 5,
    "start_time": "2021-06-10T19:34:23.902Z"
   },
   {
    "duration": 340,
    "start_time": "2021-06-10T19:34:40.156Z"
   },
   {
    "duration": 5,
    "start_time": "2021-06-10T19:38:46.745Z"
   },
   {
    "duration": 757,
    "start_time": "2021-06-10T19:38:53.740Z"
   },
   {
    "duration": 848,
    "start_time": "2021-06-10T19:39:12.838Z"
   },
   {
    "duration": 825,
    "start_time": "2021-06-10T19:39:49.183Z"
   },
   {
    "duration": 5,
    "start_time": "2021-06-10T19:43:00.664Z"
   },
   {
    "duration": 831,
    "start_time": "2021-06-10T19:43:04.068Z"
   },
   {
    "duration": 18,
    "start_time": "2021-06-10T19:44:59.900Z"
   },
   {
    "duration": 413,
    "start_time": "2021-06-10T19:45:01.347Z"
   },
   {
    "duration": 877,
    "start_time": "2021-06-10T19:45:02.608Z"
   },
   {
    "duration": 4,
    "start_time": "2021-06-10T19:48:28.558Z"
   },
   {
    "duration": 1472,
    "start_time": "2021-06-10T19:48:29.758Z"
   },
   {
    "duration": 316,
    "start_time": "2021-06-10T19:48:42.288Z"
   },
   {
    "duration": 323,
    "start_time": "2021-06-10T19:48:53.057Z"
   },
   {
    "duration": 3,
    "start_time": "2021-06-10T19:49:25.543Z"
   },
   {
    "duration": 329,
    "start_time": "2021-06-10T19:49:26.402Z"
   },
   {
    "duration": 14,
    "start_time": "2021-06-10T19:49:37.137Z"
   },
   {
    "duration": 1417,
    "start_time": "2021-06-10T19:50:24.189Z"
   },
   {
    "duration": 3,
    "start_time": "2021-06-10T19:50:27.029Z"
   },
   {
    "duration": 10,
    "start_time": "2021-06-10T19:50:28.618Z"
   },
   {
    "duration": 5,
    "start_time": "2021-06-10T20:02:39.708Z"
   },
   {
    "duration": 6,
    "start_time": "2021-06-10T20:08:25.484Z"
   },
   {
    "duration": 6,
    "start_time": "2021-06-10T20:09:06.606Z"
   },
   {
    "duration": 7,
    "start_time": "2021-06-10T20:09:28.206Z"
   },
   {
    "duration": 7,
    "start_time": "2021-06-10T20:09:45.070Z"
   },
   {
    "duration": 6,
    "start_time": "2021-06-10T20:09:53.066Z"
   },
   {
    "duration": 562,
    "start_time": "2021-06-10T20:10:15.580Z"
   },
   {
    "duration": 604,
    "start_time": "2021-06-10T20:10:33.321Z"
   },
   {
    "duration": 312,
    "start_time": "2021-06-10T20:12:06.505Z"
   },
   {
    "duration": 5947,
    "start_time": "2021-06-10T20:12:14.728Z"
   },
   {
    "duration": 7,
    "start_time": "2021-06-10T20:12:31.320Z"
   },
   {
    "duration": 5994,
    "start_time": "2021-06-10T20:12:37.240Z"
   },
   {
    "duration": 627,
    "start_time": "2021-06-10T20:12:52.451Z"
   },
   {
    "duration": 612,
    "start_time": "2021-06-10T20:13:23.504Z"
   },
   {
    "duration": 152,
    "start_time": "2021-06-10T20:14:20.748Z"
   },
   {
    "duration": 593,
    "start_time": "2021-06-10T20:14:31.008Z"
   },
   {
    "duration": 594,
    "start_time": "2021-06-10T20:16:31.509Z"
   },
   {
    "duration": 595,
    "start_time": "2021-06-10T20:18:48.568Z"
   },
   {
    "duration": 2015,
    "start_time": "2021-06-10T20:20:13.996Z"
   },
   {
    "duration": 317,
    "start_time": "2021-06-10T20:20:25.215Z"
   },
   {
    "duration": 657,
    "start_time": "2021-06-10T20:20:36.542Z"
   },
   {
    "duration": 633,
    "start_time": "2021-06-10T20:20:59.770Z"
   },
   {
    "duration": 114,
    "start_time": "2021-06-10T20:21:50.005Z"
   },
   {
    "duration": 635,
    "start_time": "2021-06-10T20:22:30.673Z"
   },
   {
    "duration": 598,
    "start_time": "2021-06-10T20:22:44.050Z"
   },
   {
    "duration": 637,
    "start_time": "2021-06-10T20:23:02.547Z"
   },
   {
    "duration": 339,
    "start_time": "2021-06-10T20:23:35.942Z"
   },
   {
    "duration": 6262,
    "start_time": "2021-06-10T20:23:51.241Z"
   },
   {
    "duration": 6,
    "start_time": "2021-06-10T20:24:41.230Z"
   },
   {
    "duration": 611,
    "start_time": "2021-06-10T20:25:17.229Z"
   },
   {
    "duration": 7,
    "start_time": "2021-06-10T20:25:32.207Z"
   },
   {
    "duration": 13669,
    "start_time": "2021-06-10T20:25:33.672Z"
   },
   {
    "duration": 11442,
    "start_time": "2021-06-10T20:26:39.165Z"
   },
   {
    "duration": 327,
    "start_time": "2021-06-10T20:27:35.321Z"
   },
   {
    "duration": 4,
    "start_time": "2021-06-10T20:27:55.433Z"
   },
   {
    "duration": 13,
    "start_time": "2021-06-10T20:27:56.525Z"
   },
   {
    "duration": 675,
    "start_time": "2021-06-10T20:29:00.650Z"
   },
   {
    "duration": 8,
    "start_time": "2021-06-10T20:29:50.274Z"
   },
   {
    "duration": 11354,
    "start_time": "2021-06-10T20:29:50.876Z"
   },
   {
    "duration": 9,
    "start_time": "2021-06-10T20:30:46.615Z"
   },
   {
    "duration": 10989,
    "start_time": "2021-06-10T20:30:59.823Z"
   },
   {
    "duration": 5,
    "start_time": "2021-06-10T20:31:38.866Z"
   },
   {
    "duration": 11245,
    "start_time": "2021-06-10T20:31:39.387Z"
   },
   {
    "duration": 7,
    "start_time": "2021-06-10T20:35:06.390Z"
   },
   {
    "duration": 10905,
    "start_time": "2021-06-10T20:35:07.232Z"
   },
   {
    "duration": 1512,
    "start_time": "2021-06-11T08:07:38.913Z"
   },
   {
    "duration": 1698,
    "start_time": "2021-06-11T08:07:40.427Z"
   },
   {
    "duration": 9,
    "start_time": "2021-06-11T08:07:42.129Z"
   },
   {
    "duration": 21,
    "start_time": "2021-06-11T08:07:42.140Z"
   },
   {
    "duration": 104,
    "start_time": "2021-06-11T08:07:42.163Z"
   },
   {
    "duration": 75,
    "start_time": "2021-06-11T08:07:42.270Z"
   },
   {
    "duration": 125,
    "start_time": "2021-06-11T08:07:42.348Z"
   },
   {
    "duration": 407,
    "start_time": "2021-06-11T08:07:42.479Z"
   },
   {
    "duration": 62,
    "start_time": "2021-06-11T08:07:42.889Z"
   },
   {
    "duration": 70,
    "start_time": "2021-06-11T08:07:42.954Z"
   },
   {
    "duration": 51,
    "start_time": "2021-06-11T08:07:43.026Z"
   },
   {
    "duration": 63,
    "start_time": "2021-06-11T08:07:43.080Z"
   },
   {
    "duration": 47,
    "start_time": "2021-06-11T08:07:43.145Z"
   },
   {
    "duration": 52,
    "start_time": "2021-06-11T08:07:43.209Z"
   },
   {
    "duration": 67,
    "start_time": "2021-06-11T08:07:43.265Z"
   },
   {
    "duration": 473,
    "start_time": "2021-06-11T08:07:43.335Z"
   },
   {
    "duration": 31,
    "start_time": "2021-06-11T08:07:43.816Z"
   },
   {
    "duration": 64,
    "start_time": "2021-06-11T08:07:43.849Z"
   },
   {
    "duration": 34,
    "start_time": "2021-06-11T08:07:43.916Z"
   },
   {
    "duration": 550,
    "start_time": "2021-06-11T08:07:43.952Z"
   },
   {
    "duration": 363,
    "start_time": "2021-06-11T08:07:44.504Z"
   },
   {
    "duration": 107,
    "start_time": "2021-06-11T08:07:44.870Z"
   },
   {
    "duration": 219,
    "start_time": "2021-06-11T08:07:44.981Z"
   },
   {
    "duration": 86,
    "start_time": "2021-06-11T08:07:45.203Z"
   },
   {
    "duration": 579,
    "start_time": "2021-06-11T08:07:45.292Z"
   },
   {
    "duration": 76,
    "start_time": "2021-06-11T08:07:45.873Z"
   },
   {
    "duration": 32,
    "start_time": "2021-06-11T08:07:45.952Z"
   },
   {
    "duration": 112,
    "start_time": "2021-06-11T08:07:45.988Z"
   },
   {
    "duration": 9,
    "start_time": "2021-06-11T08:07:46.112Z"
   },
   {
    "duration": 665,
    "start_time": "2021-06-11T08:07:46.124Z"
   },
   {
    "duration": 9,
    "start_time": "2021-06-11T08:11:28.586Z"
   },
   {
    "duration": 357,
    "start_time": "2021-06-11T08:11:30.073Z"
   },
   {
    "duration": 24866,
    "start_time": "2021-06-11T08:12:24.271Z"
   },
   {
    "duration": 7,
    "start_time": "2021-06-11T08:14:06.410Z"
   },
   {
    "duration": 1142,
    "start_time": "2021-06-11T08:14:07.153Z"
   },
   {
    "duration": 1657,
    "start_time": "2021-06-11T08:16:04.645Z"
   },
   {
    "duration": 1420,
    "start_time": "2021-06-11T08:16:48.451Z"
   },
   {
    "duration": 2148,
    "start_time": "2021-06-11T08:16:49.874Z"
   },
   {
    "duration": 6,
    "start_time": "2021-06-11T08:16:52.025Z"
   },
   {
    "duration": 20,
    "start_time": "2021-06-11T08:16:52.034Z"
   },
   {
    "duration": 110,
    "start_time": "2021-06-11T08:16:52.056Z"
   },
   {
    "duration": 43,
    "start_time": "2021-06-11T08:16:52.168Z"
   },
   {
    "duration": 67,
    "start_time": "2021-06-11T08:16:52.217Z"
   },
   {
    "duration": 289,
    "start_time": "2021-06-11T08:16:52.288Z"
   },
   {
    "duration": 62,
    "start_time": "2021-06-11T08:16:52.580Z"
   },
   {
    "duration": 81,
    "start_time": "2021-06-11T08:16:52.646Z"
   },
   {
    "duration": 47,
    "start_time": "2021-06-11T08:16:52.730Z"
   },
   {
    "duration": 74,
    "start_time": "2021-06-11T08:16:52.780Z"
   },
   {
    "duration": 62,
    "start_time": "2021-06-11T08:16:52.856Z"
   },
   {
    "duration": 59,
    "start_time": "2021-06-11T08:16:52.921Z"
   },
   {
    "duration": 55,
    "start_time": "2021-06-11T08:16:52.983Z"
   },
   {
    "duration": 506,
    "start_time": "2021-06-11T08:16:53.041Z"
   },
   {
    "duration": 24,
    "start_time": "2021-06-11T08:16:53.550Z"
   },
   {
    "duration": 65,
    "start_time": "2021-06-11T08:16:53.577Z"
   },
   {
    "duration": 37,
    "start_time": "2021-06-11T08:16:53.645Z"
   },
   {
    "duration": 849,
    "start_time": "2021-06-11T08:16:53.684Z"
   },
   {
    "duration": 421,
    "start_time": "2021-06-11T08:16:54.536Z"
   },
   {
    "duration": 119,
    "start_time": "2021-06-11T08:16:54.960Z"
   },
   {
    "duration": 218,
    "start_time": "2021-06-11T08:16:55.084Z"
   },
   {
    "duration": 80,
    "start_time": "2021-06-11T08:16:55.309Z"
   },
   {
    "duration": 598,
    "start_time": "2021-06-11T08:16:55.392Z"
   },
   {
    "duration": 71,
    "start_time": "2021-06-11T08:16:55.992Z"
   },
   {
    "duration": 45,
    "start_time": "2021-06-11T08:16:56.066Z"
   },
   {
    "duration": 104,
    "start_time": "2021-06-11T08:16:56.113Z"
   },
   {
    "duration": 9,
    "start_time": "2021-06-11T08:16:56.220Z"
   },
   {
    "duration": 567,
    "start_time": "2021-06-11T08:16:56.232Z"
   },
   {
    "duration": 762,
    "start_time": "2021-06-11T08:18:13.274Z"
   },
   {
    "duration": 710,
    "start_time": "2021-06-11T08:19:17.208Z"
   },
   {
    "duration": 1448,
    "start_time": "2021-06-11T08:19:51.975Z"
   },
   {
    "duration": 1673,
    "start_time": "2021-06-11T08:19:53.428Z"
   },
   {
    "duration": 16,
    "start_time": "2021-06-11T08:19:55.109Z"
   },
   {
    "duration": 13,
    "start_time": "2021-06-11T08:19:55.128Z"
   },
   {
    "duration": 99,
    "start_time": "2021-06-11T08:19:55.143Z"
   },
   {
    "duration": 34,
    "start_time": "2021-06-11T08:19:55.245Z"
   },
   {
    "duration": 79,
    "start_time": "2021-06-11T08:19:55.282Z"
   },
   {
    "duration": 276,
    "start_time": "2021-06-11T08:19:55.365Z"
   },
   {
    "duration": 45,
    "start_time": "2021-06-11T08:19:55.644Z"
   },
   {
    "duration": 70,
    "start_time": "2021-06-11T08:19:55.691Z"
   },
   {
    "duration": 73,
    "start_time": "2021-06-11T08:19:55.763Z"
   },
   {
    "duration": 86,
    "start_time": "2021-06-11T08:19:55.839Z"
   },
   {
    "duration": 56,
    "start_time": "2021-06-11T08:19:55.928Z"
   },
   {
    "duration": 69,
    "start_time": "2021-06-11T08:19:55.988Z"
   },
   {
    "duration": 74,
    "start_time": "2021-06-11T08:19:56.060Z"
   },
   {
    "duration": 560,
    "start_time": "2021-06-11T08:19:56.137Z"
   },
   {
    "duration": 31,
    "start_time": "2021-06-11T08:19:56.700Z"
   },
   {
    "duration": 39,
    "start_time": "2021-06-11T08:19:56.733Z"
   },
   {
    "duration": 66,
    "start_time": "2021-06-11T08:19:56.775Z"
   },
   {
    "duration": 544,
    "start_time": "2021-06-11T08:19:56.844Z"
   },
   {
    "duration": 359,
    "start_time": "2021-06-11T08:19:57.391Z"
   },
   {
    "duration": 119,
    "start_time": "2021-06-11T08:19:57.752Z"
   },
   {
    "duration": 241,
    "start_time": "2021-06-11T08:19:57.875Z"
   },
   {
    "duration": 78,
    "start_time": "2021-06-11T08:19:58.119Z"
   },
   {
    "duration": 840,
    "start_time": "2021-06-11T08:19:58.215Z"
   },
   {
    "duration": 80,
    "start_time": "2021-06-11T08:19:59.058Z"
   },
   {
    "duration": 25,
    "start_time": "2021-06-11T08:19:59.141Z"
   },
   {
    "duration": 158,
    "start_time": "2021-06-11T08:19:59.168Z"
   },
   {
    "duration": 6,
    "start_time": "2021-06-11T08:19:59.329Z"
   },
   {
    "duration": 522,
    "start_time": "2021-06-11T08:19:59.337Z"
   },
   {
    "duration": 107,
    "start_time": "2021-06-11T08:23:30.585Z"
   },
   {
    "duration": 720,
    "start_time": "2021-06-11T08:23:40.510Z"
   },
   {
    "duration": 1525,
    "start_time": "2021-06-11T08:25:15.591Z"
   },
   {
    "duration": 7,
    "start_time": "2021-06-11T08:26:35.849Z"
   },
   {
    "duration": 771,
    "start_time": "2021-06-11T08:26:36.872Z"
   },
   {
    "duration": 1078,
    "start_time": "2021-06-11T08:26:46.438Z"
   },
   {
    "duration": 1379,
    "start_time": "2021-06-11T08:27:03.269Z"
   },
   {
    "duration": 1646,
    "start_time": "2021-06-11T08:27:04.652Z"
   },
   {
    "duration": 8,
    "start_time": "2021-06-11T08:27:06.309Z"
   },
   {
    "duration": 27,
    "start_time": "2021-06-11T08:27:06.320Z"
   },
   {
    "duration": 88,
    "start_time": "2021-06-11T08:27:06.350Z"
   },
   {
    "duration": 38,
    "start_time": "2021-06-11T08:27:06.441Z"
   },
   {
    "duration": 87,
    "start_time": "2021-06-11T08:27:06.482Z"
   },
   {
    "duration": 281,
    "start_time": "2021-06-11T08:27:06.573Z"
   },
   {
    "duration": 64,
    "start_time": "2021-06-11T08:27:06.858Z"
   },
   {
    "duration": 47,
    "start_time": "2021-06-11T08:27:06.925Z"
   },
   {
    "duration": 79,
    "start_time": "2021-06-11T08:27:06.974Z"
   },
   {
    "duration": 71,
    "start_time": "2021-06-11T08:27:07.056Z"
   },
   {
    "duration": 47,
    "start_time": "2021-06-11T08:27:07.130Z"
   },
   {
    "duration": 79,
    "start_time": "2021-06-11T08:27:07.179Z"
   },
   {
    "duration": 69,
    "start_time": "2021-06-11T08:27:07.260Z"
   },
   {
    "duration": 491,
    "start_time": "2021-06-11T08:27:07.332Z"
   },
   {
    "duration": 21,
    "start_time": "2021-06-11T08:27:07.825Z"
   },
   {
    "duration": 40,
    "start_time": "2021-06-11T08:27:07.848Z"
   },
   {
    "duration": 35,
    "start_time": "2021-06-11T08:27:07.911Z"
   },
   {
    "duration": 545,
    "start_time": "2021-06-11T08:27:07.948Z"
   },
   {
    "duration": 352,
    "start_time": "2021-06-11T08:27:08.495Z"
   },
   {
    "duration": 117,
    "start_time": "2021-06-11T08:27:08.849Z"
   },
   {
    "duration": 221,
    "start_time": "2021-06-11T08:27:08.972Z"
   },
   {
    "duration": 94,
    "start_time": "2021-06-11T08:27:09.195Z"
   },
   {
    "duration": 578,
    "start_time": "2021-06-11T08:27:09.291Z"
   },
   {
    "duration": 75,
    "start_time": "2021-06-11T08:27:09.872Z"
   },
   {
    "duration": 23,
    "start_time": "2021-06-11T08:27:09.950Z"
   },
   {
    "duration": 115,
    "start_time": "2021-06-11T08:27:09.975Z"
   },
   {
    "duration": 6,
    "start_time": "2021-06-11T08:27:10.092Z"
   },
   {
    "duration": 564,
    "start_time": "2021-06-11T08:27:10.100Z"
   },
   {
    "duration": 6,
    "start_time": "2021-06-11T08:37:20.398Z"
   },
   {
    "duration": 6,
    "start_time": "2021-06-11T08:40:09.627Z"
   },
   {
    "duration": 322,
    "start_time": "2021-06-11T08:40:10.079Z"
   },
   {
    "duration": 718,
    "start_time": "2021-06-11T08:40:58.551Z"
   },
   {
    "duration": 5,
    "start_time": "2021-06-11T08:43:30.681Z"
   },
   {
    "duration": 6398,
    "start_time": "2021-06-11T08:43:31.167Z"
   },
   {
    "duration": 6349,
    "start_time": "2021-06-11T08:46:00.331Z"
   },
   {
    "duration": 103,
    "start_time": "2021-06-11T08:55:11.503Z"
   },
   {
    "duration": 137,
    "start_time": "2021-06-11T08:56:21.488Z"
   },
   {
    "duration": 6,
    "start_time": "2021-06-11T08:57:04.820Z"
   },
   {
    "duration": 11145,
    "start_time": "2021-06-11T08:57:06.221Z"
   },
   {
    "duration": 1426,
    "start_time": "2021-06-11T08:58:20.787Z"
   },
   {
    "duration": 1635,
    "start_time": "2021-06-11T08:58:22.216Z"
   },
   {
    "duration": 7,
    "start_time": "2021-06-11T08:58:23.854Z"
   },
   {
    "duration": 15,
    "start_time": "2021-06-11T08:58:23.864Z"
   },
   {
    "duration": 84,
    "start_time": "2021-06-11T08:58:23.910Z"
   },
   {
    "duration": 39,
    "start_time": "2021-06-11T08:58:24.009Z"
   },
   {
    "duration": 88,
    "start_time": "2021-06-11T08:58:24.051Z"
   },
   {
    "duration": 279,
    "start_time": "2021-06-11T08:58:24.143Z"
   },
   {
    "duration": 44,
    "start_time": "2021-06-11T08:58:24.425Z"
   },
   {
    "duration": 68,
    "start_time": "2021-06-11T08:58:24.472Z"
   },
   {
    "duration": 59,
    "start_time": "2021-06-11T08:58:24.543Z"
   },
   {
    "duration": 46,
    "start_time": "2021-06-11T08:58:24.609Z"
   },
   {
    "duration": 69,
    "start_time": "2021-06-11T08:58:24.657Z"
   },
   {
    "duration": 49,
    "start_time": "2021-06-11T08:58:24.729Z"
   },
   {
    "duration": 63,
    "start_time": "2021-06-11T08:58:24.781Z"
   },
   {
    "duration": 478,
    "start_time": "2021-06-11T08:58:24.847Z"
   },
   {
    "duration": 23,
    "start_time": "2021-06-11T08:58:25.327Z"
   },
   {
    "duration": 64,
    "start_time": "2021-06-11T08:58:25.353Z"
   },
   {
    "duration": 35,
    "start_time": "2021-06-11T08:58:25.419Z"
   },
   {
    "duration": 543,
    "start_time": "2021-06-11T08:58:25.456Z"
   },
   {
    "duration": 344,
    "start_time": "2021-06-11T08:58:26.001Z"
   },
   {
    "duration": 109,
    "start_time": "2021-06-11T08:58:26.348Z"
   },
   {
    "duration": 218,
    "start_time": "2021-06-11T08:58:26.461Z"
   },
   {
    "duration": 87,
    "start_time": "2021-06-11T08:58:26.682Z"
   },
   {
    "duration": 620,
    "start_time": "2021-06-11T08:58:26.772Z"
   },
   {
    "duration": 73,
    "start_time": "2021-06-11T08:58:27.394Z"
   },
   {
    "duration": 49,
    "start_time": "2021-06-11T08:58:27.470Z"
   },
   {
    "duration": 112,
    "start_time": "2021-06-11T08:58:27.522Z"
   },
   {
    "duration": 92,
    "start_time": "2021-06-11T08:58:33.165Z"
   },
   {
    "duration": 6,
    "start_time": "2021-06-11T08:58:34.746Z"
   },
   {
    "duration": 510,
    "start_time": "2021-06-11T08:58:35.556Z"
   },
   {
    "duration": 677,
    "start_time": "2021-06-11T08:59:45.031Z"
   },
   {
    "duration": 5,
    "start_time": "2021-06-11T09:04:01.480Z"
   },
   {
    "duration": 6435,
    "start_time": "2021-06-11T09:04:03.414Z"
   },
   {
    "duration": 5,
    "start_time": "2021-06-11T09:10:34.289Z"
   },
   {
    "duration": 6,
    "start_time": "2021-06-11T09:10:46.010Z"
   },
   {
    "duration": 120,
    "start_time": "2021-06-11T09:10:59.787Z"
   },
   {
    "duration": 632,
    "start_time": "2021-06-11T09:11:50.938Z"
   },
   {
    "duration": 674,
    "start_time": "2021-06-11T09:12:11.679Z"
   },
   {
    "duration": 698,
    "start_time": "2021-06-11T09:12:46.523Z"
   },
   {
    "duration": 748,
    "start_time": "2021-06-11T09:13:17.006Z"
   },
   {
    "duration": 740,
    "start_time": "2021-06-11T09:14:36.747Z"
   },
   {
    "duration": 619,
    "start_time": "2021-06-11T09:14:50.769Z"
   },
   {
    "duration": 756,
    "start_time": "2021-06-11T09:15:53.977Z"
   },
   {
    "duration": 5,
    "start_time": "2021-06-11T09:16:12.563Z"
   },
   {
    "duration": 338,
    "start_time": "2021-06-11T09:16:13.216Z"
   },
   {
    "duration": 6694,
    "start_time": "2021-06-11T09:16:23.496Z"
   },
   {
    "duration": 6635,
    "start_time": "2021-06-11T09:16:46.656Z"
   },
   {
    "duration": 1394,
    "start_time": "2021-06-11T09:25:39.780Z"
   },
   {
    "duration": 1632,
    "start_time": "2021-06-11T09:25:41.177Z"
   },
   {
    "duration": 8,
    "start_time": "2021-06-11T09:25:42.812Z"
   },
   {
    "duration": 13,
    "start_time": "2021-06-11T09:25:42.822Z"
   },
   {
    "duration": 103,
    "start_time": "2021-06-11T09:25:42.837Z"
   },
   {
    "duration": 39,
    "start_time": "2021-06-11T09:25:42.943Z"
   },
   {
    "duration": 85,
    "start_time": "2021-06-11T09:25:42.985Z"
   },
   {
    "duration": 283,
    "start_time": "2021-06-11T09:25:43.073Z"
   },
   {
    "duration": 59,
    "start_time": "2021-06-11T09:25:43.359Z"
   },
   {
    "duration": 49,
    "start_time": "2021-06-11T09:25:43.421Z"
   },
   {
    "duration": 62,
    "start_time": "2021-06-11T09:25:43.473Z"
   },
   {
    "duration": 51,
    "start_time": "2021-06-11T09:25:43.537Z"
   },
   {
    "duration": 61,
    "start_time": "2021-06-11T09:25:43.590Z"
   },
   {
    "duration": 62,
    "start_time": "2021-06-11T09:25:43.653Z"
   },
   {
    "duration": 55,
    "start_time": "2021-06-11T09:25:43.717Z"
   },
   {
    "duration": 467,
    "start_time": "2021-06-11T09:25:43.775Z"
   },
   {
    "duration": 22,
    "start_time": "2021-06-11T09:25:44.245Z"
   },
   {
    "duration": 68,
    "start_time": "2021-06-11T09:25:44.270Z"
   },
   {
    "duration": 34,
    "start_time": "2021-06-11T09:25:44.341Z"
   },
   {
    "duration": 524,
    "start_time": "2021-06-11T09:25:44.378Z"
   },
   {
    "duration": 347,
    "start_time": "2021-06-11T09:25:44.908Z"
   },
   {
    "duration": 105,
    "start_time": "2021-06-11T09:25:45.258Z"
   },
   {
    "duration": 215,
    "start_time": "2021-06-11T09:25:45.368Z"
   },
   {
    "duration": 83,
    "start_time": "2021-06-11T09:25:45.586Z"
   },
   {
    "duration": 538,
    "start_time": "2021-06-11T09:25:45.672Z"
   },
   {
    "duration": 65,
    "start_time": "2021-06-11T09:25:46.213Z"
   },
   {
    "duration": 48,
    "start_time": "2021-06-11T09:25:46.280Z"
   },
   {
    "duration": 99,
    "start_time": "2021-06-11T09:25:46.330Z"
   },
   {
    "duration": 6,
    "start_time": "2021-06-11T09:25:46.431Z"
   },
   {
    "duration": 6725,
    "start_time": "2021-06-11T09:25:46.440Z"
   },
   {
    "duration": 190810,
    "start_time": "2021-06-11T09:25:53.168Z"
   },
   {
    "duration": 58635,
    "start_time": "2021-06-11T09:29:03.981Z"
   },
   {
    "duration": 496,
    "start_time": "2021-06-11T09:30:02.618Z"
   },
   {
    "duration": -20,
    "start_time": "2021-06-11T09:30:03.137Z"
   },
   {
    "duration": -22,
    "start_time": "2021-06-11T09:30:03.141Z"
   },
   {
    "duration": -25,
    "start_time": "2021-06-11T09:30:03.146Z"
   },
   {
    "duration": -32,
    "start_time": "2021-06-11T09:30:03.155Z"
   },
   {
    "duration": -35,
    "start_time": "2021-06-11T09:30:03.160Z"
   },
   {
    "duration": 3,
    "start_time": "2021-06-11T09:30:21.734Z"
   },
   {
    "duration": 11,
    "start_time": "2021-06-11T09:30:22.975Z"
   },
   {
    "duration": 4,
    "start_time": "2021-06-11T09:30:25.860Z"
   },
   {
    "duration": 1052,
    "start_time": "2021-06-11T09:30:26.277Z"
   },
   {
    "duration": 3,
    "start_time": "2021-06-11T09:30:27.332Z"
   },
   {
    "duration": 13,
    "start_time": "2021-06-11T09:30:27.511Z"
   },
   {
    "duration": 4,
    "start_time": "2021-06-11T09:31:03.022Z"
   },
   {
    "duration": 11,
    "start_time": "2021-06-11T09:31:03.456Z"
   },
   {
    "duration": 4,
    "start_time": "2021-06-11T09:31:36.347Z"
   },
   {
    "duration": 13,
    "start_time": "2021-06-11T09:31:36.754Z"
   },
   {
    "duration": 6314,
    "start_time": "2021-06-11T09:33:52.512Z"
   },
   {
    "duration": 7123,
    "start_time": "2021-06-11T09:34:26.466Z"
   },
   {
    "duration": 6346,
    "start_time": "2021-06-11T09:34:46.888Z"
   },
   {
    "duration": 1491,
    "start_time": "2021-06-11T10:00:09.274Z"
   },
   {
    "duration": 1784,
    "start_time": "2021-06-11T10:00:10.768Z"
   },
   {
    "duration": 7,
    "start_time": "2021-06-11T10:00:12.555Z"
   },
   {
    "duration": 45,
    "start_time": "2021-06-11T10:00:12.565Z"
   },
   {
    "duration": 74,
    "start_time": "2021-06-11T10:00:12.613Z"
   },
   {
    "duration": 54,
    "start_time": "2021-06-11T10:00:12.689Z"
   },
   {
    "duration": 80,
    "start_time": "2021-06-11T10:00:12.745Z"
   },
   {
    "duration": 268,
    "start_time": "2021-06-11T10:00:12.831Z"
   },
   {
    "duration": 45,
    "start_time": "2021-06-11T10:00:13.110Z"
   },
   {
    "duration": 66,
    "start_time": "2021-06-11T10:00:13.158Z"
   },
   {
    "duration": 101,
    "start_time": "2021-06-11T10:00:13.227Z"
   },
   {
    "duration": 95,
    "start_time": "2021-06-11T10:00:13.331Z"
   },
   {
    "duration": 95,
    "start_time": "2021-06-11T10:00:13.429Z"
   },
   {
    "duration": 93,
    "start_time": "2021-06-11T10:00:13.528Z"
   },
   {
    "duration": 61,
    "start_time": "2021-06-11T10:00:13.624Z"
   },
   {
    "duration": 683,
    "start_time": "2021-06-11T10:00:13.708Z"
   },
   {
    "duration": 40,
    "start_time": "2021-06-11T10:00:14.394Z"
   },
   {
    "duration": 78,
    "start_time": "2021-06-11T10:00:14.437Z"
   },
   {
    "duration": 50,
    "start_time": "2021-06-11T10:00:14.517Z"
   },
   {
    "duration": 534,
    "start_time": "2021-06-11T10:00:14.571Z"
   },
   {
    "duration": 335,
    "start_time": "2021-06-11T10:00:15.110Z"
   },
   {
    "duration": 110,
    "start_time": "2021-06-11T10:00:15.448Z"
   },
   {
    "duration": 339,
    "start_time": "2021-06-11T10:00:15.565Z"
   },
   {
    "duration": 75,
    "start_time": "2021-06-11T10:00:15.908Z"
   },
   {
    "duration": 552,
    "start_time": "2021-06-11T10:00:15.986Z"
   },
   {
    "duration": 81,
    "start_time": "2021-06-11T10:00:16.540Z"
   },
   {
    "duration": 28,
    "start_time": "2021-06-11T10:00:16.625Z"
   },
   {
    "duration": 127,
    "start_time": "2021-06-11T10:00:16.656Z"
   },
   {
    "duration": 5,
    "start_time": "2021-06-11T10:00:16.786Z"
   },
   {
    "duration": 7960,
    "start_time": "2021-06-11T10:00:16.808Z"
   },
   {
    "duration": 419676,
    "start_time": "2021-06-11T10:00:24.771Z"
   },
   {
    "duration": 388788,
    "start_time": "2021-06-11T10:07:24.449Z"
   },
   {
    "duration": -11,
    "start_time": "2021-06-11T10:13:53.251Z"
   },
   {
    "duration": -28,
    "start_time": "2021-06-11T10:13:53.269Z"
   },
   {
    "duration": -32,
    "start_time": "2021-06-11T10:13:53.274Z"
   },
   {
    "duration": -39,
    "start_time": "2021-06-11T10:13:53.282Z"
   },
   {
    "duration": -46,
    "start_time": "2021-06-11T10:13:53.291Z"
   },
   {
    "duration": -53,
    "start_time": "2021-06-11T10:13:53.299Z"
   },
   {
    "duration": -59,
    "start_time": "2021-06-11T10:13:53.307Z"
   },
   {
    "duration": 7,
    "start_time": "2021-06-11T10:13:56.965Z"
   },
   {
    "duration": 9,
    "start_time": "2021-06-11T10:14:02.265Z"
   },
   {
    "duration": 7,
    "start_time": "2021-06-11T10:14:47.004Z"
   },
   {
    "duration": 7,
    "start_time": "2021-06-11T10:15:05.085Z"
   },
   {
    "duration": 6,
    "start_time": "2021-06-11T10:15:24.898Z"
   },
   {
    "duration": 1527,
    "start_time": "2021-06-11T10:16:16.026Z"
   },
   {
    "duration": 2796,
    "start_time": "2021-06-11T10:16:17.555Z"
   },
   {
    "duration": 8,
    "start_time": "2021-06-11T10:16:20.354Z"
   },
   {
    "duration": 46,
    "start_time": "2021-06-11T10:16:20.365Z"
   },
   {
    "duration": 78,
    "start_time": "2021-06-11T10:16:20.414Z"
   },
   {
    "duration": 52,
    "start_time": "2021-06-11T10:16:20.495Z"
   },
   {
    "duration": 98,
    "start_time": "2021-06-11T10:16:20.550Z"
   },
   {
    "duration": 288,
    "start_time": "2021-06-11T10:16:20.654Z"
   },
   {
    "duration": 64,
    "start_time": "2021-06-11T10:16:20.946Z"
   },
   {
    "duration": 50,
    "start_time": "2021-06-11T10:16:21.013Z"
   },
   {
    "duration": 79,
    "start_time": "2021-06-11T10:16:21.066Z"
   },
   {
    "duration": 49,
    "start_time": "2021-06-11T10:16:21.148Z"
   },
   {
    "duration": 54,
    "start_time": "2021-06-11T10:16:21.209Z"
   },
   {
    "duration": 73,
    "start_time": "2021-06-11T10:16:21.266Z"
   },
   {
    "duration": 89,
    "start_time": "2021-06-11T10:16:21.342Z"
   },
   {
    "duration": 780,
    "start_time": "2021-06-11T10:16:21.435Z"
   },
   {
    "duration": 37,
    "start_time": "2021-06-11T10:16:22.218Z"
   },
   {
    "duration": 13,
    "start_time": "2021-06-11T10:16:22.258Z"
   },
   {
    "duration": 11,
    "start_time": "2021-06-11T10:16:37.025Z"
   },
   {
    "duration": 1422,
    "start_time": "2021-06-11T10:18:15.929Z"
   },
   {
    "duration": 1583,
    "start_time": "2021-06-11T10:18:17.354Z"
   },
   {
    "duration": 7,
    "start_time": "2021-06-11T10:18:18.940Z"
   },
   {
    "duration": 24,
    "start_time": "2021-06-11T10:18:18.950Z"
   },
   {
    "duration": 94,
    "start_time": "2021-06-11T10:18:18.977Z"
   },
   {
    "duration": 53,
    "start_time": "2021-06-11T10:18:19.074Z"
   },
   {
    "duration": 80,
    "start_time": "2021-06-11T10:18:19.129Z"
   },
   {
    "duration": 274,
    "start_time": "2021-06-11T10:18:19.214Z"
   },
   {
    "duration": 49,
    "start_time": "2021-06-11T10:18:19.491Z"
   },
   {
    "duration": 69,
    "start_time": "2021-06-11T10:18:19.543Z"
   },
   {
    "duration": 54,
    "start_time": "2021-06-11T10:18:19.614Z"
   },
   {
    "duration": 53,
    "start_time": "2021-06-11T10:18:19.670Z"
   },
   {
    "duration": 49,
    "start_time": "2021-06-11T10:18:19.725Z"
   },
   {
    "duration": 59,
    "start_time": "2021-06-11T10:18:19.777Z"
   },
   {
    "duration": 54,
    "start_time": "2021-06-11T10:18:19.839Z"
   },
   {
    "duration": 719,
    "start_time": "2021-06-11T10:18:19.895Z"
   },
   {
    "duration": 27,
    "start_time": "2021-06-11T10:18:20.617Z"
   },
   {
    "duration": 64,
    "start_time": "2021-06-11T10:18:20.647Z"
   },
   {
    "duration": 695,
    "start_time": "2021-06-11T10:18:20.714Z"
   },
   {
    "duration": 335,
    "start_time": "2021-06-11T10:18:21.413Z"
   },
   {
    "duration": 119,
    "start_time": "2021-06-11T10:18:21.751Z"
   },
   {
    "duration": 222,
    "start_time": "2021-06-11T10:18:21.873Z"
   },
   {
    "duration": 76,
    "start_time": "2021-06-11T10:18:22.111Z"
   },
   {
    "duration": 555,
    "start_time": "2021-06-11T10:18:22.191Z"
   },
   {
    "duration": 84,
    "start_time": "2021-06-11T10:18:22.749Z"
   },
   {
    "duration": 25,
    "start_time": "2021-06-11T10:18:22.836Z"
   },
   {
    "duration": 119,
    "start_time": "2021-06-11T10:18:22.864Z"
   },
   {
    "duration": 6,
    "start_time": "2021-06-11T10:18:22.986Z"
   },
   {
    "duration": 6665,
    "start_time": "2021-06-11T10:18:23.010Z"
   },
   {
    "duration": 283242,
    "start_time": "2021-06-11T10:18:29.678Z"
   },
   {
    "duration": 130327,
    "start_time": "2021-06-11T10:23:12.923Z"
   },
   {
    "duration": 4,
    "start_time": "2021-06-11T10:25:23.253Z"
   },
   {
    "duration": 67,
    "start_time": "2021-06-11T10:25:23.259Z"
   },
   {
    "duration": 5,
    "start_time": "2021-06-11T10:25:23.330Z"
   },
   {
    "duration": 1613,
    "start_time": "2021-06-11T10:25:23.338Z"
   },
   {
    "duration": 4,
    "start_time": "2021-06-11T10:25:24.953Z"
   },
   {
    "duration": 19,
    "start_time": "2021-06-11T10:25:25.017Z"
   },
   {
    "duration": 150,
    "start_time": "2021-06-11T10:28:54.290Z"
   },
   {
    "duration": 1405,
    "start_time": "2021-06-11T10:45:33.568Z"
   },
   {
    "duration": 1608,
    "start_time": "2021-06-11T10:45:34.975Z"
   },
   {
    "duration": 6,
    "start_time": "2021-06-11T10:45:36.586Z"
   },
   {
    "duration": 12,
    "start_time": "2021-06-11T10:45:36.610Z"
   },
   {
    "duration": 94,
    "start_time": "2021-06-11T10:45:36.625Z"
   },
   {
    "duration": 44,
    "start_time": "2021-06-11T10:45:36.721Z"
   },
   {
    "duration": 86,
    "start_time": "2021-06-11T10:45:36.767Z"
   },
   {
    "duration": 273,
    "start_time": "2021-06-11T10:45:36.856Z"
   },
   {
    "duration": 89,
    "start_time": "2021-06-11T10:45:37.133Z"
   },
   {
    "duration": 99,
    "start_time": "2021-06-11T10:45:37.225Z"
   },
   {
    "duration": 95,
    "start_time": "2021-06-11T10:45:37.327Z"
   },
   {
    "duration": 51,
    "start_time": "2021-06-11T10:45:37.425Z"
   },
   {
    "duration": 61,
    "start_time": "2021-06-11T10:45:37.478Z"
   },
   {
    "duration": 60,
    "start_time": "2021-06-11T10:45:37.541Z"
   },
   {
    "duration": 56,
    "start_time": "2021-06-11T10:45:37.603Z"
   },
   {
    "duration": 463,
    "start_time": "2021-06-11T10:45:37.662Z"
   },
   {
    "duration": 22,
    "start_time": "2021-06-11T10:45:38.127Z"
   },
   {
    "duration": 10,
    "start_time": "2021-06-11T10:45:38.151Z"
   },
   {
    "duration": 554,
    "start_time": "2021-06-11T10:45:38.163Z"
   },
   {
    "duration": 339,
    "start_time": "2021-06-11T10:45:38.719Z"
   },
   {
    "duration": 102,
    "start_time": "2021-06-11T10:45:39.061Z"
   },
   {
    "duration": 212,
    "start_time": "2021-06-11T10:45:39.166Z"
   },
   {
    "duration": 97,
    "start_time": "2021-06-11T10:45:39.386Z"
   },
   {
    "duration": 534,
    "start_time": "2021-06-11T10:45:39.486Z"
   },
   {
    "duration": 61,
    "start_time": "2021-06-11T10:45:40.023Z"
   },
   {
    "duration": 39,
    "start_time": "2021-06-11T10:45:40.087Z"
   },
   {
    "duration": 151,
    "start_time": "2021-06-11T10:45:40.128Z"
   },
   {
    "duration": 93,
    "start_time": "2021-06-11T10:45:40.282Z"
   },
   {
    "duration": 5,
    "start_time": "2021-06-11T10:45:40.378Z"
   },
   {
    "duration": 6356,
    "start_time": "2021-06-11T10:45:40.385Z"
   },
   {
    "duration": 480481,
    "start_time": "2021-06-11T10:45:46.743Z"
   },
   {
    "duration": 262004,
    "start_time": "2021-06-11T10:53:47.227Z"
   },
   {
    "duration": 4,
    "start_time": "2021-06-11T10:58:09.233Z"
   },
   {
    "duration": 72,
    "start_time": "2021-06-11T10:58:09.239Z"
   },
   {
    "duration": 9,
    "start_time": "2021-06-11T10:58:09.314Z"
   },
   {
    "duration": 1595,
    "start_time": "2021-06-11T10:58:09.325Z"
   },
   {
    "duration": 3,
    "start_time": "2021-06-11T10:58:10.923Z"
   },
   {
    "duration": 20,
    "start_time": "2021-06-11T10:58:10.928Z"
   },
   {
    "duration": 992,
    "start_time": "2021-06-12T05:51:38.831Z"
   },
   {
    "duration": 1083,
    "start_time": "2021-06-12T05:51:40.336Z"
   },
   {
    "duration": 5,
    "start_time": "2021-06-12T05:52:31.706Z"
   },
   {
    "duration": 9,
    "start_time": "2021-06-12T05:52:32.532Z"
   },
   {
    "duration": 52,
    "start_time": "2021-06-12T05:52:53.093Z"
   },
   {
    "duration": 28,
    "start_time": "2021-06-12T05:52:54.115Z"
   },
   {
    "duration": 51,
    "start_time": "2021-06-12T05:52:55.435Z"
   },
   {
    "duration": 179,
    "start_time": "2021-06-12T05:52:55.812Z"
   },
   {
    "duration": 32,
    "start_time": "2021-06-12T05:52:56.173Z"
   },
   {
    "duration": 32,
    "start_time": "2021-06-12T05:52:56.553Z"
   },
   {
    "duration": 34,
    "start_time": "2021-06-12T05:52:56.964Z"
   },
   {
    "duration": 32,
    "start_time": "2021-06-12T05:52:57.475Z"
   },
   {
    "duration": 34,
    "start_time": "2021-06-12T05:52:57.892Z"
   },
   {
    "duration": 31,
    "start_time": "2021-06-12T05:52:58.276Z"
   },
   {
    "duration": 35,
    "start_time": "2021-06-12T05:52:58.627Z"
   },
   {
    "duration": 277,
    "start_time": "2021-06-12T05:52:58.994Z"
   },
   {
    "duration": 25,
    "start_time": "2021-06-12T05:52:59.273Z"
   },
   {
    "duration": 10,
    "start_time": "2021-06-12T05:52:59.547Z"
   },
   {
    "duration": 318,
    "start_time": "2021-06-12T05:52:59.875Z"
   },
   {
    "duration": 206,
    "start_time": "2021-06-12T05:53:00.282Z"
   },
   {
    "duration": 72,
    "start_time": "2021-06-12T05:53:01.604Z"
   },
   {
    "duration": 146,
    "start_time": "2021-06-12T05:53:01.981Z"
   },
   {
    "duration": 54,
    "start_time": "2021-06-12T05:53:02.190Z"
   },
   {
    "duration": 312,
    "start_time": "2021-06-12T05:53:03.708Z"
   },
   {
    "duration": 38,
    "start_time": "2021-06-12T05:53:04.115Z"
   },
   {
    "duration": 20,
    "start_time": "2021-06-12T05:53:04.355Z"
   },
   {
    "duration": 101,
    "start_time": "2021-06-12T05:53:04.763Z"
   },
   {
    "duration": 70,
    "start_time": "2021-06-12T05:53:20.029Z"
   },
   {
    "duration": 4,
    "start_time": "2021-06-12T05:53:21.396Z"
   },
   {
    "duration": 4597,
    "start_time": "2021-06-12T05:53:26.556Z"
   },
   {
    "duration": 303287,
    "start_time": "2021-06-12T05:53:31.154Z"
   },
   {
    "duration": 1431,
    "start_time": "2021-06-12T17:17:21.848Z"
   },
   {
    "duration": 1606,
    "start_time": "2021-06-12T17:17:23.282Z"
   },
   {
    "duration": 7,
    "start_time": "2021-06-12T17:17:24.891Z"
   },
   {
    "duration": 29,
    "start_time": "2021-06-12T17:17:24.901Z"
   },
   {
    "duration": 93,
    "start_time": "2021-06-12T17:17:24.933Z"
   },
   {
    "duration": 40,
    "start_time": "2021-06-12T17:17:25.029Z"
   },
   {
    "duration": 93,
    "start_time": "2021-06-12T17:17:25.072Z"
   },
   {
    "duration": 272,
    "start_time": "2021-06-12T17:17:25.169Z"
   },
   {
    "duration": 44,
    "start_time": "2021-06-12T17:17:25.444Z"
   },
   {
    "duration": 67,
    "start_time": "2021-06-12T17:17:25.490Z"
   },
   {
    "duration": 51,
    "start_time": "2021-06-12T17:17:25.559Z"
   },
   {
    "duration": 56,
    "start_time": "2021-06-12T17:17:25.612Z"
   },
   {
    "duration": 63,
    "start_time": "2021-06-12T17:17:25.671Z"
   },
   {
    "duration": 45,
    "start_time": "2021-06-12T17:17:25.737Z"
   },
   {
    "duration": 69,
    "start_time": "2021-06-12T17:17:25.784Z"
   },
   {
    "duration": 461,
    "start_time": "2021-06-12T17:17:25.856Z"
   },
   {
    "duration": 25,
    "start_time": "2021-06-12T17:17:26.320Z"
   },
   {
    "duration": 11,
    "start_time": "2021-06-12T17:17:26.348Z"
   },
   {
    "duration": 565,
    "start_time": "2021-06-12T17:17:26.362Z"
   },
   {
    "duration": 333,
    "start_time": "2021-06-12T17:17:26.930Z"
   },
   {
    "duration": 18,
    "start_time": "2021-06-12T17:18:47.327Z"
   },
   {
    "duration": 357,
    "start_time": "2021-06-12T17:19:11.889Z"
   },
   {
    "duration": 496,
    "start_time": "2021-06-12T17:19:35.303Z"
   },
   {
    "duration": 332,
    "start_time": "2021-06-12T17:19:53.595Z"
   },
   {
    "duration": 272,
    "start_time": "2021-06-12T17:20:19.821Z"
   },
   {
    "duration": 8165,
    "start_time": "2021-06-12T17:20:48.095Z"
   },
   {
    "duration": 277,
    "start_time": "2021-06-12T17:21:08.980Z"
   },
   {
    "duration": 22,
    "start_time": "2021-06-12T17:21:35.049Z"
   },
   {
    "duration": 543,
    "start_time": "2021-06-12T17:28:23.558Z"
   },
   {
    "duration": 1388,
    "start_time": "2021-06-12T17:29:09.063Z"
   },
   {
    "duration": 1641,
    "start_time": "2021-06-12T17:29:10.454Z"
   },
   {
    "duration": 6,
    "start_time": "2021-06-12T17:29:12.098Z"
   },
   {
    "duration": 28,
    "start_time": "2021-06-12T17:29:12.107Z"
   },
   {
    "duration": 94,
    "start_time": "2021-06-12T17:29:12.138Z"
   },
   {
    "duration": 42,
    "start_time": "2021-06-12T17:29:12.235Z"
   },
   {
    "duration": 85,
    "start_time": "2021-06-12T17:29:12.279Z"
   },
   {
    "duration": 288,
    "start_time": "2021-06-12T17:29:12.369Z"
   },
   {
    "duration": 45,
    "start_time": "2021-06-12T17:29:12.660Z"
   },
   {
    "duration": 64,
    "start_time": "2021-06-12T17:29:12.707Z"
   },
   {
    "duration": 64,
    "start_time": "2021-06-12T17:29:12.773Z"
   },
   {
    "duration": 49,
    "start_time": "2021-06-12T17:29:12.840Z"
   },
   {
    "duration": 64,
    "start_time": "2021-06-12T17:29:12.891Z"
   },
   {
    "duration": 48,
    "start_time": "2021-06-12T17:29:12.957Z"
   },
   {
    "duration": 61,
    "start_time": "2021-06-12T17:29:13.008Z"
   },
   {
    "duration": 473,
    "start_time": "2021-06-12T17:29:13.072Z"
   },
   {
    "duration": 21,
    "start_time": "2021-06-12T17:29:13.548Z"
   },
   {
    "duration": 10,
    "start_time": "2021-06-12T17:29:13.572Z"
   },
   {
    "duration": 549,
    "start_time": "2021-06-12T17:29:13.585Z"
   },
   {
    "duration": 342,
    "start_time": "2021-06-12T17:29:14.136Z"
   },
   {
    "duration": 284,
    "start_time": "2021-06-12T17:29:14.480Z"
   },
   {
    "duration": 22,
    "start_time": "2021-06-12T17:29:14.767Z"
   },
   {
    "duration": 510,
    "start_time": "2021-06-12T17:29:14.793Z"
   },
   {
    "duration": 35,
    "start_time": "2021-06-12T17:31:42.581Z"
   },
   {
    "duration": 35,
    "start_time": "2021-06-12T17:32:39.240Z"
   },
   {
    "duration": 32,
    "start_time": "2021-06-12T17:33:05.804Z"
   },
   {
    "duration": 28,
    "start_time": "2021-06-12T17:33:13.751Z"
   },
   {
    "duration": 9297,
    "start_time": "2021-06-12T17:36:04.446Z"
   },
   {
    "duration": 359,
    "start_time": "2021-06-12T17:36:33.905Z"
   },
   {
    "duration": 2399,
    "start_time": "2021-06-12T17:36:53.054Z"
   },
   {
    "duration": 2327,
    "start_time": "2021-06-12T17:37:01.103Z"
   },
   {
    "duration": 108,
    "start_time": "2021-06-12T17:38:10.934Z"
   },
   {
    "duration": 125,
    "start_time": "2021-06-12T17:38:28.284Z"
   },
   {
    "duration": 393,
    "start_time": "2021-06-12T17:38:33.575Z"
   },
   {
    "duration": 360,
    "start_time": "2021-06-12T17:38:45.610Z"
   },
   {
    "duration": 360,
    "start_time": "2021-06-12T17:39:02.280Z"
   },
   {
    "duration": 8201,
    "start_time": "2021-06-12T17:39:09.587Z"
   },
   {
    "duration": 30,
    "start_time": "2021-06-12T17:39:41.514Z"
   },
   {
    "duration": 101,
    "start_time": "2021-06-12T17:40:37.305Z"
   },
   {
    "duration": 390,
    "start_time": "2021-06-12T17:40:50.275Z"
   },
   {
    "duration": 341,
    "start_time": "2021-06-12T17:41:01.996Z"
   },
   {
    "duration": 327,
    "start_time": "2021-06-12T17:41:13.421Z"
   },
   {
    "duration": 101,
    "start_time": "2021-06-12T17:41:49.018Z"
   },
   {
    "duration": 333,
    "start_time": "2021-06-12T17:41:53.065Z"
   },
   {
    "duration": 307,
    "start_time": "2021-06-12T17:41:59.378Z"
   },
   {
    "duration": 391,
    "start_time": "2021-06-12T17:42:22.739Z"
   },
   {
    "duration": 363,
    "start_time": "2021-06-12T17:42:55.764Z"
   },
   {
    "duration": 9619,
    "start_time": "2021-06-12T17:43:10.835Z"
   },
   {
    "duration": 5764,
    "start_time": "2021-06-12T17:44:08.499Z"
   },
   {
    "duration": 358,
    "start_time": "2021-06-12T17:44:33.982Z"
   },
   {
    "duration": 35,
    "start_time": "2021-06-12T17:45:00.214Z"
   },
   {
    "duration": 25,
    "start_time": "2021-06-12T17:45:16.245Z"
   },
   {
    "duration": 266,
    "start_time": "2021-06-12T17:46:36.059Z"
   },
   {
    "duration": 20,
    "start_time": "2021-06-12T17:47:17.029Z"
   },
   {
    "duration": 40,
    "start_time": "2021-06-12T17:48:43.319Z"
   },
   {
    "duration": 36,
    "start_time": "2021-06-12T17:49:00.176Z"
   },
   {
    "duration": 31,
    "start_time": "2021-06-12T17:49:12.518Z"
   },
   {
    "duration": 33,
    "start_time": "2021-06-12T17:50:03.930Z"
   },
   {
    "duration": 487,
    "start_time": "2021-06-12T18:08:03.886Z"
   },
   {
    "duration": 19,
    "start_time": "2021-06-12T18:09:23.582Z"
   },
   {
    "duration": 80,
    "start_time": "2021-06-12T18:10:26.764Z"
   },
   {
    "duration": 15,
    "start_time": "2021-06-12T18:17:44.117Z"
   },
   {
    "duration": 19,
    "start_time": "2021-06-12T18:17:45.494Z"
   },
   {
    "duration": 1367,
    "start_time": "2021-06-12T18:18:25.128Z"
   },
   {
    "duration": 1640,
    "start_time": "2021-06-12T18:18:26.497Z"
   },
   {
    "duration": 6,
    "start_time": "2021-06-12T18:18:28.140Z"
   },
   {
    "duration": 15,
    "start_time": "2021-06-12T18:18:28.148Z"
   },
   {
    "duration": 98,
    "start_time": "2021-06-12T18:18:28.165Z"
   },
   {
    "duration": 39,
    "start_time": "2021-06-12T18:18:28.265Z"
   },
   {
    "duration": 85,
    "start_time": "2021-06-12T18:18:28.307Z"
   },
   {
    "duration": 281,
    "start_time": "2021-06-12T18:18:28.396Z"
   },
   {
    "duration": 53,
    "start_time": "2021-06-12T18:18:28.680Z"
   },
   {
    "duration": 48,
    "start_time": "2021-06-12T18:18:28.735Z"
   },
   {
    "duration": 70,
    "start_time": "2021-06-12T18:18:28.786Z"
   },
   {
    "duration": 46,
    "start_time": "2021-06-12T18:18:28.858Z"
   },
   {
    "duration": 60,
    "start_time": "2021-06-12T18:18:28.906Z"
   },
   {
    "duration": 58,
    "start_time": "2021-06-12T18:18:28.969Z"
   },
   {
    "duration": 51,
    "start_time": "2021-06-12T18:18:29.029Z"
   },
   {
    "duration": 478,
    "start_time": "2021-06-12T18:18:29.082Z"
   },
   {
    "duration": 22,
    "start_time": "2021-06-12T18:18:29.562Z"
   },
   {
    "duration": 11,
    "start_time": "2021-06-12T18:18:29.586Z"
   },
   {
    "duration": 530,
    "start_time": "2021-06-12T18:18:29.599Z"
   },
   {
    "duration": 333,
    "start_time": "2021-06-12T18:18:30.132Z"
   },
   {
    "duration": 276,
    "start_time": "2021-06-12T18:18:30.467Z"
   },
   {
    "duration": 21,
    "start_time": "2021-06-12T18:18:30.745Z"
   },
   {
    "duration": 504,
    "start_time": "2021-06-12T18:18:30.770Z"
   },
   {
    "duration": 29,
    "start_time": "2021-06-12T18:18:31.278Z"
   },
   {
    "duration": 302,
    "start_time": "2021-06-12T18:18:31.326Z"
   },
   {
    "duration": 21,
    "start_time": "2021-06-12T18:18:31.631Z"
   },
   {
    "duration": 535,
    "start_time": "2021-06-12T18:18:31.655Z"
   },
   {
    "duration": 16,
    "start_time": "2021-06-12T18:18:32.194Z"
   },
   {
    "duration": 30,
    "start_time": "2021-06-12T18:18:32.213Z"
   },
   {
    "duration": 18,
    "start_time": "2021-06-12T18:19:11.338Z"
   },
   {
    "duration": 339,
    "start_time": "2021-06-12T18:19:38.403Z"
   },
   {
    "duration": 1442,
    "start_time": "2021-06-12T18:20:30.845Z"
   },
   {
    "duration": 1582,
    "start_time": "2021-06-12T18:20:32.289Z"
   },
   {
    "duration": 6,
    "start_time": "2021-06-12T18:20:33.874Z"
   },
   {
    "duration": 15,
    "start_time": "2021-06-12T18:20:33.883Z"
   },
   {
    "duration": 78,
    "start_time": "2021-06-12T18:20:33.925Z"
   },
   {
    "duration": 51,
    "start_time": "2021-06-12T18:20:34.005Z"
   },
   {
    "duration": 88,
    "start_time": "2021-06-12T18:20:34.059Z"
   },
   {
    "duration": 269,
    "start_time": "2021-06-12T18:20:34.151Z"
   },
   {
    "duration": 47,
    "start_time": "2021-06-12T18:20:34.422Z"
   },
   {
    "duration": 62,
    "start_time": "2021-06-12T18:20:34.471Z"
   },
   {
    "duration": 51,
    "start_time": "2021-06-12T18:20:34.536Z"
   },
   {
    "duration": 81,
    "start_time": "2021-06-12T18:20:34.590Z"
   },
   {
    "duration": 56,
    "start_time": "2021-06-12T18:20:34.674Z"
   },
   {
    "duration": 75,
    "start_time": "2021-06-12T18:20:34.732Z"
   },
   {
    "duration": 53,
    "start_time": "2021-06-12T18:20:34.809Z"
   },
   {
    "duration": 461,
    "start_time": "2021-06-12T18:20:34.864Z"
   },
   {
    "duration": 21,
    "start_time": "2021-06-12T18:20:35.327Z"
   },
   {
    "duration": 10,
    "start_time": "2021-06-12T18:20:35.350Z"
   },
   {
    "duration": 548,
    "start_time": "2021-06-12T18:20:35.362Z"
   },
   {
    "duration": 345,
    "start_time": "2021-06-12T18:20:35.913Z"
   },
   {
    "duration": 398,
    "start_time": "2021-06-12T18:20:36.261Z"
   },
   {
    "duration": 27,
    "start_time": "2021-06-12T18:20:36.662Z"
   },
   {
    "duration": 741,
    "start_time": "2021-06-12T18:20:36.696Z"
   },
   {
    "duration": 36,
    "start_time": "2021-06-12T18:20:37.440Z"
   },
   {
    "duration": 297,
    "start_time": "2021-06-12T18:20:37.479Z"
   },
   {
    "duration": 21,
    "start_time": "2021-06-12T18:20:37.778Z"
   },
   {
    "duration": 499,
    "start_time": "2021-06-12T18:20:37.802Z"
   },
   {
    "duration": 453,
    "start_time": "2021-06-12T18:20:38.304Z"
   },
   {
    "duration": -22,
    "start_time": "2021-06-12T18:20:38.782Z"
   },
   {
    "duration": -32,
    "start_time": "2021-06-12T18:20:38.793Z"
   },
   {
    "duration": 7,
    "start_time": "2021-06-12T18:21:08.250Z"
   },
   {
    "duration": 18,
    "start_time": "2021-06-12T18:21:09.977Z"
   },
   {
    "duration": 331,
    "start_time": "2021-06-12T18:21:13.370Z"
   },
   {
    "duration": 1406,
    "start_time": "2021-06-12T18:21:49.608Z"
   },
   {
    "duration": 1614,
    "start_time": "2021-06-12T18:21:51.017Z"
   },
   {
    "duration": 7,
    "start_time": "2021-06-12T18:21:52.635Z"
   },
   {
    "duration": 16,
    "start_time": "2021-06-12T18:21:52.645Z"
   },
   {
    "duration": 95,
    "start_time": "2021-06-12T18:21:52.664Z"
   },
   {
    "duration": 41,
    "start_time": "2021-06-12T18:21:52.762Z"
   },
   {
    "duration": 85,
    "start_time": "2021-06-12T18:21:52.806Z"
   },
   {
    "duration": 282,
    "start_time": "2021-06-12T18:21:52.895Z"
   },
   {
    "duration": 55,
    "start_time": "2021-06-12T18:21:53.180Z"
   },
   {
    "duration": 47,
    "start_time": "2021-06-12T18:21:53.237Z"
   },
   {
    "duration": 66,
    "start_time": "2021-06-12T18:21:53.287Z"
   },
   {
    "duration": 48,
    "start_time": "2021-06-12T18:21:53.355Z"
   },
   {
    "duration": 64,
    "start_time": "2021-06-12T18:21:53.405Z"
   },
   {
    "duration": 58,
    "start_time": "2021-06-12T18:21:53.472Z"
   },
   {
    "duration": 49,
    "start_time": "2021-06-12T18:21:53.533Z"
   },
   {
    "duration": 489,
    "start_time": "2021-06-12T18:21:53.585Z"
   },
   {
    "duration": 21,
    "start_time": "2021-06-12T18:21:54.077Z"
   },
   {
    "duration": 32,
    "start_time": "2021-06-12T18:21:54.100Z"
   },
   {
    "duration": 525,
    "start_time": "2021-06-12T18:21:54.134Z"
   },
   {
    "duration": 340,
    "start_time": "2021-06-12T18:21:54.662Z"
   },
   {
    "duration": 281,
    "start_time": "2021-06-12T18:21:55.005Z"
   },
   {
    "duration": 36,
    "start_time": "2021-06-12T18:21:55.289Z"
   },
   {
    "duration": 503,
    "start_time": "2021-06-12T18:21:55.329Z"
   },
   {
    "duration": 26,
    "start_time": "2021-06-12T18:21:55.835Z"
   },
   {
    "duration": 307,
    "start_time": "2021-06-12T18:21:55.864Z"
   },
   {
    "duration": 20,
    "start_time": "2021-06-12T18:21:56.174Z"
   },
   {
    "duration": 514,
    "start_time": "2021-06-12T18:21:56.197Z"
   },
   {
    "duration": 20,
    "start_time": "2021-06-12T18:21:56.714Z"
   },
   {
    "duration": 17,
    "start_time": "2021-06-12T18:21:56.737Z"
   },
   {
    "duration": 357,
    "start_time": "2021-06-12T18:21:56.757Z"
   },
   {
    "duration": 12,
    "start_time": "2021-06-12T18:22:28.021Z"
   },
   {
    "duration": 1434,
    "start_time": "2021-06-12T18:27:40.925Z"
   },
   {
    "duration": 1663,
    "start_time": "2021-06-12T18:27:42.362Z"
   },
   {
    "duration": 6,
    "start_time": "2021-06-12T18:27:44.029Z"
   },
   {
    "duration": 18,
    "start_time": "2021-06-12T18:27:44.039Z"
   },
   {
    "duration": 105,
    "start_time": "2021-06-12T18:27:44.059Z"
   },
   {
    "duration": 45,
    "start_time": "2021-06-12T18:27:44.167Z"
   },
   {
    "duration": 80,
    "start_time": "2021-06-12T18:27:44.215Z"
   },
   {
    "duration": 282,
    "start_time": "2021-06-12T18:27:44.299Z"
   },
   {
    "duration": 53,
    "start_time": "2021-06-12T18:27:44.584Z"
   },
   {
    "duration": 50,
    "start_time": "2021-06-12T18:27:44.640Z"
   },
   {
    "duration": 67,
    "start_time": "2021-06-12T18:27:44.693Z"
   },
   {
    "duration": 52,
    "start_time": "2021-06-12T18:27:44.762Z"
   },
   {
    "duration": 47,
    "start_time": "2021-06-12T18:27:44.826Z"
   },
   {
    "duration": 63,
    "start_time": "2021-06-12T18:27:44.875Z"
   },
   {
    "duration": 53,
    "start_time": "2021-06-12T18:27:44.940Z"
   },
   {
    "duration": 466,
    "start_time": "2021-06-12T18:27:44.995Z"
   },
   {
    "duration": 22,
    "start_time": "2021-06-12T18:27:45.464Z"
   },
   {
    "duration": 37,
    "start_time": "2021-06-12T18:27:45.488Z"
   },
   {
    "duration": 629,
    "start_time": "2021-06-12T18:27:45.528Z"
   },
   {
    "duration": 344,
    "start_time": "2021-06-12T18:27:46.159Z"
   },
   {
    "duration": 280,
    "start_time": "2021-06-12T18:27:46.506Z"
   },
   {
    "duration": 40,
    "start_time": "2021-06-12T18:27:46.789Z"
   },
   {
    "duration": 494,
    "start_time": "2021-06-12T18:27:46.835Z"
   },
   {
    "duration": 27,
    "start_time": "2021-06-12T18:27:47.332Z"
   },
   {
    "duration": 308,
    "start_time": "2021-06-12T18:27:47.362Z"
   },
   {
    "duration": 19,
    "start_time": "2021-06-12T18:27:47.672Z"
   },
   {
    "duration": 496,
    "start_time": "2021-06-12T18:27:47.694Z"
   },
   {
    "duration": 46,
    "start_time": "2021-06-12T18:27:48.193Z"
   },
   {
    "duration": 18,
    "start_time": "2021-06-12T18:27:48.241Z"
   },
   {
    "duration": 8274,
    "start_time": "2021-06-12T18:27:48.261Z"
   },
   {
    "duration": 321,
    "start_time": "2021-06-12T18:28:05.142Z"
   },
   {
    "duration": 329,
    "start_time": "2021-06-12T18:31:01.274Z"
   },
   {
    "duration": 83,
    "start_time": "2021-06-12T18:33:31.815Z"
   },
   {
    "duration": 168,
    "start_time": "2021-06-12T18:33:36.838Z"
   },
   {
    "duration": 483,
    "start_time": "2021-06-12T18:36:01.901Z"
   },
   {
    "duration": 59,
    "start_time": "2021-06-12T18:36:06.634Z"
   },
   {
    "duration": 23,
    "start_time": "2021-06-12T18:36:09.717Z"
   },
   {
    "duration": 130,
    "start_time": "2021-06-12T18:36:17.407Z"
   },
   {
    "duration": 77,
    "start_time": "2021-06-12T18:40:42.056Z"
   },
   {
    "duration": 5,
    "start_time": "2021-06-12T18:40:47.209Z"
   },
   {
    "duration": 4926,
    "start_time": "2021-06-12T18:40:50.749Z"
   },
   {
    "duration": 5950,
    "start_time": "2021-06-12T18:41:01.822Z"
   },
   {
    "duration": 1468,
    "start_time": "2021-06-12T18:41:21.209Z"
   },
   {
    "duration": 1584,
    "start_time": "2021-06-12T18:41:22.680Z"
   },
   {
    "duration": 6,
    "start_time": "2021-06-12T18:41:24.267Z"
   },
   {
    "duration": 14,
    "start_time": "2021-06-12T18:41:24.276Z"
   },
   {
    "duration": 105,
    "start_time": "2021-06-12T18:41:24.292Z"
   },
   {
    "duration": 52,
    "start_time": "2021-06-12T18:41:24.399Z"
   },
   {
    "duration": 80,
    "start_time": "2021-06-12T18:41:24.453Z"
   },
   {
    "duration": 267,
    "start_time": "2021-06-12T18:41:24.537Z"
   },
   {
    "duration": 48,
    "start_time": "2021-06-12T18:41:24.807Z"
   },
   {
    "duration": 68,
    "start_time": "2021-06-12T18:41:24.857Z"
   },
   {
    "duration": 47,
    "start_time": "2021-06-12T18:41:24.927Z"
   },
   {
    "duration": 68,
    "start_time": "2021-06-12T18:41:24.977Z"
   },
   {
    "duration": 47,
    "start_time": "2021-06-12T18:41:25.047Z"
   },
   {
    "duration": 67,
    "start_time": "2021-06-12T18:41:25.096Z"
   },
   {
    "duration": 61,
    "start_time": "2021-06-12T18:41:25.166Z"
   },
   {
    "duration": 475,
    "start_time": "2021-06-12T18:41:25.229Z"
   },
   {
    "duration": 35,
    "start_time": "2021-06-12T18:41:25.706Z"
   },
   {
    "duration": 11,
    "start_time": "2021-06-12T18:41:25.744Z"
   },
   {
    "duration": 528,
    "start_time": "2021-06-12T18:41:25.757Z"
   },
   {
    "duration": 339,
    "start_time": "2021-06-12T18:41:26.288Z"
   },
   {
    "duration": 264,
    "start_time": "2021-06-12T18:41:26.629Z"
   },
   {
    "duration": 33,
    "start_time": "2021-06-12T18:41:26.895Z"
   },
   {
    "duration": 504,
    "start_time": "2021-06-12T18:41:26.933Z"
   },
   {
    "duration": 28,
    "start_time": "2021-06-12T18:41:27.440Z"
   },
   {
    "duration": 305,
    "start_time": "2021-06-12T18:41:27.470Z"
   },
   {
    "duration": 20,
    "start_time": "2021-06-12T18:41:27.777Z"
   },
   {
    "duration": 516,
    "start_time": "2021-06-12T18:41:27.800Z"
   },
   {
    "duration": 353,
    "start_time": "2021-06-12T18:41:28.325Z"
   },
   {
    "duration": 48,
    "start_time": "2021-06-12T18:41:28.680Z"
   },
   {
    "duration": 17,
    "start_time": "2021-06-12T18:41:28.730Z"
   },
   {
    "duration": 98,
    "start_time": "2021-06-12T18:41:28.750Z"
   },
   {
    "duration": 177,
    "start_time": "2021-06-12T18:41:28.851Z"
   },
   {
    "duration": 72,
    "start_time": "2021-06-12T18:41:29.031Z"
   },
   {
    "duration": 501,
    "start_time": "2021-06-12T18:41:29.106Z"
   },
   {
    "duration": 70,
    "start_time": "2021-06-12T18:41:29.610Z"
   },
   {
    "duration": 23,
    "start_time": "2021-06-12T18:41:29.683Z"
   },
   {
    "duration": 153,
    "start_time": "2021-06-12T18:41:29.708Z"
   },
   {
    "duration": 91,
    "start_time": "2021-06-12T18:41:29.864Z"
   },
   {
    "duration": 5,
    "start_time": "2021-06-12T18:41:29.958Z"
   },
   {
    "duration": 4987,
    "start_time": "2021-06-12T18:41:29.965Z"
   },
   {
    "duration": 325775,
    "start_time": "2021-06-12T18:41:34.954Z"
   },
   {
    "duration": 16406,
    "start_time": "2021-06-12T18:47:00.732Z"
   },
   {
    "duration": 3,
    "start_time": "2021-06-12T18:47:17.141Z"
   },
   {
    "duration": 13,
    "start_time": "2021-06-12T18:47:17.226Z"
   },
   {
    "duration": 6,
    "start_time": "2021-06-12T18:47:17.242Z"
   },
   {
    "duration": 1576,
    "start_time": "2021-06-12T18:47:17.251Z"
   },
   {
    "duration": 4,
    "start_time": "2021-06-12T18:47:18.829Z"
   },
   {
    "duration": 13,
    "start_time": "2021-06-12T18:47:18.835Z"
   },
   {
    "duration": 20,
    "start_time": "2021-06-12T19:08:33.737Z"
   },
   {
    "duration": 563,
    "start_time": "2021-06-12T19:10:05.375Z"
   },
   {
    "duration": 51,
    "start_time": "2021-06-12T19:10:26.410Z"
   },
   {
    "duration": 444,
    "start_time": "2021-06-12T19:10:38.210Z"
   },
   {
    "duration": 386,
    "start_time": "2021-06-12T19:11:32.998Z"
   },
   {
    "duration": 398,
    "start_time": "2021-06-12T19:13:13.985Z"
   },
   {
    "duration": 19,
    "start_time": "2021-06-12T19:14:17.579Z"
   },
   {
    "duration": 19,
    "start_time": "2021-06-12T19:14:36.206Z"
   },
   {
    "duration": 425,
    "start_time": "2021-06-12T19:15:41.258Z"
   },
   {
    "duration": 330,
    "start_time": "2021-06-12T19:16:03.546Z"
   },
   {
    "duration": 21,
    "start_time": "2021-06-12T19:16:25.483Z"
   },
   {
    "duration": 43,
    "start_time": "2021-06-12T19:18:03.219Z"
   },
   {
    "duration": 32,
    "start_time": "2021-06-12T19:18:14.707Z"
   },
   {
    "duration": 467,
    "start_time": "2021-06-12T19:18:33.328Z"
   },
   {
    "duration": 377,
    "start_time": "2021-06-12T19:18:50.955Z"
   },
   {
    "duration": 899,
    "start_time": "2021-06-12T19:19:16.972Z"
   },
   {
    "duration": 376,
    "start_time": "2021-06-12T19:19:35.096Z"
   },
   {
    "duration": 352,
    "start_time": "2021-06-12T19:20:30.890Z"
   },
   {
    "duration": 1540,
    "start_time": "2021-06-12T19:20:59.922Z"
   },
   {
    "duration": 379,
    "start_time": "2021-06-12T19:21:10.003Z"
   },
   {
    "duration": 1052,
    "start_time": "2021-06-12T19:21:36.125Z"
   },
   {
    "duration": 373,
    "start_time": "2021-06-12T19:21:57.119Z"
   },
   {
    "duration": 398,
    "start_time": "2021-06-12T19:23:23.517Z"
   },
   {
    "duration": 8432,
    "start_time": "2021-06-12T19:23:49.561Z"
   },
   {
    "duration": 374,
    "start_time": "2021-06-12T19:24:21.676Z"
   },
   {
    "duration": 8508,
    "start_time": "2021-06-12T19:24:38.368Z"
   },
   {
    "duration": 351,
    "start_time": "2021-06-12T19:25:39.878Z"
   },
   {
    "duration": 353,
    "start_time": "2021-06-12T19:25:48.173Z"
   },
   {
    "duration": 25,
    "start_time": "2021-06-12T19:26:22.280Z"
   },
   {
    "duration": 392,
    "start_time": "2021-06-12T19:26:49.956Z"
   },
   {
    "duration": 22,
    "start_time": "2021-06-12T19:27:33.545Z"
   },
   {
    "duration": 337,
    "start_time": "2021-06-12T19:28:00.549Z"
   },
   {
    "duration": 347,
    "start_time": "2021-06-12T19:28:34.876Z"
   },
   {
    "duration": 375,
    "start_time": "2021-06-12T19:29:15.568Z"
   },
   {
    "duration": 369,
    "start_time": "2021-06-12T19:29:24.225Z"
   },
   {
    "duration": 409,
    "start_time": "2021-06-12T19:29:33.675Z"
   },
   {
    "duration": 334,
    "start_time": "2021-06-12T19:30:18.868Z"
   },
   {
    "duration": 330,
    "start_time": "2021-06-12T19:30:30.047Z"
   },
   {
    "duration": 336,
    "start_time": "2021-06-12T19:34:17.194Z"
   },
   {
    "duration": 454,
    "start_time": "2021-06-12T19:34:27.071Z"
   },
   {
    "duration": 1474,
    "start_time": "2021-06-12T19:41:40.499Z"
   },
   {
    "duration": 1633,
    "start_time": "2021-06-12T19:41:41.975Z"
   },
   {
    "duration": 17,
    "start_time": "2021-06-12T19:41:43.611Z"
   },
   {
    "duration": 14,
    "start_time": "2021-06-12T19:41:43.631Z"
   },
   {
    "duration": 101,
    "start_time": "2021-06-12T19:41:43.647Z"
   },
   {
    "duration": 38,
    "start_time": "2021-06-12T19:41:43.750Z"
   },
   {
    "duration": 90,
    "start_time": "2021-06-12T19:41:43.791Z"
   },
   {
    "duration": 278,
    "start_time": "2021-06-12T19:41:43.885Z"
   },
   {
    "duration": 63,
    "start_time": "2021-06-12T19:41:44.166Z"
   },
   {
    "duration": 47,
    "start_time": "2021-06-12T19:41:44.232Z"
   },
   {
    "duration": 74,
    "start_time": "2021-06-12T19:41:44.282Z"
   },
   {
    "duration": 48,
    "start_time": "2021-06-12T19:41:44.359Z"
   },
   {
    "duration": 48,
    "start_time": "2021-06-12T19:41:44.426Z"
   },
   {
    "duration": 82,
    "start_time": "2021-06-12T19:41:44.476Z"
   },
   {
    "duration": 74,
    "start_time": "2021-06-12T19:41:44.561Z"
   },
   {
    "duration": 649,
    "start_time": "2021-06-12T19:41:44.638Z"
   },
   {
    "duration": 40,
    "start_time": "2021-06-12T19:41:45.290Z"
   },
   {
    "duration": 11,
    "start_time": "2021-06-12T19:41:45.332Z"
   },
   {
    "duration": 528,
    "start_time": "2021-06-12T19:41:45.345Z"
   },
   {
    "duration": 340,
    "start_time": "2021-06-12T19:41:45.876Z"
   },
   {
    "duration": 267,
    "start_time": "2021-06-12T19:41:46.219Z"
   },
   {
    "duration": 20,
    "start_time": "2021-06-12T19:41:46.489Z"
   },
   {
    "duration": 484,
    "start_time": "2021-06-12T19:41:46.529Z"
   },
   {
    "duration": 32,
    "start_time": "2021-06-12T19:41:47.016Z"
   },
   {
    "duration": 309,
    "start_time": "2021-06-12T19:41:47.050Z"
   },
   {
    "duration": 20,
    "start_time": "2021-06-12T19:41:47.362Z"
   },
   {
    "duration": 577,
    "start_time": "2021-06-12T19:41:47.385Z"
   },
   {
    "duration": 349,
    "start_time": "2021-06-12T19:41:47.965Z"
   },
   {
    "duration": 43,
    "start_time": "2021-06-12T19:41:48.318Z"
   },
   {
    "duration": 18,
    "start_time": "2021-06-12T19:41:48.364Z"
   },
   {
    "duration": 109,
    "start_time": "2021-06-12T19:41:48.385Z"
   },
   {
    "duration": 176,
    "start_time": "2021-06-12T19:41:48.496Z"
   },
   {
    "duration": 76,
    "start_time": "2021-06-12T19:41:48.674Z"
   },
   {
    "duration": 486,
    "start_time": "2021-06-12T19:41:48.752Z"
   },
   {
    "duration": 61,
    "start_time": "2021-06-12T19:41:49.240Z"
   },
   {
    "duration": 39,
    "start_time": "2021-06-12T19:41:49.303Z"
   },
   {
    "duration": 148,
    "start_time": "2021-06-12T19:41:49.344Z"
   },
   {
    "duration": 86,
    "start_time": "2021-06-12T19:41:49.494Z"
   },
   {
    "duration": 5,
    "start_time": "2021-06-12T19:41:49.582Z"
   },
   {
    "duration": 5424,
    "start_time": "2021-06-12T19:41:49.590Z"
   },
   {
    "duration": 331161,
    "start_time": "2021-06-12T19:41:55.025Z"
   },
   {
    "duration": 551846,
    "start_time": "2021-06-12T19:47:26.188Z"
   },
   {
    "duration": 4,
    "start_time": "2021-06-12T19:56:38.036Z"
   },
   {
    "duration": 18,
    "start_time": "2021-06-12T19:56:38.042Z"
   },
   {
    "duration": 11,
    "start_time": "2021-06-12T19:56:38.063Z"
   },
   {
    "duration": 1467,
    "start_time": "2021-06-12T19:56:38.076Z"
   },
   {
    "duration": 5,
    "start_time": "2021-06-12T19:56:39.546Z"
   },
   {
    "duration": 85,
    "start_time": "2021-06-12T19:56:39.554Z"
   },
   {
    "duration": 370,
    "start_time": "2021-06-12T19:56:39.642Z"
   }
  ],
  "kernelspec": {
   "display_name": "Python 3",
   "language": "python",
   "name": "python3"
  },
  "language_info": {
   "codemirror_mode": {
    "name": "ipython",
    "version": 3
   },
   "file_extension": ".py",
   "mimetype": "text/x-python",
   "name": "python",
   "nbconvert_exporter": "python",
   "pygments_lexer": "ipython3",
   "version": "3.8.5"
  },
  "toc": {
   "base_numbering": 1,
   "nav_menu": {},
   "number_sections": true,
   "sideBar": true,
   "skip_h1_title": true,
   "title_cell": "Table of Contents",
   "title_sidebar": "Contents",
   "toc_cell": true,
   "toc_position": {
    "height": "calc(100% - 180px)",
    "left": "10px",
    "top": "150px",
    "width": "165px"
   },
   "toc_section_display": true,
   "toc_window_display": true
  }
 },
 "nbformat": 4,
 "nbformat_minor": 2
}

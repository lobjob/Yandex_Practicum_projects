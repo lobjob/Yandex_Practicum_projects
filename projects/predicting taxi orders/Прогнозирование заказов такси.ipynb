{
 "cells": [
  {
   "cell_type": "markdown",
   "metadata": {},
   "source": [
    "# Проект: Прогнозирование заказов такси"
   ]
  },
  {
   "cell_type": "markdown",
   "metadata": {},
   "source": [
    "**Описание проекта**\n",
    "\n",
    "В компании «Чётенькое такси» (название вымышленное) решили оптимизировать работу сервиса в аэропортах и собрали для этого исторические данные о заказах такси по аэропортам. Чтобы привлекать больше водителей в период пиковой нагрузки, нужно спрогнозировать количество заказов такси на следующий час. Моя задача: построить модель для такого предсказания.\n",
    "\n",
    "Значение метрики *RMSE* на тестовой выборке должно быть не больше 48.\n",
    "\n",
    "Задачи:\n",
    "\n",
    "1. Загрузить данные и выполнить их ресемплирование по одному часу.\n",
    "2. Проанализировать данные.\n",
    "3. Обучить разные модели с различными гиперпараметрами. Сделать тестовую выборку размером 10% от исходных данных.\n",
    "4. Проверить данные на тестовой выборке и сделать выводы.\n",
    "\n",
    "**Описание данных**\n",
    "\n",
    "Данные лежат в файле `taxi.csv`. Количество заказов находится в столбце `num_orders` (от англ. *number of orders*, «число заказов»).\n",
    "\n",
    "*Примечание:* Проект выполнен на английском языке."
   ]
  },
  {
   "cell_type": "markdown",
   "metadata": {
    "toc": true
   },
   "source": [
    "<h1>Table of contents<span class=\"tocSkip\"></span></h1>\n",
    "<div class=\"toc\"><ul class=\"toc-item\"><li><span><a href=\"#Prepare-of-data\" data-toc-modified-id=\"Prepare-of-data-1\"><span class=\"toc-item-num\">1&nbsp;&nbsp;</span>Prepare of data</a></span><ul class=\"toc-item\"><li><span><a href=\"#Import-of-libraries\" data-toc-modified-id=\"Import-of-libraries-1.1\"><span class=\"toc-item-num\">1.1&nbsp;&nbsp;</span>Import of libraries</a></span></li><li><span><a href=\"#Open-the-data\" data-toc-modified-id=\"Open-the-data-1.2\"><span class=\"toc-item-num\">1.2&nbsp;&nbsp;</span>Open the data</a></span></li></ul></li><li><span><a href=\"#Analisys\" data-toc-modified-id=\"Analisys-2\"><span class=\"toc-item-num\">2&nbsp;&nbsp;</span>Analisys</a></span></li><li><span><a href=\"#Train\" data-toc-modified-id=\"Train-3\"><span class=\"toc-item-num\">3&nbsp;&nbsp;</span>Train</a></span><ul class=\"toc-item\"><li><span><a href=\"#Prepare-of-data\" data-toc-modified-id=\"Prepare-of-data-3.1\"><span class=\"toc-item-num\">3.1&nbsp;&nbsp;</span>Prepare of data</a></span></li><li><span><a href=\"#Train-models\" data-toc-modified-id=\"Train-models-3.2\"><span class=\"toc-item-num\">3.2&nbsp;&nbsp;</span>Train models</a></span></li></ul></li><li><span><a href=\"#Test\" data-toc-modified-id=\"Test-4\"><span class=\"toc-item-num\">4&nbsp;&nbsp;</span>Test</a></span></li><li><span><a href=\"#Final-result\" data-toc-modified-id=\"Final-result-5\"><span class=\"toc-item-num\">5&nbsp;&nbsp;</span>Final result</a></span></li></ul></div>"
   ]
  },
  {
   "cell_type": "markdown",
   "metadata": {},
   "source": [
    "## Prepare of data"
   ]
  },
  {
   "cell_type": "markdown",
   "metadata": {},
   "source": [
    "### Import of libraries"
   ]
  },
  {
   "cell_type": "markdown",
   "metadata": {},
   "source": [
    "In first import the libraries we are need:"
   ]
  },
  {
   "cell_type": "code",
   "execution_count": 1,
   "metadata": {},
   "outputs": [],
   "source": [
    "import pandas as pd\n",
    "import numpy as np\n",
    "from statsmodels.tsa.seasonal import seasonal_decompose\n",
    "from sklearn.model_selection import train_test_split\n",
    "from sklearn.metrics import mean_squared_error\n",
    "from sklearn.tree import DecisionTreeRegressor\n",
    "from sklearn.ensemble import RandomForestRegressor\n",
    "from sklearn.linear_model import LinearRegression\n",
    "import lightgbm as lgb"
   ]
  },
  {
   "cell_type": "markdown",
   "metadata": {},
   "source": [
    "### Open the data"
   ]
  },
  {
   "cell_type": "markdown",
   "metadata": {},
   "source": [
    "Now we will open the data and let's see the information:"
   ]
  },
  {
   "cell_type": "code",
   "execution_count": 2,
   "metadata": {},
   "outputs": [
    {
     "name": "stdout",
     "output_type": "stream",
     "text": [
      "Data:\n"
     ]
    },
    {
     "data": {
      "text/html": [
       "<div>\n",
       "<style scoped>\n",
       "    .dataframe tbody tr th:only-of-type {\n",
       "        vertical-align: middle;\n",
       "    }\n",
       "\n",
       "    .dataframe tbody tr th {\n",
       "        vertical-align: top;\n",
       "    }\n",
       "\n",
       "    .dataframe thead th {\n",
       "        text-align: right;\n",
       "    }\n",
       "</style>\n",
       "<table border=\"1\" class=\"dataframe\">\n",
       "  <thead>\n",
       "    <tr style=\"text-align: right;\">\n",
       "      <th></th>\n",
       "      <th>datetime</th>\n",
       "      <th>num_orders</th>\n",
       "    </tr>\n",
       "  </thead>\n",
       "  <tbody>\n",
       "    <tr>\n",
       "      <td>0</td>\n",
       "      <td>2018-03-01 00:00:00</td>\n",
       "      <td>9</td>\n",
       "    </tr>\n",
       "    <tr>\n",
       "      <td>1</td>\n",
       "      <td>2018-03-01 00:10:00</td>\n",
       "      <td>14</td>\n",
       "    </tr>\n",
       "    <tr>\n",
       "      <td>2</td>\n",
       "      <td>2018-03-01 00:20:00</td>\n",
       "      <td>28</td>\n",
       "    </tr>\n",
       "    <tr>\n",
       "      <td>3</td>\n",
       "      <td>2018-03-01 00:30:00</td>\n",
       "      <td>20</td>\n",
       "    </tr>\n",
       "    <tr>\n",
       "      <td>4</td>\n",
       "      <td>2018-03-01 00:40:00</td>\n",
       "      <td>32</td>\n",
       "    </tr>\n",
       "    <tr>\n",
       "      <td>...</td>\n",
       "      <td>...</td>\n",
       "      <td>...</td>\n",
       "    </tr>\n",
       "    <tr>\n",
       "      <td>26491</td>\n",
       "      <td>2018-08-31 23:10:00</td>\n",
       "      <td>32</td>\n",
       "    </tr>\n",
       "    <tr>\n",
       "      <td>26492</td>\n",
       "      <td>2018-08-31 23:20:00</td>\n",
       "      <td>24</td>\n",
       "    </tr>\n",
       "    <tr>\n",
       "      <td>26493</td>\n",
       "      <td>2018-08-31 23:30:00</td>\n",
       "      <td>27</td>\n",
       "    </tr>\n",
       "    <tr>\n",
       "      <td>26494</td>\n",
       "      <td>2018-08-31 23:40:00</td>\n",
       "      <td>39</td>\n",
       "    </tr>\n",
       "    <tr>\n",
       "      <td>26495</td>\n",
       "      <td>2018-08-31 23:50:00</td>\n",
       "      <td>53</td>\n",
       "    </tr>\n",
       "  </tbody>\n",
       "</table>\n",
       "<p>26496 rows × 2 columns</p>\n",
       "</div>"
      ],
      "text/plain": [
       "                  datetime  num_orders\n",
       "0      2018-03-01 00:00:00           9\n",
       "1      2018-03-01 00:10:00          14\n",
       "2      2018-03-01 00:20:00          28\n",
       "3      2018-03-01 00:30:00          20\n",
       "4      2018-03-01 00:40:00          32\n",
       "...                    ...         ...\n",
       "26491  2018-08-31 23:10:00          32\n",
       "26492  2018-08-31 23:20:00          24\n",
       "26493  2018-08-31 23:30:00          27\n",
       "26494  2018-08-31 23:40:00          39\n",
       "26495  2018-08-31 23:50:00          53\n",
       "\n",
       "[26496 rows x 2 columns]"
      ]
     },
     "metadata": {},
     "output_type": "display_data"
    },
    {
     "name": "stdout",
     "output_type": "stream",
     "text": [
      "-------------------------------------\n",
      "\n",
      "Info:\n",
      "<class 'pandas.core.frame.DataFrame'>\n",
      "RangeIndex: 26496 entries, 0 to 26495\n",
      "Data columns (total 2 columns):\n",
      "datetime      26496 non-null object\n",
      "num_orders    26496 non-null int64\n",
      "dtypes: int64(1), object(1)\n",
      "memory usage: 414.1+ KB\n",
      "None\n"
     ]
    }
   ],
   "source": [
    "df = pd.read_csv('/datasets/taxi.csv')\n",
    "print('Data:')\n",
    "display(df)\n",
    "print('-------------------------------------')\n",
    "print()\n",
    "print('Info:')\n",
    "print(df.info())"
   ]
  },
  {
   "cell_type": "markdown",
   "metadata": {},
   "source": [
    "We have two columns. The first column is a date in object format and the second column is number of orders. Let's reopen our dataset. We need to take date column as index."
   ]
  },
  {
   "cell_type": "code",
   "execution_count": 3,
   "metadata": {},
   "outputs": [
    {
     "name": "stdout",
     "output_type": "stream",
     "text": [
      "Data:\n"
     ]
    },
    {
     "data": {
      "text/html": [
       "<div>\n",
       "<style scoped>\n",
       "    .dataframe tbody tr th:only-of-type {\n",
       "        vertical-align: middle;\n",
       "    }\n",
       "\n",
       "    .dataframe tbody tr th {\n",
       "        vertical-align: top;\n",
       "    }\n",
       "\n",
       "    .dataframe thead th {\n",
       "        text-align: right;\n",
       "    }\n",
       "</style>\n",
       "<table border=\"1\" class=\"dataframe\">\n",
       "  <thead>\n",
       "    <tr style=\"text-align: right;\">\n",
       "      <th></th>\n",
       "      <th>num_orders</th>\n",
       "    </tr>\n",
       "    <tr>\n",
       "      <th>datetime</th>\n",
       "      <th></th>\n",
       "    </tr>\n",
       "  </thead>\n",
       "  <tbody>\n",
       "    <tr>\n",
       "      <td>2018-03-01 00:00:00</td>\n",
       "      <td>9</td>\n",
       "    </tr>\n",
       "    <tr>\n",
       "      <td>2018-03-01 00:10:00</td>\n",
       "      <td>14</td>\n",
       "    </tr>\n",
       "    <tr>\n",
       "      <td>2018-03-01 00:20:00</td>\n",
       "      <td>28</td>\n",
       "    </tr>\n",
       "    <tr>\n",
       "      <td>2018-03-01 00:30:00</td>\n",
       "      <td>20</td>\n",
       "    </tr>\n",
       "    <tr>\n",
       "      <td>2018-03-01 00:40:00</td>\n",
       "      <td>32</td>\n",
       "    </tr>\n",
       "    <tr>\n",
       "      <td>...</td>\n",
       "      <td>...</td>\n",
       "    </tr>\n",
       "    <tr>\n",
       "      <td>2018-08-31 23:10:00</td>\n",
       "      <td>32</td>\n",
       "    </tr>\n",
       "    <tr>\n",
       "      <td>2018-08-31 23:20:00</td>\n",
       "      <td>24</td>\n",
       "    </tr>\n",
       "    <tr>\n",
       "      <td>2018-08-31 23:30:00</td>\n",
       "      <td>27</td>\n",
       "    </tr>\n",
       "    <tr>\n",
       "      <td>2018-08-31 23:40:00</td>\n",
       "      <td>39</td>\n",
       "    </tr>\n",
       "    <tr>\n",
       "      <td>2018-08-31 23:50:00</td>\n",
       "      <td>53</td>\n",
       "    </tr>\n",
       "  </tbody>\n",
       "</table>\n",
       "<p>26496 rows × 1 columns</p>\n",
       "</div>"
      ],
      "text/plain": [
       "                     num_orders\n",
       "datetime                       \n",
       "2018-03-01 00:00:00           9\n",
       "2018-03-01 00:10:00          14\n",
       "2018-03-01 00:20:00          28\n",
       "2018-03-01 00:30:00          20\n",
       "2018-03-01 00:40:00          32\n",
       "...                         ...\n",
       "2018-08-31 23:10:00          32\n",
       "2018-08-31 23:20:00          24\n",
       "2018-08-31 23:30:00          27\n",
       "2018-08-31 23:40:00          39\n",
       "2018-08-31 23:50:00          53\n",
       "\n",
       "[26496 rows x 1 columns]"
      ]
     },
     "metadata": {},
     "output_type": "display_data"
    },
    {
     "name": "stdout",
     "output_type": "stream",
     "text": [
      "-------------------------------------\n",
      "\n",
      "Info:\n",
      "<class 'pandas.core.frame.DataFrame'>\n",
      "DatetimeIndex: 26496 entries, 2018-03-01 00:00:00 to 2018-08-31 23:50:00\n",
      "Data columns (total 1 columns):\n",
      "num_orders    26496 non-null int64\n",
      "dtypes: int64(1)\n",
      "memory usage: 414.0 KB\n",
      "None\n"
     ]
    }
   ],
   "source": [
    "df = pd.read_csv('/datasets/taxi.csv', index_col=[0], parse_dates=[0])\n",
    "print('Data:')\n",
    "display(df)\n",
    "print('-------------------------------------')\n",
    "print()\n",
    "print('Info:')\n",
    "print(df.info())"
   ]
  },
  {
   "cell_type": "markdown",
   "metadata": {},
   "source": [
    "We took the data in the format we need."
   ]
  },
  {
   "cell_type": "markdown",
   "metadata": {},
   "source": [
    "## Analisys"
   ]
  },
  {
   "cell_type": "markdown",
   "metadata": {},
   "source": [
    "Now let's check the index is monotone:"
   ]
  },
  {
   "cell_type": "code",
   "execution_count": 4,
   "metadata": {
    "scrolled": true
   },
   "outputs": [
    {
     "name": "stdout",
     "output_type": "stream",
     "text": [
      "True\n"
     ]
    }
   ],
   "source": [
    "print(df.index.is_monotonic)"
   ]
  },
  {
   "cell_type": "markdown",
   "metadata": {},
   "source": [
    "Ok. Next, we need to check the \"num_orders\" column for outliers:"
   ]
  },
  {
   "cell_type": "code",
   "execution_count": 5,
   "metadata": {},
   "outputs": [
    {
     "data": {
      "text/plain": [
       "<matplotlib.axes._subplots.AxesSubplot at 0x7f278a5d1650>"
      ]
     },
     "execution_count": 5,
     "metadata": {},
     "output_type": "execute_result"
    },
    {
     "data": {
      "image/png": "[encoded data removed]",
      "text/plain": [
       "<Figure size 432x288 with 1 Axes>"
      ]
     },
     "metadata": {
      "needs_background": "light"
     },
     "output_type": "display_data"
    }
   ],
   "source": [
    "df['num_orders'].plot(kind='hist')"
   ]
  },
  {
   "cell_type": "code",
   "execution_count": 6,
   "metadata": {},
   "outputs": [
    {
     "data": {
      "text/html": [
       "<div>\n",
       "<style scoped>\n",
       "    .dataframe tbody tr th:only-of-type {\n",
       "        vertical-align: middle;\n",
       "    }\n",
       "\n",
       "    .dataframe tbody tr th {\n",
       "        vertical-align: top;\n",
       "    }\n",
       "\n",
       "    .dataframe thead th {\n",
       "        text-align: right;\n",
       "    }\n",
       "</style>\n",
       "<table border=\"1\" class=\"dataframe\">\n",
       "  <thead>\n",
       "    <tr style=\"text-align: right;\">\n",
       "      <th></th>\n",
       "      <th>num_orders</th>\n",
       "    </tr>\n",
       "    <tr>\n",
       "      <th>datetime</th>\n",
       "      <th></th>\n",
       "    </tr>\n",
       "  </thead>\n",
       "  <tbody>\n",
       "    <tr>\n",
       "      <td>2018-04-24 00:30:00</td>\n",
       "      <td>68</td>\n",
       "    </tr>\n",
       "    <tr>\n",
       "      <td>2018-07-16 04:40:00</td>\n",
       "      <td>64</td>\n",
       "    </tr>\n",
       "    <tr>\n",
       "      <td>2018-07-19 10:50:00</td>\n",
       "      <td>61</td>\n",
       "    </tr>\n",
       "    <tr>\n",
       "      <td>2018-08-08 00:50:00</td>\n",
       "      <td>64</td>\n",
       "    </tr>\n",
       "    <tr>\n",
       "      <td>2018-08-08 01:00:00</td>\n",
       "      <td>64</td>\n",
       "    </tr>\n",
       "    <tr>\n",
       "      <td>2018-08-11 00:50:00</td>\n",
       "      <td>64</td>\n",
       "    </tr>\n",
       "    <tr>\n",
       "      <td>2018-08-11 01:00:00</td>\n",
       "      <td>62</td>\n",
       "    </tr>\n",
       "    <tr>\n",
       "      <td>2018-08-13 01:00:00</td>\n",
       "      <td>64</td>\n",
       "    </tr>\n",
       "    <tr>\n",
       "      <td>2018-08-13 01:10:00</td>\n",
       "      <td>71</td>\n",
       "    </tr>\n",
       "    <tr>\n",
       "      <td>2018-08-13 02:10:00</td>\n",
       "      <td>78</td>\n",
       "    </tr>\n",
       "    <tr>\n",
       "      <td>2018-08-13 02:20:00</td>\n",
       "      <td>119</td>\n",
       "    </tr>\n",
       "    <tr>\n",
       "      <td>2018-08-13 02:30:00</td>\n",
       "      <td>99</td>\n",
       "    </tr>\n",
       "    <tr>\n",
       "      <td>2018-08-17 02:20:00</td>\n",
       "      <td>68</td>\n",
       "    </tr>\n",
       "    <tr>\n",
       "      <td>2018-08-20 02:00:00</td>\n",
       "      <td>87</td>\n",
       "    </tr>\n",
       "    <tr>\n",
       "      <td>2018-08-20 02:10:00</td>\n",
       "      <td>90</td>\n",
       "    </tr>\n",
       "    <tr>\n",
       "      <td>2018-08-20 02:20:00</td>\n",
       "      <td>94</td>\n",
       "    </tr>\n",
       "    <tr>\n",
       "      <td>2018-08-20 02:30:00</td>\n",
       "      <td>82</td>\n",
       "    </tr>\n",
       "    <tr>\n",
       "      <td>2018-08-20 02:40:00</td>\n",
       "      <td>80</td>\n",
       "    </tr>\n",
       "    <tr>\n",
       "      <td>2018-08-20 03:50:00</td>\n",
       "      <td>71</td>\n",
       "    </tr>\n",
       "    <tr>\n",
       "      <td>2018-08-20 04:00:00</td>\n",
       "      <td>91</td>\n",
       "    </tr>\n",
       "    <tr>\n",
       "      <td>2018-08-20 04:10:00</td>\n",
       "      <td>62</td>\n",
       "    </tr>\n",
       "    <tr>\n",
       "      <td>2018-08-21 03:50:00</td>\n",
       "      <td>76</td>\n",
       "    </tr>\n",
       "    <tr>\n",
       "      <td>2018-08-21 04:00:00</td>\n",
       "      <td>71</td>\n",
       "    </tr>\n",
       "    <tr>\n",
       "      <td>2018-08-25 00:00:00</td>\n",
       "      <td>66</td>\n",
       "    </tr>\n",
       "    <tr>\n",
       "      <td>2018-08-25 01:10:00</td>\n",
       "      <td>61</td>\n",
       "    </tr>\n",
       "    <tr>\n",
       "      <td>2018-08-25 04:40:00</td>\n",
       "      <td>64</td>\n",
       "    </tr>\n",
       "    <tr>\n",
       "      <td>2018-08-26 23:40:00</td>\n",
       "      <td>65</td>\n",
       "    </tr>\n",
       "    <tr>\n",
       "      <td>2018-08-27 00:00:00</td>\n",
       "      <td>61</td>\n",
       "    </tr>\n",
       "    <tr>\n",
       "      <td>2018-08-27 02:00:00</td>\n",
       "      <td>98</td>\n",
       "    </tr>\n",
       "    <tr>\n",
       "      <td>2018-08-27 02:10:00</td>\n",
       "      <td>119</td>\n",
       "    </tr>\n",
       "    <tr>\n",
       "      <td>2018-08-27 02:20:00</td>\n",
       "      <td>81</td>\n",
       "    </tr>\n",
       "    <tr>\n",
       "      <td>2018-08-27 04:20:00</td>\n",
       "      <td>64</td>\n",
       "    </tr>\n",
       "    <tr>\n",
       "      <td>2018-08-27 04:30:00</td>\n",
       "      <td>71</td>\n",
       "    </tr>\n",
       "    <tr>\n",
       "      <td>2018-08-29 00:50:00</td>\n",
       "      <td>62</td>\n",
       "    </tr>\n",
       "    <tr>\n",
       "      <td>2018-08-29 23:20:00</td>\n",
       "      <td>61</td>\n",
       "    </tr>\n",
       "    <tr>\n",
       "      <td>2018-08-30 17:40:00</td>\n",
       "      <td>76</td>\n",
       "    </tr>\n",
       "    <tr>\n",
       "      <td>2018-08-30 17:50:00</td>\n",
       "      <td>95</td>\n",
       "    </tr>\n",
       "    <tr>\n",
       "      <td>2018-08-30 18:00:00</td>\n",
       "      <td>67</td>\n",
       "    </tr>\n",
       "  </tbody>\n",
       "</table>\n",
       "</div>"
      ],
      "text/plain": [
       "                     num_orders\n",
       "datetime                       \n",
       "2018-04-24 00:30:00          68\n",
       "2018-07-16 04:40:00          64\n",
       "2018-07-19 10:50:00          61\n",
       "2018-08-08 00:50:00          64\n",
       "2018-08-08 01:00:00          64\n",
       "2018-08-11 00:50:00          64\n",
       "2018-08-11 01:00:00          62\n",
       "2018-08-13 01:00:00          64\n",
       "2018-08-13 01:10:00          71\n",
       "2018-08-13 02:10:00          78\n",
       "2018-08-13 02:20:00         119\n",
       "2018-08-13 02:30:00          99\n",
       "2018-08-17 02:20:00          68\n",
       "2018-08-20 02:00:00          87\n",
       "2018-08-20 02:10:00          90\n",
       "2018-08-20 02:20:00          94\n",
       "2018-08-20 02:30:00          82\n",
       "2018-08-20 02:40:00          80\n",
       "2018-08-20 03:50:00          71\n",
       "2018-08-20 04:00:00          91\n",
       "2018-08-20 04:10:00          62\n",
       "2018-08-21 03:50:00          76\n",
       "2018-08-21 04:00:00          71\n",
       "2018-08-25 00:00:00          66\n",
       "2018-08-25 01:10:00          61\n",
       "2018-08-25 04:40:00          64\n",
       "2018-08-26 23:40:00          65\n",
       "2018-08-27 00:00:00          61\n",
       "2018-08-27 02:00:00          98\n",
       "2018-08-27 02:10:00         119\n",
       "2018-08-27 02:20:00          81\n",
       "2018-08-27 04:20:00          64\n",
       "2018-08-27 04:30:00          71\n",
       "2018-08-29 00:50:00          62\n",
       "2018-08-29 23:20:00          61\n",
       "2018-08-30 17:40:00          76\n",
       "2018-08-30 17:50:00          95\n",
       "2018-08-30 18:00:00          67"
      ]
     },
     "execution_count": 6,
     "metadata": {},
     "output_type": "execute_result"
    }
   ],
   "source": [
    "df[df['num_orders'] > 60]"
   ]
  },
  {
   "cell_type": "markdown",
   "metadata": {},
   "source": [
    "We have one-way distribution with long tail. Maybe sometimes taxi service really have too much orders. I think it's normal.\n",
    "\n",
    "Maybe sometimes we have some zero values, let's look on it:"
   ]
  },
  {
   "cell_type": "code",
   "execution_count": 7,
   "metadata": {},
   "outputs": [
    {
     "data": {
      "text/html": [
       "<div>\n",
       "<style scoped>\n",
       "    .dataframe tbody tr th:only-of-type {\n",
       "        vertical-align: middle;\n",
       "    }\n",
       "\n",
       "    .dataframe tbody tr th {\n",
       "        vertical-align: top;\n",
       "    }\n",
       "\n",
       "    .dataframe thead th {\n",
       "        text-align: right;\n",
       "    }\n",
       "</style>\n",
       "<table border=\"1\" class=\"dataframe\">\n",
       "  <thead>\n",
       "    <tr style=\"text-align: right;\">\n",
       "      <th></th>\n",
       "      <th>num_orders</th>\n",
       "    </tr>\n",
       "    <tr>\n",
       "      <th>datetime</th>\n",
       "      <th></th>\n",
       "    </tr>\n",
       "  </thead>\n",
       "  <tbody>\n",
       "    <tr>\n",
       "      <td>2018-03-09 04:50:00</td>\n",
       "      <td>0</td>\n",
       "    </tr>\n",
       "    <tr>\n",
       "      <td>2018-07-14 07:10:00</td>\n",
       "      <td>0</td>\n",
       "    </tr>\n",
       "    <tr>\n",
       "      <td>2018-04-03 07:20:00</td>\n",
       "      <td>0</td>\n",
       "    </tr>\n",
       "    <tr>\n",
       "      <td>2018-04-10 06:40:00</td>\n",
       "      <td>0</td>\n",
       "    </tr>\n",
       "    <tr>\n",
       "      <td>2018-04-03 05:40:00</td>\n",
       "      <td>0</td>\n",
       "    </tr>\n",
       "    <tr>\n",
       "      <td>2018-03-05 03:00:00</td>\n",
       "      <td>0</td>\n",
       "    </tr>\n",
       "    <tr>\n",
       "      <td>2018-03-08 06:10:00</td>\n",
       "      <td>0</td>\n",
       "    </tr>\n",
       "    <tr>\n",
       "      <td>2018-04-25 06:20:00</td>\n",
       "      <td>0</td>\n",
       "    </tr>\n",
       "    <tr>\n",
       "      <td>2018-03-22 06:00:00</td>\n",
       "      <td>0</td>\n",
       "    </tr>\n",
       "    <tr>\n",
       "      <td>2018-05-03 06:00:00</td>\n",
       "      <td>0</td>\n",
       "    </tr>\n",
       "    <tr>\n",
       "      <td>2018-04-26 05:40:00</td>\n",
       "      <td>0</td>\n",
       "    </tr>\n",
       "    <tr>\n",
       "      <td>2018-03-22 06:10:00</td>\n",
       "      <td>0</td>\n",
       "    </tr>\n",
       "    <tr>\n",
       "      <td>2018-04-08 06:20:00</td>\n",
       "      <td>0</td>\n",
       "    </tr>\n",
       "    <tr>\n",
       "      <td>2018-04-01 06:40:00</td>\n",
       "      <td>0</td>\n",
       "    </tr>\n",
       "    <tr>\n",
       "      <td>2018-03-30 06:40:00</td>\n",
       "      <td>0</td>\n",
       "    </tr>\n",
       "    <tr>\n",
       "      <td>2018-06-08 06:40:00</td>\n",
       "      <td>0</td>\n",
       "    </tr>\n",
       "    <tr>\n",
       "      <td>2018-04-12 05:20:00</td>\n",
       "      <td>0</td>\n",
       "    </tr>\n",
       "    <tr>\n",
       "      <td>2018-07-05 06:40:00</td>\n",
       "      <td>0</td>\n",
       "    </tr>\n",
       "    <tr>\n",
       "      <td>2018-05-06 06:20:00</td>\n",
       "      <td>0</td>\n",
       "    </tr>\n",
       "    <tr>\n",
       "      <td>2018-06-18 06:10:00</td>\n",
       "      <td>0</td>\n",
       "    </tr>\n",
       "  </tbody>\n",
       "</table>\n",
       "</div>"
      ],
      "text/plain": [
       "                     num_orders\n",
       "datetime                       \n",
       "2018-03-09 04:50:00           0\n",
       "2018-07-14 07:10:00           0\n",
       "2018-04-03 07:20:00           0\n",
       "2018-04-10 06:40:00           0\n",
       "2018-04-03 05:40:00           0\n",
       "2018-03-05 03:00:00           0\n",
       "2018-03-08 06:10:00           0\n",
       "2018-04-25 06:20:00           0\n",
       "2018-03-22 06:00:00           0\n",
       "2018-05-03 06:00:00           0\n",
       "2018-04-26 05:40:00           0\n",
       "2018-03-22 06:10:00           0\n",
       "2018-04-08 06:20:00           0\n",
       "2018-04-01 06:40:00           0\n",
       "2018-03-30 06:40:00           0\n",
       "2018-06-08 06:40:00           0\n",
       "2018-04-12 05:20:00           0\n",
       "2018-07-05 06:40:00           0\n",
       "2018-05-06 06:20:00           0\n",
       "2018-06-18 06:10:00           0"
      ]
     },
     "execution_count": 7,
     "metadata": {},
     "output_type": "execute_result"
    }
   ],
   "source": [
    "df[df['num_orders'] == 0].sample(20)"
   ]
  },
  {
   "cell_type": "markdown",
   "metadata": {},
   "source": [
    "As we can see, sometimes there are really no orders in the taxi service early at the morning.\n",
    "\n",
    "Now let's see the seasonal and trend in orders. We can try resample our data to 1 day format:"
   ]
  },
  {
   "cell_type": "code",
   "execution_count": 8,
   "metadata": {},
   "outputs": [
    {
     "data": {
      "text/html": [
       "<div>\n",
       "<style scoped>\n",
       "    .dataframe tbody tr th:only-of-type {\n",
       "        vertical-align: middle;\n",
       "    }\n",
       "\n",
       "    .dataframe tbody tr th {\n",
       "        vertical-align: top;\n",
       "    }\n",
       "\n",
       "    .dataframe thead th {\n",
       "        text-align: right;\n",
       "    }\n",
       "</style>\n",
       "<table border=\"1\" class=\"dataframe\">\n",
       "  <thead>\n",
       "    <tr style=\"text-align: right;\">\n",
       "      <th></th>\n",
       "      <th>num_orders</th>\n",
       "    </tr>\n",
       "    <tr>\n",
       "      <th>datetime</th>\n",
       "      <th></th>\n",
       "    </tr>\n",
       "  </thead>\n",
       "  <tbody>\n",
       "    <tr>\n",
       "      <td>2018-03-01</td>\n",
       "      <td>1364</td>\n",
       "    </tr>\n",
       "    <tr>\n",
       "      <td>2018-03-02</td>\n",
       "      <td>1506</td>\n",
       "    </tr>\n",
       "    <tr>\n",
       "      <td>2018-03-03</td>\n",
       "      <td>1290</td>\n",
       "    </tr>\n",
       "    <tr>\n",
       "      <td>2018-03-04</td>\n",
       "      <td>1141</td>\n",
       "    </tr>\n",
       "    <tr>\n",
       "      <td>2018-03-05</td>\n",
       "      <td>1259</td>\n",
       "    </tr>\n",
       "    <tr>\n",
       "      <td>...</td>\n",
       "      <td>...</td>\n",
       "    </tr>\n",
       "    <tr>\n",
       "      <td>2018-08-27</td>\n",
       "      <td>3936</td>\n",
       "    </tr>\n",
       "    <tr>\n",
       "      <td>2018-08-28</td>\n",
       "      <td>3357</td>\n",
       "    </tr>\n",
       "    <tr>\n",
       "      <td>2018-08-29</td>\n",
       "      <td>3762</td>\n",
       "    </tr>\n",
       "    <tr>\n",
       "      <td>2018-08-30</td>\n",
       "      <td>4090</td>\n",
       "    </tr>\n",
       "    <tr>\n",
       "      <td>2018-08-31</td>\n",
       "      <td>4018</td>\n",
       "    </tr>\n",
       "  </tbody>\n",
       "</table>\n",
       "<p>184 rows × 1 columns</p>\n",
       "</div>"
      ],
      "text/plain": [
       "            num_orders\n",
       "datetime              \n",
       "2018-03-01        1364\n",
       "2018-03-02        1506\n",
       "2018-03-03        1290\n",
       "2018-03-04        1141\n",
       "2018-03-05        1259\n",
       "...                ...\n",
       "2018-08-27        3936\n",
       "2018-08-28        3357\n",
       "2018-08-29        3762\n",
       "2018-08-30        4090\n",
       "2018-08-31        4018\n",
       "\n",
       "[184 rows x 1 columns]"
      ]
     },
     "execution_count": 8,
     "metadata": {},
     "output_type": "execute_result"
    }
   ],
   "source": [
    "df_daily = round(df.resample('1D').sum()).astype('int')\n",
    "df_daily"
   ]
  },
  {
   "cell_type": "code",
   "execution_count": 9,
   "metadata": {},
   "outputs": [
    {
     "data": {
      "text/plain": [
       "<matplotlib.axes._subplots.AxesSubplot at 0x7f278a03ebd0>"
      ]
     },
     "execution_count": 9,
     "metadata": {},
     "output_type": "execute_result"
    },
    {
     "data": {
      "image/png": "[encoded data removed]",
      "text/plain": [
       "<Figure size 432x288 with 1 Axes>"
      ]
     },
     "metadata": {
      "needs_background": "light"
     },
     "output_type": "display_data"
    }
   ],
   "source": [
    "decomposed_daily = seasonal_decompose(df_daily['num_orders'])\n",
    "decomposed_daily.trend.plot(title='Trend')"
   ]
  },
  {
   "cell_type": "markdown",
   "metadata": {},
   "source": [
    "We see the uptrend from spring to autumn. I think it because in summer starts the season of vacations and more people using flight services.\n",
    "\n",
    "Now let's add the day of week column and see the seasonal of orders in july for example:"
   ]
  },
  {
   "cell_type": "code",
   "execution_count": 10,
   "metadata": {},
   "outputs": [
    {
     "data": {
      "text/html": [
       "<div>\n",
       "<style scoped>\n",
       "    .dataframe tbody tr th:only-of-type {\n",
       "        vertical-align: middle;\n",
       "    }\n",
       "\n",
       "    .dataframe tbody tr th {\n",
       "        vertical-align: top;\n",
       "    }\n",
       "\n",
       "    .dataframe thead th {\n",
       "        text-align: right;\n",
       "    }\n",
       "</style>\n",
       "<table border=\"1\" class=\"dataframe\">\n",
       "  <thead>\n",
       "    <tr style=\"text-align: right;\">\n",
       "      <th></th>\n",
       "      <th>num_orders</th>\n",
       "      <th>dayofweek</th>\n",
       "    </tr>\n",
       "    <tr>\n",
       "      <th>datetime</th>\n",
       "      <th></th>\n",
       "      <th></th>\n",
       "    </tr>\n",
       "  </thead>\n",
       "  <tbody>\n",
       "    <tr>\n",
       "      <td>2018-03-01</td>\n",
       "      <td>1364</td>\n",
       "      <td>3</td>\n",
       "    </tr>\n",
       "    <tr>\n",
       "      <td>2018-03-02</td>\n",
       "      <td>1506</td>\n",
       "      <td>4</td>\n",
       "    </tr>\n",
       "    <tr>\n",
       "      <td>2018-03-03</td>\n",
       "      <td>1290</td>\n",
       "      <td>5</td>\n",
       "    </tr>\n",
       "    <tr>\n",
       "      <td>2018-03-04</td>\n",
       "      <td>1141</td>\n",
       "      <td>6</td>\n",
       "    </tr>\n",
       "    <tr>\n",
       "      <td>2018-03-05</td>\n",
       "      <td>1259</td>\n",
       "      <td>0</td>\n",
       "    </tr>\n",
       "  </tbody>\n",
       "</table>\n",
       "</div>"
      ],
      "text/plain": [
       "            num_orders  dayofweek\n",
       "datetime                         \n",
       "2018-03-01        1364          3\n",
       "2018-03-02        1506          4\n",
       "2018-03-03        1290          5\n",
       "2018-03-04        1141          6\n",
       "2018-03-05        1259          0"
      ]
     },
     "execution_count": 10,
     "metadata": {},
     "output_type": "execute_result"
    }
   ],
   "source": [
    "df_daily['dayofweek'] = df_daily.index.dayofweek\n",
    "df_daily.head()"
   ]
  },
  {
   "cell_type": "code",
   "execution_count": 11,
   "metadata": {},
   "outputs": [
    {
     "data": {
      "text/plain": [
       "<matplotlib.axes._subplots.AxesSubplot at 0x7f2789f2e050>"
      ]
     },
     "execution_count": 11,
     "metadata": {},
     "output_type": "execute_result"
    },
    {
     "data": {
      "image/png": "[encoded data removed]",
      "text/plain": [
       "<Figure size 720x432 with 1 Axes>"
      ]
     },
     "metadata": {
      "needs_background": "light"
     },
     "output_type": "display_data"
    }
   ],
   "source": [
    "df_daily_july = df_daily['2018-07':'2018-07']\n",
    "decomposed_daily_july = seasonal_decompose(df_daily_july['num_orders'])\n",
    "((decomposed_daily_july.seasonal.rolling(2).mean()) * .05).plot(figsize=(10,6), title='Seasonal in july', legend=True)\n",
    "df_daily_july['dayofweek'].plot(legend=True)"
   ]
  },
  {
   "cell_type": "markdown",
   "metadata": {},
   "source": [
    "Here we see cycles of increasing the amount of orders by the end of a week and decreasing at the beginning of a week.\n",
    "\n",
    "Next let's see how number of orders changes depending on the time of day."
   ]
  },
  {
   "cell_type": "code",
   "execution_count": 12,
   "metadata": {},
   "outputs": [
    {
     "data": {
      "text/html": [
       "<div>\n",
       "<style scoped>\n",
       "    .dataframe tbody tr th:only-of-type {\n",
       "        vertical-align: middle;\n",
       "    }\n",
       "\n",
       "    .dataframe tbody tr th {\n",
       "        vertical-align: top;\n",
       "    }\n",
       "\n",
       "    .dataframe thead th {\n",
       "        text-align: right;\n",
       "    }\n",
       "</style>\n",
       "<table border=\"1\" class=\"dataframe\">\n",
       "  <thead>\n",
       "    <tr style=\"text-align: right;\">\n",
       "      <th></th>\n",
       "      <th>num_orders</th>\n",
       "    </tr>\n",
       "    <tr>\n",
       "      <th>datetime</th>\n",
       "      <th></th>\n",
       "    </tr>\n",
       "  </thead>\n",
       "  <tbody>\n",
       "    <tr>\n",
       "      <td>2018-03-01 00:00:00</td>\n",
       "      <td>124</td>\n",
       "    </tr>\n",
       "    <tr>\n",
       "      <td>2018-03-01 01:00:00</td>\n",
       "      <td>85</td>\n",
       "    </tr>\n",
       "    <tr>\n",
       "      <td>2018-03-01 02:00:00</td>\n",
       "      <td>71</td>\n",
       "    </tr>\n",
       "    <tr>\n",
       "      <td>2018-03-01 03:00:00</td>\n",
       "      <td>66</td>\n",
       "    </tr>\n",
       "    <tr>\n",
       "      <td>2018-03-01 04:00:00</td>\n",
       "      <td>43</td>\n",
       "    </tr>\n",
       "    <tr>\n",
       "      <td>...</td>\n",
       "      <td>...</td>\n",
       "    </tr>\n",
       "    <tr>\n",
       "      <td>2018-08-31 19:00:00</td>\n",
       "      <td>136</td>\n",
       "    </tr>\n",
       "    <tr>\n",
       "      <td>2018-08-31 20:00:00</td>\n",
       "      <td>154</td>\n",
       "    </tr>\n",
       "    <tr>\n",
       "      <td>2018-08-31 21:00:00</td>\n",
       "      <td>159</td>\n",
       "    </tr>\n",
       "    <tr>\n",
       "      <td>2018-08-31 22:00:00</td>\n",
       "      <td>223</td>\n",
       "    </tr>\n",
       "    <tr>\n",
       "      <td>2018-08-31 23:00:00</td>\n",
       "      <td>205</td>\n",
       "    </tr>\n",
       "  </tbody>\n",
       "</table>\n",
       "<p>4416 rows × 1 columns</p>\n",
       "</div>"
      ],
      "text/plain": [
       "                     num_orders\n",
       "datetime                       \n",
       "2018-03-01 00:00:00         124\n",
       "2018-03-01 01:00:00          85\n",
       "2018-03-01 02:00:00          71\n",
       "2018-03-01 03:00:00          66\n",
       "2018-03-01 04:00:00          43\n",
       "...                         ...\n",
       "2018-08-31 19:00:00         136\n",
       "2018-08-31 20:00:00         154\n",
       "2018-08-31 21:00:00         159\n",
       "2018-08-31 22:00:00         223\n",
       "2018-08-31 23:00:00         205\n",
       "\n",
       "[4416 rows x 1 columns]"
      ]
     },
     "execution_count": 12,
     "metadata": {},
     "output_type": "execute_result"
    }
   ],
   "source": [
    "df_hourly = round(df.resample('1H').sum()).astype('int')\n",
    "df_hourly"
   ]
  },
  {
   "cell_type": "markdown",
   "metadata": {},
   "source": [
    "We will get three days in july:"
   ]
  },
  {
   "cell_type": "code",
   "execution_count": 13,
   "metadata": {},
   "outputs": [],
   "source": [
    "df_hourly_in_week = df_hourly['2018-07-05':'2018-07-07']"
   ]
  },
  {
   "cell_type": "code",
   "execution_count": 14,
   "metadata": {},
   "outputs": [
    {
     "data": {
      "text/plain": [
       "<matplotlib.axes._subplots.AxesSubplot at 0x7f2789e26310>"
      ]
     },
     "execution_count": 14,
     "metadata": {},
     "output_type": "execute_result"
    },
    {
     "data": {
      "image/png": "[encoded data removed]",
      "text/plain": [
       "<Figure size 720x432 with 1 Axes>"
      ]
     },
     "metadata": {
      "needs_background": "light"
     },
     "output_type": "display_data"
    }
   ],
   "source": [
    "decomposed_hourly_in_week = seasonal_decompose(df_hourly_in_week['num_orders'])\n",
    "decomposed_hourly_in_week.seasonal.rolling(3).mean().plot(figsize=(10,6), title='Seasonal in the some days of july')\n"
   ]
  },
  {
   "cell_type": "markdown",
   "metadata": {},
   "source": [
    "We again see cycles with the maximum of orders at night at the end of one day and at the beginning of a new day. And minimum of orders at the morning of each day.\n",
    "\n",
    "As a result we see some regularities like increase number of orders to the end of a week and the end of a day. It may help as to make time lag in the data for better result in train our models."
   ]
  },
  {
   "cell_type": "markdown",
   "metadata": {},
   "source": [
    "## Train"
   ]
  },
  {
   "cell_type": "markdown",
   "metadata": {},
   "source": [
    "### Prepare of data"
   ]
  },
  {
   "cell_type": "markdown",
   "metadata": {},
   "source": [
    "Let's get table with hourly indexes, because we need predictions for hour intervals. We need to create columns with: date features, 6-hour rolling mean, and 6-, 12- and 24-hour time-lag."
   ]
  },
  {
   "cell_type": "code",
   "execution_count": 15,
   "metadata": {},
   "outputs": [
    {
     "data": {
      "text/html": [
       "<div>\n",
       "<style scoped>\n",
       "    .dataframe tbody tr th:only-of-type {\n",
       "        vertical-align: middle;\n",
       "    }\n",
       "\n",
       "    .dataframe tbody tr th {\n",
       "        vertical-align: top;\n",
       "    }\n",
       "\n",
       "    .dataframe thead th {\n",
       "        text-align: right;\n",
       "    }\n",
       "</style>\n",
       "<table border=\"1\" class=\"dataframe\">\n",
       "  <thead>\n",
       "    <tr style=\"text-align: right;\">\n",
       "      <th></th>\n",
       "      <th>num_orders</th>\n",
       "      <th>month</th>\n",
       "      <th>day</th>\n",
       "      <th>hour</th>\n",
       "      <th>day_of_week</th>\n",
       "      <th>rolling_mean</th>\n",
       "      <th>lag_6</th>\n",
       "      <th>lag_12</th>\n",
       "      <th>lag_24</th>\n",
       "    </tr>\n",
       "    <tr>\n",
       "      <th>datetime</th>\n",
       "      <th></th>\n",
       "      <th></th>\n",
       "      <th></th>\n",
       "      <th></th>\n",
       "      <th></th>\n",
       "      <th></th>\n",
       "      <th></th>\n",
       "      <th></th>\n",
       "      <th></th>\n",
       "    </tr>\n",
       "  </thead>\n",
       "  <tbody>\n",
       "    <tr>\n",
       "      <td>2018-03-02 00:00:00</td>\n",
       "      <td>90</td>\n",
       "      <td>3</td>\n",
       "      <td>2</td>\n",
       "      <td>0</td>\n",
       "      <td>4</td>\n",
       "      <td>69.0</td>\n",
       "      <td>73.0</td>\n",
       "      <td>30.0</td>\n",
       "      <td>124.0</td>\n",
       "    </tr>\n",
       "    <tr>\n",
       "      <td>2018-03-02 01:00:00</td>\n",
       "      <td>120</td>\n",
       "      <td>3</td>\n",
       "      <td>2</td>\n",
       "      <td>1</td>\n",
       "      <td>4</td>\n",
       "      <td>72.0</td>\n",
       "      <td>45.0</td>\n",
       "      <td>32.0</td>\n",
       "      <td>85.0</td>\n",
       "    </tr>\n",
       "    <tr>\n",
       "      <td>2018-03-02 02:00:00</td>\n",
       "      <td>75</td>\n",
       "      <td>3</td>\n",
       "      <td>2</td>\n",
       "      <td>2</td>\n",
       "      <td>4</td>\n",
       "      <td>85.0</td>\n",
       "      <td>61.0</td>\n",
       "      <td>48.0</td>\n",
       "      <td>71.0</td>\n",
       "    </tr>\n",
       "    <tr>\n",
       "      <td>2018-03-02 03:00:00</td>\n",
       "      <td>64</td>\n",
       "      <td>3</td>\n",
       "      <td>2</td>\n",
       "      <td>3</td>\n",
       "      <td>4</td>\n",
       "      <td>87.0</td>\n",
       "      <td>66.0</td>\n",
       "      <td>66.0</td>\n",
       "      <td>66.0</td>\n",
       "    </tr>\n",
       "    <tr>\n",
       "      <td>2018-03-02 04:00:00</td>\n",
       "      <td>20</td>\n",
       "      <td>3</td>\n",
       "      <td>2</td>\n",
       "      <td>4</td>\n",
       "      <td>4</td>\n",
       "      <td>87.0</td>\n",
       "      <td>113.0</td>\n",
       "      <td>43.0</td>\n",
       "      <td>43.0</td>\n",
       "    </tr>\n",
       "  </tbody>\n",
       "</table>\n",
       "</div>"
      ],
      "text/plain": [
       "                     num_orders  month  day  hour  day_of_week  rolling_mean  \\\n",
       "datetime                                                                       \n",
       "2018-03-02 00:00:00          90      3    2     0            4          69.0   \n",
       "2018-03-02 01:00:00         120      3    2     1            4          72.0   \n",
       "2018-03-02 02:00:00          75      3    2     2            4          85.0   \n",
       "2018-03-02 03:00:00          64      3    2     3            4          87.0   \n",
       "2018-03-02 04:00:00          20      3    2     4            4          87.0   \n",
       "\n",
       "                     lag_6  lag_12  lag_24  \n",
       "datetime                                    \n",
       "2018-03-02 00:00:00   73.0    30.0   124.0  \n",
       "2018-03-02 01:00:00   45.0    32.0    85.0  \n",
       "2018-03-02 02:00:00   61.0    48.0    71.0  \n",
       "2018-03-02 03:00:00   66.0    66.0    66.0  \n",
       "2018-03-02 04:00:00  113.0    43.0    43.0  "
      ]
     },
     "execution_count": 15,
     "metadata": {},
     "output_type": "execute_result"
    }
   ],
   "source": [
    "df_hourly['month'] = df_hourly.index.month\n",
    "df_hourly['day'] = df_hourly.index.day\n",
    "df_hourly['hour'] = df_hourly.index.hour\n",
    "df_hourly['day_of_week'] = df_hourly.index.dayofweek\n",
    "\n",
    "df_hourly['rolling_mean'] = round(df_hourly['num_orders'].shift().rolling(6).mean())\n",
    "\n",
    "df_hourly['lag_6'] = df_hourly['num_orders'].shift(6)\n",
    "df_hourly['lag_12'] = df_hourly['num_orders'].shift(12)\n",
    "df_hourly['lag_24'] = df_hourly['num_orders'].shift(24)\n",
    "\n",
    "df_hourly.dropna(inplace=True)\n",
    "df_hourly.head()"
   ]
  },
  {
   "cell_type": "markdown",
   "metadata": {},
   "source": [
    "Let's take a look at the correlations between features:"
   ]
  },
  {
   "cell_type": "code",
   "execution_count": 16,
   "metadata": {},
   "outputs": [
    {
     "data": {
      "text/html": [
       "<div>\n",
       "<style scoped>\n",
       "    .dataframe tbody tr th:only-of-type {\n",
       "        vertical-align: middle;\n",
       "    }\n",
       "\n",
       "    .dataframe tbody tr th {\n",
       "        vertical-align: top;\n",
       "    }\n",
       "\n",
       "    .dataframe thead th {\n",
       "        text-align: right;\n",
       "    }\n",
       "</style>\n",
       "<table border=\"1\" class=\"dataframe\">\n",
       "  <thead>\n",
       "    <tr style=\"text-align: right;\">\n",
       "      <th></th>\n",
       "      <th>num_orders</th>\n",
       "      <th>month</th>\n",
       "      <th>day</th>\n",
       "      <th>hour</th>\n",
       "      <th>day_of_week</th>\n",
       "      <th>rolling_mean</th>\n",
       "      <th>lag_6</th>\n",
       "      <th>lag_12</th>\n",
       "      <th>lag_24</th>\n",
       "    </tr>\n",
       "  </thead>\n",
       "  <tbody>\n",
       "    <tr>\n",
       "      <td>num_orders</td>\n",
       "      <td>1.000000</td>\n",
       "      <td>0.509279</td>\n",
       "      <td>1.612854e-01</td>\n",
       "      <td>4.184469e-03</td>\n",
       "      <td>-1.967969e-02</td>\n",
       "      <td>0.483771</td>\n",
       "      <td>0.237952</td>\n",
       "      <td>0.332320</td>\n",
       "      <td>0.691576</td>\n",
       "    </tr>\n",
       "    <tr>\n",
       "      <td>month</td>\n",
       "      <td>0.509279</td>\n",
       "      <td>1.000000</td>\n",
       "      <td>-8.068001e-03</td>\n",
       "      <td>0.000000e+00</td>\n",
       "      <td>-1.205490e-02</td>\n",
       "      <td>0.694339</td>\n",
       "      <td>0.507195</td>\n",
       "      <td>0.505717</td>\n",
       "      <td>0.504805</td>\n",
       "    </tr>\n",
       "    <tr>\n",
       "      <td>day</td>\n",
       "      <td>0.161285</td>\n",
       "      <td>-0.008068</td>\n",
       "      <td>1.000000e+00</td>\n",
       "      <td>4.244517e-19</td>\n",
       "      <td>-1.395908e-02</td>\n",
       "      <td>0.219627</td>\n",
       "      <td>0.160896</td>\n",
       "      <td>0.164301</td>\n",
       "      <td>0.156231</td>\n",
       "    </tr>\n",
       "    <tr>\n",
       "      <td>hour</td>\n",
       "      <td>0.004184</td>\n",
       "      <td>0.000000</td>\n",
       "      <td>4.244517e-19</td>\n",
       "      <td>1.000000e+00</td>\n",
       "      <td>2.359517e-17</td>\n",
       "      <td>-0.157290</td>\n",
       "      <td>-0.072605</td>\n",
       "      <td>-0.079828</td>\n",
       "      <td>0.004107</td>\n",
       "    </tr>\n",
       "    <tr>\n",
       "      <td>day_of_week</td>\n",
       "      <td>-0.019680</td>\n",
       "      <td>-0.012055</td>\n",
       "      <td>-1.395908e-02</td>\n",
       "      <td>2.359517e-17</td>\n",
       "      <td>1.000000e+00</td>\n",
       "      <td>-0.038809</td>\n",
       "      <td>-0.026970</td>\n",
       "      <td>-0.039358</td>\n",
       "      <td>0.030720</td>\n",
       "    </tr>\n",
       "    <tr>\n",
       "      <td>rolling_mean</td>\n",
       "      <td>0.483771</td>\n",
       "      <td>0.694339</td>\n",
       "      <td>2.196266e-01</td>\n",
       "      <td>-1.572905e-01</td>\n",
       "      <td>-3.880903e-02</td>\n",
       "      <td>1.000000</td>\n",
       "      <td>0.655296</td>\n",
       "      <td>0.381980</td>\n",
       "      <td>0.419159</td>\n",
       "    </tr>\n",
       "    <tr>\n",
       "      <td>lag_6</td>\n",
       "      <td>0.237952</td>\n",
       "      <td>0.507195</td>\n",
       "      <td>1.608962e-01</td>\n",
       "      <td>-7.260523e-02</td>\n",
       "      <td>-2.697046e-02</td>\n",
       "      <td>0.655296</td>\n",
       "      <td>1.000000</td>\n",
       "      <td>0.234173</td>\n",
       "      <td>0.206857</td>\n",
       "    </tr>\n",
       "    <tr>\n",
       "      <td>lag_12</td>\n",
       "      <td>0.332320</td>\n",
       "      <td>0.505717</td>\n",
       "      <td>1.643008e-01</td>\n",
       "      <td>-7.982777e-02</td>\n",
       "      <td>-3.935782e-02</td>\n",
       "      <td>0.381980</td>\n",
       "      <td>0.234173</td>\n",
       "      <td>1.000000</td>\n",
       "      <td>0.328305</td>\n",
       "    </tr>\n",
       "    <tr>\n",
       "      <td>lag_24</td>\n",
       "      <td>0.691576</td>\n",
       "      <td>0.504805</td>\n",
       "      <td>1.562314e-01</td>\n",
       "      <td>4.106977e-03</td>\n",
       "      <td>3.072031e-02</td>\n",
       "      <td>0.419159</td>\n",
       "      <td>0.206857</td>\n",
       "      <td>0.328305</td>\n",
       "      <td>1.000000</td>\n",
       "    </tr>\n",
       "  </tbody>\n",
       "</table>\n",
       "</div>"
      ],
      "text/plain": [
       "              num_orders     month           day          hour   day_of_week  \\\n",
       "num_orders      1.000000  0.509279  1.612854e-01  4.184469e-03 -1.967969e-02   \n",
       "month           0.509279  1.000000 -8.068001e-03  0.000000e+00 -1.205490e-02   \n",
       "day             0.161285 -0.008068  1.000000e+00  4.244517e-19 -1.395908e-02   \n",
       "hour            0.004184  0.000000  4.244517e-19  1.000000e+00  2.359517e-17   \n",
       "day_of_week    -0.019680 -0.012055 -1.395908e-02  2.359517e-17  1.000000e+00   \n",
       "rolling_mean    0.483771  0.694339  2.196266e-01 -1.572905e-01 -3.880903e-02   \n",
       "lag_6           0.237952  0.507195  1.608962e-01 -7.260523e-02 -2.697046e-02   \n",
       "lag_12          0.332320  0.505717  1.643008e-01 -7.982777e-02 -3.935782e-02   \n",
       "lag_24          0.691576  0.504805  1.562314e-01  4.106977e-03  3.072031e-02   \n",
       "\n",
       "              rolling_mean     lag_6    lag_12    lag_24  \n",
       "num_orders        0.483771  0.237952  0.332320  0.691576  \n",
       "month             0.694339  0.507195  0.505717  0.504805  \n",
       "day               0.219627  0.160896  0.164301  0.156231  \n",
       "hour             -0.157290 -0.072605 -0.079828  0.004107  \n",
       "day_of_week      -0.038809 -0.026970 -0.039358  0.030720  \n",
       "rolling_mean      1.000000  0.655296  0.381980  0.419159  \n",
       "lag_6             0.655296  1.000000  0.234173  0.206857  \n",
       "lag_12            0.381980  0.234173  1.000000  0.328305  \n",
       "lag_24            0.419159  0.206857  0.328305  1.000000  "
      ]
     },
     "execution_count": 16,
     "metadata": {},
     "output_type": "execute_result"
    }
   ],
   "source": [
    "df_hourly.corr()"
   ]
  },
  {
   "cell_type": "markdown",
   "metadata": {},
   "source": [
    "We see higher correlation between target feature and: month, rolling mean and 24-hour lag. Perhaps they will be the most important for train models.\n",
    "\n",
    "Now let's divide the data into training, validation and test samples in a ratio of 80/10/10:"
   ]
  },
  {
   "cell_type": "code",
   "execution_count": 17,
   "metadata": {},
   "outputs": [
    {
     "name": "stdout",
     "output_type": "stream",
     "text": [
      "Features  |  (3512, 8)  |  (440, 8)  |  (440, 8)\n",
      "Targets   |   (3512,)   |   (440,)   |   (440,)\n",
      "Ratio     |     80     |     10     |     10\n"
     ]
    }
   ],
   "source": [
    "features = df_hourly.drop('num_orders', axis=1)\n",
    "target = df_hourly['num_orders']\n",
    "\n",
    "features, features_test, target, target_test = train_test_split(\n",
    "    features, target, test_size=.1, shuffle=False)\n",
    "\n",
    "features_train, features_valid, target_train, target_valid = train_test_split(\n",
    "    features, target, test_size=.1111, shuffle=False)\n",
    "\n",
    "print('Features', features_train.shape, features_valid.shape, features_test.shape, sep='  |  ')\n",
    "print('Targets', target_train.shape, target_valid.shape, target_test.shape, sep='   |   ')\n",
    "print('Ratio',\n",
    "    round(len(features_train) / len(df_hourly) * 100),\n",
    "    round(len(features_valid) / len(df_hourly) * 100),\n",
    "    round(len(features_test) / len(df_hourly) * 100), sep='     |     ')"
   ]
  },
  {
   "cell_type": "code",
   "execution_count": 18,
   "metadata": {},
   "outputs": [
    {
     "name": "stdout",
     "output_type": "stream",
     "text": [
      "|--------------------- Features train --------------------->\n",
      "DatetimeIndex(['2018-03-02 00:00:00', '2018-03-02 01:00:00',\n",
      "               '2018-03-02 02:00:00', '2018-03-02 03:00:00',\n",
      "               '2018-03-02 04:00:00', '2018-03-02 05:00:00',\n",
      "               '2018-03-02 06:00:00', '2018-03-02 07:00:00',\n",
      "               '2018-03-02 08:00:00', '2018-03-02 09:00:00',\n",
      "               ...\n",
      "               '2018-07-25 22:00:00', '2018-07-25 23:00:00',\n",
      "               '2018-07-26 00:00:00', '2018-07-26 01:00:00',\n",
      "               '2018-07-26 02:00:00', '2018-07-26 03:00:00',\n",
      "               '2018-07-26 04:00:00', '2018-07-26 05:00:00',\n",
      "               '2018-07-26 06:00:00', '2018-07-26 07:00:00'],\n",
      "              dtype='datetime64[ns]', name='datetime', length=3512, freq='H')\n",
      "---------------------> Features valid --------------------->\n",
      "DatetimeIndex(['2018-07-26 08:00:00', '2018-07-26 09:00:00',\n",
      "               '2018-07-26 10:00:00', '2018-07-26 11:00:00',\n",
      "               '2018-07-26 12:00:00', '2018-07-26 13:00:00',\n",
      "               '2018-07-26 14:00:00', '2018-07-26 15:00:00',\n",
      "               '2018-07-26 16:00:00', '2018-07-26 17:00:00',\n",
      "               ...\n",
      "               '2018-08-13 06:00:00', '2018-08-13 07:00:00',\n",
      "               '2018-08-13 08:00:00', '2018-08-13 09:00:00',\n",
      "               '2018-08-13 10:00:00', '2018-08-13 11:00:00',\n",
      "               '2018-08-13 12:00:00', '2018-08-13 13:00:00',\n",
      "               '2018-08-13 14:00:00', '2018-08-13 15:00:00'],\n",
      "              dtype='datetime64[ns]', name='datetime', length=440, freq='H')\n",
      "---------------------> Features test ---------------------->\n",
      "DatetimeIndex(['2018-08-13 16:00:00', '2018-08-13 17:00:00',\n",
      "               '2018-08-13 18:00:00', '2018-08-13 19:00:00',\n",
      "               '2018-08-13 20:00:00', '2018-08-13 21:00:00',\n",
      "               '2018-08-13 22:00:00', '2018-08-13 23:00:00',\n",
      "               '2018-08-14 00:00:00', '2018-08-14 01:00:00',\n",
      "               ...\n",
      "               '2018-08-31 14:00:00', '2018-08-31 15:00:00',\n",
      "               '2018-08-31 16:00:00', '2018-08-31 17:00:00',\n",
      "               '2018-08-31 18:00:00', '2018-08-31 19:00:00',\n",
      "               '2018-08-31 20:00:00', '2018-08-31 21:00:00',\n",
      "               '2018-08-31 22:00:00', '2018-08-31 23:00:00'],\n",
      "              dtype='datetime64[ns]', name='datetime', length=440, freq='H')\n",
      "-----------------------------------------------------------|\n"
     ]
    }
   ],
   "source": [
    "print('|--------------------- Features train --------------------->')\n",
    "print(features_train.index)\n",
    "print('---------------------> Features valid --------------------->')\n",
    "print(features_valid.index)\n",
    "print('---------------------> Features test ---------------------->')\n",
    "print(features_test.index)\n",
    "print('-----------------------------------------------------------|')"
   ]
  },
  {
   "cell_type": "markdown",
   "metadata": {},
   "source": [
    "The split went well."
   ]
  },
  {
   "cell_type": "markdown",
   "metadata": {},
   "source": [
    "### Train models"
   ]
  },
  {
   "cell_type": "markdown",
   "metadata": {},
   "source": [
    "Let's get models: Decision Tree Regressor, Random Forest Regressor, Linear Regression and Light GBM.\n",
    "\n",
    "Now we will create function for search the model with best parameteres on train and validation dataset. "
   ]
  },
  {
   "cell_type": "code",
   "execution_count": 19,
   "metadata": {},
   "outputs": [],
   "source": [
    "def fit_and_check(model, features_train, target_train,\n",
    "                  features_valid, target_valid):\n",
    "    global best_model\n",
    "    global best_result\n",
    "    clf = model\n",
    "    clf.fit(features_train, target_train)\n",
    "    predictions = clf.predict(features_valid)\n",
    "    result = (mean_squared_error(target_valid, predictions)) ** .5\n",
    "    if result < best_result:\n",
    "        best_result = round(result, 2)\n",
    "        best_model = model"
   ]
  },
  {
   "cell_type": "markdown",
   "metadata": {},
   "source": [
    "Now we will train our models and save best of them and save results.\n",
    "\n",
    "At first - model Decision Tree Regressor:"
   ]
  },
  {
   "cell_type": "code",
   "execution_count": 20,
   "metadata": {},
   "outputs": [
    {
     "name": "stdout",
     "output_type": "stream",
     "text": [
      "DecisionTreeRegressor(criterion='mse', max_depth=9, max_features=None,\n",
      "                      max_leaf_nodes=None, min_impurity_decrease=0.0,\n",
      "                      min_impurity_split=None, min_samples_leaf=1,\n",
      "                      min_samples_split=2, min_weight_fraction_leaf=0.0,\n",
      "                      presort=False, random_state=555, splitter='best')\n"
     ]
    }
   ],
   "source": [
    "best_model = 0\n",
    "best_result = 10000\n",
    "\n",
    "for depth in range(1, 20):\n",
    "    fit_and_check(\n",
    "        DecisionTreeRegressor(max_depth=depth, random_state=555),\n",
    "        features_train, target_train, features_valid, target_valid)\n",
    "    \n",
    "best_tree_model, best_tree_result = best_model, best_result\n",
    "\n",
    "print(best_tree_model)"
   ]
  },
  {
   "cell_type": "markdown",
   "metadata": {},
   "source": [
    "Next - model Random Forest Regressor:"
   ]
  },
  {
   "cell_type": "code",
   "execution_count": 21,
   "metadata": {},
   "outputs": [
    {
     "name": "stdout",
     "output_type": "stream",
     "text": [
      "RandomForestRegressor(bootstrap=True, criterion='mse', max_depth=14,\n",
      "                      max_features='auto', max_leaf_nodes=None,\n",
      "                      min_impurity_decrease=0.0, min_impurity_split=None,\n",
      "                      min_samples_leaf=1, min_samples_split=2,\n",
      "                      min_weight_fraction_leaf=0.0, n_estimators=90,\n",
      "                      n_jobs=None, oob_score=False, random_state=555, verbose=0,\n",
      "                      warm_start=False)\n"
     ]
    }
   ],
   "source": [
    "best_model = 0\n",
    "best_result = 10000\n",
    "\n",
    "for est in range(10, 100, 10):\n",
    "    for depth in range(1, 15):\n",
    "        fit_and_check(\n",
    "            RandomForestRegressor(n_estimators=est, max_depth=depth, random_state=555),\n",
    "            features_train, target_train, features_valid, target_valid)\n",
    "        \n",
    "best_forest_model, best_forest_result = best_model, best_result\n",
    "\n",
    "print(best_forest_model)"
   ]
  },
  {
   "cell_type": "markdown",
   "metadata": {},
   "source": [
    "Next - model Linear Regression:"
   ]
  },
  {
   "cell_type": "code",
   "execution_count": 22,
   "metadata": {},
   "outputs": [
    {
     "name": "stdout",
     "output_type": "stream",
     "text": [
      "LinearRegression(copy_X=True, fit_intercept=True, n_jobs=None, normalize=False)\n"
     ]
    }
   ],
   "source": [
    "best_model = 0\n",
    "best_result = 10000\n",
    "\n",
    "fit_and_check(LinearRegression(), features_train, target_train, features_valid, target_valid)\n",
    "\n",
    "best_linear_model, best_linear_result = best_model, best_result\n",
    "\n",
    "print(best_linear_model)"
   ]
  },
  {
   "cell_type": "markdown",
   "metadata": {},
   "source": [
    "At last - model Light GBM:"
   ]
  },
  {
   "cell_type": "code",
   "execution_count": 23,
   "metadata": {
    "scrolled": true
   },
   "outputs": [
    {
     "name": "stdout",
     "output_type": "stream",
     "text": [
      "[1]\tvalid_0's rmse: 55.6119\n",
      "[2]\tvalid_0's rmse: 53.1685\n",
      "[3]\tvalid_0's rmse: 50.9823\n",
      "[4]\tvalid_0's rmse: 49.1344\n",
      "[5]\tvalid_0's rmse: 47.3909\n",
      "[6]\tvalid_0's rmse: 45.7462\n",
      "[7]\tvalid_0's rmse: 44.3799\n",
      "[8]\tvalid_0's rmse: 43.2238\n",
      "[9]\tvalid_0's rmse: 42.0837\n",
      "[10]\tvalid_0's rmse: 41.1425\n",
      "[11]\tvalid_0's rmse: 40.35\n",
      "[12]\tvalid_0's rmse: 39.5523\n",
      "[13]\tvalid_0's rmse: 39.0003\n",
      "[14]\tvalid_0's rmse: 38.3336\n",
      "[15]\tvalid_0's rmse: 37.7434\n",
      "[16]\tvalid_0's rmse: 37.269\n",
      "[17]\tvalid_0's rmse: 36.7655\n",
      "[18]\tvalid_0's rmse: 36.3274\n",
      "[19]\tvalid_0's rmse: 35.9254\n",
      "[20]\tvalid_0's rmse: 35.5938\n",
      "[21]\tvalid_0's rmse: 35.2899\n",
      "[22]\tvalid_0's rmse: 34.7949\n",
      "[23]\tvalid_0's rmse: 34.4175\n",
      "[24]\tvalid_0's rmse: 34.0212\n",
      "[25]\tvalid_0's rmse: 33.8367\n",
      "[26]\tvalid_0's rmse: 33.7214\n",
      "[27]\tvalid_0's rmse: 33.4033\n",
      "[28]\tvalid_0's rmse: 33.2842\n",
      "[29]\tvalid_0's rmse: 32.9978\n",
      "[30]\tvalid_0's rmse: 32.8713\n",
      "[31]\tvalid_0's rmse: 32.8082\n",
      "[32]\tvalid_0's rmse: 32.6315\n",
      "[33]\tvalid_0's rmse: 32.5666\n",
      "[34]\tvalid_0's rmse: 32.4946\n",
      "[35]\tvalid_0's rmse: 32.4081\n",
      "[36]\tvalid_0's rmse: 32.2631\n",
      "[37]\tvalid_0's rmse: 32.1368\n",
      "[38]\tvalid_0's rmse: 32.1087\n",
      "[39]\tvalid_0's rmse: 32.0642\n",
      "[40]\tvalid_0's rmse: 32.043\n",
      "[41]\tvalid_0's rmse: 32.0099\n",
      "[42]\tvalid_0's rmse: 31.9761\n",
      "[43]\tvalid_0's rmse: 31.925\n",
      "[44]\tvalid_0's rmse: 31.9616\n",
      "[45]\tvalid_0's rmse: 31.8567\n",
      "[46]\tvalid_0's rmse: 31.8073\n",
      "[47]\tvalid_0's rmse: 31.8461\n",
      "[48]\tvalid_0's rmse: 31.8783\n",
      "[49]\tvalid_0's rmse: 31.8084\n",
      "[50]\tvalid_0's rmse: 31.7359\n",
      "[51]\tvalid_0's rmse: 31.7051\n",
      "[52]\tvalid_0's rmse: 31.7409\n",
      "[53]\tvalid_0's rmse: 31.7278\n",
      "[54]\tvalid_0's rmse: 31.6768\n",
      "[55]\tvalid_0's rmse: 31.6453\n",
      "[56]\tvalid_0's rmse: 31.5991\n",
      "[57]\tvalid_0's rmse: 31.5878\n",
      "[58]\tvalid_0's rmse: 31.6209\n",
      "[59]\tvalid_0's rmse: 31.5867\n",
      "[60]\tvalid_0's rmse: 31.5664\n",
      "[61]\tvalid_0's rmse: 31.6212\n",
      "[62]\tvalid_0's rmse: 31.6285\n",
      "[63]\tvalid_0's rmse: 31.6119\n",
      "[64]\tvalid_0's rmse: 31.628\n",
      "[65]\tvalid_0's rmse: 31.6889\n",
      "[66]\tvalid_0's rmse: 31.7235\n",
      "[67]\tvalid_0's rmse: 31.6996\n",
      "[68]\tvalid_0's rmse: 31.6926\n",
      "[69]\tvalid_0's rmse: 31.6463\n",
      "[70]\tvalid_0's rmse: 31.6937\n",
      "[71]\tvalid_0's rmse: 31.6977\n",
      "[72]\tvalid_0's rmse: 31.6938\n",
      "[73]\tvalid_0's rmse: 31.665\n",
      "[74]\tvalid_0's rmse: 31.6605\n",
      "[75]\tvalid_0's rmse: 31.6408\n",
      "[76]\tvalid_0's rmse: 31.5931\n",
      "[77]\tvalid_0's rmse: 31.5859\n"
     ]
    }
   ],
   "source": [
    "train_data = lgb.Dataset(features_train, target_train)\n",
    "validation_data = lgb.Dataset(features_valid, target_valid)\n",
    "params_lgb = {'objective': 'regression', 'metric': 'root_mean_squared_error'}\n",
    "\n",
    "lgb_tree_model = lgb.train(params_lgb, train_data, num_boost_round=77, valid_sets=(validation_data))\n",
    "lgb_tree_predictions = lgb_tree_model.predict(features_valid)\n",
    "\n",
    "lgb_tree_result = round((mean_squared_error(target_valid, lgb_tree_predictions) ** .5), 2)"
   ]
  },
  {
   "cell_type": "markdown",
   "metadata": {},
   "source": [
    "Let's look at the training results:"
   ]
  },
  {
   "cell_type": "code",
   "execution_count": 24,
   "metadata": {},
   "outputs": [
    {
     "data": {
      "text/html": [
       "<div>\n",
       "<style scoped>\n",
       "    .dataframe tbody tr th:only-of-type {\n",
       "        vertical-align: middle;\n",
       "    }\n",
       "\n",
       "    .dataframe tbody tr th {\n",
       "        vertical-align: top;\n",
       "    }\n",
       "\n",
       "    .dataframe thead th {\n",
       "        text-align: right;\n",
       "    }\n",
       "</style>\n",
       "<table border=\"1\" class=\"dataframe\">\n",
       "  <thead>\n",
       "    <tr style=\"text-align: right;\">\n",
       "      <th></th>\n",
       "      <th>RMSE score</th>\n",
       "    </tr>\n",
       "  </thead>\n",
       "  <tbody>\n",
       "    <tr>\n",
       "      <td>Model Tree:</td>\n",
       "      <td>34.36</td>\n",
       "    </tr>\n",
       "    <tr>\n",
       "      <td>Model Forest:</td>\n",
       "      <td>32.87</td>\n",
       "    </tr>\n",
       "    <tr>\n",
       "      <td>Linear Model</td>\n",
       "      <td>37.47</td>\n",
       "    </tr>\n",
       "    <tr>\n",
       "      <td>Model LightGBM:</td>\n",
       "      <td>31.59</td>\n",
       "    </tr>\n",
       "  </tbody>\n",
       "</table>\n",
       "</div>"
      ],
      "text/plain": [
       "                 RMSE score\n",
       "Model Tree:           34.36\n",
       "Model Forest:         32.87\n",
       "Linear Model          37.47\n",
       "Model LightGBM:       31.59"
      ]
     },
     "execution_count": 24,
     "metadata": {},
     "output_type": "execute_result"
    }
   ],
   "source": [
    "train_model_results = {\n",
    "    'RMSE score': [best_tree_result, best_forest_result, best_linear_result, lgb_tree_result]}\n",
    "\n",
    "train_results = pd.DataFrame(\n",
    "    data=train_model_results, index=('Model Tree:', 'Model Forest:',\n",
    "                                     'Linear Model', 'Model LightGBM:'))\n",
    "train_results"
   ]
  },
  {
   "cell_type": "markdown",
   "metadata": {},
   "source": [
    "We see the best results have model Light GBM. But other models have not so badly results."
   ]
  },
  {
   "cell_type": "markdown",
   "metadata": {},
   "source": [
    "## Test"
   ]
  },
  {
   "cell_type": "markdown",
   "metadata": {},
   "source": [
    "Now we will test our best models on test dataset and compare the results.\n",
    "\n",
    "Let's create the function for refiting best models on datasets without validation splitting, as well as testing and saving results."
   ]
  },
  {
   "cell_type": "code",
   "execution_count": 25,
   "metadata": {},
   "outputs": [],
   "source": [
    "def test_model(model, features, target, features_test, target_test):\n",
    "    model.fit(features, target)\n",
    "    predictions = model.predict(features_test)\n",
    "    result = round((mean_squared_error(target_test, predictions) ** .5), 2)\n",
    "    return result"
   ]
  },
  {
   "cell_type": "markdown",
   "metadata": {},
   "source": [
    "Let's run a test:"
   ]
  },
  {
   "cell_type": "code",
   "execution_count": 26,
   "metadata": {},
   "outputs": [],
   "source": [
    "test_tree_result = test_model(best_tree_model, features, target, features_test, target_test)\n",
    "test_forest_result = test_model(best_forest_model, features, target, features_test, target_test)\n",
    "test_linear_result = test_model(best_linear_model, features, target, features_test, target_test)"
   ]
  },
  {
   "cell_type": "code",
   "execution_count": 27,
   "metadata": {
    "scrolled": true
   },
   "outputs": [
    {
     "name": "stdout",
     "output_type": "stream",
     "text": [
      "[1]\tvalid_0's rmse: 36.4079\n",
      "[2]\tvalid_0's rmse: 34.4196\n",
      "[3]\tvalid_0's rmse: 32.6655\n",
      "[4]\tvalid_0's rmse: 31.1896\n",
      "[5]\tvalid_0's rmse: 29.8686\n",
      "[6]\tvalid_0's rmse: 28.7312\n",
      "[7]\tvalid_0's rmse: 27.7432\n",
      "[8]\tvalid_0's rmse: 26.8283\n",
      "[9]\tvalid_0's rmse: 26.0313\n",
      "[10]\tvalid_0's rmse: 25.3808\n",
      "[11]\tvalid_0's rmse: 24.7758\n",
      "[12]\tvalid_0's rmse: 24.2363\n",
      "[13]\tvalid_0's rmse: 23.8153\n",
      "[14]\tvalid_0's rmse: 23.3926\n",
      "[15]\tvalid_0's rmse: 23.0391\n",
      "[16]\tvalid_0's rmse: 22.6775\n",
      "[17]\tvalid_0's rmse: 22.35\n",
      "[18]\tvalid_0's rmse: 22.0741\n",
      "[19]\tvalid_0's rmse: 21.8028\n",
      "[20]\tvalid_0's rmse: 21.5307\n",
      "[21]\tvalid_0's rmse: 21.3367\n",
      "[22]\tvalid_0's rmse: 21.1516\n",
      "[23]\tvalid_0's rmse: 20.9351\n",
      "[24]\tvalid_0's rmse: 20.7402\n",
      "[25]\tvalid_0's rmse: 20.5616\n",
      "[26]\tvalid_0's rmse: 20.3354\n",
      "[27]\tvalid_0's rmse: 20.1788\n",
      "[28]\tvalid_0's rmse: 20.0024\n",
      "[29]\tvalid_0's rmse: 19.8973\n",
      "[30]\tvalid_0's rmse: 19.7622\n",
      "[31]\tvalid_0's rmse: 19.5995\n",
      "[32]\tvalid_0's rmse: 19.4705\n",
      "[33]\tvalid_0's rmse: 19.3386\n",
      "[34]\tvalid_0's rmse: 19.2512\n",
      "[35]\tvalid_0's rmse: 19.1672\n",
      "[36]\tvalid_0's rmse: 19.0183\n",
      "[37]\tvalid_0's rmse: 18.8965\n",
      "[38]\tvalid_0's rmse: 18.7954\n",
      "[39]\tvalid_0's rmse: 18.71\n",
      "[40]\tvalid_0's rmse: 18.6274\n",
      "[41]\tvalid_0's rmse: 18.5566\n",
      "[42]\tvalid_0's rmse: 18.4524\n",
      "[43]\tvalid_0's rmse: 18.3789\n",
      "[44]\tvalid_0's rmse: 18.3127\n",
      "[45]\tvalid_0's rmse: 18.2244\n",
      "[46]\tvalid_0's rmse: 18.1218\n",
      "[47]\tvalid_0's rmse: 18.0644\n",
      "[48]\tvalid_0's rmse: 18.0057\n",
      "[49]\tvalid_0's rmse: 17.9269\n",
      "[50]\tvalid_0's rmse: 17.8438\n",
      "[51]\tvalid_0's rmse: 17.782\n",
      "[52]\tvalid_0's rmse: 17.7086\n",
      "[53]\tvalid_0's rmse: 17.6428\n",
      "[54]\tvalid_0's rmse: 17.5845\n",
      "[55]\tvalid_0's rmse: 17.524\n",
      "[56]\tvalid_0's rmse: 17.4405\n",
      "[57]\tvalid_0's rmse: 17.3791\n",
      "[58]\tvalid_0's rmse: 17.3262\n",
      "[59]\tvalid_0's rmse: 17.2564\n",
      "[60]\tvalid_0's rmse: 17.2071\n",
      "[61]\tvalid_0's rmse: 17.1556\n",
      "[62]\tvalid_0's rmse: 17.0918\n",
      "[63]\tvalid_0's rmse: 17.0434\n",
      "[64]\tvalid_0's rmse: 16.9951\n",
      "[65]\tvalid_0's rmse: 16.9373\n",
      "[66]\tvalid_0's rmse: 16.8923\n",
      "[67]\tvalid_0's rmse: 16.8191\n",
      "[68]\tvalid_0's rmse: 16.7802\n",
      "[69]\tvalid_0's rmse: 16.7354\n",
      "[70]\tvalid_0's rmse: 16.6841\n",
      "[71]\tvalid_0's rmse: 16.6191\n",
      "[72]\tvalid_0's rmse: 16.5506\n",
      "[73]\tvalid_0's rmse: 16.5062\n",
      "[74]\tvalid_0's rmse: 16.4507\n",
      "[75]\tvalid_0's rmse: 16.4014\n",
      "[76]\tvalid_0's rmse: 16.3504\n",
      "[77]\tvalid_0's rmse: 16.2983\n"
     ]
    }
   ],
   "source": [
    "train_data = lgb.Dataset(features, target)\n",
    "validation_data = lgb.Dataset(features, target)\n",
    "params_lgb = {'objective': 'regression', 'metric': 'root_mean_squared_error'}\n",
    "\n",
    "lgb_tree_model = lgb.train(params_lgb, train_data, num_boost_round=77, valid_sets=(validation_data))\n",
    "lgb_tree_predictions = lgb_tree_model.predict(features_test)\n",
    "\n",
    "test_lgb_result = round((mean_squared_error(target_test, lgb_tree_predictions) ** .5), 2)"
   ]
  },
  {
   "cell_type": "code",
   "execution_count": 28,
   "metadata": {},
   "outputs": [
    {
     "data": {
      "text/html": [
       "<div>\n",
       "<style scoped>\n",
       "    .dataframe tbody tr th:only-of-type {\n",
       "        vertical-align: middle;\n",
       "    }\n",
       "\n",
       "    .dataframe tbody tr th {\n",
       "        vertical-align: top;\n",
       "    }\n",
       "\n",
       "    .dataframe thead th {\n",
       "        text-align: right;\n",
       "    }\n",
       "</style>\n",
       "<table border=\"1\" class=\"dataframe\">\n",
       "  <thead>\n",
       "    <tr style=\"text-align: right;\">\n",
       "      <th></th>\n",
       "      <th>RMSE score</th>\n",
       "    </tr>\n",
       "  </thead>\n",
       "  <tbody>\n",
       "    <tr>\n",
       "      <td>Model Tree:</td>\n",
       "      <td>61.70</td>\n",
       "    </tr>\n",
       "    <tr>\n",
       "      <td>Model Forest:</td>\n",
       "      <td>42.28</td>\n",
       "    </tr>\n",
       "    <tr>\n",
       "      <td>Linear Model</td>\n",
       "      <td>49.85</td>\n",
       "    </tr>\n",
       "    <tr>\n",
       "      <td>Model LightGBM:</td>\n",
       "      <td>40.55</td>\n",
       "    </tr>\n",
       "  </tbody>\n",
       "</table>\n",
       "</div>"
      ],
      "text/plain": [
       "                 RMSE score\n",
       "Model Tree:           61.70\n",
       "Model Forest:         42.28\n",
       "Linear Model          49.85\n",
       "Model LightGBM:       40.55"
      ]
     },
     "execution_count": 28,
     "metadata": {},
     "output_type": "execute_result"
    }
   ],
   "source": [
    "test_model_results = {\n",
    "    'RMSE score': [test_tree_result, test_forest_result, test_linear_result, test_lgb_result]}\n",
    "test_results = pd.DataFrame(\n",
    "    data=test_model_results, index=('Model Tree:', 'Model Forest:',\n",
    "                                    'Linear Model', 'Model LightGBM:'))\n",
    "test_results"
   ]
  },
  {
   "cell_type": "markdown",
   "metadata": {},
   "source": [
    "As a result, wins model Light GBM. The model Forest has good score too. Linear model and Tree model hasn't scores we need.\n",
    "\n",
    "Finaly, let's look what kind of features have more important weights for our models. We will take model Random Forest for example."
   ]
  },
  {
   "cell_type": "code",
   "execution_count": 29,
   "metadata": {},
   "outputs": [
    {
     "data": {
      "text/plain": [
       "<matplotlib.axes._subplots.AxesSubplot at 0x7f27818c2d50>"
      ]
     },
     "execution_count": 29,
     "metadata": {},
     "output_type": "execute_result"
    },
    {
     "data": {
      "image/png": "[encoded data removed]",
      "text/plain": [
       "<Figure size 432x288 with 1 Axes>"
      ]
     },
     "metadata": {
      "needs_background": "light"
     },
     "output_type": "display_data"
    }
   ],
   "source": [
    "feature_importances = pd.DataFrame(\n",
    "    best_forest_model.feature_importances_, index=features.columns, columns=['feature_importances'])\n",
    "feature_importances.sort_values(by=['feature_importances']).plot(kind='barh', title='Feature importances')"
   ]
  },
  {
   "cell_type": "markdown",
   "metadata": {},
   "source": [
    "As I expected, the more important features were the Lag-24 and the moving average. Unexpectedly, the hour column also turned out to be quite important for the model. The rest of the features are almost equal in importance."
   ]
  },
  {
   "cell_type": "markdown",
   "metadata": {},
   "source": [
    "## Final result"
   ]
  },
  {
   "cell_type": "markdown",
   "metadata": {},
   "source": [
    "As we see only two models have results we need. The best was model Light GBM. The feature 24-hour time lag helps very good for train models, because we realy have 24-hour cicles in number of orders. Apparently at night people often have to use taxi services due to the inaccessibility of other types of transport.\n",
    "\n",
    "I hope these models and that method of prediction helps taxi service."
   ]
  }
 ],
 "metadata": {
  "ExecuteTimeLog": [
   {
    "duration": 306,
    "start_time": "2021-06-13T21:51:09.679Z"
   },
   {
    "duration": 40,
    "start_time": "2021-06-13T21:58:45.170Z"
   },
   {
    "duration": 41,
    "start_time": "2021-06-13T22:03:59.783Z"
   },
   {
    "duration": 41,
    "start_time": "2021-06-13T22:05:19.992Z"
   },
   {
    "duration": 40,
    "start_time": "2021-06-13T22:13:17.410Z"
   },
   {
    "duration": 40,
    "start_time": "2021-06-13T22:13:33.086Z"
   },
   {
    "duration": 43,
    "start_time": "2021-06-13T22:14:32.244Z"
   },
   {
    "duration": 3,
    "start_time": "2021-06-13T22:35:03.776Z"
   },
   {
    "duration": 471,
    "start_time": "2021-06-13T22:40:47.363Z"
   },
   {
    "duration": 9,
    "start_time": "2021-06-13T22:41:22.001Z"
   },
   {
    "duration": 9,
    "start_time": "2021-06-13T22:42:08.785Z"
   },
   {
    "duration": 124,
    "start_time": "2021-06-13T22:42:41.264Z"
   },
   {
    "duration": 12,
    "start_time": "2021-06-13T22:43:14.529Z"
   },
   {
    "duration": 7,
    "start_time": "2021-06-13T22:43:29.929Z"
   },
   {
    "duration": 7,
    "start_time": "2021-06-13T22:44:17.304Z"
   },
   {
    "duration": 556,
    "start_time": "2021-06-13T22:45:41.254Z"
   },
   {
    "duration": 174,
    "start_time": "2021-06-13T22:46:33.613Z"
   },
   {
    "duration": 8,
    "start_time": "2021-06-13T22:47:11.994Z"
   },
   {
    "duration": 3,
    "start_time": "2021-06-13T22:58:13.334Z"
   },
   {
    "duration": 288,
    "start_time": "2021-06-13T22:59:30.028Z"
   },
   {
    "duration": 196,
    "start_time": "2021-06-13T23:00:37.918Z"
   },
   {
    "duration": 185,
    "start_time": "2021-06-13T23:01:03.304Z"
   },
   {
    "duration": 187,
    "start_time": "2021-06-13T23:01:30.729Z"
   },
   {
    "duration": 15,
    "start_time": "2021-06-13T23:07:00.644Z"
   },
   {
    "duration": 12,
    "start_time": "2021-06-13T23:07:51.744Z"
   },
   {
    "duration": 12,
    "start_time": "2021-06-13T23:08:26.137Z"
   },
   {
    "duration": 11,
    "start_time": "2021-06-13T23:08:38.983Z"
   },
   {
    "duration": 3,
    "start_time": "2021-06-13T23:09:13.857Z"
   },
   {
    "duration": 189,
    "start_time": "2021-06-13T23:09:19.006Z"
   },
   {
    "duration": 8,
    "start_time": "2021-06-13T23:09:24.098Z"
   },
   {
    "duration": 8,
    "start_time": "2021-06-13T23:09:30.761Z"
   },
   {
    "duration": 8,
    "start_time": "2021-06-13T23:09:38.997Z"
   },
   {
    "duration": 10,
    "start_time": "2021-06-13T23:10:12.037Z"
   },
   {
    "duration": 327,
    "start_time": "2021-06-13T23:11:15.082Z"
   },
   {
    "duration": 335,
    "start_time": "2021-06-13T23:11:44.164Z"
   },
   {
    "duration": 321,
    "start_time": "2021-06-13T23:12:17.098Z"
   },
   {
    "duration": 558,
    "start_time": "2021-06-13T23:13:55.755Z"
   },
   {
    "duration": 279,
    "start_time": "2021-06-13T23:14:00.095Z"
   },
   {
    "duration": 278,
    "start_time": "2021-06-13T23:14:07.078Z"
   },
   {
    "duration": 1265,
    "start_time": "2021-06-14T15:34:12.899Z"
   },
   {
    "duration": 67,
    "start_time": "2021-06-14T15:34:14.167Z"
   },
   {
    "duration": 58,
    "start_time": "2021-06-14T15:34:14.237Z"
   },
   {
    "duration": 22,
    "start_time": "2021-06-14T15:34:14.297Z"
   },
   {
    "duration": 35,
    "start_time": "2021-06-14T15:34:14.321Z"
   },
   {
    "duration": 499,
    "start_time": "2021-06-14T15:34:14.358Z"
   },
   {
    "duration": 12,
    "start_time": "2021-06-14T15:34:14.859Z"
   },
   {
    "duration": 432,
    "start_time": "2021-06-14T15:34:14.874Z"
   },
   {
    "duration": 473,
    "start_time": "2021-06-14T15:34:15.309Z"
   },
   {
    "duration": 519,
    "start_time": "2021-06-14T15:34:15.784Z"
   },
   {
    "duration": 1321,
    "start_time": "2021-06-14T15:43:36.812Z"
   },
   {
    "duration": 66,
    "start_time": "2021-06-14T15:43:38.136Z"
   },
   {
    "duration": 63,
    "start_time": "2021-06-14T15:43:38.206Z"
   },
   {
    "duration": 4,
    "start_time": "2021-06-14T15:43:38.272Z"
   },
   {
    "duration": 420,
    "start_time": "2021-06-14T15:43:38.279Z"
   },
   {
    "duration": 13,
    "start_time": "2021-06-14T15:43:38.702Z"
   },
   {
    "duration": 41,
    "start_time": "2021-06-14T15:43:38.718Z"
   },
   {
    "duration": 430,
    "start_time": "2021-06-14T15:43:38.762Z"
   },
   {
    "duration": 485,
    "start_time": "2021-06-14T15:43:39.195Z"
   },
   {
    "duration": 523,
    "start_time": "2021-06-14T15:43:39.682Z"
   },
   {
    "duration": 1377,
    "start_time": "2021-06-14T15:47:20.045Z"
   },
   {
    "duration": 76,
    "start_time": "2021-06-14T15:47:21.425Z"
   },
   {
    "duration": 65,
    "start_time": "2021-06-14T15:47:21.504Z"
   },
   {
    "duration": 5,
    "start_time": "2021-06-14T15:47:21.572Z"
   },
   {
    "duration": 445,
    "start_time": "2021-06-14T15:47:21.579Z"
   },
   {
    "duration": 27,
    "start_time": "2021-06-14T15:47:22.027Z"
   },
   {
    "duration": 30,
    "start_time": "2021-06-14T15:47:22.056Z"
   },
   {
    "duration": 436,
    "start_time": "2021-06-14T15:47:22.089Z"
   },
   {
    "duration": 472,
    "start_time": "2021-06-14T15:47:22.528Z"
   },
   {
    "duration": 434,
    "start_time": "2021-06-14T15:47:23.002Z"
   },
   {
    "duration": 18,
    "start_time": "2021-06-14T15:59:55.589Z"
   },
   {
    "duration": 405,
    "start_time": "2021-06-14T16:00:27.373Z"
   },
   {
    "duration": 10,
    "start_time": "2021-06-14T16:07:45.445Z"
   },
   {
    "duration": 1377,
    "start_time": "2021-06-14T16:08:03.485Z"
   },
   {
    "duration": 68,
    "start_time": "2021-06-14T16:08:04.864Z"
   },
   {
    "duration": 64,
    "start_time": "2021-06-14T16:08:04.937Z"
   },
   {
    "duration": 4,
    "start_time": "2021-06-14T16:08:05.004Z"
   },
   {
    "duration": 452,
    "start_time": "2021-06-14T16:08:05.010Z"
   },
   {
    "duration": 12,
    "start_time": "2021-06-14T16:08:05.465Z"
   },
   {
    "duration": 26,
    "start_time": "2021-06-14T16:08:05.480Z"
   },
   {
    "duration": 443,
    "start_time": "2021-06-14T16:08:05.508Z"
   },
   {
    "duration": 394,
    "start_time": "2021-06-14T16:08:05.954Z"
   },
   {
    "duration": -9,
    "start_time": "2021-06-14T16:08:06.360Z"
   },
   {
    "duration": 18,
    "start_time": "2021-06-14T16:19:07.262Z"
   },
   {
    "duration": 12,
    "start_time": "2021-06-14T16:19:20.366Z"
   },
   {
    "duration": 597,
    "start_time": "2021-06-14T16:22:58.552Z"
   },
   {
    "duration": 606,
    "start_time": "2021-06-14T16:23:30.016Z"
   },
   {
    "duration": 619,
    "start_time": "2021-06-14T16:23:40.863Z"
   },
   {
    "duration": 18,
    "start_time": "2021-06-14T16:24:23.341Z"
   },
   {
    "duration": 18,
    "start_time": "2021-06-14T16:24:49.785Z"
   },
   {
    "duration": 420,
    "start_time": "2021-06-14T16:25:05.809Z"
   },
   {
    "duration": 432,
    "start_time": "2021-06-14T16:26:21.950Z"
   },
   {
    "duration": 839,
    "start_time": "2021-06-14T16:30:20.797Z"
   },
   {
    "duration": 845,
    "start_time": "2021-06-14T16:36:18.579Z"
   },
   {
    "duration": 845,
    "start_time": "2021-06-14T16:36:26.312Z"
   },
   {
    "duration": 934,
    "start_time": "2021-06-14T16:44:04.159Z"
   },
   {
    "duration": 527,
    "start_time": "2021-06-14T16:45:32.061Z"
   },
   {
    "duration": 420,
    "start_time": "2021-06-14T16:46:55.945Z"
   },
   {
    "duration": 411,
    "start_time": "2021-06-14T16:48:39.719Z"
   },
   {
    "duration": 446,
    "start_time": "2021-06-14T16:48:49.373Z"
   },
   {
    "duration": 402,
    "start_time": "2021-06-14T16:48:55.466Z"
   },
   {
    "duration": 425,
    "start_time": "2021-06-14T16:49:00.354Z"
   },
   {
    "duration": 407,
    "start_time": "2021-06-14T16:49:07.576Z"
   },
   {
    "duration": 400,
    "start_time": "2021-06-14T16:49:14.654Z"
   },
   {
    "duration": 436,
    "start_time": "2021-06-14T16:49:19.124Z"
   },
   {
    "duration": 448,
    "start_time": "2021-06-14T16:50:29.749Z"
   },
   {
    "duration": 137,
    "start_time": "2021-06-14T16:51:15.574Z"
   },
   {
    "duration": 437,
    "start_time": "2021-06-14T16:51:23.705Z"
   },
   {
    "duration": 435,
    "start_time": "2021-06-14T16:51:31.961Z"
   },
   {
    "duration": 455,
    "start_time": "2021-06-14T16:51:37.957Z"
   },
   {
    "duration": 419,
    "start_time": "2021-06-14T16:52:01.827Z"
   },
   {
    "duration": 509,
    "start_time": "2021-06-14T16:52:19.257Z"
   },
   {
    "duration": 415,
    "start_time": "2021-06-14T16:53:33.347Z"
   },
   {
    "duration": 426,
    "start_time": "2021-06-14T16:53:41.340Z"
   },
   {
    "duration": 425,
    "start_time": "2021-06-14T16:53:49.832Z"
   },
   {
    "duration": 484,
    "start_time": "2021-06-14T17:05:52.895Z"
   },
   {
    "duration": 450,
    "start_time": "2021-06-14T17:06:10.094Z"
   },
   {
    "duration": 475,
    "start_time": "2021-06-14T17:06:21.162Z"
   },
   {
    "duration": 459,
    "start_time": "2021-06-14T17:07:22.016Z"
   },
   {
    "duration": 470,
    "start_time": "2021-06-14T17:07:31.857Z"
   },
   {
    "duration": 531,
    "start_time": "2021-06-14T17:08:36.461Z"
   },
   {
    "duration": 530,
    "start_time": "2021-06-14T17:09:15.864Z"
   },
   {
    "duration": 553,
    "start_time": "2021-06-14T17:10:26.261Z"
   },
   {
    "duration": 532,
    "start_time": "2021-06-14T17:10:52.365Z"
   },
   {
    "duration": 562,
    "start_time": "2021-06-14T17:11:03.519Z"
   },
   {
    "duration": 497,
    "start_time": "2021-06-14T17:11:09.051Z"
   },
   {
    "duration": 533,
    "start_time": "2021-06-14T17:11:27.343Z"
   },
   {
    "duration": 572,
    "start_time": "2021-06-14T17:11:52.937Z"
   },
   {
    "duration": 534,
    "start_time": "2021-06-14T17:12:02.853Z"
   },
   {
    "duration": 496,
    "start_time": "2021-06-14T17:12:26.686Z"
   },
   {
    "duration": 548,
    "start_time": "2021-06-14T17:12:34.382Z"
   },
   {
    "duration": 19,
    "start_time": "2021-06-14T17:13:53.363Z"
   },
   {
    "duration": 264,
    "start_time": "2021-06-14T17:40:02.452Z"
   },
   {
    "duration": 6,
    "start_time": "2021-06-14T17:40:05.743Z"
   },
   {
    "duration": 283,
    "start_time": "2021-06-14T17:40:07.123Z"
   },
   {
    "duration": 295,
    "start_time": "2021-06-14T17:40:22.426Z"
   },
   {
    "duration": 316,
    "start_time": "2021-06-14T17:41:22.158Z"
   },
   {
    "duration": 597,
    "start_time": "2021-06-14T17:41:31.676Z"
   },
   {
    "duration": 287,
    "start_time": "2021-06-14T17:41:44.536Z"
   },
   {
    "duration": 277,
    "start_time": "2021-06-14T17:41:49.270Z"
   },
   {
    "duration": 314,
    "start_time": "2021-06-14T17:41:54.599Z"
   },
   {
    "duration": 297,
    "start_time": "2021-06-14T17:42:03.931Z"
   },
   {
    "duration": 292,
    "start_time": "2021-06-14T17:42:07.967Z"
   },
   {
    "duration": 6,
    "start_time": "2021-06-14T17:42:37.709Z"
   },
   {
    "duration": 284,
    "start_time": "2021-06-14T17:42:39.026Z"
   },
   {
    "duration": 341,
    "start_time": "2021-06-14T17:44:05.896Z"
   },
   {
    "duration": 6,
    "start_time": "2021-06-14T17:44:30.952Z"
   },
   {
    "duration": 349,
    "start_time": "2021-06-14T17:44:32.156Z"
   },
   {
    "duration": 6,
    "start_time": "2021-06-14T17:44:42.698Z"
   },
   {
    "duration": 326,
    "start_time": "2021-06-14T17:44:45.155Z"
   },
   {
    "duration": 305,
    "start_time": "2021-06-14T17:44:52.966Z"
   },
   {
    "duration": 6,
    "start_time": "2021-06-14T17:44:59.578Z"
   },
   {
    "duration": 364,
    "start_time": "2021-06-14T17:45:00.371Z"
   },
   {
    "duration": 6,
    "start_time": "2021-06-14T17:45:12.919Z"
   },
   {
    "duration": 352,
    "start_time": "2021-06-14T17:45:14.207Z"
   },
   {
    "duration": 336,
    "start_time": "2021-06-14T17:46:07.277Z"
   },
   {
    "duration": 341,
    "start_time": "2021-06-14T17:46:37.903Z"
   },
   {
    "duration": 351,
    "start_time": "2021-06-14T17:46:48.396Z"
   },
   {
    "duration": 340,
    "start_time": "2021-06-14T17:46:54.471Z"
   },
   {
    "duration": 340,
    "start_time": "2021-06-14T17:47:04.239Z"
   },
   {
    "duration": 344,
    "start_time": "2021-06-14T17:50:21.055Z"
   },
   {
    "duration": 328,
    "start_time": "2021-06-14T17:50:31.221Z"
   },
   {
    "duration": 317,
    "start_time": "2021-06-14T17:50:36.191Z"
   },
   {
    "duration": 331,
    "start_time": "2021-06-14T17:50:43.489Z"
   },
   {
    "duration": 5,
    "start_time": "2021-06-14T18:22:40.671Z"
   },
   {
    "duration": 346,
    "start_time": "2021-06-14T18:22:42.408Z"
   },
   {
    "duration": 1364,
    "start_time": "2021-06-15T19:10:34.399Z"
   },
   {
    "duration": 65,
    "start_time": "2021-06-15T19:10:35.766Z"
   },
   {
    "duration": 68,
    "start_time": "2021-06-15T19:10:35.837Z"
   },
   {
    "duration": 5,
    "start_time": "2021-06-15T19:10:35.907Z"
   },
   {
    "duration": 442,
    "start_time": "2021-06-15T19:10:35.914Z"
   },
   {
    "duration": 12,
    "start_time": "2021-06-15T19:10:36.362Z"
   },
   {
    "duration": 30,
    "start_time": "2021-06-15T19:10:36.378Z"
   },
   {
    "duration": 442,
    "start_time": "2021-06-15T19:10:36.410Z"
   },
   {
    "duration": 14,
    "start_time": "2021-06-15T19:10:36.862Z"
   },
   {
    "duration": 530,
    "start_time": "2021-06-15T19:10:36.879Z"
   },
   {
    "duration": 18,
    "start_time": "2021-06-15T19:10:37.412Z"
   },
   {
    "duration": 31,
    "start_time": "2021-06-15T19:10:37.433Z"
   },
   {
    "duration": 361,
    "start_time": "2021-06-15T19:10:37.466Z"
   },
   {
    "duration": 15,
    "start_time": "2021-06-15T19:22:05.594Z"
   },
   {
    "duration": 8090,
    "start_time": "2021-06-15T19:27:58.076Z"
   },
   {
    "duration": 53,
    "start_time": "2021-06-15T19:28:35.798Z"
   },
   {
    "duration": 339,
    "start_time": "2021-06-15T19:29:32.237Z"
   },
   {
    "duration": 1442,
    "start_time": "2021-06-15T19:29:59.032Z"
   },
   {
    "duration": 68,
    "start_time": "2021-06-15T19:30:00.477Z"
   },
   {
    "duration": 67,
    "start_time": "2021-06-15T19:30:00.547Z"
   },
   {
    "duration": 4,
    "start_time": "2021-06-15T19:30:00.617Z"
   },
   {
    "duration": 444,
    "start_time": "2021-06-15T19:30:00.623Z"
   },
   {
    "duration": 12,
    "start_time": "2021-06-15T19:30:01.071Z"
   },
   {
    "duration": 57,
    "start_time": "2021-06-15T19:30:01.086Z"
   },
   {
    "duration": 416,
    "start_time": "2021-06-15T19:30:01.145Z"
   },
   {
    "duration": 13,
    "start_time": "2021-06-15T19:30:01.564Z"
   },
   {
    "duration": 548,
    "start_time": "2021-06-15T19:30:01.579Z"
   },
   {
    "duration": 18,
    "start_time": "2021-06-15T19:30:02.129Z"
   },
   {
    "duration": 5,
    "start_time": "2021-06-15T19:30:02.163Z"
   },
   {
    "duration": 362,
    "start_time": "2021-06-15T19:30:02.170Z"
   },
   {
    "duration": 527,
    "start_time": "2021-06-15T19:30:02.534Z"
   },
   {
    "duration": 1918,
    "start_time": "2021-06-15T19:31:22.812Z"
   },
   {
    "duration": 67,
    "start_time": "2021-06-15T19:31:24.733Z"
   },
   {
    "duration": 68,
    "start_time": "2021-06-15T19:31:24.803Z"
   },
   {
    "duration": 5,
    "start_time": "2021-06-15T19:31:24.874Z"
   },
   {
    "duration": 421,
    "start_time": "2021-06-15T19:31:24.881Z"
   },
   {
    "duration": 12,
    "start_time": "2021-06-15T19:31:25.304Z"
   },
   {
    "duration": 44,
    "start_time": "2021-06-15T19:31:25.319Z"
   },
   {
    "duration": 448,
    "start_time": "2021-06-15T19:31:25.367Z"
   },
   {
    "duration": 14,
    "start_time": "2021-06-15T19:31:25.817Z"
   },
   {
    "duration": 532,
    "start_time": "2021-06-15T19:31:25.833Z"
   },
   {
    "duration": 19,
    "start_time": "2021-06-15T19:31:26.368Z"
   },
   {
    "duration": 5,
    "start_time": "2021-06-15T19:31:26.389Z"
   },
   {
    "duration": 377,
    "start_time": "2021-06-15T19:31:26.396Z"
   },
   {
    "duration": 61,
    "start_time": "2021-06-15T19:31:26.776Z"
   },
   {
    "duration": 36,
    "start_time": "2021-06-15T19:37:39.557Z"
   },
   {
    "duration": 1418,
    "start_time": "2021-06-15T19:38:31.464Z"
   },
   {
    "duration": 67,
    "start_time": "2021-06-15T19:38:32.885Z"
   },
   {
    "duration": 52,
    "start_time": "2021-06-15T19:38:32.963Z"
   },
   {
    "duration": 5,
    "start_time": "2021-06-15T19:38:33.017Z"
   },
   {
    "duration": 453,
    "start_time": "2021-06-15T19:38:33.024Z"
   },
   {
    "duration": 12,
    "start_time": "2021-06-15T19:38:33.479Z"
   },
   {
    "duration": 25,
    "start_time": "2021-06-15T19:38:33.493Z"
   },
   {
    "duration": 447,
    "start_time": "2021-06-15T19:38:33.522Z"
   },
   {
    "duration": 13,
    "start_time": "2021-06-15T19:38:33.972Z"
   },
   {
    "duration": 535,
    "start_time": "2021-06-15T19:38:33.987Z"
   },
   {
    "duration": 20,
    "start_time": "2021-06-15T19:38:34.524Z"
   },
   {
    "duration": 7,
    "start_time": "2021-06-15T19:38:34.562Z"
   },
   {
    "duration": 359,
    "start_time": "2021-06-15T19:38:34.571Z"
   },
   {
    "duration": 46,
    "start_time": "2021-06-15T19:38:34.933Z"
   },
   {
    "duration": 1364,
    "start_time": "2021-06-15T20:04:54.621Z"
   },
   {
    "duration": 67,
    "start_time": "2021-06-15T20:04:55.987Z"
   },
   {
    "duration": 51,
    "start_time": "2021-06-15T20:04:56.062Z"
   },
   {
    "duration": 4,
    "start_time": "2021-06-15T20:04:56.116Z"
   },
   {
    "duration": 442,
    "start_time": "2021-06-15T20:04:56.122Z"
   },
   {
    "duration": 13,
    "start_time": "2021-06-15T20:04:56.567Z"
   },
   {
    "duration": 20,
    "start_time": "2021-06-15T20:04:56.583Z"
   },
   {
    "duration": 441,
    "start_time": "2021-06-15T20:04:56.607Z"
   },
   {
    "duration": 18,
    "start_time": "2021-06-15T20:04:57.051Z"
   },
   {
    "duration": 539,
    "start_time": "2021-06-15T20:04:57.071Z"
   },
   {
    "duration": 18,
    "start_time": "2021-06-15T20:04:57.612Z"
   },
   {
    "duration": 5,
    "start_time": "2021-06-15T20:04:57.632Z"
   },
   {
    "duration": 386,
    "start_time": "2021-06-15T20:04:57.639Z"
   },
   {
    "duration": 11695,
    "start_time": "2021-06-15T20:04:58.027Z"
   },
   {
    "duration": 1362,
    "start_time": "2021-06-15T20:06:02.609Z"
   },
   {
    "duration": 65,
    "start_time": "2021-06-15T20:06:03.973Z"
   },
   {
    "duration": 65,
    "start_time": "2021-06-15T20:06:04.041Z"
   },
   {
    "duration": 5,
    "start_time": "2021-06-15T20:06:04.109Z"
   },
   {
    "duration": 431,
    "start_time": "2021-06-15T20:06:04.117Z"
   },
   {
    "duration": 21,
    "start_time": "2021-06-15T20:06:04.551Z"
   },
   {
    "duration": 27,
    "start_time": "2021-06-15T20:06:04.575Z"
   },
   {
    "duration": 447,
    "start_time": "2021-06-15T20:06:04.606Z"
   },
   {
    "duration": 18,
    "start_time": "2021-06-15T20:06:05.056Z"
   },
   {
    "duration": 542,
    "start_time": "2021-06-15T20:06:05.077Z"
   },
   {
    "duration": 19,
    "start_time": "2021-06-15T20:06:05.622Z"
   },
   {
    "duration": 22,
    "start_time": "2021-06-15T20:06:05.643Z"
   },
   {
    "duration": 367,
    "start_time": "2021-06-15T20:06:05.668Z"
   },
   {
    "duration": 49,
    "start_time": "2021-06-15T20:06:06.038Z"
   },
   {
    "duration": 1449,
    "start_time": "2021-06-15T20:07:26.333Z"
   },
   {
    "duration": 69,
    "start_time": "2021-06-15T20:07:27.784Z"
   },
   {
    "duration": 53,
    "start_time": "2021-06-15T20:07:27.863Z"
   },
   {
    "duration": 5,
    "start_time": "2021-06-15T20:07:27.920Z"
   },
   {
    "duration": 429,
    "start_time": "2021-06-15T20:07:27.962Z"
   },
   {
    "duration": 12,
    "start_time": "2021-06-15T20:07:28.393Z"
   },
   {
    "duration": 32,
    "start_time": "2021-06-15T20:07:28.408Z"
   },
   {
    "duration": 647,
    "start_time": "2021-06-15T20:07:28.465Z"
   },
   {
    "duration": 20,
    "start_time": "2021-06-15T20:07:29.115Z"
   },
   {
    "duration": 806,
    "start_time": "2021-06-15T20:07:29.138Z"
   },
   {
    "duration": 35,
    "start_time": "2021-06-15T20:07:29.947Z"
   },
   {
    "duration": 6,
    "start_time": "2021-06-15T20:07:29.985Z"
   },
   {
    "duration": 373,
    "start_time": "2021-06-15T20:07:29.995Z"
   },
   {
    "duration": 9,
    "start_time": "2021-06-15T20:07:30.371Z"
   },
   {
    "duration": 11,
    "start_time": "2021-06-15T20:07:30.382Z"
   },
   {
    "duration": 18,
    "start_time": "2021-06-15T20:07:30.395Z"
   },
   {
    "duration": 41,
    "start_time": "2021-06-15T20:07:30.415Z"
   },
   {
    "duration": 1386,
    "start_time": "2021-06-15T20:08:58.489Z"
   },
   {
    "duration": 65,
    "start_time": "2021-06-15T20:08:59.878Z"
   },
   {
    "duration": 62,
    "start_time": "2021-06-15T20:08:59.946Z"
   },
   {
    "duration": 5,
    "start_time": "2021-06-15T20:09:00.010Z"
   },
   {
    "duration": 422,
    "start_time": "2021-06-15T20:09:00.017Z"
   },
   {
    "duration": 21,
    "start_time": "2021-06-15T20:09:00.441Z"
   },
   {
    "duration": 22,
    "start_time": "2021-06-15T20:09:00.464Z"
   },
   {
    "duration": 422,
    "start_time": "2021-06-15T20:09:00.489Z"
   },
   {
    "duration": 13,
    "start_time": "2021-06-15T20:09:00.914Z"
   },
   {
    "duration": 543,
    "start_time": "2021-06-15T20:09:00.929Z"
   },
   {
    "duration": 19,
    "start_time": "2021-06-15T20:09:01.474Z"
   },
   {
    "duration": 15,
    "start_time": "2021-06-15T20:09:01.495Z"
   },
   {
    "duration": 364,
    "start_time": "2021-06-15T20:09:01.512Z"
   },
   {
    "duration": 9,
    "start_time": "2021-06-15T20:09:01.879Z"
   },
   {
    "duration": 18,
    "start_time": "2021-06-15T20:09:01.890Z"
   },
   {
    "duration": 55,
    "start_time": "2021-06-15T20:09:01.910Z"
   },
   {
    "duration": 16,
    "start_time": "2021-06-15T20:09:01.967Z"
   },
   {
    "duration": 41,
    "start_time": "2021-06-15T20:09:01.985Z"
   },
   {
    "duration": 1387,
    "start_time": "2021-06-15T20:09:42.499Z"
   },
   {
    "duration": 74,
    "start_time": "2021-06-15T20:09:43.889Z"
   },
   {
    "duration": 53,
    "start_time": "2021-06-15T20:09:43.970Z"
   },
   {
    "duration": 5,
    "start_time": "2021-06-15T20:09:44.026Z"
   },
   {
    "duration": 454,
    "start_time": "2021-06-15T20:09:44.033Z"
   },
   {
    "duration": 11,
    "start_time": "2021-06-15T20:09:44.489Z"
   },
   {
    "duration": 24,
    "start_time": "2021-06-15T20:09:44.504Z"
   },
   {
    "duration": 447,
    "start_time": "2021-06-15T20:09:44.531Z"
   },
   {
    "duration": 14,
    "start_time": "2021-06-15T20:09:44.981Z"
   },
   {
    "duration": 539,
    "start_time": "2021-06-15T20:09:44.998Z"
   },
   {
    "duration": 30,
    "start_time": "2021-06-15T20:09:45.540Z"
   },
   {
    "duration": 5,
    "start_time": "2021-06-15T20:09:45.573Z"
   },
   {
    "duration": 368,
    "start_time": "2021-06-15T20:09:45.580Z"
   },
   {
    "duration": 18,
    "start_time": "2021-06-15T20:09:45.950Z"
   },
   {
    "duration": 19,
    "start_time": "2021-06-15T20:09:45.970Z"
   },
   {
    "duration": 12,
    "start_time": "2021-06-15T20:09:45.991Z"
   },
   {
    "duration": 17,
    "start_time": "2021-06-15T20:09:46.005Z"
   },
   {
    "duration": 38,
    "start_time": "2021-06-15T20:09:46.024Z"
   },
   {
    "duration": 1404,
    "start_time": "2021-06-15T20:10:57.269Z"
   },
   {
    "duration": 67,
    "start_time": "2021-06-15T20:10:58.676Z"
   },
   {
    "duration": 77,
    "start_time": "2021-06-15T20:10:58.746Z"
   },
   {
    "duration": 5,
    "start_time": "2021-06-15T20:10:58.827Z"
   },
   {
    "duration": 420,
    "start_time": "2021-06-15T20:10:58.862Z"
   },
   {
    "duration": 13,
    "start_time": "2021-06-15T20:10:59.285Z"
   },
   {
    "duration": 25,
    "start_time": "2021-06-15T20:10:59.301Z"
   },
   {
    "duration": 455,
    "start_time": "2021-06-15T20:10:59.363Z"
   },
   {
    "duration": 14,
    "start_time": "2021-06-15T20:10:59.821Z"
   },
   {
    "duration": 538,
    "start_time": "2021-06-15T20:10:59.838Z"
   },
   {
    "duration": 20,
    "start_time": "2021-06-15T20:11:00.379Z"
   },
   {
    "duration": 19,
    "start_time": "2021-06-15T20:11:00.402Z"
   },
   {
    "duration": 368,
    "start_time": "2021-06-15T20:11:00.423Z"
   },
   {
    "duration": 10,
    "start_time": "2021-06-15T20:11:00.793Z"
   },
   {
    "duration": 40,
    "start_time": "2021-06-15T20:11:00.805Z"
   },
   {
    "duration": 27,
    "start_time": "2021-06-15T20:11:00.847Z"
   },
   {
    "duration": 20,
    "start_time": "2021-06-15T20:11:00.876Z"
   },
   {
    "duration": 53,
    "start_time": "2021-06-15T20:11:00.899Z"
   },
   {
    "duration": 1451,
    "start_time": "2021-06-15T20:11:41.737Z"
   },
   {
    "duration": 71,
    "start_time": "2021-06-15T20:11:43.191Z"
   },
   {
    "duration": 52,
    "start_time": "2021-06-15T20:11:43.265Z"
   },
   {
    "duration": 5,
    "start_time": "2021-06-15T20:11:43.320Z"
   },
   {
    "duration": 424,
    "start_time": "2021-06-15T20:11:43.362Z"
   },
   {
    "duration": 12,
    "start_time": "2021-06-15T20:11:43.789Z"
   },
   {
    "duration": 23,
    "start_time": "2021-06-15T20:11:43.804Z"
   },
   {
    "duration": 754,
    "start_time": "2021-06-15T20:11:43.831Z"
   },
   {
    "duration": 19,
    "start_time": "2021-06-15T20:11:44.588Z"
   },
   {
    "duration": 542,
    "start_time": "2021-06-15T20:11:44.609Z"
   },
   {
    "duration": 23,
    "start_time": "2021-06-15T20:11:45.154Z"
   },
   {
    "duration": 5,
    "start_time": "2021-06-15T20:11:45.179Z"
   },
   {
    "duration": 384,
    "start_time": "2021-06-15T20:11:45.187Z"
   },
   {
    "duration": 8,
    "start_time": "2021-06-15T20:11:45.574Z"
   },
   {
    "duration": 8,
    "start_time": "2021-06-15T20:11:45.584Z"
   },
   {
    "duration": 8,
    "start_time": "2021-06-15T20:11:45.594Z"
   },
   {
    "duration": 13,
    "start_time": "2021-06-15T20:11:45.604Z"
   },
   {
    "duration": 442,
    "start_time": "2021-06-15T20:11:45.620Z"
   },
   {
    "duration": 1370,
    "start_time": "2021-06-15T20:14:18.183Z"
   },
   {
    "duration": 65,
    "start_time": "2021-06-15T20:14:19.556Z"
   },
   {
    "duration": 76,
    "start_time": "2021-06-15T20:14:19.630Z"
   },
   {
    "duration": 6,
    "start_time": "2021-06-15T20:14:19.709Z"
   },
   {
    "duration": 447,
    "start_time": "2021-06-15T20:14:19.717Z"
   },
   {
    "duration": 17,
    "start_time": "2021-06-15T20:14:20.167Z"
   },
   {
    "duration": 24,
    "start_time": "2021-06-15T20:14:20.189Z"
   },
   {
    "duration": 446,
    "start_time": "2021-06-15T20:14:20.216Z"
   },
   {
    "duration": 13,
    "start_time": "2021-06-15T20:14:20.664Z"
   },
   {
    "duration": 535,
    "start_time": "2021-06-15T20:14:20.679Z"
   },
   {
    "duration": 19,
    "start_time": "2021-06-15T20:14:21.217Z"
   },
   {
    "duration": 26,
    "start_time": "2021-06-15T20:14:21.239Z"
   },
   {
    "duration": 358,
    "start_time": "2021-06-15T20:14:21.267Z"
   },
   {
    "duration": 8,
    "start_time": "2021-06-15T20:14:21.627Z"
   },
   {
    "duration": 6,
    "start_time": "2021-06-15T20:14:21.637Z"
   },
   {
    "duration": 9,
    "start_time": "2021-06-15T20:14:21.661Z"
   },
   {
    "duration": 10,
    "start_time": "2021-06-15T20:14:21.672Z"
   },
   {
    "duration": 34,
    "start_time": "2021-06-15T20:14:21.685Z"
   },
   {
    "duration": 1435,
    "start_time": "2021-06-15T20:15:15.930Z"
   },
   {
    "duration": 68,
    "start_time": "2021-06-15T20:15:17.367Z"
   },
   {
    "duration": 70,
    "start_time": "2021-06-15T20:15:17.439Z"
   },
   {
    "duration": 5,
    "start_time": "2021-06-15T20:15:17.513Z"
   },
   {
    "duration": 432,
    "start_time": "2021-06-15T20:15:17.521Z"
   },
   {
    "duration": 21,
    "start_time": "2021-06-15T20:15:17.956Z"
   },
   {
    "duration": 28,
    "start_time": "2021-06-15T20:15:17.980Z"
   },
   {
    "duration": 667,
    "start_time": "2021-06-15T20:15:18.013Z"
   },
   {
    "duration": 19,
    "start_time": "2021-06-15T20:15:18.683Z"
   },
   {
    "duration": 891,
    "start_time": "2021-06-15T20:15:18.705Z"
   },
   {
    "duration": 27,
    "start_time": "2021-06-15T20:15:19.599Z"
   },
   {
    "duration": 7,
    "start_time": "2021-06-15T20:15:19.629Z"
   },
   {
    "duration": 527,
    "start_time": "2021-06-15T20:15:19.664Z"
   },
   {
    "duration": 12,
    "start_time": "2021-06-15T20:15:20.194Z"
   },
   {
    "duration": 7,
    "start_time": "2021-06-15T20:15:20.209Z"
   },
   {
    "duration": 12,
    "start_time": "2021-06-15T20:15:20.219Z"
   },
   {
    "duration": 10,
    "start_time": "2021-06-15T20:15:20.263Z"
   },
   {
    "duration": 2365,
    "start_time": "2021-06-15T20:15:20.276Z"
   },
   {
    "duration": 35,
    "start_time": "2021-06-15T20:15:39.951Z"
   },
   {
    "duration": 1437,
    "start_time": "2021-06-15T20:17:27.625Z"
   },
   {
    "duration": 71,
    "start_time": "2021-06-15T20:17:29.064Z"
   },
   {
    "duration": 70,
    "start_time": "2021-06-15T20:17:29.139Z"
   },
   {
    "duration": 6,
    "start_time": "2021-06-15T20:17:29.212Z"
   },
   {
    "duration": 443,
    "start_time": "2021-06-15T20:17:29.221Z"
   },
   {
    "duration": 12,
    "start_time": "2021-06-15T20:17:29.668Z"
   },
   {
    "duration": 23,
    "start_time": "2021-06-15T20:17:29.683Z"
   },
   {
    "duration": 434,
    "start_time": "2021-06-15T20:17:29.709Z"
   },
   {
    "duration": 22,
    "start_time": "2021-06-15T20:17:30.146Z"
   },
   {
    "duration": 537,
    "start_time": "2021-06-15T20:17:30.171Z"
   },
   {
    "duration": 19,
    "start_time": "2021-06-15T20:17:30.710Z"
   },
   {
    "duration": 31,
    "start_time": "2021-06-15T20:17:30.731Z"
   },
   {
    "duration": 361,
    "start_time": "2021-06-15T20:17:30.765Z"
   },
   {
    "duration": 9,
    "start_time": "2021-06-15T20:17:31.129Z"
   },
   {
    "duration": 25,
    "start_time": "2021-06-15T20:17:31.141Z"
   },
   {
    "duration": 8,
    "start_time": "2021-06-15T20:17:31.169Z"
   },
   {
    "duration": 481,
    "start_time": "2021-06-15T20:17:31.179Z"
   },
   {
    "duration": 8,
    "start_time": "2021-06-15T20:17:31.654Z"
   },
   {
    "duration": 11,
    "start_time": "2021-06-15T20:18:19.628Z"
   },
   {
    "duration": 1342,
    "start_time": "2021-06-15T20:18:32.720Z"
   },
   {
    "duration": 67,
    "start_time": "2021-06-15T20:18:34.064Z"
   },
   {
    "duration": 66,
    "start_time": "2021-06-15T20:18:34.137Z"
   },
   {
    "duration": 4,
    "start_time": "2021-06-15T20:18:34.206Z"
   },
   {
    "duration": 463,
    "start_time": "2021-06-15T20:18:34.212Z"
   },
   {
    "duration": 12,
    "start_time": "2021-06-15T20:18:34.677Z"
   },
   {
    "duration": 29,
    "start_time": "2021-06-15T20:18:34.693Z"
   },
   {
    "duration": 522,
    "start_time": "2021-06-15T20:18:34.726Z"
   },
   {
    "duration": 17,
    "start_time": "2021-06-15T20:18:35.250Z"
   },
   {
    "duration": 584,
    "start_time": "2021-06-15T20:18:35.270Z"
   },
   {
    "duration": 20,
    "start_time": "2021-06-15T20:18:35.857Z"
   },
   {
    "duration": 6,
    "start_time": "2021-06-15T20:18:35.880Z"
   },
   {
    "duration": 395,
    "start_time": "2021-06-15T20:18:35.888Z"
   },
   {
    "duration": 9,
    "start_time": "2021-06-15T20:18:36.285Z"
   },
   {
    "duration": 9,
    "start_time": "2021-06-15T20:18:36.297Z"
   },
   {
    "duration": 7,
    "start_time": "2021-06-15T20:18:36.309Z"
   },
   {
    "duration": 436,
    "start_time": "2021-06-15T20:18:36.318Z"
   },
   {
    "duration": 1,
    "start_time": "2021-06-15T20:18:36.755Z"
   },
   {
    "duration": 1370,
    "start_time": "2021-06-15T20:19:14.793Z"
   },
   {
    "duration": 69,
    "start_time": "2021-06-15T20:19:16.165Z"
   },
   {
    "duration": 69,
    "start_time": "2021-06-15T20:19:16.237Z"
   },
   {
    "duration": 4,
    "start_time": "2021-06-15T20:19:16.309Z"
   },
   {
    "duration": 434,
    "start_time": "2021-06-15T20:19:16.316Z"
   },
   {
    "duration": 18,
    "start_time": "2021-06-15T20:19:16.753Z"
   },
   {
    "duration": 23,
    "start_time": "2021-06-15T20:19:16.774Z"
   },
   {
    "duration": 451,
    "start_time": "2021-06-15T20:19:16.800Z"
   },
   {
    "duration": 19,
    "start_time": "2021-06-15T20:19:17.254Z"
   },
   {
    "duration": 538,
    "start_time": "2021-06-15T20:19:17.275Z"
   },
   {
    "duration": 20,
    "start_time": "2021-06-15T20:19:17.816Z"
   },
   {
    "duration": 26,
    "start_time": "2021-06-15T20:19:17.838Z"
   },
   {
    "duration": 373,
    "start_time": "2021-06-15T20:19:17.866Z"
   },
   {
    "duration": 23,
    "start_time": "2021-06-15T20:19:18.242Z"
   },
   {
    "duration": 7,
    "start_time": "2021-06-15T20:19:18.267Z"
   },
   {
    "duration": 17,
    "start_time": "2021-06-15T20:19:18.276Z"
   },
   {
    "duration": 16,
    "start_time": "2021-06-15T20:19:18.295Z"
   },
   {
    "duration": 54,
    "start_time": "2021-06-15T20:19:18.314Z"
   },
   {
    "duration": 1372,
    "start_time": "2021-06-15T20:20:51.000Z"
   },
   {
    "duration": 68,
    "start_time": "2021-06-15T20:20:52.375Z"
   },
   {
    "duration": 60,
    "start_time": "2021-06-15T20:20:52.446Z"
   },
   {
    "duration": 4,
    "start_time": "2021-06-15T20:20:52.509Z"
   },
   {
    "duration": 434,
    "start_time": "2021-06-15T20:20:52.515Z"
   },
   {
    "duration": 20,
    "start_time": "2021-06-15T20:20:52.951Z"
   },
   {
    "duration": 23,
    "start_time": "2021-06-15T20:20:52.974Z"
   },
   {
    "duration": 442,
    "start_time": "2021-06-15T20:20:53.001Z"
   },
   {
    "duration": 20,
    "start_time": "2021-06-15T20:20:53.446Z"
   },
   {
    "duration": 550,
    "start_time": "2021-06-15T20:20:53.469Z"
   },
   {
    "duration": 18,
    "start_time": "2021-06-15T20:20:54.022Z"
   },
   {
    "duration": 5,
    "start_time": "2021-06-15T20:20:54.062Z"
   },
   {
    "duration": 358,
    "start_time": "2021-06-15T20:20:54.070Z"
   },
   {
    "duration": 50,
    "start_time": "2021-06-15T20:20:54.430Z"
   },
   {
    "duration": 19,
    "start_time": "2021-06-15T20:22:03.536Z"
   },
   {
    "duration": 1423,
    "start_time": "2021-06-15T20:23:42.152Z"
   },
   {
    "duration": 68,
    "start_time": "2021-06-15T20:23:43.578Z"
   },
   {
    "duration": 59,
    "start_time": "2021-06-15T20:23:43.649Z"
   },
   {
    "duration": 5,
    "start_time": "2021-06-15T20:23:43.712Z"
   },
   {
    "duration": 447,
    "start_time": "2021-06-15T20:23:43.721Z"
   },
   {
    "duration": 12,
    "start_time": "2021-06-15T20:23:44.171Z"
   },
   {
    "duration": 24,
    "start_time": "2021-06-15T20:23:44.185Z"
   },
   {
    "duration": 496,
    "start_time": "2021-06-15T20:23:44.213Z"
   },
   {
    "duration": 13,
    "start_time": "2021-06-15T20:23:44.711Z"
   },
   {
    "duration": 556,
    "start_time": "2021-06-15T20:23:44.727Z"
   },
   {
    "duration": 18,
    "start_time": "2021-06-15T20:23:45.285Z"
   },
   {
    "duration": 5,
    "start_time": "2021-06-15T20:23:45.306Z"
   },
   {
    "duration": 392,
    "start_time": "2021-06-15T20:23:45.313Z"
   },
   {
    "duration": 56,
    "start_time": "2021-06-15T20:23:45.708Z"
   },
   {
    "duration": 20,
    "start_time": "2021-06-15T20:23:45.767Z"
   },
   {
    "duration": 1402,
    "start_time": "2021-06-15T20:28:26.372Z"
   },
   {
    "duration": 66,
    "start_time": "2021-06-15T20:28:27.777Z"
   },
   {
    "duration": 69,
    "start_time": "2021-06-15T20:28:27.847Z"
   },
   {
    "duration": 4,
    "start_time": "2021-06-15T20:28:27.919Z"
   },
   {
    "duration": 452,
    "start_time": "2021-06-15T20:28:27.925Z"
   },
   {
    "duration": 12,
    "start_time": "2021-06-15T20:28:28.379Z"
   },
   {
    "duration": 46,
    "start_time": "2021-06-15T20:28:28.393Z"
   },
   {
    "duration": 650,
    "start_time": "2021-06-15T20:28:28.444Z"
   },
   {
    "duration": 19,
    "start_time": "2021-06-15T20:28:29.097Z"
   },
   {
    "duration": 811,
    "start_time": "2021-06-15T20:28:29.119Z"
   },
   {
    "duration": 31,
    "start_time": "2021-06-15T20:28:29.932Z"
   },
   {
    "duration": 7,
    "start_time": "2021-06-15T20:28:29.965Z"
   },
   {
    "duration": 375,
    "start_time": "2021-06-15T20:28:29.975Z"
   },
   {
    "duration": 44,
    "start_time": "2021-06-15T20:28:30.353Z"
   },
   {
    "duration": 20,
    "start_time": "2021-06-15T20:28:30.400Z"
   },
   {
    "duration": 13,
    "start_time": "2021-06-15T20:55:47.584Z"
   },
   {
    "duration": 153,
    "start_time": "2021-06-15T20:57:35.843Z"
   },
   {
    "duration": 114,
    "start_time": "2021-06-15T20:57:45.317Z"
   },
   {
    "duration": 126,
    "start_time": "2021-06-15T20:58:29.938Z"
   },
   {
    "duration": 124,
    "start_time": "2021-06-15T20:59:03.030Z"
   },
   {
    "duration": 13,
    "start_time": "2021-06-15T20:59:26.513Z"
   },
   {
    "duration": 13,
    "start_time": "2021-06-15T20:59:37.805Z"
   },
   {
    "duration": 16,
    "start_time": "2021-06-15T20:59:48.907Z"
   },
   {
    "duration": 13,
    "start_time": "2021-06-15T20:59:52.111Z"
   },
   {
    "duration": 14,
    "start_time": "2021-06-15T20:59:58.507Z"
   },
   {
    "duration": 20,
    "start_time": "2021-06-15T21:00:07.327Z"
   },
   {
    "duration": 12,
    "start_time": "2021-06-15T21:00:10.981Z"
   },
   {
    "duration": 15,
    "start_time": "2021-06-15T21:01:34.267Z"
   },
   {
    "duration": 1421,
    "start_time": "2021-06-15T21:01:50.669Z"
   },
   {
    "duration": 81,
    "start_time": "2021-06-15T21:01:52.093Z"
   },
   {
    "duration": 51,
    "start_time": "2021-06-15T21:01:52.177Z"
   },
   {
    "duration": 4,
    "start_time": "2021-06-15T21:01:52.231Z"
   },
   {
    "duration": 653,
    "start_time": "2021-06-15T21:01:52.237Z"
   },
   {
    "duration": 18,
    "start_time": "2021-06-15T21:01:52.893Z"
   },
   {
    "duration": 54,
    "start_time": "2021-06-15T21:01:52.914Z"
   },
   {
    "duration": 439,
    "start_time": "2021-06-15T21:01:52.975Z"
   },
   {
    "duration": 13,
    "start_time": "2021-06-15T21:01:53.416Z"
   },
   {
    "duration": 552,
    "start_time": "2021-06-15T21:01:53.432Z"
   },
   {
    "duration": 24,
    "start_time": "2021-06-15T21:01:53.987Z"
   },
   {
    "duration": 6,
    "start_time": "2021-06-15T21:01:54.013Z"
   },
   {
    "duration": 399,
    "start_time": "2021-06-15T21:01:54.021Z"
   },
   {
    "duration": 51,
    "start_time": "2021-06-15T21:01:54.423Z"
   },
   {
    "duration": 20,
    "start_time": "2021-06-15T21:01:54.478Z"
   },
   {
    "duration": 14,
    "start_time": "2021-06-15T21:01:54.501Z"
   },
   {
    "duration": 1396,
    "start_time": "2021-06-16T21:45:21.492Z"
   },
   {
    "duration": 66,
    "start_time": "2021-06-16T21:45:22.891Z"
   },
   {
    "duration": 64,
    "start_time": "2021-06-16T21:45:22.960Z"
   },
   {
    "duration": 5,
    "start_time": "2021-06-16T21:45:23.027Z"
   },
   {
    "duration": 427,
    "start_time": "2021-06-16T21:45:23.035Z"
   },
   {
    "duration": 13,
    "start_time": "2021-06-16T21:45:23.464Z"
   },
   {
    "duration": 35,
    "start_time": "2021-06-16T21:45:23.480Z"
   },
   {
    "duration": 434,
    "start_time": "2021-06-16T21:45:23.520Z"
   },
   {
    "duration": 13,
    "start_time": "2021-06-16T21:45:23.957Z"
   },
   {
    "duration": 538,
    "start_time": "2021-06-16T21:45:23.972Z"
   },
   {
    "duration": 18,
    "start_time": "2021-06-16T21:45:24.512Z"
   },
   {
    "duration": 5,
    "start_time": "2021-06-16T21:45:24.533Z"
   },
   {
    "duration": 366,
    "start_time": "2021-06-16T21:45:24.540Z"
   },
   {
    "duration": 36,
    "start_time": "2021-06-16T21:45:24.908Z"
   },
   {
    "duration": 18,
    "start_time": "2021-06-16T21:45:24.947Z"
   },
   {
    "duration": 41,
    "start_time": "2021-06-16T21:45:24.967Z"
   },
   {
    "duration": 12,
    "start_time": "2021-06-16T21:46:23.078Z"
   },
   {
    "duration": 436,
    "start_time": "2021-06-16T21:53:15.361Z"
   },
   {
    "duration": 17,
    "start_time": "2021-06-16T21:53:26.632Z"
   },
   {
    "duration": 17,
    "start_time": "2021-06-16T21:53:39.558Z"
   },
   {
    "duration": 18,
    "start_time": "2021-06-16T21:54:10.495Z"
   },
   {
    "duration": 23,
    "start_time": "2021-06-16T21:54:39.894Z"
   },
   {
    "duration": 17,
    "start_time": "2021-06-16T21:55:29.917Z"
   },
   {
    "duration": 18,
    "start_time": "2021-06-16T21:55:49.113Z"
   },
   {
    "duration": 17,
    "start_time": "2021-06-16T21:55:54.710Z"
   },
   {
    "duration": 17,
    "start_time": "2021-06-16T21:56:00.504Z"
   },
   {
    "duration": 17,
    "start_time": "2021-06-16T21:56:10.938Z"
   },
   {
    "duration": 16,
    "start_time": "2021-06-16T21:57:04.136Z"
   },
   {
    "duration": 18,
    "start_time": "2021-06-16T21:57:10.993Z"
   },
   {
    "duration": 17,
    "start_time": "2021-06-16T21:57:17.202Z"
   },
   {
    "duration": 19,
    "start_time": "2021-06-16T21:57:27.475Z"
   },
   {
    "duration": 5,
    "start_time": "2021-06-16T22:05:23.981Z"
   },
   {
    "duration": 502,
    "start_time": "2021-06-16T22:07:00.610Z"
   },
   {
    "duration": 219,
    "start_time": "2021-06-16T22:07:21.060Z"
   },
   {
    "duration": 36996,
    "start_time": "2021-06-16T22:09:09.586Z"
   },
   {
    "duration": 84,
    "start_time": "2021-06-16T22:18:14.668Z"
   },
   {
    "duration": 23,
    "start_time": "2021-06-16T22:19:45.514Z"
   },
   {
    "duration": 4373,
    "start_time": "2021-06-16T22:19:59.331Z"
   },
   {
    "duration": 10,
    "start_time": "2021-06-16T22:23:26.118Z"
   },
   {
    "duration": 209,
    "start_time": "2021-06-16T22:25:20.914Z"
   },
   {
    "duration": 36536,
    "start_time": "2021-06-16T22:25:27.786Z"
   },
   {
    "duration": 1546,
    "start_time": "2021-06-16T22:26:11.164Z"
   },
   {
    "duration": 11,
    "start_time": "2021-06-16T22:26:21.917Z"
   },
   {
    "duration": 5,
    "start_time": "2021-06-16T22:28:16.625Z"
   },
   {
    "duration": 33,
    "start_time": "2021-06-16T22:29:15.824Z"
   },
   {
    "duration": 10,
    "start_time": "2021-06-16T22:30:01.580Z"
   },
   {
    "duration": 274,
    "start_time": "2021-06-16T22:32:10.522Z"
   },
   {
    "duration": 1396,
    "start_time": "2021-06-16T22:33:46.117Z"
   },
   {
    "duration": 67,
    "start_time": "2021-06-16T22:33:47.516Z"
   },
   {
    "duration": 63,
    "start_time": "2021-06-16T22:33:47.586Z"
   },
   {
    "duration": 4,
    "start_time": "2021-06-16T22:33:47.652Z"
   },
   {
    "duration": 421,
    "start_time": "2021-06-16T22:33:47.659Z"
   },
   {
    "duration": 21,
    "start_time": "2021-06-16T22:33:48.082Z"
   },
   {
    "duration": 22,
    "start_time": "2021-06-16T22:33:48.105Z"
   },
   {
    "duration": 439,
    "start_time": "2021-06-16T22:33:48.131Z"
   },
   {
    "duration": 14,
    "start_time": "2021-06-16T22:33:48.573Z"
   },
   {
    "duration": 522,
    "start_time": "2021-06-16T22:33:48.601Z"
   },
   {
    "duration": 25,
    "start_time": "2021-06-16T22:33:49.125Z"
   },
   {
    "duration": 5,
    "start_time": "2021-06-16T22:33:49.152Z"
   },
   {
    "duration": 378,
    "start_time": "2021-06-16T22:33:49.160Z"
   },
   {
    "duration": 35,
    "start_time": "2021-06-16T22:33:49.541Z"
   },
   {
    "duration": 39,
    "start_time": "2021-06-16T22:33:49.578Z"
   },
   {
    "duration": 18,
    "start_time": "2021-06-16T22:33:49.619Z"
   },
   {
    "duration": 5,
    "start_time": "2021-06-16T22:33:49.639Z"
   },
   {
    "duration": 248,
    "start_time": "2021-06-16T22:33:49.646Z"
   },
   {
    "duration": 37881,
    "start_time": "2021-06-16T22:33:49.896Z"
   },
   {
    "duration": 7227,
    "start_time": "2021-06-16T22:34:27.780Z"
   },
   {
    "duration": 10,
    "start_time": "2021-06-16T22:34:35.010Z"
   },
   {
    "duration": 7,
    "start_time": "2021-06-16T22:34:35.023Z"
   },
   {
    "duration": 97,
    "start_time": "2021-06-16T22:34:35.037Z"
   },
   {
    "duration": 74,
    "start_time": "2021-06-16T22:34:35.137Z"
   },
   {
    "duration": 304,
    "start_time": "2021-06-16T22:34:35.214Z"
   },
   {
    "duration": 13,
    "start_time": "2021-06-16T22:43:14.352Z"
   },
   {
    "duration": 10,
    "start_time": "2021-06-16T22:44:34.023Z"
   },
   {
    "duration": 11,
    "start_time": "2021-06-16T22:45:49.729Z"
   },
   {
    "duration": 27,
    "start_time": "2021-06-16T22:46:56.399Z"
   },
   {
    "duration": 11,
    "start_time": "2021-06-16T22:46:58.005Z"
   },
   {
    "duration": 10,
    "start_time": "2021-06-16T22:47:52.696Z"
   },
   {
    "duration": 1263,
    "start_time": "2021-06-16T22:48:22.427Z"
   },
   {
    "duration": 65,
    "start_time": "2021-06-16T22:48:23.692Z"
   },
   {
    "duration": 56,
    "start_time": "2021-06-16T22:48:23.760Z"
   },
   {
    "duration": 5,
    "start_time": "2021-06-16T22:48:23.818Z"
   },
   {
    "duration": 410,
    "start_time": "2021-06-16T22:48:23.825Z"
   },
   {
    "duration": 13,
    "start_time": "2021-06-16T22:48:24.237Z"
   },
   {
    "duration": 21,
    "start_time": "2021-06-16T22:48:24.252Z"
   },
   {
    "duration": 417,
    "start_time": "2021-06-16T22:48:24.277Z"
   },
   {
    "duration": 13,
    "start_time": "2021-06-16T22:48:24.700Z"
   },
   {
    "duration": 510,
    "start_time": "2021-06-16T22:48:24.716Z"
   },
   {
    "duration": 18,
    "start_time": "2021-06-16T22:48:25.228Z"
   },
   {
    "duration": 5,
    "start_time": "2021-06-16T22:48:25.248Z"
   },
   {
    "duration": 370,
    "start_time": "2021-06-16T22:48:25.255Z"
   },
   {
    "duration": 32,
    "start_time": "2021-06-16T22:48:25.628Z"
   },
   {
    "duration": 42,
    "start_time": "2021-06-16T22:48:25.662Z"
   },
   {
    "duration": 16,
    "start_time": "2021-06-16T22:48:25.707Z"
   },
   {
    "duration": 6,
    "start_time": "2021-06-16T22:48:25.725Z"
   },
   {
    "duration": 245,
    "start_time": "2021-06-16T22:48:25.734Z"
   },
   {
    "duration": 36518,
    "start_time": "2021-06-16T22:48:25.982Z"
   },
   {
    "duration": 10,
    "start_time": "2021-06-16T22:49:02.503Z"
   },
   {
    "duration": 1097,
    "start_time": "2021-06-16T22:49:02.515Z"
   },
   {
    "duration": 10,
    "start_time": "2021-06-16T22:49:03.615Z"
   },
   {
    "duration": 72,
    "start_time": "2021-06-16T22:49:03.630Z"
   },
   {
    "duration": 24,
    "start_time": "2021-06-16T22:49:03.705Z"
   },
   {
    "duration": 10,
    "start_time": "2021-06-16T22:49:03.732Z"
   },
   {
    "duration": 313,
    "start_time": "2021-06-16T22:49:03.744Z"
   },
   {
    "duration": 29,
    "start_time": "2021-06-16T22:55:20.996Z"
   },
   {
    "duration": 1289,
    "start_time": "2021-06-16T22:58:48.097Z"
   },
   {
    "duration": 65,
    "start_time": "2021-06-16T22:58:49.389Z"
   },
   {
    "duration": 66,
    "start_time": "2021-06-16T22:58:49.457Z"
   },
   {
    "duration": 5,
    "start_time": "2021-06-16T22:58:49.527Z"
   },
   {
    "duration": 418,
    "start_time": "2021-06-16T22:58:49.534Z"
   },
   {
    "duration": 12,
    "start_time": "2021-06-16T22:58:49.954Z"
   },
   {
    "duration": 47,
    "start_time": "2021-06-16T22:58:49.968Z"
   },
   {
    "duration": 406,
    "start_time": "2021-06-16T22:58:50.018Z"
   },
   {
    "duration": 13,
    "start_time": "2021-06-16T22:58:50.427Z"
   },
   {
    "duration": 506,
    "start_time": "2021-06-16T22:58:50.442Z"
   },
   {
    "duration": 18,
    "start_time": "2021-06-16T22:58:50.950Z"
   },
   {
    "duration": 6,
    "start_time": "2021-06-16T22:58:50.970Z"
   },
   {
    "duration": 642,
    "start_time": "2021-06-16T22:58:51.000Z"
   },
   {
    "duration": 87,
    "start_time": "2021-06-16T22:58:51.644Z"
   },
   {
    "duration": 69,
    "start_time": "2021-06-16T22:58:51.733Z"
   },
   {
    "duration": 18,
    "start_time": "2021-06-16T22:58:51.805Z"
   },
   {
    "duration": 5,
    "start_time": "2021-06-16T22:58:51.826Z"
   },
   {
    "duration": 263,
    "start_time": "2021-06-16T22:58:51.833Z"
   },
   {
    "duration": 40801,
    "start_time": "2021-06-16T22:58:52.101Z"
   },
   {
    "duration": 12,
    "start_time": "2021-06-16T22:59:32.904Z"
   },
   {
    "duration": 1280,
    "start_time": "2021-06-16T22:59:32.920Z"
   },
   {
    "duration": 11,
    "start_time": "2021-06-16T22:59:34.204Z"
   },
   {
    "duration": 6,
    "start_time": "2021-06-16T22:59:34.220Z"
   },
   {
    "duration": 75,
    "start_time": "2021-06-16T22:59:34.228Z"
   },
   {
    "duration": 10,
    "start_time": "2021-06-16T22:59:34.305Z"
   },
   {
    "duration": 339,
    "start_time": "2021-06-16T22:59:34.317Z"
   },
   {
    "duration": 1384,
    "start_time": "2021-06-16T23:03:11.109Z"
   },
   {
    "duration": 66,
    "start_time": "2021-06-16T23:03:12.495Z"
   },
   {
    "duration": 63,
    "start_time": "2021-06-16T23:03:12.564Z"
   },
   {
    "duration": 4,
    "start_time": "2021-06-16T23:03:12.631Z"
   },
   {
    "duration": 488,
    "start_time": "2021-06-16T23:03:12.638Z"
   },
   {
    "duration": 13,
    "start_time": "2021-06-16T23:03:13.128Z"
   },
   {
    "duration": 21,
    "start_time": "2021-06-16T23:03:13.144Z"
   },
   {
    "duration": 410,
    "start_time": "2021-06-16T23:03:13.168Z"
   },
   {
    "duration": 19,
    "start_time": "2021-06-16T23:03:13.581Z"
   },
   {
    "duration": 709,
    "start_time": "2021-06-16T23:03:13.603Z"
   },
   {
    "duration": 20,
    "start_time": "2021-06-16T23:03:14.314Z"
   },
   {
    "duration": 7,
    "start_time": "2021-06-16T23:03:14.338Z"
   },
   {
    "duration": 501,
    "start_time": "2021-06-16T23:03:14.348Z"
   },
   {
    "duration": 50,
    "start_time": "2021-06-16T23:03:14.852Z"
   },
   {
    "duration": 19,
    "start_time": "2021-06-16T23:03:14.905Z"
   },
   {
    "duration": 17,
    "start_time": "2021-06-16T23:03:14.927Z"
   },
   {
    "duration": 8,
    "start_time": "2021-06-16T23:03:14.948Z"
   },
   {
    "duration": 220,
    "start_time": "2021-06-16T23:03:15.000Z"
   },
   {
    "duration": 36484,
    "start_time": "2021-06-16T23:03:15.223Z"
   },
   {
    "duration": 12,
    "start_time": "2021-06-16T23:03:51.710Z"
   },
   {
    "duration": 1180,
    "start_time": "2021-06-16T23:03:51.724Z"
   },
   {
    "duration": 10,
    "start_time": "2021-06-16T23:03:52.910Z"
   },
   {
    "duration": 8,
    "start_time": "2021-06-16T23:03:52.924Z"
   },
   {
    "duration": 67,
    "start_time": "2021-06-16T23:03:52.934Z"
   },
   {
    "duration": 11,
    "start_time": "2021-06-16T23:03:53.003Z"
   },
   {
    "duration": 332,
    "start_time": "2021-06-16T23:03:53.016Z"
   },
   {
    "duration": 1414,
    "start_time": "2021-06-16T23:06:02.586Z"
   },
   {
    "duration": 66,
    "start_time": "2021-06-16T23:06:04.003Z"
   },
   {
    "duration": 63,
    "start_time": "2021-06-16T23:06:04.072Z"
   },
   {
    "duration": 5,
    "start_time": "2021-06-16T23:06:04.138Z"
   },
   {
    "duration": 425,
    "start_time": "2021-06-16T23:06:04.145Z"
   },
   {
    "duration": 11,
    "start_time": "2021-06-16T23:06:04.572Z"
   },
   {
    "duration": 22,
    "start_time": "2021-06-16T23:06:04.600Z"
   },
   {
    "duration": 423,
    "start_time": "2021-06-16T23:06:04.626Z"
   },
   {
    "duration": 13,
    "start_time": "2021-06-16T23:06:05.052Z"
   },
   {
    "duration": 525,
    "start_time": "2021-06-16T23:06:05.068Z"
   },
   {
    "duration": 20,
    "start_time": "2021-06-16T23:06:05.595Z"
   },
   {
    "duration": 6,
    "start_time": "2021-06-16T23:06:05.617Z"
   },
   {
    "duration": 368,
    "start_time": "2021-06-16T23:06:05.625Z"
   },
   {
    "duration": 37,
    "start_time": "2021-06-16T23:06:05.996Z"
   },
   {
    "duration": 19,
    "start_time": "2021-06-16T23:06:06.036Z"
   },
   {
    "duration": 46,
    "start_time": "2021-06-16T23:06:06.058Z"
   },
   {
    "duration": 6,
    "start_time": "2021-06-16T23:06:06.107Z"
   },
   {
    "duration": 310,
    "start_time": "2021-06-16T23:06:06.115Z"
   },
   {
    "duration": 40306,
    "start_time": "2021-06-16T23:06:06.429Z"
   },
   {
    "duration": 12,
    "start_time": "2021-06-16T23:06:46.737Z"
   },
   {
    "duration": 1353,
    "start_time": "2021-06-16T23:06:46.752Z"
   },
   {
    "duration": 11,
    "start_time": "2021-06-16T23:06:48.108Z"
   },
   {
    "duration": 7,
    "start_time": "2021-06-16T23:06:48.123Z"
   },
   {
    "duration": 27,
    "start_time": "2021-06-16T23:06:48.202Z"
   },
   {
    "duration": 11,
    "start_time": "2021-06-16T23:06:48.232Z"
   },
   {
    "duration": 299,
    "start_time": "2021-06-16T23:06:48.302Z"
   },
   {
    "duration": 25,
    "start_time": "2021-06-16T23:17:42.704Z"
   },
   {
    "duration": 50,
    "start_time": "2021-06-16T23:18:37.947Z"
   },
   {
    "duration": 415,
    "start_time": "2021-06-16T23:19:50.019Z"
   },
   {
    "duration": 39,
    "start_time": "2021-06-16T23:20:04.560Z"
   },
   {
    "duration": 17,
    "start_time": "2021-06-16T23:21:12.296Z"
   },
   {
    "duration": 300,
    "start_time": "2021-06-16T23:21:26.328Z"
   },
   {
    "duration": 10,
    "start_time": "2021-06-16T23:21:43.130Z"
   },
   {
    "duration": 9,
    "start_time": "2021-06-16T23:22:31.637Z"
   },
   {
    "duration": 1301,
    "start_time": "2021-06-16T23:27:34.991Z"
   },
   {
    "duration": 69,
    "start_time": "2021-06-16T23:27:36.295Z"
   },
   {
    "duration": 62,
    "start_time": "2021-06-16T23:27:36.367Z"
   },
   {
    "duration": 4,
    "start_time": "2021-06-16T23:27:36.432Z"
   },
   {
    "duration": 410,
    "start_time": "2021-06-16T23:27:36.438Z"
   },
   {
    "duration": 11,
    "start_time": "2021-06-16T23:27:36.851Z"
   },
   {
    "duration": 45,
    "start_time": "2021-06-16T23:27:36.865Z"
   },
   {
    "duration": 401,
    "start_time": "2021-06-16T23:27:36.914Z"
   },
   {
    "duration": 13,
    "start_time": "2021-06-16T23:27:37.318Z"
   },
   {
    "duration": 510,
    "start_time": "2021-06-16T23:27:37.333Z"
   },
   {
    "duration": 18,
    "start_time": "2021-06-16T23:27:37.846Z"
   },
   {
    "duration": 5,
    "start_time": "2021-06-16T23:27:37.866Z"
   },
   {
    "duration": 357,
    "start_time": "2021-06-16T23:27:37.873Z"
   },
   {
    "duration": 31,
    "start_time": "2021-06-16T23:27:38.233Z"
   },
   {
    "duration": 46,
    "start_time": "2021-06-16T23:27:38.267Z"
   },
   {
    "duration": 20,
    "start_time": "2021-06-16T23:27:38.315Z"
   },
   {
    "duration": 12,
    "start_time": "2021-06-16T23:27:38.338Z"
   },
   {
    "duration": 7,
    "start_time": "2021-06-16T23:27:38.352Z"
   },
   {
    "duration": 268,
    "start_time": "2021-06-16T23:27:38.362Z"
   },
   {
    "duration": 40432,
    "start_time": "2021-06-16T23:27:38.632Z"
   },
   {
    "duration": 9,
    "start_time": "2021-06-16T23:28:19.067Z"
   },
   {
    "duration": 1125,
    "start_time": "2021-06-16T23:28:19.078Z"
   },
   {
    "duration": 11,
    "start_time": "2021-06-16T23:28:20.207Z"
   },
   {
    "duration": 6,
    "start_time": "2021-06-16T23:28:20.221Z"
   },
   {
    "duration": 94,
    "start_time": "2021-06-16T23:28:20.230Z"
   },
   {
    "duration": 12,
    "start_time": "2021-06-16T23:28:20.326Z"
   },
   {
    "duration": 342,
    "start_time": "2021-06-16T23:28:20.341Z"
   },
   {
    "duration": 1376,
    "start_time": "2021-06-17T12:47:07.353Z"
   },
   {
    "duration": 64,
    "start_time": "2021-06-17T12:47:08.732Z"
   },
   {
    "duration": 82,
    "start_time": "2021-06-17T12:47:08.800Z"
   },
   {
    "duration": 5,
    "start_time": "2021-06-17T12:47:08.886Z"
   },
   {
    "duration": 674,
    "start_time": "2021-06-17T12:47:08.894Z"
   },
   {
    "duration": 17,
    "start_time": "2021-06-17T12:47:09.572Z"
   },
   {
    "duration": 54,
    "start_time": "2021-06-17T12:47:09.592Z"
   },
   {
    "duration": 680,
    "start_time": "2021-06-17T12:47:09.652Z"
   },
   {
    "duration": 19,
    "start_time": "2021-06-17T12:47:10.337Z"
   },
   {
    "duration": 845,
    "start_time": "2021-06-17T12:47:10.359Z"
   },
   {
    "duration": 38,
    "start_time": "2021-06-17T12:47:11.207Z"
   },
   {
    "duration": 7,
    "start_time": "2021-06-17T12:47:11.248Z"
   },
   {
    "duration": 369,
    "start_time": "2021-06-17T12:47:11.258Z"
   },
   {
    "duration": 35,
    "start_time": "2021-06-17T12:47:11.629Z"
   },
   {
    "duration": 20,
    "start_time": "2021-06-17T12:47:11.666Z"
   },
   {
    "duration": 49,
    "start_time": "2021-06-17T12:47:11.689Z"
   },
   {
    "duration": 10,
    "start_time": "2021-06-17T12:47:11.740Z"
   },
   {
    "duration": 12,
    "start_time": "2021-06-17T12:47:11.753Z"
   },
   {
    "duration": 299,
    "start_time": "2021-06-17T12:47:11.767Z"
   },
   {
    "duration": 42187,
    "start_time": "2021-06-17T12:47:12.068Z"
   },
   {
    "duration": 10,
    "start_time": "2021-06-17T12:47:54.258Z"
   },
   {
    "duration": 1364,
    "start_time": "2021-06-17T12:47:54.270Z"
   },
   {
    "duration": 10,
    "start_time": "2021-06-17T12:47:55.638Z"
   },
   {
    "duration": 75,
    "start_time": "2021-06-17T12:47:55.651Z"
   },
   {
    "duration": 28,
    "start_time": "2021-06-17T12:47:55.728Z"
   },
   {
    "duration": 11,
    "start_time": "2021-06-17T12:47:55.758Z"
   },
   {
    "duration": 347,
    "start_time": "2021-06-17T12:47:55.772Z"
   },
   {
    "duration": 10,
    "start_time": "2021-06-17T12:51:31.187Z"
   },
   {
    "duration": 9,
    "start_time": "2021-06-17T12:52:06.503Z"
   },
   {
    "duration": 13,
    "start_time": "2021-06-17T12:52:18.394Z"
   },
   {
    "duration": 8,
    "start_time": "2021-06-17T12:52:25.198Z"
   },
   {
    "duration": 8,
    "start_time": "2021-06-17T12:52:28.874Z"
   },
   {
    "duration": 9,
    "start_time": "2021-06-17T12:52:55.002Z"
   },
   {
    "duration": 9,
    "start_time": "2021-06-17T12:53:09.807Z"
   },
   {
    "duration": 8,
    "start_time": "2021-06-17T12:53:58.333Z"
   },
   {
    "duration": 11,
    "start_time": "2021-06-17T12:54:31.021Z"
   },
   {
    "duration": 11,
    "start_time": "2021-06-17T12:55:29.787Z"
   },
   {
    "duration": 1303,
    "start_time": "2021-06-17T13:55:55.867Z"
   },
   {
    "duration": 66,
    "start_time": "2021-06-17T13:55:57.173Z"
   },
   {
    "duration": 49,
    "start_time": "2021-06-17T13:55:57.242Z"
   },
   {
    "duration": 5,
    "start_time": "2021-06-17T13:55:57.294Z"
   },
   {
    "duration": 412,
    "start_time": "2021-06-17T13:55:57.325Z"
   },
   {
    "duration": 12,
    "start_time": "2021-06-17T13:55:57.740Z"
   },
   {
    "duration": 24,
    "start_time": "2021-06-17T13:55:57.754Z"
   },
   {
    "duration": 442,
    "start_time": "2021-06-17T13:55:57.782Z"
   },
   {
    "duration": 13,
    "start_time": "2021-06-17T13:55:58.228Z"
   },
   {
    "duration": 548,
    "start_time": "2021-06-17T13:55:58.244Z"
   },
   {
    "duration": 30,
    "start_time": "2021-06-17T13:55:58.795Z"
   },
   {
    "duration": 5,
    "start_time": "2021-06-17T13:55:58.828Z"
   },
   {
    "duration": 349,
    "start_time": "2021-06-17T13:55:58.835Z"
   },
   {
    "duration": 48,
    "start_time": "2021-06-17T13:55:59.186Z"
   },
   {
    "duration": 19,
    "start_time": "2021-06-17T13:55:59.236Z"
   },
   {
    "duration": 18,
    "start_time": "2021-06-17T13:55:59.258Z"
   },
   {
    "duration": 11,
    "start_time": "2021-06-17T13:55:59.278Z"
   },
   {
    "duration": 5,
    "start_time": "2021-06-17T13:55:59.325Z"
   },
   {
    "duration": 266,
    "start_time": "2021-06-17T13:55:59.333Z"
   },
   {
    "duration": 41965,
    "start_time": "2021-06-17T13:55:59.602Z"
   },
   {
    "duration": 10,
    "start_time": "2021-06-17T13:56:41.569Z"
   },
   {
    "duration": 1053,
    "start_time": "2021-06-17T13:56:41.581Z"
   },
   {
    "duration": 10,
    "start_time": "2021-06-17T13:56:42.638Z"
   },
   {
    "duration": 77,
    "start_time": "2021-06-17T13:56:42.650Z"
   },
   {
    "duration": 33,
    "start_time": "2021-06-17T13:56:42.729Z"
   },
   {
    "duration": 10,
    "start_time": "2021-06-17T13:56:42.764Z"
   },
   {
    "duration": 348,
    "start_time": "2021-06-17T13:56:42.776Z"
   },
   {
    "duration": 1418,
    "start_time": "2021-06-19T21:43:17.363Z"
   },
   {
    "duration": 66,
    "start_time": "2021-06-19T21:43:18.784Z"
   },
   {
    "duration": 50,
    "start_time": "2021-06-19T21:43:18.862Z"
   },
   {
    "duration": 4,
    "start_time": "2021-06-19T21:43:18.915Z"
   },
   {
    "duration": 459,
    "start_time": "2021-06-19T21:43:18.921Z"
   },
   {
    "duration": 11,
    "start_time": "2021-06-19T21:43:19.383Z"
   },
   {
    "duration": 13,
    "start_time": "2021-06-19T21:43:44.692Z"
   },
   {
    "duration": 15,
    "start_time": "2021-06-19T21:43:57.447Z"
   },
   {
    "duration": 13,
    "start_time": "2021-06-19T21:45:18.304Z"
   },
   {
    "duration": 24,
    "start_time": "2021-06-19T21:58:37.381Z"
   },
   {
    "duration": 412,
    "start_time": "2021-06-19T21:58:52.105Z"
   },
   {
    "duration": 14,
    "start_time": "2021-06-19T21:59:06.810Z"
   },
   {
    "duration": 539,
    "start_time": "2021-06-19T21:59:08.967Z"
   },
   {
    "duration": 580,
    "start_time": "2021-06-19T21:59:19.572Z"
   },
   {
    "duration": 535,
    "start_time": "2021-06-19T21:59:31.430Z"
   },
   {
    "duration": 627,
    "start_time": "2021-06-19T21:59:37.774Z"
   },
   {
    "duration": 770,
    "start_time": "2021-06-19T21:59:49.591Z"
   },
   {
    "duration": 773,
    "start_time": "2021-06-19T21:59:57.488Z"
   },
   {
    "duration": 784,
    "start_time": "2021-06-19T22:00:08.500Z"
   },
   {
    "duration": 820,
    "start_time": "2021-06-19T22:00:25.155Z"
   },
   {
    "duration": 566,
    "start_time": "2021-06-19T22:00:32.314Z"
   },
   {
    "duration": 20,
    "start_time": "2021-06-19T22:00:54.306Z"
   },
   {
    "duration": 6,
    "start_time": "2021-06-19T22:01:00.750Z"
   },
   {
    "duration": 474,
    "start_time": "2021-06-19T22:01:01.895Z"
   },
   {
    "duration": 351,
    "start_time": "2021-06-19T22:01:18.079Z"
   },
   {
    "duration": 35,
    "start_time": "2021-06-19T22:02:50.741Z"
   },
   {
    "duration": 30,
    "start_time": "2021-06-19T22:03:00.444Z"
   },
   {
    "duration": 491,
    "start_time": "2021-06-19T22:03:14.785Z"
   },
   {
    "duration": 30,
    "start_time": "2021-06-19T22:03:21.051Z"
   },
   {
    "duration": 23,
    "start_time": "2021-06-19T22:18:48.324Z"
   },
   {
    "duration": 17,
    "start_time": "2021-06-19T22:22:22.836Z"
   },
   {
    "duration": 11,
    "start_time": "2021-06-19T22:22:26.937Z"
   },
   {
    "duration": 5,
    "start_time": "2021-06-19T22:22:51.721Z"
   },
   {
    "duration": 321,
    "start_time": "2021-06-19T22:22:57.087Z"
   },
   {
    "duration": 53553,
    "start_time": "2021-06-19T22:23:01.167Z"
   },
   {
    "duration": 11,
    "start_time": "2021-06-19T22:24:03.584Z"
   },
   {
    "duration": 1021,
    "start_time": "2021-06-19T22:24:08.147Z"
   },
   {
    "duration": 1360,
    "start_time": "2021-06-19T22:24:23.211Z"
   },
   {
    "duration": 1284,
    "start_time": "2021-06-19T22:25:22.801Z"
   },
   {
    "duration": 14,
    "start_time": "2021-06-19T22:25:32.197Z"
   },
   {
    "duration": 7,
    "start_time": "2021-06-19T22:33:46.017Z"
   },
   {
    "duration": 305,
    "start_time": "2021-06-19T22:35:42.872Z"
   },
   {
    "duration": 4,
    "start_time": "2021-06-19T22:35:50.198Z"
   },
   {
    "duration": 1264,
    "start_time": "2021-06-19T22:35:52.598Z"
   },
   {
    "duration": 1264,
    "start_time": "2021-06-19T22:40:28.998Z"
   },
   {
    "duration": 12,
    "start_time": "2021-06-19T22:41:29.875Z"
   },
   {
    "duration": 1413,
    "start_time": "2021-06-19T22:55:07.558Z"
   },
   {
    "duration": 64,
    "start_time": "2021-06-19T22:55:08.974Z"
   },
   {
    "duration": 63,
    "start_time": "2021-06-19T22:55:09.041Z"
   },
   {
    "duration": 4,
    "start_time": "2021-06-19T22:55:09.106Z"
   },
   {
    "duration": 423,
    "start_time": "2021-06-19T22:55:09.112Z"
   },
   {
    "duration": 12,
    "start_time": "2021-06-19T22:55:09.537Z"
   },
   {
    "duration": 12,
    "start_time": "2021-06-19T22:55:09.561Z"
   },
   {
    "duration": 21,
    "start_time": "2021-06-19T22:55:09.577Z"
   },
   {
    "duration": 638,
    "start_time": "2021-06-19T22:55:09.601Z"
   },
   {
    "duration": 22,
    "start_time": "2021-06-19T22:55:10.241Z"
   },
   {
    "duration": 533,
    "start_time": "2021-06-19T22:55:10.266Z"
   },
   {
    "duration": 19,
    "start_time": "2021-06-19T22:55:10.801Z"
   },
   {
    "duration": 6,
    "start_time": "2021-06-19T22:55:10.822Z"
   },
   {
    "duration": 363,
    "start_time": "2021-06-19T22:55:10.830Z"
   },
   {
    "duration": 34,
    "start_time": "2021-06-19T22:55:11.195Z"
   },
   {
    "duration": 45,
    "start_time": "2021-06-19T22:55:11.231Z"
   },
   {
    "duration": 16,
    "start_time": "2021-06-19T22:55:11.279Z"
   },
   {
    "duration": 14,
    "start_time": "2021-06-19T22:55:11.297Z"
   },
   {
    "duration": 9,
    "start_time": "2021-06-19T22:55:11.314Z"
   },
   {
    "duration": 357,
    "start_time": "2021-06-19T22:55:11.326Z"
   },
   {
    "duration": 53637,
    "start_time": "2021-06-19T22:55:11.686Z"
   },
   {
    "duration": 10,
    "start_time": "2021-06-19T22:56:05.325Z"
   },
   {
    "duration": 1602,
    "start_time": "2021-06-19T22:56:05.363Z"
   },
   {
    "duration": 11,
    "start_time": "2021-06-19T22:56:06.968Z"
   },
   {
    "duration": 17,
    "start_time": "2021-06-19T22:56:06.981Z"
   },
   {
    "duration": 77,
    "start_time": "2021-06-19T22:56:07.000Z"
   },
   {
    "duration": 10,
    "start_time": "2021-06-19T22:56:07.079Z"
   },
   {
    "duration": 7,
    "start_time": "2021-06-19T22:56:07.091Z"
   },
   {
    "duration": 1431,
    "start_time": "2021-06-19T22:56:07.100Z"
   },
   {
    "duration": 1339,
    "start_time": "2021-06-19T22:56:08.534Z"
   },
   {
    "duration": 86,
    "start_time": "2021-06-19T22:56:09.876Z"
   },
   {
    "duration": 298,
    "start_time": "2021-06-19T22:56:09.964Z"
   },
   {
    "duration": 1634,
    "start_time": "2021-06-19T23:05:08.956Z"
   },
   {
    "duration": 88,
    "start_time": "2021-06-19T23:05:10.594Z"
   },
   {
    "duration": 92,
    "start_time": "2021-06-19T23:05:10.686Z"
   },
   {
    "duration": 6,
    "start_time": "2021-06-19T23:05:10.782Z"
   },
   {
    "duration": 501,
    "start_time": "2021-06-19T23:05:10.790Z"
   },
   {
    "duration": 13,
    "start_time": "2021-06-19T23:05:11.294Z"
   },
   {
    "duration": 15,
    "start_time": "2021-06-19T23:05:11.310Z"
   },
   {
    "duration": 53,
    "start_time": "2021-06-19T23:05:11.329Z"
   },
   {
    "duration": 418,
    "start_time": "2021-06-19T23:05:11.385Z"
   },
   {
    "duration": 14,
    "start_time": "2021-06-19T23:05:11.805Z"
   },
   {
    "duration": 548,
    "start_time": "2021-06-19T23:05:11.821Z"
   },
   {
    "duration": 21,
    "start_time": "2021-06-19T23:05:12.371Z"
   },
   {
    "duration": 5,
    "start_time": "2021-06-19T23:05:12.394Z"
   },
   {
    "duration": 372,
    "start_time": "2021-06-19T23:05:12.402Z"
   },
   {
    "duration": 36,
    "start_time": "2021-06-19T23:05:12.776Z"
   },
   {
    "duration": 47,
    "start_time": "2021-06-19T23:05:12.815Z"
   },
   {
    "duration": 17,
    "start_time": "2021-06-19T23:05:12.864Z"
   },
   {
    "duration": 10,
    "start_time": "2021-06-19T23:05:12.884Z"
   },
   {
    "duration": 7,
    "start_time": "2021-06-19T23:05:12.897Z"
   },
   {
    "duration": 821,
    "start_time": "2021-06-19T23:05:12.907Z"
   },
   {
    "duration": 74573,
    "start_time": "2021-06-19T23:05:13.731Z"
   },
   {
    "duration": 13,
    "start_time": "2021-06-19T23:06:28.307Z"
   },
   {
    "duration": 1450,
    "start_time": "2021-06-19T23:06:28.327Z"
   },
   {
    "duration": 11,
    "start_time": "2021-06-19T23:06:29.863Z"
   },
   {
    "duration": 6,
    "start_time": "2021-06-19T23:06:29.876Z"
   },
   {
    "duration": 1460,
    "start_time": "2021-06-19T23:06:29.884Z"
   },
   {
    "duration": 1726,
    "start_time": "2021-06-19T23:06:31.346Z"
   },
   {
    "duration": 13,
    "start_time": "2021-06-19T23:06:33.075Z"
   },
   {
    "duration": 384,
    "start_time": "2021-06-19T23:06:33.091Z"
   },
   {
    "duration": 1503,
    "start_time": "2021-06-19T23:30:19.574Z"
   },
   {
    "duration": 69,
    "start_time": "2021-06-19T23:30:21.080Z"
   },
   {
    "duration": 64,
    "start_time": "2021-06-19T23:30:21.152Z"
   },
   {
    "duration": 5,
    "start_time": "2021-06-19T23:30:21.218Z"
   },
   {
    "duration": 436,
    "start_time": "2021-06-19T23:30:21.226Z"
   },
   {
    "duration": 12,
    "start_time": "2021-06-19T23:30:21.664Z"
   },
   {
    "duration": 13,
    "start_time": "2021-06-19T23:30:21.679Z"
   },
   {
    "duration": 22,
    "start_time": "2021-06-19T23:30:21.696Z"
   },
   {
    "duration": 443,
    "start_time": "2021-06-19T23:30:21.721Z"
   },
   {
    "duration": 14,
    "start_time": "2021-06-19T23:30:22.167Z"
   },
   {
    "duration": 564,
    "start_time": "2021-06-19T23:30:22.183Z"
   },
   {
    "duration": 26,
    "start_time": "2021-06-19T23:30:22.749Z"
   },
   {
    "duration": 5,
    "start_time": "2021-06-19T23:30:22.778Z"
   },
   {
    "duration": 366,
    "start_time": "2021-06-19T23:30:22.786Z"
   },
   {
    "duration": 38,
    "start_time": "2021-06-19T23:30:23.154Z"
   },
   {
    "duration": 21,
    "start_time": "2021-06-19T23:30:23.195Z"
   },
   {
    "duration": 52,
    "start_time": "2021-06-19T23:30:23.219Z"
   },
   {
    "duration": 12,
    "start_time": "2021-06-19T23:30:23.273Z"
   },
   {
    "duration": 6,
    "start_time": "2021-06-19T23:30:23.288Z"
   },
   {
    "duration": 343,
    "start_time": "2021-06-19T23:30:23.297Z"
   },
   {
    "duration": 55632,
    "start_time": "2021-06-19T23:30:23.643Z"
   },
   {
    "duration": 10,
    "start_time": "2021-06-19T23:31:19.277Z"
   },
   {
    "duration": 1578,
    "start_time": "2021-06-19T23:31:19.291Z"
   },
   {
    "duration": 14,
    "start_time": "2021-06-19T23:31:20.872Z"
   },
   {
    "duration": 5,
    "start_time": "2021-06-19T23:31:20.890Z"
   },
   {
    "duration": 2146,
    "start_time": "2021-06-19T23:31:20.898Z"
   },
   {
    "duration": 1516,
    "start_time": "2021-06-19T23:31:23.047Z"
   },
   {
    "duration": 11,
    "start_time": "2021-06-19T23:31:24.565Z"
   },
   {
    "duration": 332,
    "start_time": "2021-06-19T23:31:24.579Z"
   },
   {
    "duration": 1893,
    "start_time": "2021-06-19T23:39:30.573Z"
   },
   {
    "duration": 87,
    "start_time": "2021-06-19T23:39:32.470Z"
   },
   {
    "duration": 73,
    "start_time": "2021-06-19T23:39:32.564Z"
   },
   {
    "duration": 6,
    "start_time": "2021-06-19T23:39:32.661Z"
   },
   {
    "duration": 619,
    "start_time": "2021-06-19T23:39:32.670Z"
   },
   {
    "duration": 16,
    "start_time": "2021-06-19T23:39:33.292Z"
   },
   {
    "duration": 15,
    "start_time": "2021-06-19T23:39:33.311Z"
   },
   {
    "duration": 51,
    "start_time": "2021-06-19T23:39:33.328Z"
   },
   {
    "duration": 426,
    "start_time": "2021-06-19T23:39:33.382Z"
   },
   {
    "duration": 13,
    "start_time": "2021-06-19T23:39:33.811Z"
   },
   {
    "duration": 541,
    "start_time": "2021-06-19T23:39:33.827Z"
   },
   {
    "duration": 21,
    "start_time": "2021-06-19T23:39:34.370Z"
   },
   {
    "duration": 5,
    "start_time": "2021-06-19T23:39:34.393Z"
   },
   {
    "duration": 368,
    "start_time": "2021-06-19T23:39:34.401Z"
   },
   {
    "duration": 40,
    "start_time": "2021-06-19T23:39:34.771Z"
   },
   {
    "duration": 23,
    "start_time": "2021-06-19T23:39:34.814Z"
   },
   {
    "duration": 38,
    "start_time": "2021-06-19T23:39:34.839Z"
   },
   {
    "duration": 9,
    "start_time": "2021-06-19T23:39:34.879Z"
   },
   {
    "duration": 6,
    "start_time": "2021-06-19T23:39:34.891Z"
   },
   {
    "duration": 436,
    "start_time": "2021-06-19T23:39:34.899Z"
   },
   {
    "duration": 67289,
    "start_time": "2021-06-19T23:39:35.338Z"
   },
   {
    "duration": 33,
    "start_time": "2021-06-19T23:40:42.630Z"
   },
   {
    "duration": 1597,
    "start_time": "2021-06-19T23:40:42.666Z"
   },
   {
    "duration": 10,
    "start_time": "2021-06-19T23:40:44.265Z"
   },
   {
    "duration": 9,
    "start_time": "2021-06-19T23:40:44.278Z"
   },
   {
    "duration": 2037,
    "start_time": "2021-06-19T23:40:44.289Z"
   },
   {
    "duration": 1623,
    "start_time": "2021-06-19T23:40:46.362Z"
   },
   {
    "duration": 11,
    "start_time": "2021-06-19T23:40:48.062Z"
   },
   {
    "duration": 333,
    "start_time": "2021-06-19T23:40:48.075Z"
   },
   {
    "duration": 8357,
    "start_time": "2021-06-19T23:43:30.637Z"
   },
   {
    "duration": 318,
    "start_time": "2021-06-19T23:44:37.278Z"
   },
   {
    "duration": 53,
    "start_time": "2021-06-19T23:45:10.183Z"
   },
   {
    "duration": 1402,
    "start_time": "2021-06-19T23:45:23.286Z"
   },
   {
    "duration": 70,
    "start_time": "2021-06-19T23:45:24.691Z"
   },
   {
    "duration": 50,
    "start_time": "2021-06-19T23:45:24.764Z"
   },
   {
    "duration": 4,
    "start_time": "2021-06-19T23:45:24.817Z"
   },
   {
    "duration": 432,
    "start_time": "2021-06-19T23:45:24.824Z"
   },
   {
    "duration": 13,
    "start_time": "2021-06-19T23:45:25.263Z"
   },
   {
    "duration": 14,
    "start_time": "2021-06-19T23:45:25.279Z"
   },
   {
    "duration": 24,
    "start_time": "2021-06-19T23:45:25.297Z"
   },
   {
    "duration": 446,
    "start_time": "2021-06-19T23:45:25.324Z"
   },
   {
    "duration": 13,
    "start_time": "2021-06-19T23:45:25.774Z"
   },
   {
    "duration": 532,
    "start_time": "2021-06-19T23:45:25.790Z"
   },
   {
    "duration": 20,
    "start_time": "2021-06-19T23:45:26.324Z"
   },
   {
    "duration": 6,
    "start_time": "2021-06-19T23:45:26.362Z"
   },
   {
    "duration": 350,
    "start_time": "2021-06-19T23:45:26.370Z"
   },
   {
    "duration": 72,
    "start_time": "2021-06-19T23:45:26.723Z"
   },
   {
    "duration": 1807,
    "start_time": "2021-06-19T23:46:14.458Z"
   },
   {
    "duration": 86,
    "start_time": "2021-06-19T23:46:16.269Z"
   },
   {
    "duration": 72,
    "start_time": "2021-06-19T23:46:16.364Z"
   },
   {
    "duration": 24,
    "start_time": "2021-06-19T23:46:16.440Z"
   },
   {
    "duration": 624,
    "start_time": "2021-06-19T23:46:16.467Z"
   },
   {
    "duration": 16,
    "start_time": "2021-06-19T23:46:17.095Z"
   },
   {
    "duration": 15,
    "start_time": "2021-06-19T23:46:17.114Z"
   },
   {
    "duration": 33,
    "start_time": "2021-06-19T23:46:17.163Z"
   },
   {
    "duration": 620,
    "start_time": "2021-06-19T23:46:17.199Z"
   },
   {
    "duration": 18,
    "start_time": "2021-06-19T23:46:17.822Z"
   },
   {
    "duration": 804,
    "start_time": "2021-06-19T23:46:17.843Z"
   },
   {
    "duration": 33,
    "start_time": "2021-06-19T23:46:18.650Z"
   },
   {
    "duration": 6,
    "start_time": "2021-06-19T23:46:18.686Z"
   },
   {
    "duration": 496,
    "start_time": "2021-06-19T23:46:18.695Z"
   },
   {
    "duration": 114,
    "start_time": "2021-06-19T23:46:19.194Z"
   },
   {
    "duration": 87,
    "start_time": "2021-06-19T23:46:30.084Z"
   },
   {
    "duration": 480,
    "start_time": "2021-06-19T23:46:37.263Z"
   },
   {
    "duration": 1396,
    "start_time": "2021-06-19T23:46:56.718Z"
   },
   {
    "duration": 67,
    "start_time": "2021-06-19T23:46:58.117Z"
   },
   {
    "duration": 51,
    "start_time": "2021-06-19T23:46:58.188Z"
   },
   {
    "duration": 5,
    "start_time": "2021-06-19T23:46:58.263Z"
   },
   {
    "duration": 418,
    "start_time": "2021-06-19T23:46:58.270Z"
   },
   {
    "duration": 13,
    "start_time": "2021-06-19T23:46:58.691Z"
   },
   {
    "duration": 12,
    "start_time": "2021-06-19T23:46:58.706Z"
   },
   {
    "duration": 56,
    "start_time": "2021-06-19T23:46:58.722Z"
   },
   {
    "duration": 420,
    "start_time": "2021-06-19T23:46:58.780Z"
   },
   {
    "duration": 14,
    "start_time": "2021-06-19T23:46:59.202Z"
   },
   {
    "duration": 528,
    "start_time": "2021-06-19T23:46:59.218Z"
   },
   {
    "duration": 28,
    "start_time": "2021-06-19T23:46:59.749Z"
   },
   {
    "duration": 6,
    "start_time": "2021-06-19T23:46:59.779Z"
   },
   {
    "duration": 364,
    "start_time": "2021-06-19T23:46:59.787Z"
   },
   {
    "duration": 7960,
    "start_time": "2021-06-19T23:47:00.153Z"
   },
   {
    "duration": 32,
    "start_time": "2021-06-19T23:47:26.309Z"
   },
   {
    "duration": 1411,
    "start_time": "2021-06-19T23:47:38.065Z"
   },
   {
    "duration": 66,
    "start_time": "2021-06-19T23:47:39.479Z"
   },
   {
    "duration": 65,
    "start_time": "2021-06-19T23:47:39.548Z"
   },
   {
    "duration": 4,
    "start_time": "2021-06-19T23:47:39.615Z"
   },
   {
    "duration": 434,
    "start_time": "2021-06-19T23:47:39.622Z"
   },
   {
    "duration": 11,
    "start_time": "2021-06-19T23:47:40.059Z"
   },
   {
    "duration": 14,
    "start_time": "2021-06-19T23:47:40.073Z"
   },
   {
    "duration": 22,
    "start_time": "2021-06-19T23:47:40.091Z"
   },
   {
    "duration": 449,
    "start_time": "2021-06-19T23:47:40.116Z"
   },
   {
    "duration": 12,
    "start_time": "2021-06-19T23:47:40.567Z"
   },
   {
    "duration": 543,
    "start_time": "2021-06-19T23:47:40.582Z"
   },
   {
    "duration": 21,
    "start_time": "2021-06-19T23:47:41.127Z"
   },
   {
    "duration": 5,
    "start_time": "2021-06-19T23:47:41.162Z"
   },
   {
    "duration": 377,
    "start_time": "2021-06-19T23:47:41.169Z"
   },
   {
    "duration": 47,
    "start_time": "2021-06-19T23:47:41.548Z"
   },
   {
    "duration": 21,
    "start_time": "2021-06-19T23:47:41.597Z"
   },
   {
    "duration": 45,
    "start_time": "2021-06-19T23:47:41.620Z"
   },
   {
    "duration": 13,
    "start_time": "2021-06-19T23:47:41.668Z"
   },
   {
    "duration": 6,
    "start_time": "2021-06-19T23:47:41.683Z"
   },
   {
    "duration": 433,
    "start_time": "2021-06-19T23:47:41.691Z"
   },
   {
    "duration": 58148,
    "start_time": "2021-06-19T23:47:42.126Z"
   },
   {
    "duration": 9,
    "start_time": "2021-06-19T23:48:40.277Z"
   },
   {
    "duration": 1475,
    "start_time": "2021-06-19T23:48:40.290Z"
   },
   {
    "duration": 11,
    "start_time": "2021-06-19T23:48:41.767Z"
   },
   {
    "duration": 6,
    "start_time": "2021-06-19T23:48:41.780Z"
   },
   {
    "duration": 1780,
    "start_time": "2021-06-19T23:48:41.788Z"
   },
   {
    "duration": 1391,
    "start_time": "2021-06-19T23:48:43.571Z"
   },
   {
    "duration": 10,
    "start_time": "2021-06-19T23:48:44.965Z"
   },
   {
    "duration": 342,
    "start_time": "2021-06-19T23:48:44.977Z"
   },
   {
    "duration": 1357,
    "start_time": "2021-06-19T23:49:50.721Z"
   },
   {
    "duration": 67,
    "start_time": "2021-06-19T23:49:52.081Z"
   },
   {
    "duration": 56,
    "start_time": "2021-06-19T23:49:52.162Z"
   },
   {
    "duration": 6,
    "start_time": "2021-06-19T23:49:52.221Z"
   },
   {
    "duration": 652,
    "start_time": "2021-06-19T23:49:52.230Z"
   },
   {
    "duration": 18,
    "start_time": "2021-06-19T23:49:52.885Z"
   },
   {
    "duration": 19,
    "start_time": "2021-06-19T23:49:52.906Z"
   },
   {
    "duration": 63,
    "start_time": "2021-06-19T23:49:52.931Z"
   },
   {
    "duration": 650,
    "start_time": "2021-06-19T23:49:52.998Z"
   },
   {
    "duration": 28,
    "start_time": "2021-06-19T23:49:53.651Z"
   },
   {
    "duration": 892,
    "start_time": "2021-06-19T23:49:53.682Z"
   },
   {
    "duration": 30,
    "start_time": "2021-06-19T23:49:54.577Z"
   },
   {
    "duration": 7,
    "start_time": "2021-06-19T23:49:54.610Z"
   },
   {
    "duration": 530,
    "start_time": "2021-06-19T23:49:54.620Z"
   },
   {
    "duration": 56,
    "start_time": "2021-06-19T23:49:55.154Z"
   },
   {
    "duration": 49,
    "start_time": "2021-06-19T23:49:55.213Z"
   },
   {
    "duration": 22,
    "start_time": "2021-06-19T23:49:55.265Z"
   },
   {
    "duration": 13,
    "start_time": "2021-06-19T23:49:55.290Z"
   },
   {
    "duration": 8,
    "start_time": "2021-06-19T23:49:55.306Z"
   },
   {
    "duration": 461,
    "start_time": "2021-06-19T23:49:55.317Z"
   },
   {
    "duration": 78417,
    "start_time": "2021-06-19T23:49:55.781Z"
   },
   {
    "duration": 13,
    "start_time": "2021-06-19T23:51:14.201Z"
   },
   {
    "duration": 1254,
    "start_time": "2021-06-19T23:51:14.220Z"
   },
   {
    "duration": 11,
    "start_time": "2021-06-19T23:51:15.477Z"
   },
   {
    "duration": 6,
    "start_time": "2021-06-19T23:51:15.563Z"
   },
   {
    "duration": 1526,
    "start_time": "2021-06-19T23:51:15.572Z"
   },
   {
    "duration": 1461,
    "start_time": "2021-06-19T23:51:17.101Z"
   },
   {
    "duration": 11,
    "start_time": "2021-06-19T23:51:18.564Z"
   },
   {
    "duration": 324,
    "start_time": "2021-06-19T23:51:18.578Z"
   },
   {
    "duration": 1911,
    "start_time": "2021-06-19T23:52:34.156Z"
   },
   {
    "duration": 93,
    "start_time": "2021-06-19T23:52:36.070Z"
   },
   {
    "duration": 73,
    "start_time": "2021-06-19T23:52:36.167Z"
   },
   {
    "duration": 6,
    "start_time": "2021-06-19T23:52:36.263Z"
   },
   {
    "duration": 616,
    "start_time": "2021-06-19T23:52:36.272Z"
   },
   {
    "duration": 16,
    "start_time": "2021-06-19T23:52:36.891Z"
   },
   {
    "duration": 12,
    "start_time": "2021-06-19T23:52:36.910Z"
   },
   {
    "duration": 51,
    "start_time": "2021-06-19T23:52:36.926Z"
   },
   {
    "duration": 411,
    "start_time": "2021-06-19T23:52:36.980Z"
   },
   {
    "duration": 13,
    "start_time": "2021-06-19T23:52:37.394Z"
   },
   {
    "duration": 532,
    "start_time": "2021-06-19T23:52:37.410Z"
   },
   {
    "duration": 31,
    "start_time": "2021-06-19T23:52:37.945Z"
   },
   {
    "duration": 5,
    "start_time": "2021-06-19T23:52:37.979Z"
   },
   {
    "duration": 362,
    "start_time": "2021-06-19T23:52:37.986Z"
   },
   {
    "duration": 34,
    "start_time": "2021-06-19T23:52:38.351Z"
   },
   {
    "duration": 17,
    "start_time": "2021-06-19T23:52:38.387Z"
   },
   {
    "duration": 17,
    "start_time": "2021-06-19T23:52:38.406Z"
   },
   {
    "duration": 43,
    "start_time": "2021-06-19T23:52:38.426Z"
   },
   {
    "duration": 5,
    "start_time": "2021-06-19T23:52:38.472Z"
   },
   {
    "duration": 297,
    "start_time": "2021-06-19T23:52:38.479Z"
   },
   {
    "duration": 49247,
    "start_time": "2021-06-19T23:52:38.779Z"
   },
   {
    "duration": 33,
    "start_time": "2021-06-19T23:53:28.029Z"
   },
   {
    "duration": 1207,
    "start_time": "2021-06-19T23:53:28.068Z"
   },
   {
    "duration": 92,
    "start_time": "2021-06-19T23:53:29.278Z"
   },
   {
    "duration": 7,
    "start_time": "2021-06-19T23:53:29.373Z"
   },
   {
    "duration": 1370,
    "start_time": "2021-06-19T23:53:29.383Z"
   },
   {
    "duration": 1415,
    "start_time": "2021-06-19T23:53:30.762Z"
   },
   {
    "duration": 93,
    "start_time": "2021-06-19T23:53:32.179Z"
   },
   {
    "duration": 299,
    "start_time": "2021-06-19T23:53:32.276Z"
   },
   {
    "duration": 1428,
    "start_time": "2021-06-19T23:54:19.835Z"
   },
   {
    "duration": 67,
    "start_time": "2021-06-19T23:54:21.265Z"
   },
   {
    "duration": 64,
    "start_time": "2021-06-19T23:54:21.335Z"
   },
   {
    "duration": 6,
    "start_time": "2021-06-19T23:54:21.402Z"
   },
   {
    "duration": 438,
    "start_time": "2021-06-19T23:54:21.411Z"
   },
   {
    "duration": 19,
    "start_time": "2021-06-19T23:54:21.852Z"
   },
   {
    "duration": 14,
    "start_time": "2021-06-19T23:54:21.874Z"
   },
   {
    "duration": 25,
    "start_time": "2021-06-19T23:54:21.894Z"
   },
   {
    "duration": 612,
    "start_time": "2021-06-19T23:54:21.964Z"
   },
   {
    "duration": 13,
    "start_time": "2021-06-19T23:54:22.579Z"
   },
   {
    "duration": 531,
    "start_time": "2021-06-19T23:54:22.594Z"
   },
   {
    "duration": 36,
    "start_time": "2021-06-19T23:54:23.127Z"
   },
   {
    "duration": 5,
    "start_time": "2021-06-19T23:54:23.165Z"
   },
   {
    "duration": 348,
    "start_time": "2021-06-19T23:54:23.173Z"
   },
   {
    "duration": 47,
    "start_time": "2021-06-19T23:54:23.523Z"
   },
   {
    "duration": 20,
    "start_time": "2021-06-19T23:54:23.572Z"
   },
   {
    "duration": 18,
    "start_time": "2021-06-19T23:54:23.594Z"
   },
   {
    "duration": 19,
    "start_time": "2021-06-19T23:54:23.614Z"
   },
   {
    "duration": 4,
    "start_time": "2021-06-19T23:54:23.663Z"
   },
   {
    "duration": 337,
    "start_time": "2021-06-19T23:54:23.670Z"
   },
   {
    "duration": 55498,
    "start_time": "2021-06-19T23:54:24.009Z"
   },
   {
    "duration": 11,
    "start_time": "2021-06-19T23:55:19.509Z"
   },
   {
    "duration": 1348,
    "start_time": "2021-06-19T23:55:19.524Z"
   },
   {
    "duration": 11,
    "start_time": "2021-06-19T23:55:20.875Z"
   },
   {
    "duration": 5,
    "start_time": "2021-06-19T23:55:20.888Z"
   },
   {
    "duration": 1420,
    "start_time": "2021-06-19T23:55:20.962Z"
   },
   {
    "duration": 1691,
    "start_time": "2021-06-19T23:55:22.385Z"
   },
   {
    "duration": 15,
    "start_time": "2021-06-19T23:55:24.079Z"
   },
   {
    "duration": 449,
    "start_time": "2021-06-19T23:55:24.164Z"
   }
  ],
  "kernelspec": {
   "display_name": "Python 3",
   "language": "python",
   "name": "python3"
  },
  "language_info": {
   "codemirror_mode": {
    "name": "ipython",
    "version": 3
   },
   "file_extension": ".py",
   "mimetype": "text/x-python",
   "name": "python",
   "nbconvert_exporter": "python",
   "pygments_lexer": "ipython3",
   "version": "3.8.5"
  },
  "toc": {
   "base_numbering": 1,
   "nav_menu": {},
   "number_sections": true,
   "sideBar": true,
   "skip_h1_title": true,
   "title_cell": "Table of contents",
   "title_sidebar": "Contents",
   "toc_cell": true,
   "toc_position": {
    "height": "calc(100% - 180px)",
    "left": "10px",
    "top": "150px",
    "width": "165px"
   },
   "toc_section_display": true,
   "toc_window_display": true
  }
 },
 "nbformat": 4,
 "nbformat_minor": 2
}
